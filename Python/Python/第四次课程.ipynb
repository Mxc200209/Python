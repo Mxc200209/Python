{
 "cells": [
  {
   "cell_type": "markdown",
   "metadata": {},
   "source": [
    "# 描述性统计 Statistical Summary\n",
    "- 这项工作主要是让我们知道数据的整体状况怎么样，描述这个数据的“样子”\n",
    "- 数据处理的最关键，也是最重要的一步\n",
    "- 了解数据的概况，有助于后续的数据分析和挖掘"
   ]
  },
  {
   "cell_type": "markdown",
   "metadata": {},
   "source": [
    "描述性统计的Python工具\n",
    "\n",
    "PANDAS\n",
    "\n",
    "NumPy和SciPy\n",
    "\n",
    "- count 统计非NA的数量\n",
    "- describe 针对series或者DF的列计算汇总统计\n",
    "- min max 最小值和最大值\n",
    "- quantile 样本分位数\n",
    "- sum 求和\n",
    "- mean 均值\n",
    "- median 中位数\n",
    "- mad 根据均值计算平均绝对离差\n",
    "- var 方差\n",
    "- std 标准差\n",
    "- skew 偏度（三阶矩）\n",
    "- kurt 峰度\n",
    "- cumsum 累计和\n",
    "- cumprod 累积乘积\n",
    "- diff 一阶差分\n",
    "- pct_change 计算百分比变化\n",
    "- mode 计算众数\n",
    "- cov 斜方差\n",
    "- corrcoef 相关系数"
   ]
  },
  {
   "cell_type": "code",
   "execution_count": 43,
   "metadata": {},
   "outputs": [],
   "source": [
    "import numpy as np\n",
    "import pandas as pd\n",
    "import matplotlib.pyplot as plt #画图模块\n",
    "from datetime import datetime #时间模块\n",
    "import scipy.stats as stats # 统计模块\n",
    "from IPython.core.interactiveshell import InteractiveShell\n",
    "import statsmodels.formula.api as smf  # OLS regression\n",
    "\n",
    "#输出矢量图 渲染矢量图 魔法函数（Magic Functions）内嵌绘图\n",
    "%matplotlib inline\n",
    "%config InlineBackend.figure_format = 'svg'\n",
    "\n",
    "#显示每一个运行结果\n",
    "InteractiveShell.ast_node_interactivity = 'all'\n",
    "\n",
    "#输出或者打印的时候，不限制列或者行\n",
    "pd.set_option('display.max_columns',None)"
   ]
  },
  {
   "cell_type": "code",
   "execution_count": 2,
   "metadata": {},
   "outputs": [
    {
     "data": {
      "text/html": [
       "<div>\n",
       "<style scoped>\n",
       "    .dataframe tbody tr th:only-of-type {\n",
       "        vertical-align: middle;\n",
       "    }\n",
       "\n",
       "    .dataframe tbody tr th {\n",
       "        vertical-align: top;\n",
       "    }\n",
       "\n",
       "    .dataframe thead th {\n",
       "        text-align: right;\n",
       "    }\n",
       "</style>\n",
       "<table border=\"1\" class=\"dataframe\">\n",
       "  <thead>\n",
       "    <tr style=\"text-align: right;\">\n",
       "      <th></th>\n",
       "      <th>Preclose</th>\n",
       "      <th>Open</th>\n",
       "      <th>Highest</th>\n",
       "      <th>Lowest</th>\n",
       "      <th>Close</th>\n",
       "      <th>Volume</th>\n",
       "      <th>Money</th>\n",
       "    </tr>\n",
       "    <tr>\n",
       "      <th>Day</th>\n",
       "      <th></th>\n",
       "      <th></th>\n",
       "      <th></th>\n",
       "      <th></th>\n",
       "      <th></th>\n",
       "      <th></th>\n",
       "      <th></th>\n",
       "    </tr>\n",
       "  </thead>\n",
       "  <tbody>\n",
       "    <tr>\n",
       "      <th>1990-12-19</th>\n",
       "      <td></td>\n",
       "      <td>96.05</td>\n",
       "      <td>99.98</td>\n",
       "      <td>95.79</td>\n",
       "      <td>99.98</td>\n",
       "      <td>126000</td>\n",
       "      <td>4.940000e+05</td>\n",
       "    </tr>\n",
       "    <tr>\n",
       "      <th>1990-12-20</th>\n",
       "      <td>99.98</td>\n",
       "      <td>104.30</td>\n",
       "      <td>104.39</td>\n",
       "      <td>99.98</td>\n",
       "      <td>104.39</td>\n",
       "      <td>19700</td>\n",
       "      <td>8.400000e+04</td>\n",
       "    </tr>\n",
       "    <tr>\n",
       "      <th>1990-12-21</th>\n",
       "      <td>104.39</td>\n",
       "      <td>109.07</td>\n",
       "      <td>109.13</td>\n",
       "      <td>103.73</td>\n",
       "      <td>109.13</td>\n",
       "      <td>2800</td>\n",
       "      <td>1.600000e+04</td>\n",
       "    </tr>\n",
       "    <tr>\n",
       "      <th>1990-12-24</th>\n",
       "      <td>109.13</td>\n",
       "      <td>113.57</td>\n",
       "      <td>114.55</td>\n",
       "      <td>109.13</td>\n",
       "      <td>114.55</td>\n",
       "      <td>3200</td>\n",
       "      <td>3.100000e+04</td>\n",
       "    </tr>\n",
       "    <tr>\n",
       "      <th>1990-12-25</th>\n",
       "      <td>114.55</td>\n",
       "      <td>120.09</td>\n",
       "      <td>120.25</td>\n",
       "      <td>114.55</td>\n",
       "      <td>120.25</td>\n",
       "      <td>1500</td>\n",
       "      <td>6.000000e+03</td>\n",
       "    </tr>\n",
       "    <tr>\n",
       "      <th>...</th>\n",
       "      <td>...</td>\n",
       "      <td>...</td>\n",
       "      <td>...</td>\n",
       "      <td>...</td>\n",
       "      <td>...</td>\n",
       "      <td>...</td>\n",
       "      <td>...</td>\n",
       "    </tr>\n",
       "    <tr>\n",
       "      <th>2022-07-25</th>\n",
       "      <td>3269.97</td>\n",
       "      <td>3269.71</td>\n",
       "      <td>3273.18</td>\n",
       "      <td>3243.03</td>\n",
       "      <td>3250.39</td>\n",
       "      <td>27124574400</td>\n",
       "      <td>3.480000e+11</td>\n",
       "    </tr>\n",
       "    <tr>\n",
       "      <th>2022-07-26</th>\n",
       "      <td>3250.39</td>\n",
       "      <td>3254.19</td>\n",
       "      <td>3282.41</td>\n",
       "      <td>3246.04</td>\n",
       "      <td>3277.44</td>\n",
       "      <td>25946867600</td>\n",
       "      <td>3.340000e+11</td>\n",
       "    </tr>\n",
       "    <tr>\n",
       "      <th>2022-07-27</th>\n",
       "      <td>3277.44</td>\n",
       "      <td>3271.78</td>\n",
       "      <td>3282.57</td>\n",
       "      <td>3265.73</td>\n",
       "      <td>3275.76</td>\n",
       "      <td>24913148500</td>\n",
       "      <td>3.400000e+11</td>\n",
       "    </tr>\n",
       "    <tr>\n",
       "      <th>2022-07-28</th>\n",
       "      <td>3275.76</td>\n",
       "      <td>3287.50</td>\n",
       "      <td>3305.71</td>\n",
       "      <td>3277.11</td>\n",
       "      <td>3282.58</td>\n",
       "      <td>28805505600</td>\n",
       "      <td>3.960000e+11</td>\n",
       "    </tr>\n",
       "    <tr>\n",
       "      <th>2022-07-29</th>\n",
       "      <td>3282.58</td>\n",
       "      <td>3282.81</td>\n",
       "      <td>3294.80</td>\n",
       "      <td>3246.37</td>\n",
       "      <td>3253.24</td>\n",
       "      <td>30733104700</td>\n",
       "      <td>4.110000e+11</td>\n",
       "    </tr>\n",
       "  </tbody>\n",
       "</table>\n",
       "<p>7724 rows × 7 columns</p>\n",
       "</div>"
      ],
      "text/plain": [
       "            Preclose     Open  Highest   Lowest    Close       Volume  \\\n",
       "Day                                                                     \n",
       "1990-12-19              96.05    99.98    95.79    99.98       126000   \n",
       "1990-12-20     99.98   104.30   104.39    99.98   104.39        19700   \n",
       "1990-12-21    104.39   109.07   109.13   103.73   109.13         2800   \n",
       "1990-12-24    109.13   113.57   114.55   109.13   114.55         3200   \n",
       "1990-12-25    114.55   120.09   120.25   114.55   120.25         1500   \n",
       "...              ...      ...      ...      ...      ...          ...   \n",
       "2022-07-25   3269.97  3269.71  3273.18  3243.03  3250.39  27124574400   \n",
       "2022-07-26   3250.39  3254.19  3282.41  3246.04  3277.44  25946867600   \n",
       "2022-07-27   3277.44  3271.78  3282.57  3265.73  3275.76  24913148500   \n",
       "2022-07-28   3275.76  3287.50  3305.71  3277.11  3282.58  28805505600   \n",
       "2022-07-29   3282.58  3282.81  3294.80  3246.37  3253.24  30733104700   \n",
       "\n",
       "                   Money  \n",
       "Day                       \n",
       "1990-12-19  4.940000e+05  \n",
       "1990-12-20  8.400000e+04  \n",
       "1990-12-21  1.600000e+04  \n",
       "1990-12-24  3.100000e+04  \n",
       "1990-12-25  6.000000e+03  \n",
       "...                  ...  \n",
       "2022-07-25  3.480000e+11  \n",
       "2022-07-26  3.340000e+11  \n",
       "2022-07-27  3.400000e+11  \n",
       "2022-07-28  3.960000e+11  \n",
       "2022-07-29  4.110000e+11  \n",
       "\n",
       "[7724 rows x 7 columns]"
      ]
     },
     "execution_count": 2,
     "metadata": {},
     "output_type": "execute_result"
    },
    {
     "data": {
      "text/html": [
       "<div>\n",
       "<style scoped>\n",
       "    .dataframe tbody tr th:only-of-type {\n",
       "        vertical-align: middle;\n",
       "    }\n",
       "\n",
       "    .dataframe tbody tr th {\n",
       "        vertical-align: top;\n",
       "    }\n",
       "\n",
       "    .dataframe thead th {\n",
       "        text-align: right;\n",
       "    }\n",
       "</style>\n",
       "<table border=\"1\" class=\"dataframe\">\n",
       "  <thead>\n",
       "    <tr style=\"text-align: right;\">\n",
       "      <th></th>\n",
       "      <th>Preclose</th>\n",
       "      <th>Open</th>\n",
       "      <th>Highest</th>\n",
       "      <th>Lowest</th>\n",
       "      <th>Close</th>\n",
       "      <th>Volume</th>\n",
       "      <th>Money</th>\n",
       "    </tr>\n",
       "    <tr>\n",
       "      <th>Day</th>\n",
       "      <th></th>\n",
       "      <th></th>\n",
       "      <th></th>\n",
       "      <th></th>\n",
       "      <th></th>\n",
       "      <th></th>\n",
       "      <th></th>\n",
       "    </tr>\n",
       "  </thead>\n",
       "  <tbody>\n",
       "    <tr>\n",
       "      <th>1990-12-19</th>\n",
       "      <td></td>\n",
       "      <td>96.05</td>\n",
       "      <td>99.98</td>\n",
       "      <td>95.79</td>\n",
       "      <td>99.98</td>\n",
       "      <td>126000</td>\n",
       "      <td>4.940000e+05</td>\n",
       "    </tr>\n",
       "    <tr>\n",
       "      <th>1990-12-20</th>\n",
       "      <td>99.98</td>\n",
       "      <td>104.30</td>\n",
       "      <td>104.39</td>\n",
       "      <td>99.98</td>\n",
       "      <td>104.39</td>\n",
       "      <td>19700</td>\n",
       "      <td>8.400000e+04</td>\n",
       "    </tr>\n",
       "    <tr>\n",
       "      <th>1990-12-21</th>\n",
       "      <td>104.39</td>\n",
       "      <td>109.07</td>\n",
       "      <td>109.13</td>\n",
       "      <td>103.73</td>\n",
       "      <td>109.13</td>\n",
       "      <td>2800</td>\n",
       "      <td>1.600000e+04</td>\n",
       "    </tr>\n",
       "    <tr>\n",
       "      <th>1990-12-24</th>\n",
       "      <td>109.13</td>\n",
       "      <td>113.57</td>\n",
       "      <td>114.55</td>\n",
       "      <td>109.13</td>\n",
       "      <td>114.55</td>\n",
       "      <td>3200</td>\n",
       "      <td>3.100000e+04</td>\n",
       "    </tr>\n",
       "    <tr>\n",
       "      <th>1990-12-25</th>\n",
       "      <td>114.55</td>\n",
       "      <td>120.09</td>\n",
       "      <td>120.25</td>\n",
       "      <td>114.55</td>\n",
       "      <td>120.25</td>\n",
       "      <td>1500</td>\n",
       "      <td>6.000000e+03</td>\n",
       "    </tr>\n",
       "    <tr>\n",
       "      <th>...</th>\n",
       "      <td>...</td>\n",
       "      <td>...</td>\n",
       "      <td>...</td>\n",
       "      <td>...</td>\n",
       "      <td>...</td>\n",
       "      <td>...</td>\n",
       "      <td>...</td>\n",
       "    </tr>\n",
       "    <tr>\n",
       "      <th>2022-07-25</th>\n",
       "      <td>3269.97</td>\n",
       "      <td>3269.71</td>\n",
       "      <td>3273.18</td>\n",
       "      <td>3243.03</td>\n",
       "      <td>3250.39</td>\n",
       "      <td>27124574400</td>\n",
       "      <td>3.480000e+11</td>\n",
       "    </tr>\n",
       "    <tr>\n",
       "      <th>2022-07-26</th>\n",
       "      <td>3250.39</td>\n",
       "      <td>3254.19</td>\n",
       "      <td>3282.41</td>\n",
       "      <td>3246.04</td>\n",
       "      <td>3277.44</td>\n",
       "      <td>25946867600</td>\n",
       "      <td>3.340000e+11</td>\n",
       "    </tr>\n",
       "    <tr>\n",
       "      <th>2022-07-27</th>\n",
       "      <td>3277.44</td>\n",
       "      <td>3271.78</td>\n",
       "      <td>3282.57</td>\n",
       "      <td>3265.73</td>\n",
       "      <td>3275.76</td>\n",
       "      <td>24913148500</td>\n",
       "      <td>3.400000e+11</td>\n",
       "    </tr>\n",
       "    <tr>\n",
       "      <th>2022-07-28</th>\n",
       "      <td>3275.76</td>\n",
       "      <td>3287.50</td>\n",
       "      <td>3305.71</td>\n",
       "      <td>3277.11</td>\n",
       "      <td>3282.58</td>\n",
       "      <td>28805505600</td>\n",
       "      <td>3.960000e+11</td>\n",
       "    </tr>\n",
       "    <tr>\n",
       "      <th>2022-07-29</th>\n",
       "      <td>3282.58</td>\n",
       "      <td>3282.81</td>\n",
       "      <td>3294.80</td>\n",
       "      <td>3246.37</td>\n",
       "      <td>3253.24</td>\n",
       "      <td>30733104700</td>\n",
       "      <td>4.110000e+11</td>\n",
       "    </tr>\n",
       "  </tbody>\n",
       "</table>\n",
       "<p>7724 rows × 7 columns</p>\n",
       "</div>"
      ],
      "text/plain": [
       "            Preclose     Open  Highest   Lowest    Close       Volume  \\\n",
       "Day                                                                     \n",
       "1990-12-19              96.05    99.98    95.79    99.98       126000   \n",
       "1990-12-20     99.98   104.30   104.39    99.98   104.39        19700   \n",
       "1990-12-21    104.39   109.07   109.13   103.73   109.13         2800   \n",
       "1990-12-24    109.13   113.57   114.55   109.13   114.55         3200   \n",
       "1990-12-25    114.55   120.09   120.25   114.55   120.25         1500   \n",
       "...              ...      ...      ...      ...      ...          ...   \n",
       "2022-07-25   3269.97  3269.71  3273.18  3243.03  3250.39  27124574400   \n",
       "2022-07-26   3250.39  3254.19  3282.41  3246.04  3277.44  25946867600   \n",
       "2022-07-27   3277.44  3271.78  3282.57  3265.73  3275.76  24913148500   \n",
       "2022-07-28   3275.76  3287.50  3305.71  3277.11  3282.58  28805505600   \n",
       "2022-07-29   3282.58  3282.81  3294.80  3246.37  3253.24  30733104700   \n",
       "\n",
       "                   Money  \n",
       "Day                       \n",
       "1990-12-19  4.940000e+05  \n",
       "1990-12-20  8.400000e+04  \n",
       "1990-12-21  1.600000e+04  \n",
       "1990-12-24  3.100000e+04  \n",
       "1990-12-25  6.000000e+03  \n",
       "...                  ...  \n",
       "2022-07-25  3.480000e+11  \n",
       "2022-07-26  3.340000e+11  \n",
       "2022-07-27  3.400000e+11  \n",
       "2022-07-28  3.960000e+11  \n",
       "2022-07-29  4.110000e+11  \n",
       "\n",
       "[7724 rows x 7 columns]"
      ]
     },
     "execution_count": 2,
     "metadata": {},
     "output_type": "execute_result"
    }
   ],
   "source": [
    "data = pd.read_csv('C:/Users/hp/Desktop/Python/Python-4/000001.csv')\n",
    "data['Day'] = pd.to_datetime(data['Day'], format = '%Y-%m-%d')\n",
    "data.set_index('Day', inplace = True)\n",
    "data.sort_values(by = ['Day'], axis=0, ascending=True)\n",
    "data"
   ]
  },
  {
   "cell_type": "code",
   "execution_count": 3,
   "metadata": {},
   "outputs": [
    {
     "data": {
      "text/html": [
       "<div>\n",
       "<style scoped>\n",
       "    .dataframe tbody tr th:only-of-type {\n",
       "        vertical-align: middle;\n",
       "    }\n",
       "\n",
       "    .dataframe tbody tr th {\n",
       "        vertical-align: top;\n",
       "    }\n",
       "\n",
       "    .dataframe thead th {\n",
       "        text-align: right;\n",
       "    }\n",
       "</style>\n",
       "<table border=\"1\" class=\"dataframe\">\n",
       "  <thead>\n",
       "    <tr style=\"text-align: right;\">\n",
       "      <th></th>\n",
       "      <th>Preclose</th>\n",
       "      <th>Open</th>\n",
       "      <th>Highest</th>\n",
       "      <th>Lowest</th>\n",
       "      <th>Close</th>\n",
       "      <th>Volume</th>\n",
       "      <th>Money</th>\n",
       "      <th>Raw_return</th>\n",
       "      <th>Log_return</th>\n",
       "    </tr>\n",
       "    <tr>\n",
       "      <th>Day</th>\n",
       "      <th></th>\n",
       "      <th></th>\n",
       "      <th></th>\n",
       "      <th></th>\n",
       "      <th></th>\n",
       "      <th></th>\n",
       "      <th></th>\n",
       "      <th></th>\n",
       "      <th></th>\n",
       "    </tr>\n",
       "  </thead>\n",
       "  <tbody>\n",
       "    <tr>\n",
       "      <th>1995-01-03</th>\n",
       "      <td>647.87</td>\n",
       "      <td>637.72</td>\n",
       "      <td>647.71</td>\n",
       "      <td>630.53</td>\n",
       "      <td>639.88</td>\n",
       "      <td>23451800</td>\n",
       "      <td>1.806930e+08</td>\n",
       "      <td>-0.012333</td>\n",
       "      <td>-0.012409</td>\n",
       "    </tr>\n",
       "    <tr>\n",
       "      <th>1995-01-04</th>\n",
       "      <td>639.88</td>\n",
       "      <td>641.90</td>\n",
       "      <td>655.51</td>\n",
       "      <td>638.86</td>\n",
       "      <td>653.81</td>\n",
       "      <td>42222000</td>\n",
       "      <td>3.069230e+08</td>\n",
       "      <td>0.021770</td>\n",
       "      <td>0.021536</td>\n",
       "    </tr>\n",
       "    <tr>\n",
       "      <th>1995-01-05</th>\n",
       "      <td>653.81</td>\n",
       "      <td>655.38</td>\n",
       "      <td>657.52</td>\n",
       "      <td>645.81</td>\n",
       "      <td>646.89</td>\n",
       "      <td>43012300</td>\n",
       "      <td>3.015330e+08</td>\n",
       "      <td>-0.010584</td>\n",
       "      <td>-0.010641</td>\n",
       "    </tr>\n",
       "    <tr>\n",
       "      <th>1995-01-06</th>\n",
       "      <td>646.89</td>\n",
       "      <td>642.75</td>\n",
       "      <td>643.89</td>\n",
       "      <td>636.33</td>\n",
       "      <td>640.76</td>\n",
       "      <td>48748200</td>\n",
       "      <td>3.537580e+08</td>\n",
       "      <td>-0.009476</td>\n",
       "      <td>-0.009521</td>\n",
       "    </tr>\n",
       "    <tr>\n",
       "      <th>1995-01-09</th>\n",
       "      <td>640.76</td>\n",
       "      <td>637.52</td>\n",
       "      <td>637.55</td>\n",
       "      <td>625.04</td>\n",
       "      <td>626.00</td>\n",
       "      <td>50985100</td>\n",
       "      <td>3.985190e+08</td>\n",
       "      <td>-0.023035</td>\n",
       "      <td>-0.023305</td>\n",
       "    </tr>\n",
       "    <tr>\n",
       "      <th>...</th>\n",
       "      <td>...</td>\n",
       "      <td>...</td>\n",
       "      <td>...</td>\n",
       "      <td>...</td>\n",
       "      <td>...</td>\n",
       "      <td>...</td>\n",
       "      <td>...</td>\n",
       "      <td>...</td>\n",
       "      <td>...</td>\n",
       "    </tr>\n",
       "    <tr>\n",
       "      <th>2022-07-25</th>\n",
       "      <td>3269.97</td>\n",
       "      <td>3269.71</td>\n",
       "      <td>3273.18</td>\n",
       "      <td>3243.03</td>\n",
       "      <td>3250.39</td>\n",
       "      <td>27124574400</td>\n",
       "      <td>3.480000e+11</td>\n",
       "      <td>-0.005988</td>\n",
       "      <td>-0.006006</td>\n",
       "    </tr>\n",
       "    <tr>\n",
       "      <th>2022-07-26</th>\n",
       "      <td>3250.39</td>\n",
       "      <td>3254.19</td>\n",
       "      <td>3282.41</td>\n",
       "      <td>3246.04</td>\n",
       "      <td>3277.44</td>\n",
       "      <td>25946867600</td>\n",
       "      <td>3.340000e+11</td>\n",
       "      <td>0.008322</td>\n",
       "      <td>0.008288</td>\n",
       "    </tr>\n",
       "    <tr>\n",
       "      <th>2022-07-27</th>\n",
       "      <td>3277.44</td>\n",
       "      <td>3271.78</td>\n",
       "      <td>3282.57</td>\n",
       "      <td>3265.73</td>\n",
       "      <td>3275.76</td>\n",
       "      <td>24913148500</td>\n",
       "      <td>3.400000e+11</td>\n",
       "      <td>-0.000513</td>\n",
       "      <td>-0.000513</td>\n",
       "    </tr>\n",
       "    <tr>\n",
       "      <th>2022-07-28</th>\n",
       "      <td>3275.76</td>\n",
       "      <td>3287.50</td>\n",
       "      <td>3305.71</td>\n",
       "      <td>3277.11</td>\n",
       "      <td>3282.58</td>\n",
       "      <td>28805505600</td>\n",
       "      <td>3.960000e+11</td>\n",
       "      <td>0.002082</td>\n",
       "      <td>0.002080</td>\n",
       "    </tr>\n",
       "    <tr>\n",
       "      <th>2022-07-29</th>\n",
       "      <td>3282.58</td>\n",
       "      <td>3282.81</td>\n",
       "      <td>3294.80</td>\n",
       "      <td>3246.37</td>\n",
       "      <td>3253.24</td>\n",
       "      <td>30733104700</td>\n",
       "      <td>4.110000e+11</td>\n",
       "      <td>-0.008938</td>\n",
       "      <td>-0.008978</td>\n",
       "    </tr>\n",
       "  </tbody>\n",
       "</table>\n",
       "<p>6696 rows × 9 columns</p>\n",
       "</div>"
      ],
      "text/plain": [
       "            Preclose     Open  Highest   Lowest    Close       Volume  \\\n",
       "Day                                                                     \n",
       "1995-01-03    647.87   637.72   647.71   630.53   639.88     23451800   \n",
       "1995-01-04    639.88   641.90   655.51   638.86   653.81     42222000   \n",
       "1995-01-05    653.81   655.38   657.52   645.81   646.89     43012300   \n",
       "1995-01-06    646.89   642.75   643.89   636.33   640.76     48748200   \n",
       "1995-01-09    640.76   637.52   637.55   625.04   626.00     50985100   \n",
       "...              ...      ...      ...      ...      ...          ...   \n",
       "2022-07-25   3269.97  3269.71  3273.18  3243.03  3250.39  27124574400   \n",
       "2022-07-26   3250.39  3254.19  3282.41  3246.04  3277.44  25946867600   \n",
       "2022-07-27   3277.44  3271.78  3282.57  3265.73  3275.76  24913148500   \n",
       "2022-07-28   3275.76  3287.50  3305.71  3277.11  3282.58  28805505600   \n",
       "2022-07-29   3282.58  3282.81  3294.80  3246.37  3253.24  30733104700   \n",
       "\n",
       "                   Money  Raw_return  Log_return  \n",
       "Day                                               \n",
       "1995-01-03  1.806930e+08   -0.012333   -0.012409  \n",
       "1995-01-04  3.069230e+08    0.021770    0.021536  \n",
       "1995-01-05  3.015330e+08   -0.010584   -0.010641  \n",
       "1995-01-06  3.537580e+08   -0.009476   -0.009521  \n",
       "1995-01-09  3.985190e+08   -0.023035   -0.023305  \n",
       "...                  ...         ...         ...  \n",
       "2022-07-25  3.480000e+11   -0.005988   -0.006006  \n",
       "2022-07-26  3.340000e+11    0.008322    0.008288  \n",
       "2022-07-27  3.400000e+11   -0.000513   -0.000513  \n",
       "2022-07-28  3.960000e+11    0.002082    0.002080  \n",
       "2022-07-29  4.110000e+11   -0.008938   -0.008978  \n",
       "\n",
       "[6696 rows x 9 columns]"
      ]
     },
     "execution_count": 3,
     "metadata": {},
     "output_type": "execute_result"
    }
   ],
   "source": [
    "daily_data = data['1995-01':'2022-07'].copy()\n",
    "daily_data['Close'] = pd.to_numeric(daily_data['Close'])\n",
    "daily_data['Preclose'] = pd.to_numeric(daily_data['Preclose'])\n",
    "daily_data['Raw_return'] = daily_data['Close'] / daily_data['Preclose'] - 1\n",
    "daily_data['Log_return'] = np.log(daily_data['Close']) - np.log(daily_data['Preclose'])\n",
    "daily_data"
   ]
  },
  {
   "cell_type": "code",
   "execution_count": 4,
   "metadata": {},
   "outputs": [
    {
     "data": {
      "text/html": [
       "<div>\n",
       "<style scoped>\n",
       "    .dataframe tbody tr th:only-of-type {\n",
       "        vertical-align: middle;\n",
       "    }\n",
       "\n",
       "    .dataframe tbody tr th {\n",
       "        vertical-align: top;\n",
       "    }\n",
       "\n",
       "    .dataframe thead th {\n",
       "        text-align: right;\n",
       "    }\n",
       "</style>\n",
       "<table border=\"1\" class=\"dataframe\">\n",
       "  <thead>\n",
       "    <tr style=\"text-align: right;\">\n",
       "      <th></th>\n",
       "      <th>Log_return</th>\n",
       "      <th>Raw_return</th>\n",
       "    </tr>\n",
       "    <tr>\n",
       "      <th>Day</th>\n",
       "      <th></th>\n",
       "      <th></th>\n",
       "    </tr>\n",
       "  </thead>\n",
       "  <tbody>\n",
       "    <tr>\n",
       "      <th>1995-01-31</th>\n",
       "      <td>-0.141139</td>\n",
       "      <td>-0.131631</td>\n",
       "    </tr>\n",
       "    <tr>\n",
       "      <th>1995-02-28</th>\n",
       "      <td>-0.023979</td>\n",
       "      <td>-0.023694</td>\n",
       "    </tr>\n",
       "    <tr>\n",
       "      <th>1995-03-31</th>\n",
       "      <td>0.163651</td>\n",
       "      <td>0.177803</td>\n",
       "    </tr>\n",
       "    <tr>\n",
       "      <th>1995-04-30</th>\n",
       "      <td>-0.109315</td>\n",
       "      <td>-0.103552</td>\n",
       "    </tr>\n",
       "    <tr>\n",
       "      <th>1995-05-31</th>\n",
       "      <td>0.188901</td>\n",
       "      <td>0.207922</td>\n",
       "    </tr>\n",
       "    <tr>\n",
       "      <th>...</th>\n",
       "      <td>...</td>\n",
       "      <td>...</td>\n",
       "    </tr>\n",
       "    <tr>\n",
       "      <th>2022-03-31</th>\n",
       "      <td>-0.062604</td>\n",
       "      <td>-0.060685</td>\n",
       "    </tr>\n",
       "    <tr>\n",
       "      <th>2022-04-30</th>\n",
       "      <td>-0.065154</td>\n",
       "      <td>-0.063077</td>\n",
       "    </tr>\n",
       "    <tr>\n",
       "      <th>2022-05-31</th>\n",
       "      <td>0.044724</td>\n",
       "      <td>0.045739</td>\n",
       "    </tr>\n",
       "    <tr>\n",
       "      <th>2022-06-30</th>\n",
       "      <td>0.064468</td>\n",
       "      <td>0.066592</td>\n",
       "    </tr>\n",
       "    <tr>\n",
       "      <th>2022-07-31</th>\n",
       "      <td>-0.043718</td>\n",
       "      <td>-0.042776</td>\n",
       "    </tr>\n",
       "  </tbody>\n",
       "</table>\n",
       "<p>331 rows × 2 columns</p>\n",
       "</div>"
      ],
      "text/plain": [
       "            Log_return  Raw_return\n",
       "Day                               \n",
       "1995-01-31   -0.141139   -0.131631\n",
       "1995-02-28   -0.023979   -0.023694\n",
       "1995-03-31    0.163651    0.177803\n",
       "1995-04-30   -0.109315   -0.103552\n",
       "1995-05-31    0.188901    0.207922\n",
       "...                ...         ...\n",
       "2022-03-31   -0.062604   -0.060685\n",
       "2022-04-30   -0.065154   -0.063077\n",
       "2022-05-31    0.044724    0.045739\n",
       "2022-06-30    0.064468    0.066592\n",
       "2022-07-31   -0.043718   -0.042776\n",
       "\n",
       "[331 rows x 2 columns]"
      ]
     },
     "execution_count": 4,
     "metadata": {},
     "output_type": "execute_result"
    }
   ],
   "source": [
    "Month_data = daily_data.resample('M')['Log_return'].sum().to_frame()  \n",
    "Month_data['Raw_return'] = np.exp(Month_data['Log_return'])-1\n",
    "Month_data"
   ]
  },
  {
   "cell_type": "code",
   "execution_count": 32,
   "metadata": {},
   "outputs": [
    {
     "data": {
      "text/html": [
       "<div>\n",
       "<style scoped>\n",
       "    .dataframe tbody tr th:only-of-type {\n",
       "        vertical-align: middle;\n",
       "    }\n",
       "\n",
       "    .dataframe tbody tr th {\n",
       "        vertical-align: top;\n",
       "    }\n",
       "\n",
       "    .dataframe thead th {\n",
       "        text-align: right;\n",
       "    }\n",
       "</style>\n",
       "<table border=\"1\" class=\"dataframe\">\n",
       "  <thead>\n",
       "    <tr style=\"text-align: right;\">\n",
       "      <th></th>\n",
       "      <th>Log_return</th>\n",
       "      <th>Raw_return</th>\n",
       "    </tr>\n",
       "    <tr>\n",
       "      <th>Day</th>\n",
       "      <th></th>\n",
       "      <th></th>\n",
       "    </tr>\n",
       "  </thead>\n",
       "  <tbody>\n",
       "    <tr>\n",
       "      <th>1995-03-31</th>\n",
       "      <td>-0.001467</td>\n",
       "      <td>-0.001466</td>\n",
       "    </tr>\n",
       "    <tr>\n",
       "      <th>1995-06-30</th>\n",
       "      <td>-0.025583</td>\n",
       "      <td>-0.025258</td>\n",
       "    </tr>\n",
       "    <tr>\n",
       "      <th>1995-09-30</th>\n",
       "      <td>0.135980</td>\n",
       "      <td>0.145660</td>\n",
       "    </tr>\n",
       "    <tr>\n",
       "      <th>1995-12-31</th>\n",
       "      <td>-0.263130</td>\n",
       "      <td>-0.231358</td>\n",
       "    </tr>\n",
       "    <tr>\n",
       "      <th>1996-03-31</th>\n",
       "      <td>0.001979</td>\n",
       "      <td>0.001981</td>\n",
       "    </tr>\n",
       "    <tr>\n",
       "      <th>...</th>\n",
       "      <td>...</td>\n",
       "      <td>...</td>\n",
       "    </tr>\n",
       "    <tr>\n",
       "      <th>2021-09-30</th>\n",
       "      <td>-0.006434</td>\n",
       "      <td>-0.006413</td>\n",
       "    </tr>\n",
       "    <tr>\n",
       "      <th>2021-12-31</th>\n",
       "      <td>0.019870</td>\n",
       "      <td>0.020069</td>\n",
       "    </tr>\n",
       "    <tr>\n",
       "      <th>2022-03-31</th>\n",
       "      <td>-0.112592</td>\n",
       "      <td>-0.106484</td>\n",
       "    </tr>\n",
       "    <tr>\n",
       "      <th>2022-06-30</th>\n",
       "      <td>0.044038</td>\n",
       "      <td>0.045022</td>\n",
       "    </tr>\n",
       "    <tr>\n",
       "      <th>2022-09-30</th>\n",
       "      <td>-0.043718</td>\n",
       "      <td>-0.042776</td>\n",
       "    </tr>\n",
       "  </tbody>\n",
       "</table>\n",
       "<p>111 rows × 2 columns</p>\n",
       "</div>"
      ],
      "text/plain": [
       "            Log_return  Raw_return\n",
       "Day                               \n",
       "1995-03-31   -0.001467   -0.001466\n",
       "1995-06-30   -0.025583   -0.025258\n",
       "1995-09-30    0.135980    0.145660\n",
       "1995-12-31   -0.263130   -0.231358\n",
       "1996-03-31    0.001979    0.001981\n",
       "...                ...         ...\n",
       "2021-09-30   -0.006434   -0.006413\n",
       "2021-12-31    0.019870    0.020069\n",
       "2022-03-31   -0.112592   -0.106484\n",
       "2022-06-30    0.044038    0.045022\n",
       "2022-09-30   -0.043718   -0.042776\n",
       "\n",
       "[111 rows x 2 columns]"
      ]
     },
     "execution_count": 32,
     "metadata": {},
     "output_type": "execute_result"
    }
   ],
   "source": [
    "Quarter_data = daily_data.resample('Q')['Log_return'].sum().to_frame()  \n",
    "Quarter_data['Raw_return'] = np.exp(Quarter_data['Log_return'])-1\n",
    "Quarter_data"
   ]
  },
  {
   "cell_type": "code",
   "execution_count": 5,
   "metadata": {},
   "outputs": [
    {
     "data": {
      "text/html": [
       "<div>\n",
       "<style scoped>\n",
       "    .dataframe tbody tr th:only-of-type {\n",
       "        vertical-align: middle;\n",
       "    }\n",
       "\n",
       "    .dataframe tbody tr th {\n",
       "        vertical-align: top;\n",
       "    }\n",
       "\n",
       "    .dataframe thead th {\n",
       "        text-align: right;\n",
       "    }\n",
       "</style>\n",
       "<table border=\"1\" class=\"dataframe\">\n",
       "  <thead>\n",
       "    <tr style=\"text-align: right;\">\n",
       "      <th></th>\n",
       "      <th>Log_return</th>\n",
       "      <th>Raw_return</th>\n",
       "    </tr>\n",
       "    <tr>\n",
       "      <th>Day</th>\n",
       "      <th></th>\n",
       "      <th></th>\n",
       "    </tr>\n",
       "  </thead>\n",
       "  <tbody>\n",
       "    <tr>\n",
       "      <th>1995-12-31</th>\n",
       "      <td>-0.154200</td>\n",
       "      <td>-0.142899</td>\n",
       "    </tr>\n",
       "    <tr>\n",
       "      <th>1996-12-31</th>\n",
       "      <td>0.501639</td>\n",
       "      <td>0.651425</td>\n",
       "    </tr>\n",
       "    <tr>\n",
       "      <th>1997-12-31</th>\n",
       "      <td>0.264019</td>\n",
       "      <td>0.302153</td>\n",
       "    </tr>\n",
       "    <tr>\n",
       "      <th>1998-12-31</th>\n",
       "      <td>-0.040505</td>\n",
       "      <td>-0.039695</td>\n",
       "    </tr>\n",
       "    <tr>\n",
       "      <th>1999-12-31</th>\n",
       "      <td>0.175423</td>\n",
       "      <td>0.191750</td>\n",
       "    </tr>\n",
       "    <tr>\n",
       "      <th>2000-12-31</th>\n",
       "      <td>0.416917</td>\n",
       "      <td>0.517277</td>\n",
       "    </tr>\n",
       "    <tr>\n",
       "      <th>2001-12-31</th>\n",
       "      <td>-0.230898</td>\n",
       "      <td>-0.206180</td>\n",
       "    </tr>\n",
       "    <tr>\n",
       "      <th>2002-12-31</th>\n",
       "      <td>-0.192575</td>\n",
       "      <td>-0.175167</td>\n",
       "    </tr>\n",
       "    <tr>\n",
       "      <th>2003-12-31</th>\n",
       "      <td>0.097735</td>\n",
       "      <td>0.102670</td>\n",
       "    </tr>\n",
       "    <tr>\n",
       "      <th>2004-12-31</th>\n",
       "      <td>-0.167233</td>\n",
       "      <td>-0.153997</td>\n",
       "    </tr>\n",
       "    <tr>\n",
       "      <th>2005-12-31</th>\n",
       "      <td>-0.086924</td>\n",
       "      <td>-0.083253</td>\n",
       "    </tr>\n",
       "    <tr>\n",
       "      <th>2006-12-31</th>\n",
       "      <td>0.834792</td>\n",
       "      <td>1.304334</td>\n",
       "    </tr>\n",
       "    <tr>\n",
       "      <th>2007-12-31</th>\n",
       "      <td>0.676302</td>\n",
       "      <td>0.966593</td>\n",
       "    </tr>\n",
       "    <tr>\n",
       "      <th>2008-12-31</th>\n",
       "      <td>-1.061146</td>\n",
       "      <td>-0.653941</td>\n",
       "    </tr>\n",
       "    <tr>\n",
       "      <th>2009-12-31</th>\n",
       "      <td>0.587690</td>\n",
       "      <td>0.799825</td>\n",
       "    </tr>\n",
       "    <tr>\n",
       "      <th>2010-12-31</th>\n",
       "      <td>-0.154470</td>\n",
       "      <td>-0.143131</td>\n",
       "    </tr>\n",
       "    <tr>\n",
       "      <th>2011-12-31</th>\n",
       "      <td>-0.244307</td>\n",
       "      <td>-0.216753</td>\n",
       "    </tr>\n",
       "    <tr>\n",
       "      <th>2012-12-31</th>\n",
       "      <td>0.031203</td>\n",
       "      <td>0.031695</td>\n",
       "    </tr>\n",
       "    <tr>\n",
       "      <th>2013-12-31</th>\n",
       "      <td>-0.069878</td>\n",
       "      <td>-0.067493</td>\n",
       "    </tr>\n",
       "    <tr>\n",
       "      <th>2014-12-31</th>\n",
       "      <td>0.424412</td>\n",
       "      <td>0.528691</td>\n",
       "    </tr>\n",
       "    <tr>\n",
       "      <th>2015-12-31</th>\n",
       "      <td>0.089965</td>\n",
       "      <td>0.094136</td>\n",
       "    </tr>\n",
       "    <tr>\n",
       "      <th>2016-12-31</th>\n",
       "      <td>-0.131319</td>\n",
       "      <td>-0.123062</td>\n",
       "    </tr>\n",
       "    <tr>\n",
       "      <th>2017-12-31</th>\n",
       "      <td>0.063517</td>\n",
       "      <td>0.065578</td>\n",
       "    </tr>\n",
       "    <tr>\n",
       "      <th>2018-12-31</th>\n",
       "      <td>-0.282245</td>\n",
       "      <td>-0.245911</td>\n",
       "    </tr>\n",
       "    <tr>\n",
       "      <th>2019-12-31</th>\n",
       "      <td>0.201333</td>\n",
       "      <td>0.223032</td>\n",
       "    </tr>\n",
       "    <tr>\n",
       "      <th>2020-12-31</th>\n",
       "      <td>0.129858</td>\n",
       "      <td>0.138667</td>\n",
       "    </tr>\n",
       "    <tr>\n",
       "      <th>2021-12-31</th>\n",
       "      <td>0.046884</td>\n",
       "      <td>0.048001</td>\n",
       "    </tr>\n",
       "    <tr>\n",
       "      <th>2022-12-31</th>\n",
       "      <td>-0.112272</td>\n",
       "      <td>-0.106199</td>\n",
       "    </tr>\n",
       "  </tbody>\n",
       "</table>\n",
       "</div>"
      ],
      "text/plain": [
       "            Log_return  Raw_return\n",
       "Day                               \n",
       "1995-12-31   -0.154200   -0.142899\n",
       "1996-12-31    0.501639    0.651425\n",
       "1997-12-31    0.264019    0.302153\n",
       "1998-12-31   -0.040505   -0.039695\n",
       "1999-12-31    0.175423    0.191750\n",
       "2000-12-31    0.416917    0.517277\n",
       "2001-12-31   -0.230898   -0.206180\n",
       "2002-12-31   -0.192575   -0.175167\n",
       "2003-12-31    0.097735    0.102670\n",
       "2004-12-31   -0.167233   -0.153997\n",
       "2005-12-31   -0.086924   -0.083253\n",
       "2006-12-31    0.834792    1.304334\n",
       "2007-12-31    0.676302    0.966593\n",
       "2008-12-31   -1.061146   -0.653941\n",
       "2009-12-31    0.587690    0.799825\n",
       "2010-12-31   -0.154470   -0.143131\n",
       "2011-12-31   -0.244307   -0.216753\n",
       "2012-12-31    0.031203    0.031695\n",
       "2013-12-31   -0.069878   -0.067493\n",
       "2014-12-31    0.424412    0.528691\n",
       "2015-12-31    0.089965    0.094136\n",
       "2016-12-31   -0.131319   -0.123062\n",
       "2017-12-31    0.063517    0.065578\n",
       "2018-12-31   -0.282245   -0.245911\n",
       "2019-12-31    0.201333    0.223032\n",
       "2020-12-31    0.129858    0.138667\n",
       "2021-12-31    0.046884    0.048001\n",
       "2022-12-31   -0.112272   -0.106199"
      ]
     },
     "execution_count": 5,
     "metadata": {},
     "output_type": "execute_result"
    }
   ],
   "source": [
    "Year_data = daily_data.resample('Y')['Log_return'].sum().to_frame()  \n",
    "Year_data['Raw_return'] = np.exp(Year_data['Log_return'])-1\n",
    "Year_data"
   ]
  },
  {
   "cell_type": "code",
   "execution_count": 6,
   "metadata": {},
   "outputs": [
    {
     "data": {
      "text/html": [
       "<div>\n",
       "<style scoped>\n",
       "    .dataframe tbody tr th:only-of-type {\n",
       "        vertical-align: middle;\n",
       "    }\n",
       "\n",
       "    .dataframe tbody tr th {\n",
       "        vertical-align: top;\n",
       "    }\n",
       "\n",
       "    .dataframe thead th {\n",
       "        text-align: right;\n",
       "    }\n",
       "</style>\n",
       "<table border=\"1\" class=\"dataframe\">\n",
       "  <thead>\n",
       "    <tr style=\"text-align: right;\">\n",
       "      <th></th>\n",
       "      <th>Close</th>\n",
       "    </tr>\n",
       "    <tr>\n",
       "      <th>Day</th>\n",
       "      <th></th>\n",
       "    </tr>\n",
       "  </thead>\n",
       "  <tbody>\n",
       "    <tr>\n",
       "      <th>1995-12-31</th>\n",
       "      <td>555.29</td>\n",
       "    </tr>\n",
       "    <tr>\n",
       "      <th>1996-12-31</th>\n",
       "      <td>917.02</td>\n",
       "    </tr>\n",
       "    <tr>\n",
       "      <th>1997-12-31</th>\n",
       "      <td>1194.10</td>\n",
       "    </tr>\n",
       "    <tr>\n",
       "      <th>1998-12-31</th>\n",
       "      <td>1146.70</td>\n",
       "    </tr>\n",
       "    <tr>\n",
       "      <th>1999-12-31</th>\n",
       "      <td>1366.58</td>\n",
       "    </tr>\n",
       "    <tr>\n",
       "      <th>2000-12-31</th>\n",
       "      <td>2073.48</td>\n",
       "    </tr>\n",
       "    <tr>\n",
       "      <th>2001-12-31</th>\n",
       "      <td>1645.97</td>\n",
       "    </tr>\n",
       "    <tr>\n",
       "      <th>2002-12-31</th>\n",
       "      <td>1357.65</td>\n",
       "    </tr>\n",
       "    <tr>\n",
       "      <th>2003-12-31</th>\n",
       "      <td>1497.04</td>\n",
       "    </tr>\n",
       "    <tr>\n",
       "      <th>2004-12-31</th>\n",
       "      <td>1266.50</td>\n",
       "    </tr>\n",
       "    <tr>\n",
       "      <th>2005-12-31</th>\n",
       "      <td>1161.06</td>\n",
       "    </tr>\n",
       "    <tr>\n",
       "      <th>2006-12-31</th>\n",
       "      <td>2675.47</td>\n",
       "    </tr>\n",
       "    <tr>\n",
       "      <th>2007-12-31</th>\n",
       "      <td>5261.56</td>\n",
       "    </tr>\n",
       "    <tr>\n",
       "      <th>2008-12-31</th>\n",
       "      <td>1820.81</td>\n",
       "    </tr>\n",
       "    <tr>\n",
       "      <th>2009-12-31</th>\n",
       "      <td>3277.14</td>\n",
       "    </tr>\n",
       "    <tr>\n",
       "      <th>2010-12-31</th>\n",
       "      <td>2808.08</td>\n",
       "    </tr>\n",
       "    <tr>\n",
       "      <th>2011-12-31</th>\n",
       "      <td>2199.42</td>\n",
       "    </tr>\n",
       "    <tr>\n",
       "      <th>2012-12-31</th>\n",
       "      <td>2269.13</td>\n",
       "    </tr>\n",
       "    <tr>\n",
       "      <th>2013-12-31</th>\n",
       "      <td>2115.98</td>\n",
       "    </tr>\n",
       "    <tr>\n",
       "      <th>2014-12-31</th>\n",
       "      <td>3234.68</td>\n",
       "    </tr>\n",
       "    <tr>\n",
       "      <th>2015-12-31</th>\n",
       "      <td>3539.18</td>\n",
       "    </tr>\n",
       "    <tr>\n",
       "      <th>2016-12-31</th>\n",
       "      <td>3103.64</td>\n",
       "    </tr>\n",
       "    <tr>\n",
       "      <th>2017-12-31</th>\n",
       "      <td>3307.17</td>\n",
       "    </tr>\n",
       "    <tr>\n",
       "      <th>2018-12-31</th>\n",
       "      <td>2493.90</td>\n",
       "    </tr>\n",
       "    <tr>\n",
       "      <th>2019-12-31</th>\n",
       "      <td>3050.12</td>\n",
       "    </tr>\n",
       "    <tr>\n",
       "      <th>2020-12-31</th>\n",
       "      <td>3473.07</td>\n",
       "    </tr>\n",
       "    <tr>\n",
       "      <th>2021-12-31</th>\n",
       "      <td>3639.78</td>\n",
       "    </tr>\n",
       "    <tr>\n",
       "      <th>2022-12-31</th>\n",
       "      <td>3253.24</td>\n",
       "    </tr>\n",
       "  </tbody>\n",
       "</table>\n",
       "</div>"
      ],
      "text/plain": [
       "              Close\n",
       "Day                \n",
       "1995-12-31   555.29\n",
       "1996-12-31   917.02\n",
       "1997-12-31  1194.10\n",
       "1998-12-31  1146.70\n",
       "1999-12-31  1366.58\n",
       "2000-12-31  2073.48\n",
       "2001-12-31  1645.97\n",
       "2002-12-31  1357.65\n",
       "2003-12-31  1497.04\n",
       "2004-12-31  1266.50\n",
       "2005-12-31  1161.06\n",
       "2006-12-31  2675.47\n",
       "2007-12-31  5261.56\n",
       "2008-12-31  1820.81\n",
       "2009-12-31  3277.14\n",
       "2010-12-31  2808.08\n",
       "2011-12-31  2199.42\n",
       "2012-12-31  2269.13\n",
       "2013-12-31  2115.98\n",
       "2014-12-31  3234.68\n",
       "2015-12-31  3539.18\n",
       "2016-12-31  3103.64\n",
       "2017-12-31  3307.17\n",
       "2018-12-31  2493.90\n",
       "2019-12-31  3050.12\n",
       "2020-12-31  3473.07\n",
       "2021-12-31  3639.78\n",
       "2022-12-31  3253.24"
      ]
     },
     "execution_count": 6,
     "metadata": {},
     "output_type": "execute_result"
    }
   ],
   "source": [
    "Year_data2 = daily_data.resample('Y')['Close'].last().to_frame()\n",
    "Year_data2"
   ]
  },
  {
   "cell_type": "markdown",
   "metadata": {},
   "source": [
    "## 均值 mean\n",
    "算术平均：$ A_n = (a_1 + a_2 + a_3 + ... + a_n) / n $ "
   ]
  },
  {
   "cell_type": "code",
   "execution_count": 7,
   "metadata": {},
   "outputs": [
    {
     "data": {
      "text/plain": [
       "0.0002997925742341234"
      ]
     },
     "execution_count": 7,
     "metadata": {},
     "output_type": "execute_result"
    }
   ],
   "source": [
    "daily_data['2000-01':'2021-12']['Raw_return'].mean()"
   ]
  },
  {
   "cell_type": "code",
   "execution_count": 8,
   "metadata": {},
   "outputs": [
    {
     "data": {
      "text/plain": [
       "0.00638659075285674"
      ]
     },
     "execution_count": 8,
     "metadata": {},
     "output_type": "execute_result"
    }
   ],
   "source": [
    "Month_data['2000-01':'2021-12']['Raw_return'].mean()"
   ]
  },
  {
   "cell_type": "code",
   "execution_count": 9,
   "metadata": {},
   "outputs": [
    {
     "data": {
      "text/plain": [
       "0.0002997925742341234"
      ]
     },
     "execution_count": 9,
     "metadata": {},
     "output_type": "execute_result"
    }
   ],
   "source": [
    "np.mean(daily_data['2000-01':'2021-12']['Raw_return'])"
   ]
  },
  {
   "cell_type": "code",
   "execution_count": 10,
   "metadata": {},
   "outputs": [
    {
     "data": {
      "text/plain": [
       "0.0002997925742341234"
      ]
     },
     "execution_count": 10,
     "metadata": {},
     "output_type": "execute_result"
    }
   ],
   "source": [
    "sum(daily_data['2000-01':'2021-12']['Raw_return']) / len(daily_data['2000-01':'2021-12']['Raw_return'])"
   ]
  },
  {
   "cell_type": "code",
   "execution_count": 11,
   "metadata": {},
   "outputs": [
    {
     "data": {
      "text/plain": [
       "count    5332.00000\n",
       "mean        0.00030\n",
       "std         0.01522\n",
       "min        -0.08841\n",
       "25%        -0.00651\n",
       "50%         0.00064\n",
       "75%         0.00740\n",
       "max         0.09857\n",
       "Name: Raw_return, dtype: float64"
      ]
     },
     "execution_count": 11,
     "metadata": {},
     "output_type": "execute_result"
    }
   ],
   "source": [
    "daily_data['2000-01':'2021-12']['Raw_return'].describe().round(5)"
   ]
  },
  {
   "cell_type": "markdown",
   "metadata": {},
   "source": [
    "## 分位数 quantile\n",
    "分位数（Quantile），亦称分位点，是指将一个随机变量的概率分布范围分为几个等份的数值点，常用的的中位数、四分位数、百分位数等\n",
    "常见的分类方法：\n",
    "- 中位数 Median\n",
    "  - 当N是奇数时 $ m_{0.5} = X_{(N+1)/2} $\n",
    "\n",
    "  - 当N是偶数时 $ m_{0.5} =( X_{(N/2)} + X_{(N/2+1)} )/2 $\n",
    "- 四分位数Quartile\n",
    "10分位数 常用在股票投资策略中"
   ]
  },
  {
   "cell_type": "code",
   "execution_count": 12,
   "metadata": {},
   "outputs": [
    {
     "data": {
      "text/plain": [
       "[-0.016097081828110336,\n",
       " -0.008678806004592077,\n",
       " -0.004752631067066526,\n",
       " -0.001721643766958003,\n",
       " 0.0006416905475513657,\n",
       " 0.002879009623246542,\n",
       " 0.005590864432495524,\n",
       " 0.009490838188521967,\n",
       " 0.016934368056506454]"
      ]
     },
     "execution_count": 12,
     "metadata": {},
     "output_type": "execute_result"
    }
   ],
   "source": [
    "from statistics import quantiles\n",
    "\n",
    "quantiles(daily_data['2000-01':'2021-12']['Raw_return'], n=10, method='inclusive')"
   ]
  },
  {
   "cell_type": "code",
   "execution_count": 13,
   "metadata": {},
   "outputs": [
    {
     "data": {
      "text/plain": [
       "[-0.03759568413564121, 0.0063653439661619515, 0.04587742274975387]"
      ]
     },
     "execution_count": 13,
     "metadata": {},
     "output_type": "execute_result"
    }
   ],
   "source": [
    "quantiles(Month_data['2000-01':'2021-12']['Raw_return'], n=4)"
   ]
  },
  {
   "cell_type": "code",
   "execution_count": 14,
   "metadata": {},
   "outputs": [
    {
     "data": {
      "text/plain": [
       "[-0.016107902309649737,\n",
       " -0.008682174117724895,\n",
       " -0.004753759033724048,\n",
       " -0.0017217679867727932,\n",
       " 0.0006416905475513657,\n",
       " 0.0028793525212044368,\n",
       " 0.005593687159267247,\n",
       " 0.009506414116411222,\n",
       " 0.016939114491093886]"
      ]
     },
     "execution_count": 14,
     "metadata": {},
     "output_type": "execute_result"
    }
   ],
   "source": [
    "quantiles(daily_data['2000-01':'2021-12']['Raw_return'], n=10, method='exclusive')"
   ]
  },
  {
   "cell_type": "code",
   "execution_count": 44,
   "metadata": {},
   "outputs": [
    {
     "data": {
      "text/plain": [
       "array([0. , 0.1, 0.2, 0.3, 0.4, 0.5, 0.6, 0.7, 0.8, 0.9, 1. ])"
      ]
     },
     "execution_count": 44,
     "metadata": {},
     "output_type": "execute_result"
    }
   ],
   "source": [
    "seq = np.linspace(0,1,11)\n",
    "seq"
   ]
  },
  {
   "cell_type": "code",
   "execution_count": 45,
   "metadata": {},
   "outputs": [
    {
     "data": {
      "text/plain": [
       "array([-0.08840689, -0.01609708, -0.00867881, -0.00475263, -0.00172164,\n",
       "        0.00064169,  0.00287901,  0.00559086,  0.00949084,  0.01693437,\n",
       "        0.09856839])"
      ]
     },
     "execution_count": 45,
     "metadata": {},
     "output_type": "execute_result"
    }
   ],
   "source": [
    "np.quantile(daily_data['2000-01':'2021-12']['Raw_return'],q=seq)"
   ]
  },
  {
   "cell_type": "code",
   "execution_count": 46,
   "metadata": {},
   "outputs": [
    {
     "data": {
      "text/plain": [
       "array([3.75, 6.5 , 9.25])"
      ]
     },
     "execution_count": 46,
     "metadata": {},
     "output_type": "execute_result"
    }
   ],
   "source": [
    "arr = np.array([1,2,3,4,5,6,7,8,9,10,11,12]) \n",
    "np.quantile(arr, (0.25, 0.50, 0.75))"
   ]
  },
  {
   "cell_type": "code",
   "execution_count": 47,
   "metadata": {},
   "outputs": [
    {
     "data": {
      "text/plain": [
       "[3.25, 6.5, 9.75]"
      ]
     },
     "execution_count": 47,
     "metadata": {},
     "output_type": "execute_result"
    }
   ],
   "source": [
    "quantiles(arr, n = 4, method='exclusive')"
   ]
  },
  {
   "cell_type": "code",
   "execution_count": 48,
   "metadata": {},
   "outputs": [
    {
     "data": {
      "text/plain": [
       "[3.75, 6.5, 9.25]"
      ]
     },
     "execution_count": 48,
     "metadata": {},
     "output_type": "execute_result"
    }
   ],
   "source": [
    "quantiles(arr, n = 4, method='inclusive')"
   ]
  },
  {
   "cell_type": "markdown",
   "metadata": {},
   "source": [
    "## 波动率 Variance\n",
    "\n",
    "$$\\sigma^2=\\frac{\\sum(X-\\mu)^2}{N}\n"
   ]
  },
  {
   "cell_type": "code",
   "execution_count": 15,
   "metadata": {},
   "outputs": [
    {
     "data": {
      "text/plain": [
       "0.00023147179659664522"
      ]
     },
     "execution_count": 15,
     "metadata": {},
     "output_type": "execute_result"
    }
   ],
   "source": [
    "np.var(daily_data['2000-01':'2021-12']['Raw_return'])"
   ]
  },
  {
   "cell_type": "code",
   "execution_count": 16,
   "metadata": {},
   "outputs": [
    {
     "data": {
      "text/plain": [
       "0.00023147179659664522"
      ]
     },
     "execution_count": 16,
     "metadata": {},
     "output_type": "execute_result"
    }
   ],
   "source": [
    "m = np.mean(daily_data['2000-01':'2021-12']['Raw_return'])\n",
    "sum((daily_data['2000-01':'2021-12']['Raw_return'] - m)**2) / len(daily_data['2000-01':'2021-12']['Raw_return'])"
   ]
  },
  {
   "cell_type": "code",
   "execution_count": 17,
   "metadata": {},
   "outputs": [
    {
     "data": {
      "text/plain": [
       "0.015214197205131962"
      ]
     },
     "execution_count": 17,
     "metadata": {},
     "output_type": "execute_result"
    }
   ],
   "source": [
    "np.std(daily_data['2000-01':'2021-12']['Raw_return'])"
   ]
  },
  {
   "cell_type": "code",
   "execution_count": 21,
   "metadata": {},
   "outputs": [
    {
     "data": {
      "text/plain": [
       "0.015214197205131962"
      ]
     },
     "execution_count": 21,
     "metadata": {},
     "output_type": "execute_result"
    }
   ],
   "source": [
    "from math import sqrt\n",
    "\n",
    "sqrt(np.var(daily_data['2000-01':'2021-12']['Raw_return']))"
   ]
  },
  {
   "cell_type": "markdown",
   "metadata": {},
   "source": [
    "### 作业\n",
    "\n",
    "计算每个月的波动率，也就是方差\n",
    "- resample\n",
    "- groupby"
   ]
  },
  {
   "cell_type": "code",
   "execution_count": 23,
   "metadata": {},
   "outputs": [
    {
     "data": {
      "text/plain": [
       "0.09856839419466401"
      ]
     },
     "execution_count": 23,
     "metadata": {},
     "output_type": "execute_result"
    }
   ],
   "source": [
    "daily_data['2000-01':'2021-12']['Raw_return'].max()"
   ]
  },
  {
   "cell_type": "code",
   "execution_count": 22,
   "metadata": {},
   "outputs": [
    {
     "data": {
      "text/html": [
       "<div>\n",
       "<style scoped>\n",
       "    .dataframe tbody tr th:only-of-type {\n",
       "        vertical-align: middle;\n",
       "    }\n",
       "\n",
       "    .dataframe tbody tr th {\n",
       "        vertical-align: top;\n",
       "    }\n",
       "\n",
       "    .dataframe thead th {\n",
       "        text-align: right;\n",
       "    }\n",
       "</style>\n",
       "<table border=\"1\" class=\"dataframe\">\n",
       "  <thead>\n",
       "    <tr style=\"text-align: right;\">\n",
       "      <th></th>\n",
       "      <th>Variance</th>\n",
       "    </tr>\n",
       "    <tr>\n",
       "      <th>Day</th>\n",
       "      <th></th>\n",
       "    </tr>\n",
       "  </thead>\n",
       "  <tbody>\n",
       "    <tr>\n",
       "      <th>1995-01-31</th>\n",
       "      <td>0.000260</td>\n",
       "    </tr>\n",
       "    <tr>\n",
       "      <th>1995-02-28</th>\n",
       "      <td>0.001130</td>\n",
       "    </tr>\n",
       "    <tr>\n",
       "      <th>1995-03-31</th>\n",
       "      <td>0.000551</td>\n",
       "    </tr>\n",
       "    <tr>\n",
       "      <th>1995-04-30</th>\n",
       "      <td>0.000407</td>\n",
       "    </tr>\n",
       "    <tr>\n",
       "      <th>1995-05-31</th>\n",
       "      <td>0.006924</td>\n",
       "    </tr>\n",
       "    <tr>\n",
       "      <th>...</th>\n",
       "      <td>...</td>\n",
       "    </tr>\n",
       "    <tr>\n",
       "      <th>2022-03-31</th>\n",
       "      <td>0.000299</td>\n",
       "    </tr>\n",
       "    <tr>\n",
       "      <th>2022-04-30</th>\n",
       "      <td>0.000335</td>\n",
       "    </tr>\n",
       "    <tr>\n",
       "      <th>2022-05-31</th>\n",
       "      <td>0.000107</td>\n",
       "    </tr>\n",
       "    <tr>\n",
       "      <th>2022-06-30</th>\n",
       "      <td>0.000080</td>\n",
       "    </tr>\n",
       "    <tr>\n",
       "      <th>2022-07-31</th>\n",
       "      <td>0.000064</td>\n",
       "    </tr>\n",
       "  </tbody>\n",
       "</table>\n",
       "<p>331 rows × 1 columns</p>\n",
       "</div>"
      ],
      "text/plain": [
       "            Variance\n",
       "Day                 \n",
       "1995-01-31  0.000260\n",
       "1995-02-28  0.001130\n",
       "1995-03-31  0.000551\n",
       "1995-04-30  0.000407\n",
       "1995-05-31  0.006924\n",
       "...              ...\n",
       "2022-03-31  0.000299\n",
       "2022-04-30  0.000335\n",
       "2022-05-31  0.000107\n",
       "2022-06-30  0.000080\n",
       "2022-07-31  0.000064\n",
       "\n",
       "[331 rows x 1 columns]"
      ]
     },
     "execution_count": 22,
     "metadata": {},
     "output_type": "execute_result"
    }
   ],
   "source": [
    "monthly_var = daily_data.resample('m')['Raw_return'].var().to_frame()\n",
    "monthly_var.rename(columns={'Raw_return':'Variance'},inplace=True)\n",
    "monthly_var"
   ]
  },
  {
   "cell_type": "markdown",
   "metadata": {},
   "source": [
    "## 正态分布\n",
    "\n",
    "若随机变量X服从一个数学期望为$\\mu$、方差为$\\sigma^2$的正态分布，记为$N(\\mu,\\sigma^2)$。其概率密度函数为正态分布的期望值决定了其位置，其标准差$\\sigma$决定了分布的幅度。当$\\mu=0,\\sigma=1$时的正态分布是标准正态分布。\n",
    "\n",
    "若随机变量 X 服从一个位置参数为 μ 、尺度参数为 σ 的概率分布，且其概率密度函数为\n",
    "$f(x)=\\frac{1}{\\sqrt(2π) σ}exp(−\\frac{(x−μ)^2}{2σ^2})$\n",
    "\n",
    "则这个随机变量就称为正态随机变量, 正态随机变量服从的分布就称为正态分布, 记作 X∼N(μ,σ2), 读作 X 服从 N(μ,σ2), 或 X 服从正态分布。\n",
    "若 $X∼N(μ,σ^2),Y=\\frac{X−μ}{σ}∼N(0,1)$.\n",
    "\n",
    "当 μ=0,σ=1 时，正态分布就成为标准正态分布\n",
    "$f(x) = \\frac{1}{\\sqrt(2π)}e^(-x^2/2)$"
   ]
  },
  {
   "cell_type": "markdown",
   "metadata": {},
   "source": [
    "## 偏度和峰度\n",
    "\n",
    "- 偏度（Skewness）是统计数据分布偏斜方向和程度的度量，是统计数据分布非对称程度的数字特征。定义上偏度是样本的三阶标准化矩。\n",
    "     - 定义中包括正态分布（偏度=0），右偏分布（正偏，>0）,左偏分布（负偏，<0）\n",
    "- 峰度（Kurtosis）表征概率密度分布曲线在平均值处峰度高低的特征。直观来看，峰度反应了峰部的尖度。\n",
    "     - 定义中包括正态分布（峰度=3），厚尾（峰度>3）,瘦尾（峰度<3）\n"
   ]
  },
  {
   "cell_type": "code",
   "execution_count": 39,
   "metadata": {},
   "outputs": [
    {
     "data": {
      "text/plain": [
       "0.6863037895353762"
      ]
     },
     "execution_count": 39,
     "metadata": {},
     "output_type": "execute_result"
    },
    {
     "data": {
      "text/plain": [
       "22.6381518680142"
      ]
     },
     "execution_count": 39,
     "metadata": {},
     "output_type": "execute_result"
    }
   ],
   "source": [
    "daily_data['1995-01':'2021-12']['Raw_return'].skew()\n",
    "daily_data['1995-01':'2021-12']['Raw_return'].kurt()\n",
    "# scipy.stats.kurtosis(daily_data['1995-01':'2021-12']['Raw_return'],fisher=False) - 3"
   ]
  },
  {
   "cell_type": "code",
   "execution_count": 31,
   "metadata": {},
   "outputs": [
    {
     "data": {
      "text/plain": [
       "-0.2123482288976952"
      ]
     },
     "execution_count": 31,
     "metadata": {},
     "output_type": "execute_result"
    },
    {
     "data": {
      "text/plain": [
       "0.0002997925742341234"
      ]
     },
     "execution_count": 31,
     "metadata": {},
     "output_type": "execute_result"
    }
   ],
   "source": [
    "daily_data['2000-01':'2021-12']['Raw_return'].skew()\n",
    "daily_data['2000-01':'2021-12']['Raw_return'].mean()"
   ]
  },
  {
   "cell_type": "code",
   "execution_count": 35,
   "metadata": {},
   "outputs": [
    {
     "data": {
      "text/plain": [
       "-0.12102256258064355"
      ]
     },
     "execution_count": 35,
     "metadata": {},
     "output_type": "execute_result"
    },
    {
     "data": {
      "text/plain": [
       "1.7808205665732815"
      ]
     },
     "execution_count": 35,
     "metadata": {},
     "output_type": "execute_result"
    }
   ],
   "source": [
    "# Monthly data\n",
    "Month_data['2000-01':'2021-12']['Raw_return'].skew()\n",
    "Month_data['2000-01':'2021-12']['Raw_return'].kurt()"
   ]
  },
  {
   "cell_type": "code",
   "execution_count": 36,
   "metadata": {},
   "outputs": [
    {
     "data": {
      "text/plain": [
       "0.6703046199121782"
      ]
     },
     "execution_count": 36,
     "metadata": {},
     "output_type": "execute_result"
    },
    {
     "data": {
      "text/plain": [
       "1.5061694696000774"
      ]
     },
     "execution_count": 36,
     "metadata": {},
     "output_type": "execute_result"
    }
   ],
   "source": [
    "# Quarterly data\n",
    "Quarter_data['2000-01':'2021-12']['Raw_return'].skew()\n",
    "Quarter_data['2000-01':'2021-12']['Raw_return'].kurt()"
   ]
  },
  {
   "cell_type": "code",
   "execution_count": 37,
   "metadata": {},
   "outputs": [
    {
     "data": {
      "text/plain": [
       "1.1314511151614697"
      ]
     },
     "execution_count": 37,
     "metadata": {},
     "output_type": "execute_result"
    },
    {
     "data": {
      "text/plain": [
       "1.3602349892032164"
      ]
     },
     "execution_count": 37,
     "metadata": {},
     "output_type": "execute_result"
    }
   ],
   "source": [
    "Year_data['2000-01':'2021-12']['Raw_return'].skew()\n",
    "Year_data['2000-01':'2021-12']['Raw_return'].kurt()"
   ]
  },
  {
   "cell_type": "code",
   "execution_count": 40,
   "metadata": {},
   "outputs": [
    {
     "data": {
      "text/plain": [
       "36"
      ]
     },
     "execution_count": 40,
     "metadata": {},
     "output_type": "execute_result"
    }
   ],
   "source": [
    "def qiuhe(a,b):\n",
    "    c = a * b\n",
    "    return c\n",
    "\n",
    "qiuhe(4,9)"
   ]
  },
  {
   "cell_type": "code",
   "execution_count": 41,
   "metadata": {},
   "outputs": [
    {
     "data": {
      "text/plain": [
       "array([-0.56761094,  1.01100477, -1.24012907, ..., -1.39700315,\n",
       "        0.05714085, -0.19582416])"
      ]
     },
     "execution_count": 41,
     "metadata": {},
     "output_type": "execute_result"
    }
   ],
   "source": [
    "result = np.random.normal(0, 1, 1000000)\n",
    "result"
   ]
  },
  {
   "cell_type": "markdown",
   "metadata": {},
   "source": [
    "## 标准正态分布的直方图"
   ]
  },
  {
   "cell_type": "code",
   "execution_count": 42,
   "metadata": {},
   "outputs": [
    {
     "data": {
      "image/svg+xml": "<?xml version=\"1.0\" encoding=\"utf-8\" standalone=\"no\"?>\n<!DOCTYPE svg PUBLIC \"-//W3C//DTD SVG 1.1//EN\"\n  \"http://www.w3.org/Graphics/SVG/1.1/DTD/svg11.dtd\">\n<svg xmlns:xlink=\"http://www.w3.org/1999/xlink\" width=\"392.14375pt\" height=\"277.314375pt\" viewBox=\"0 0 392.14375 277.314375\" xmlns=\"http://www.w3.org/2000/svg\" version=\"1.1\">\n <metadata>\n  <rdf:RDF xmlns:dc=\"http://purl.org/dc/elements/1.1/\" xmlns:cc=\"http://creativecommons.org/ns#\" xmlns:rdf=\"http://www.w3.org/1999/02/22-rdf-syntax-ns#\">\n   <cc:Work>\n    <dc:type rdf:resource=\"http://purl.org/dc/dcmitype/StillImage\"/>\n    <dc:date>2022-10-04T09:29:32.300991</dc:date>\n    <dc:format>image/svg+xml</dc:format>\n    <dc:creator>\n     <cc:Agent>\n      <dc:title>Matplotlib v3.5.1, https://matplotlib.org/</dc:title>\n     </cc:Agent>\n    </dc:creator>\n   </cc:Work>\n  </rdf:RDF>\n </metadata>\n <defs>\n  <style type=\"text/css\">*{stroke-linejoin: round; stroke-linecap: butt}</style>\n </defs>\n <g id=\"figure_1\">\n  <g id=\"patch_1\">\n   <path d=\"M 0 277.314375 \nL 392.14375 277.314375 \nL 392.14375 0 \nL 0 0 \nL 0 277.314375 \nz\n\" style=\"fill: none\"/>\n  </g>\n  <g id=\"axes_1\">\n   <g id=\"patch_2\">\n    <path d=\"M 50.14375 239.758125 \nL 384.94375 239.758125 \nL 384.94375 22.318125 \nL 50.14375 22.318125 \nz\n\" style=\"fill: #ffffff\"/>\n   </g>\n   <g id=\"patch_3\">\n    <path d=\"M 65.361932 239.758125 \nL 68.405568 239.758125 \nL 68.405568 239.747096 \nL 65.361932 239.747096 \nz\n\" clip-path=\"url(#p807227c6e8)\" style=\"fill: #ff7f0e\"/>\n   </g>\n   <g id=\"patch_4\">\n    <path d=\"M 68.405568 239.758125 \nL 71.449205 239.758125 \nL 71.449205 239.758125 \nL 68.405568 239.758125 \nz\n\" clip-path=\"url(#p807227c6e8)\" style=\"fill: #ff7f0e\"/>\n   </g>\n   <g id=\"patch_5\">\n    <path d=\"M 71.449205 239.758125 \nL 74.492841 239.758125 \nL 74.492841 239.752611 \nL 71.449205 239.752611 \nz\n\" clip-path=\"url(#p807227c6e8)\" style=\"fill: #ff7f0e\"/>\n   </g>\n   <g id=\"patch_6\">\n    <path d=\"M 74.492841 239.758125 \nL 77.536477 239.758125 \nL 77.536477 239.747096 \nL 74.492841 239.747096 \nz\n\" clip-path=\"url(#p807227c6e8)\" style=\"fill: #ff7f0e\"/>\n   </g>\n   <g id=\"patch_7\">\n    <path d=\"M 77.536477 239.758125 \nL 80.580114 239.758125 \nL 80.580114 239.741582 \nL 77.536477 239.741582 \nz\n\" clip-path=\"url(#p807227c6e8)\" style=\"fill: #ff7f0e\"/>\n   </g>\n   <g id=\"patch_8\">\n    <path d=\"M 80.580114 239.758125 \nL 83.62375 239.758125 \nL 83.62375 239.730553 \nL 80.580114 239.730553 \nz\n\" clip-path=\"url(#p807227c6e8)\" style=\"fill: #ff7f0e\"/>\n   </g>\n   <g id=\"patch_9\">\n    <path d=\"M 83.62375 239.758125 \nL 86.667386 239.758125 \nL 86.667386 239.708495 \nL 83.62375 239.708495 \nz\n\" clip-path=\"url(#p807227c6e8)\" style=\"fill: #ff7f0e\"/>\n   </g>\n   <g id=\"patch_10\">\n    <path d=\"M 86.667386 239.758125 \nL 89.711023 239.758125 \nL 89.711023 239.642321 \nL 86.667386 239.642321 \nz\n\" clip-path=\"url(#p807227c6e8)\" style=\"fill: #ff7f0e\"/>\n   </g>\n   <g id=\"patch_11\">\n    <path d=\"M 89.711023 239.758125 \nL 92.754659 239.758125 \nL 92.754659 239.598205 \nL 89.711023 239.598205 \nz\n\" clip-path=\"url(#p807227c6e8)\" style=\"fill: #ff7f0e\"/>\n   </g>\n   <g id=\"patch_12\">\n    <path d=\"M 92.754659 239.758125 \nL 95.798295 239.758125 \nL 95.798295 239.581661 \nL 92.754659 239.581661 \nz\n\" clip-path=\"url(#p807227c6e8)\" style=\"fill: #ff7f0e\"/>\n   </g>\n   <g id=\"patch_13\">\n    <path d=\"M 95.798295 239.758125 \nL 98.841932 239.758125 \nL 98.841932 239.498944 \nL 95.798295 239.498944 \nz\n\" clip-path=\"url(#p807227c6e8)\" style=\"fill: #ff7f0e\"/>\n   </g>\n   <g id=\"patch_14\">\n    <path d=\"M 98.841932 239.758125 \nL 101.885568 239.758125 \nL 101.885568 239.305937 \nL 98.841932 239.305937 \nz\n\" clip-path=\"url(#p807227c6e8)\" style=\"fill: #ff7f0e\"/>\n   </g>\n   <g id=\"patch_15\">\n    <path d=\"M 101.885568 239.758125 \nL 104.929205 239.758125 \nL 104.929205 239.217705 \nL 101.885568 239.217705 \nz\n\" clip-path=\"url(#p807227c6e8)\" style=\"fill: #ff7f0e\"/>\n   </g>\n   <g id=\"patch_16\">\n    <path d=\"M 104.929205 239.758125 \nL 107.972841 239.758125 \nL 107.972841 239.008154 \nL 104.929205 239.008154 \nz\n\" clip-path=\"url(#p807227c6e8)\" style=\"fill: #ff7f0e\"/>\n   </g>\n   <g id=\"patch_17\">\n    <path d=\"M 107.972841 239.758125 \nL 111.016477 239.758125 \nL 111.016477 238.809632 \nL 107.972841 238.809632 \nz\n\" clip-path=\"url(#p807227c6e8)\" style=\"fill: #ff7f0e\"/>\n   </g>\n   <g id=\"patch_18\">\n    <path d=\"M 111.016477 239.758125 \nL 114.060114 239.758125 \nL 114.060114 238.385017 \nL 111.016477 238.385017 \nz\n\" clip-path=\"url(#p807227c6e8)\" style=\"fill: #ff7f0e\"/>\n   </g>\n   <g id=\"patch_19\">\n    <path d=\"M 114.060114 239.758125 \nL 117.10375 239.758125 \nL 117.10375 237.965915 \nL 114.060114 237.965915 \nz\n\" clip-path=\"url(#p807227c6e8)\" style=\"fill: #ff7f0e\"/>\n   </g>\n   <g id=\"patch_20\">\n    <path d=\"M 117.10375 239.758125 \nL 120.147386 239.758125 \nL 120.147386 237.563357 \nL 117.10375 237.563357 \nz\n\" clip-path=\"url(#p807227c6e8)\" style=\"fill: #ff7f0e\"/>\n   </g>\n   <g id=\"patch_21\">\n    <path d=\"M 120.147386 239.758125 \nL 123.191023 239.758125 \nL 123.191023 236.55972 \nL 120.147386 236.55972 \nz\n\" clip-path=\"url(#p807227c6e8)\" style=\"fill: #ff7f0e\"/>\n   </g>\n   <g id=\"patch_22\">\n    <path d=\"M 123.191023 239.758125 \nL 126.234659 239.758125 \nL 126.234659 235.550568 \nL 123.191023 235.550568 \nz\n\" clip-path=\"url(#p807227c6e8)\" style=\"fill: #ff7f0e\"/>\n   </g>\n   <g id=\"patch_23\">\n    <path d=\"M 126.234659 239.758125 \nL 129.278295 239.758125 \nL 129.278295 234.668249 \nL 126.234659 234.668249 \nz\n\" clip-path=\"url(#p807227c6e8)\" style=\"fill: #ff7f0e\"/>\n   </g>\n   <g id=\"patch_24\">\n    <path d=\"M 129.278295 239.758125 \nL 132.321932 239.758125 \nL 132.321932 232.81538 \nL 129.278295 232.81538 \nz\n\" clip-path=\"url(#p807227c6e8)\" style=\"fill: #ff7f0e\"/>\n   </g>\n   <g id=\"patch_25\">\n    <path d=\"M 132.321932 239.758125 \nL 135.365568 239.758125 \nL 135.365568 231.469844 \nL 132.321932 231.469844 \nz\n\" clip-path=\"url(#p807227c6e8)\" style=\"fill: #ff7f0e\"/>\n   </g>\n   <g id=\"patch_26\">\n    <path d=\"M 135.365568 239.758125 \nL 138.409205 239.758125 \nL 138.409205 228.227322 \nL 135.365568 228.227322 \nz\n\" clip-path=\"url(#p807227c6e8)\" style=\"fill: #ff7f0e\"/>\n   </g>\n   <g id=\"patch_27\">\n    <path d=\"M 138.409205 239.758125 \nL 141.452841 239.758125 \nL 141.452841 225.663084 \nL 138.409205 225.663084 \nz\n\" clip-path=\"url(#p807227c6e8)\" style=\"fill: #ff7f0e\"/>\n   </g>\n   <g id=\"patch_28\">\n    <path d=\"M 141.452841 239.758125 \nL 144.496477 239.758125 \nL 144.496477 222.310273 \nL 141.452841 222.310273 \nz\n\" clip-path=\"url(#p807227c6e8)\" style=\"fill: #ff7f0e\"/>\n   </g>\n   <g id=\"patch_29\">\n    <path d=\"M 144.496477 239.758125 \nL 147.540114 239.758125 \nL 147.540114 218.720338 \nL 144.496477 218.720338 \nz\n\" clip-path=\"url(#p807227c6e8)\" style=\"fill: #ff7f0e\"/>\n   </g>\n   <g id=\"patch_30\">\n    <path d=\"M 147.540114 239.758125 \nL 150.58375 239.758125 \nL 150.58375 214.36389 \nL 147.540114 214.36389 \nz\n\" clip-path=\"url(#p807227c6e8)\" style=\"fill: #ff7f0e\"/>\n   </g>\n   <g id=\"patch_31\">\n    <path d=\"M 150.58375 239.758125 \nL 153.627386 239.758125 \nL 153.627386 208.943144 \nL 150.58375 208.943144 \nz\n\" clip-path=\"url(#p807227c6e8)\" style=\"fill: #ff7f0e\"/>\n   </g>\n   <g id=\"patch_32\">\n    <path d=\"M 153.627386 239.758125 \nL 156.671023 239.758125 \nL 156.671023 203.334906 \nL 153.627386 203.334906 \nz\n\" clip-path=\"url(#p807227c6e8)\" style=\"fill: #ff7f0e\"/>\n   </g>\n   <g id=\"patch_33\">\n    <path d=\"M 156.671023 239.758125 \nL 159.714659 239.758125 \nL 159.714659 196.634798 \nL 156.671023 196.634798 \nz\n\" clip-path=\"url(#p807227c6e8)\" style=\"fill: #ff7f0e\"/>\n   </g>\n   <g id=\"patch_34\">\n    <path d=\"M 159.714659 239.758125 \nL 162.758295 239.758125 \nL 162.758295 189.355669 \nL 159.714659 189.355669 \nz\n\" clip-path=\"url(#p807227c6e8)\" style=\"fill: #ff7f0e\"/>\n   </g>\n   <g id=\"patch_35\">\n    <path d=\"M 162.758295 239.758125 \nL 165.801932 239.758125 \nL 165.801932 179.164888 \nL 162.758295 179.164888 \nz\n\" clip-path=\"url(#p807227c6e8)\" style=\"fill: #ff7f0e\"/>\n   </g>\n   <g id=\"patch_36\">\n    <path d=\"M 165.801932 239.758125 \nL 168.845568 239.758125 \nL 168.845568 170.849034 \nL 165.801932 170.849034 \nz\n\" clip-path=\"url(#p807227c6e8)\" style=\"fill: #ff7f0e\"/>\n   </g>\n   <g id=\"patch_37\">\n    <path d=\"M 168.845568 239.758125 \nL 171.889205 239.758125 \nL 171.889205 162.841992 \nL 168.845568 162.841992 \nz\n\" clip-path=\"url(#p807227c6e8)\" style=\"fill: #ff7f0e\"/>\n   </g>\n   <g id=\"patch_38\">\n    <path d=\"M 171.889205 239.758125 \nL 174.932841 239.758125 \nL 174.932841 150.37924 \nL 171.889205 150.37924 \nz\n\" clip-path=\"url(#p807227c6e8)\" style=\"fill: #ff7f0e\"/>\n   </g>\n   <g id=\"patch_39\">\n    <path d=\"M 174.932841 239.758125 \nL 177.976477 239.758125 \nL 177.976477 138.864981 \nL 174.932841 138.864981 \nz\n\" clip-path=\"url(#p807227c6e8)\" style=\"fill: #ff7f0e\"/>\n   </g>\n   <g id=\"patch_40\">\n    <path d=\"M 177.976477 239.758125 \nL 181.020114 239.758125 \nL 181.020114 128.795519 \nL 177.976477 128.795519 \nz\n\" clip-path=\"url(#p807227c6e8)\" style=\"fill: #ff7f0e\"/>\n   </g>\n   <g id=\"patch_41\">\n    <path d=\"M 181.020114 239.758125 \nL 184.06375 239.758125 \nL 184.06375 116.156304 \nL 181.020114 116.156304 \nz\n\" clip-path=\"url(#p807227c6e8)\" style=\"fill: #ff7f0e\"/>\n   </g>\n   <g id=\"patch_42\">\n    <path d=\"M 184.06375 239.758125 \nL 187.107386 239.758125 \nL 187.107386 104.708218 \nL 184.06375 104.708218 \nz\n\" clip-path=\"url(#p807227c6e8)\" style=\"fill: #ff7f0e\"/>\n   </g>\n   <g id=\"patch_43\">\n    <path d=\"M 187.107386 239.758125 \nL 190.151023 239.758125 \nL 190.151023 92.32267 \nL 187.107386 92.32267 \nz\n\" clip-path=\"url(#p807227c6e8)\" style=\"fill: #ff7f0e\"/>\n   </g>\n   <g id=\"patch_44\">\n    <path d=\"M 190.151023 239.758125 \nL 193.194659 239.758125 \nL 193.194659 83.791751 \nL 190.151023 83.791751 \nz\n\" clip-path=\"url(#p807227c6e8)\" style=\"fill: #ff7f0e\"/>\n   </g>\n   <g id=\"patch_45\">\n    <path d=\"M 193.194659 239.758125 \nL 196.238295 239.758125 \nL 196.238295 72.172716 \nL 193.194659 72.172716 \nz\n\" clip-path=\"url(#p807227c6e8)\" style=\"fill: #ff7f0e\"/>\n   </g>\n   <g id=\"patch_46\">\n    <path d=\"M 196.238295 239.758125 \nL 199.281932 239.758125 \nL 199.281932 61.849587 \nL 196.238295 61.849587 \nz\n\" clip-path=\"url(#p807227c6e8)\" style=\"fill: #ff7f0e\"/>\n   </g>\n   <g id=\"patch_47\">\n    <path d=\"M 199.281932 239.758125 \nL 202.325568 239.758125 \nL 202.325568 54.912357 \nL 199.281932 54.912357 \nz\n\" clip-path=\"url(#p807227c6e8)\" style=\"fill: #ff7f0e\"/>\n   </g>\n   <g id=\"patch_48\">\n    <path d=\"M 202.325568 239.758125 \nL 205.369205 239.758125 \nL 205.369205 46.35938 \nL 202.325568 46.35938 \nz\n\" clip-path=\"url(#p807227c6e8)\" style=\"fill: #ff7f0e\"/>\n   </g>\n   <g id=\"patch_49\">\n    <path d=\"M 205.369205 239.758125 \nL 208.412841 239.758125 \nL 208.412841 39.444207 \nL 205.369205 39.444207 \nz\n\" clip-path=\"url(#p807227c6e8)\" style=\"fill: #ff7f0e\"/>\n   </g>\n   <g id=\"patch_50\">\n    <path d=\"M 208.412841 239.758125 \nL 211.456477 239.758125 \nL 211.456477 37.18878 \nL 208.412841 37.18878 \nz\n\" clip-path=\"url(#p807227c6e8)\" style=\"fill: #ff7f0e\"/>\n   </g>\n   <g id=\"patch_51\">\n    <path d=\"M 211.456477 239.758125 \nL 214.500114 239.758125 \nL 214.500114 34.778947 \nL 211.456477 34.778947 \nz\n\" clip-path=\"url(#p807227c6e8)\" style=\"fill: #ff7f0e\"/>\n   </g>\n   <g id=\"patch_52\">\n    <path d=\"M 214.500114 239.758125 \nL 217.54375 239.758125 \nL 217.54375 32.672411 \nL 214.500114 32.672411 \nz\n\" clip-path=\"url(#p807227c6e8)\" style=\"fill: #ff7f0e\"/>\n   </g>\n   <g id=\"patch_53\">\n    <path d=\"M 217.54375 239.758125 \nL 220.587386 239.758125 \nL 220.587386 35.948019 \nL 217.54375 35.948019 \nz\n\" clip-path=\"url(#p807227c6e8)\" style=\"fill: #ff7f0e\"/>\n   </g>\n   <g id=\"patch_54\">\n    <path d=\"M 220.587386 239.758125 \nL 223.631023 239.758125 \nL 223.631023 39.863308 \nL 220.587386 39.863308 \nz\n\" clip-path=\"url(#p807227c6e8)\" style=\"fill: #ff7f0e\"/>\n   </g>\n   <g id=\"patch_55\">\n    <path d=\"M 223.631023 239.758125 \nL 226.674659 239.758125 \nL 226.674659 41.616917 \nL 223.631023 41.616917 \nz\n\" clip-path=\"url(#p807227c6e8)\" style=\"fill: #ff7f0e\"/>\n   </g>\n   <g id=\"patch_56\">\n    <path d=\"M 226.674659 239.758125 \nL 229.718295 239.758125 \nL 229.718295 49.210372 \nL 226.674659 49.210372 \nz\n\" clip-path=\"url(#p807227c6e8)\" style=\"fill: #ff7f0e\"/>\n   </g>\n   <g id=\"patch_57\">\n    <path d=\"M 229.718295 239.758125 \nL 232.761932 239.758125 \nL 232.761932 56.665965 \nL 229.718295 56.665965 \nz\n\" clip-path=\"url(#p807227c6e8)\" style=\"fill: #ff7f0e\"/>\n   </g>\n   <g id=\"patch_58\">\n    <path d=\"M 232.761932 239.758125 \nL 235.805568 239.758125 \nL 235.805568 64.711609 \nL 232.761932 64.711609 \nz\n\" clip-path=\"url(#p807227c6e8)\" style=\"fill: #ff7f0e\"/>\n   </g>\n   <g id=\"patch_59\">\n    <path d=\"M 235.805568 239.758125 \nL 238.849205 239.758125 \nL 238.849205 76.242411 \nL 235.805568 76.242411 \nz\n\" clip-path=\"url(#p807227c6e8)\" style=\"fill: #ff7f0e\"/>\n   </g>\n   <g id=\"patch_60\">\n    <path d=\"M 238.849205 239.758125 \nL 241.892841 239.758125 \nL 241.892841 86.129895 \nL 238.849205 86.129895 \nz\n\" clip-path=\"url(#p807227c6e8)\" style=\"fill: #ff7f0e\"/>\n   </g>\n   <g id=\"patch_61\">\n    <path d=\"M 241.892841 239.758125 \nL 244.936477 239.758125 \nL 244.936477 96.353763 \nL 241.892841 96.353763 \nz\n\" clip-path=\"url(#p807227c6e8)\" style=\"fill: #ff7f0e\"/>\n   </g>\n   <g id=\"patch_62\">\n    <path d=\"M 244.936477 239.758125 \nL 247.980114 239.758125 \nL 247.980114 107.01879 \nL 244.936477 107.01879 \nz\n\" clip-path=\"url(#p807227c6e8)\" style=\"fill: #ff7f0e\"/>\n   </g>\n   <g id=\"patch_63\">\n    <path d=\"M 247.980114 239.758125 \nL 251.02375 239.758125 \nL 251.02375 120.937368 \nL 247.980114 120.937368 \nz\n\" clip-path=\"url(#p807227c6e8)\" style=\"fill: #ff7f0e\"/>\n   </g>\n   <g id=\"patch_64\">\n    <path d=\"M 251.02375 239.758125 \nL 254.067386 239.758125 \nL 254.067386 131.111606 \nL 251.02375 131.111606 \nz\n\" clip-path=\"url(#p807227c6e8)\" style=\"fill: #ff7f0e\"/>\n   </g>\n   <g id=\"patch_65\">\n    <path d=\"M 254.067386 239.758125 \nL 257.111023 239.758125 \nL 257.111023 142.675495 \nL 254.067386 142.675495 \nz\n\" clip-path=\"url(#p807227c6e8)\" style=\"fill: #ff7f0e\"/>\n   </g>\n   <g id=\"patch_66\">\n    <path d=\"M 257.111023 239.758125 \nL 260.154659 239.758125 \nL 260.154659 154.56474 \nL 257.111023 154.56474 \nz\n\" clip-path=\"url(#p807227c6e8)\" style=\"fill: #ff7f0e\"/>\n   </g>\n   <g id=\"patch_67\">\n    <path d=\"M 260.154659 239.758125 \nL 263.198295 239.758125 \nL 263.198295 164.799637 \nL 260.154659 164.799637 \nz\n\" clip-path=\"url(#p807227c6e8)\" style=\"fill: #ff7f0e\"/>\n   </g>\n   <g id=\"patch_68\">\n    <path d=\"M 263.198295 239.758125 \nL 266.241932 239.758125 \nL 266.241932 174.328679 \nL 263.198295 174.328679 \nz\n\" clip-path=\"url(#p807227c6e8)\" style=\"fill: #ff7f0e\"/>\n   </g>\n   <g id=\"patch_69\">\n    <path d=\"M 266.241932 239.758125 \nL 269.285568 239.758125 \nL 269.285568 182.991945 \nL 266.241932 182.991945 \nz\n\" clip-path=\"url(#p807227c6e8)\" style=\"fill: #ff7f0e\"/>\n   </g>\n   <g id=\"patch_70\">\n    <path d=\"M 269.285568 239.758125 \nL 272.329205 239.758125 \nL 272.329205 190.690176 \nL 269.285568 190.690176 \nz\n\" clip-path=\"url(#p807227c6e8)\" style=\"fill: #ff7f0e\"/>\n   </g>\n   <g id=\"patch_71\">\n    <path d=\"M 272.329205 239.758125 \nL 275.372841 239.758125 \nL 275.372841 198.713762 \nL 272.329205 198.713762 \nz\n\" clip-path=\"url(#p807227c6e8)\" style=\"fill: #ff7f0e\"/>\n   </g>\n   <g id=\"patch_72\">\n    <path d=\"M 275.372841 239.758125 \nL 278.416477 239.758125 \nL 278.416477 205.165717 \nL 275.372841 205.165717 \nz\n\" clip-path=\"url(#p807227c6e8)\" style=\"fill: #ff7f0e\"/>\n   </g>\n   <g id=\"patch_73\">\n    <path d=\"M 278.416477 239.758125 \nL 281.460114 239.758125 \nL 281.460114 211.237173 \nL 278.416477 211.237173 \nz\n\" clip-path=\"url(#p807227c6e8)\" style=\"fill: #ff7f0e\"/>\n   </g>\n   <g id=\"patch_74\">\n    <path d=\"M 281.460114 239.758125 \nL 284.50375 239.758125 \nL 284.50375 216.277418 \nL 281.460114 216.277418 \nz\n\" clip-path=\"url(#p807227c6e8)\" style=\"fill: #ff7f0e\"/>\n   </g>\n   <g id=\"patch_75\">\n    <path d=\"M 284.50375 239.758125 \nL 287.547386 239.758125 \nL 287.547386 220.253367 \nL 284.50375 220.253367 \nz\n\" clip-path=\"url(#p807227c6e8)\" style=\"fill: #ff7f0e\"/>\n   </g>\n   <g id=\"patch_76\">\n    <path d=\"M 287.547386 239.758125 \nL 290.591023 239.758125 \nL 290.591023 224.107997 \nL 287.547386 224.107997 \nz\n\" clip-path=\"url(#p807227c6e8)\" style=\"fill: #ff7f0e\"/>\n   </g>\n   <g id=\"patch_77\">\n    <path d=\"M 290.591023 239.758125 \nL 293.634659 239.758125 \nL 293.634659 227.229199 \nL 290.591023 227.229199 \nz\n\" clip-path=\"url(#p807227c6e8)\" style=\"fill: #ff7f0e\"/>\n   </g>\n   <g id=\"patch_78\">\n    <path d=\"M 293.634659 239.758125 \nL 296.678295 239.758125 \nL 296.678295 229.473598 \nL 293.634659 229.473598 \nz\n\" clip-path=\"url(#p807227c6e8)\" style=\"fill: #ff7f0e\"/>\n   </g>\n   <g id=\"patch_79\">\n    <path d=\"M 296.678295 239.758125 \nL 299.721932 239.758125 \nL 299.721932 231.916518 \nL 296.678295 231.916518 \nz\n\" clip-path=\"url(#p807227c6e8)\" style=\"fill: #ff7f0e\"/>\n   </g>\n   <g id=\"patch_80\">\n    <path d=\"M 299.721932 239.758125 \nL 302.765568 239.758125 \nL 302.765568 233.333742 \nL 299.721932 233.333742 \nz\n\" clip-path=\"url(#p807227c6e8)\" style=\"fill: #ff7f0e\"/>\n   </g>\n   <g id=\"patch_81\">\n    <path d=\"M 302.765568 239.758125 \nL 305.809205 239.758125 \nL 305.809205 234.734423 \nL 302.765568 234.734423 \nz\n\" clip-path=\"url(#p807227c6e8)\" style=\"fill: #ff7f0e\"/>\n   </g>\n   <g id=\"patch_82\">\n    <path d=\"M 305.809205 239.758125 \nL 308.852841 239.758125 \nL 308.852841 236.030328 \nL 305.809205 236.030328 \nz\n\" clip-path=\"url(#p807227c6e8)\" style=\"fill: #ff7f0e\"/>\n   </g>\n   <g id=\"patch_83\">\n    <path d=\"M 308.852841 239.758125 \nL 311.896477 239.758125 \nL 311.896477 237.044995 \nL 308.852841 237.044995 \nz\n\" clip-path=\"url(#p807227c6e8)\" style=\"fill: #ff7f0e\"/>\n   </g>\n   <g id=\"patch_84\">\n    <path d=\"M 311.896477 239.758125 \nL 314.940114 239.758125 \nL 314.940114 237.657104 \nL 311.896477 237.657104 \nz\n\" clip-path=\"url(#p807227c6e8)\" style=\"fill: #ff7f0e\"/>\n   </g>\n   <g id=\"patch_85\">\n    <path d=\"M 314.940114 239.758125 \nL 317.98375 239.758125 \nL 317.98375 238.076205 \nL 314.940114 238.076205 \nz\n\" clip-path=\"url(#p807227c6e8)\" style=\"fill: #ff7f0e\"/>\n   </g>\n   <g id=\"patch_86\">\n    <path d=\"M 317.98375 239.758125 \nL 321.027386 239.758125 \nL 321.027386 238.583538 \nL 317.98375 238.583538 \nz\n\" clip-path=\"url(#p807227c6e8)\" style=\"fill: #ff7f0e\"/>\n   </g>\n   <g id=\"patch_87\">\n    <path d=\"M 321.027386 239.758125 \nL 324.071023 239.758125 \nL 324.071023 238.776545 \nL 321.027386 238.776545 \nz\n\" clip-path=\"url(#p807227c6e8)\" style=\"fill: #ff7f0e\"/>\n   </g>\n   <g id=\"patch_88\">\n    <path d=\"M 324.071023 239.758125 \nL 327.114659 239.758125 \nL 327.114659 239.134987 \nL 324.071023 239.134987 \nz\n\" clip-path=\"url(#p807227c6e8)\" style=\"fill: #ff7f0e\"/>\n   </g>\n   <g id=\"patch_89\">\n    <path d=\"M 327.114659 239.758125 \nL 330.158295 239.758125 \nL 330.158295 239.32248 \nL 327.114659 239.32248 \nz\n\" clip-path=\"url(#p807227c6e8)\" style=\"fill: #ff7f0e\"/>\n   </g>\n   <g id=\"patch_90\">\n    <path d=\"M 330.158295 239.758125 \nL 333.201932 239.758125 \nL 333.201932 239.427255 \nL 330.158295 239.427255 \nz\n\" clip-path=\"url(#p807227c6e8)\" style=\"fill: #ff7f0e\"/>\n   </g>\n   <g id=\"patch_91\">\n    <path d=\"M 333.201932 239.758125 \nL 336.245568 239.758125 \nL 336.245568 239.465857 \nL 333.201932 239.465857 \nz\n\" clip-path=\"url(#p807227c6e8)\" style=\"fill: #ff7f0e\"/>\n   </g>\n   <g id=\"patch_92\">\n    <path d=\"M 336.245568 239.758125 \nL 339.289205 239.758125 \nL 339.289205 239.620263 \nL 336.245568 239.620263 \nz\n\" clip-path=\"url(#p807227c6e8)\" style=\"fill: #ff7f0e\"/>\n   </g>\n   <g id=\"patch_93\">\n    <path d=\"M 339.289205 239.758125 \nL 342.332841 239.758125 \nL 342.332841 239.647835 \nL 339.289205 239.647835 \nz\n\" clip-path=\"url(#p807227c6e8)\" style=\"fill: #ff7f0e\"/>\n   </g>\n   <g id=\"patch_94\">\n    <path d=\"M 342.332841 239.758125 \nL 345.376477 239.758125 \nL 345.376477 239.658864 \nL 342.332841 239.658864 \nz\n\" clip-path=\"url(#p807227c6e8)\" style=\"fill: #ff7f0e\"/>\n   </g>\n   <g id=\"patch_95\">\n    <path d=\"M 345.376477 239.758125 \nL 348.420114 239.758125 \nL 348.420114 239.714009 \nL 345.376477 239.714009 \nz\n\" clip-path=\"url(#p807227c6e8)\" style=\"fill: #ff7f0e\"/>\n   </g>\n   <g id=\"patch_96\">\n    <path d=\"M 348.420114 239.758125 \nL 351.46375 239.758125 \nL 351.46375 239.725038 \nL 348.420114 239.725038 \nz\n\" clip-path=\"url(#p807227c6e8)\" style=\"fill: #ff7f0e\"/>\n   </g>\n   <g id=\"patch_97\">\n    <path d=\"M 351.46375 239.758125 \nL 354.507386 239.758125 \nL 354.507386 239.736067 \nL 351.46375 239.736067 \nz\n\" clip-path=\"url(#p807227c6e8)\" style=\"fill: #ff7f0e\"/>\n   </g>\n   <g id=\"patch_98\">\n    <path d=\"M 354.507386 239.758125 \nL 357.551023 239.758125 \nL 357.551023 239.752611 \nL 354.507386 239.752611 \nz\n\" clip-path=\"url(#p807227c6e8)\" style=\"fill: #ff7f0e\"/>\n   </g>\n   <g id=\"patch_99\">\n    <path d=\"M 357.551023 239.758125 \nL 360.594659 239.758125 \nL 360.594659 239.747096 \nL 357.551023 239.747096 \nz\n\" clip-path=\"url(#p807227c6e8)\" style=\"fill: #ff7f0e\"/>\n   </g>\n   <g id=\"patch_100\">\n    <path d=\"M 360.594659 239.758125 \nL 363.638295 239.758125 \nL 363.638295 239.758125 \nL 360.594659 239.758125 \nz\n\" clip-path=\"url(#p807227c6e8)\" style=\"fill: #ff7f0e\"/>\n   </g>\n   <g id=\"patch_101\">\n    <path d=\"M 363.638295 239.758125 \nL 366.681932 239.758125 \nL 366.681932 239.758125 \nL 363.638295 239.758125 \nz\n\" clip-path=\"url(#p807227c6e8)\" style=\"fill: #ff7f0e\"/>\n   </g>\n   <g id=\"patch_102\">\n    <path d=\"M 366.681932 239.758125 \nL 369.725568 239.758125 \nL 369.725568 239.747096 \nL 366.681932 239.747096 \nz\n\" clip-path=\"url(#p807227c6e8)\" style=\"fill: #ff7f0e\"/>\n   </g>\n   <g id=\"matplotlib.axis_1\">\n    <g id=\"xtick_1\">\n     <g id=\"line2d_1\">\n      <defs>\n       <path id=\"mb35e25f3c9\" d=\"M 0 0 \nL 0 3.5 \n\" style=\"stroke: #000000; stroke-width: 0.8\"/>\n      </defs>\n      <g>\n       <use xlink:href=\"#mb35e25f3c9\" x=\"85.748198\" y=\"239.758125\" style=\"stroke: #000000; stroke-width: 0.8\"/>\n      </g>\n     </g>\n     <g id=\"text_1\">\n      <!-- −4 -->\n      <g transform=\"translate(78.377104 254.356562)scale(0.1 -0.1)\">\n       <defs>\n        <path id=\"DejaVuSans-2212\" d=\"M 678 2272 \nL 4684 2272 \nL 4684 1741 \nL 678 1741 \nL 678 2272 \nz\n\" transform=\"scale(0.015625)\"/>\n        <path id=\"DejaVuSans-34\" d=\"M 2419 4116 \nL 825 1625 \nL 2419 1625 \nL 2419 4116 \nz\nM 2253 4666 \nL 3047 4666 \nL 3047 1625 \nL 3713 1625 \nL 3713 1100 \nL 3047 1100 \nL 3047 0 \nL 2419 0 \nL 2419 1100 \nL 313 1100 \nL 313 1709 \nL 2253 4666 \nz\n\" transform=\"scale(0.015625)\"/>\n       </defs>\n       <use xlink:href=\"#DejaVuSans-2212\"/>\n       <use xlink:href=\"#DejaVuSans-34\" x=\"83.789062\"/>\n      </g>\n     </g>\n    </g>\n    <g id=\"xtick_2\">\n     <g id=\"line2d_2\">\n      <g>\n       <use xlink:href=\"#mb35e25f3c9\" x=\"150.622972\" y=\"239.758125\" style=\"stroke: #000000; stroke-width: 0.8\"/>\n      </g>\n     </g>\n     <g id=\"text_2\">\n      <!-- −2 -->\n      <g transform=\"translate(143.251879 254.356562)scale(0.1 -0.1)\">\n       <defs>\n        <path id=\"DejaVuSans-32\" d=\"M 1228 531 \nL 3431 531 \nL 3431 0 \nL 469 0 \nL 469 531 \nQ 828 903 1448 1529 \nQ 2069 2156 2228 2338 \nQ 2531 2678 2651 2914 \nQ 2772 3150 2772 3378 \nQ 2772 3750 2511 3984 \nQ 2250 4219 1831 4219 \nQ 1534 4219 1204 4116 \nQ 875 4013 500 3803 \nL 500 4441 \nQ 881 4594 1212 4672 \nQ 1544 4750 1819 4750 \nQ 2544 4750 2975 4387 \nQ 3406 4025 3406 3419 \nQ 3406 3131 3298 2873 \nQ 3191 2616 2906 2266 \nQ 2828 2175 2409 1742 \nQ 1991 1309 1228 531 \nz\n\" transform=\"scale(0.015625)\"/>\n       </defs>\n       <use xlink:href=\"#DejaVuSans-2212\"/>\n       <use xlink:href=\"#DejaVuSans-32\" x=\"83.789062\"/>\n      </g>\n     </g>\n    </g>\n    <g id=\"xtick_3\">\n     <g id=\"line2d_3\">\n      <g>\n       <use xlink:href=\"#mb35e25f3c9\" x=\"215.497747\" y=\"239.758125\" style=\"stroke: #000000; stroke-width: 0.8\"/>\n      </g>\n     </g>\n     <g id=\"text_3\">\n      <!-- 0 -->\n      <g transform=\"translate(212.316497 254.356562)scale(0.1 -0.1)\">\n       <defs>\n        <path id=\"DejaVuSans-30\" d=\"M 2034 4250 \nQ 1547 4250 1301 3770 \nQ 1056 3291 1056 2328 \nQ 1056 1369 1301 889 \nQ 1547 409 2034 409 \nQ 2525 409 2770 889 \nQ 3016 1369 3016 2328 \nQ 3016 3291 2770 3770 \nQ 2525 4250 2034 4250 \nz\nM 2034 4750 \nQ 2819 4750 3233 4129 \nQ 3647 3509 3647 2328 \nQ 3647 1150 3233 529 \nQ 2819 -91 2034 -91 \nQ 1250 -91 836 529 \nQ 422 1150 422 2328 \nQ 422 3509 836 4129 \nQ 1250 4750 2034 4750 \nz\n\" transform=\"scale(0.015625)\"/>\n       </defs>\n       <use xlink:href=\"#DejaVuSans-30\"/>\n      </g>\n     </g>\n    </g>\n    <g id=\"xtick_4\">\n     <g id=\"line2d_4\">\n      <g>\n       <use xlink:href=\"#mb35e25f3c9\" x=\"280.372521\" y=\"239.758125\" style=\"stroke: #000000; stroke-width: 0.8\"/>\n      </g>\n     </g>\n     <g id=\"text_4\">\n      <!-- 2 -->\n      <g transform=\"translate(277.191271 254.356562)scale(0.1 -0.1)\">\n       <use xlink:href=\"#DejaVuSans-32\"/>\n      </g>\n     </g>\n    </g>\n    <g id=\"xtick_5\">\n     <g id=\"line2d_5\">\n      <g>\n       <use xlink:href=\"#mb35e25f3c9\" x=\"345.247295\" y=\"239.758125\" style=\"stroke: #000000; stroke-width: 0.8\"/>\n      </g>\n     </g>\n     <g id=\"text_5\">\n      <!-- 4 -->\n      <g transform=\"translate(342.066045 254.356562)scale(0.1 -0.1)\">\n       <use xlink:href=\"#DejaVuSans-34\"/>\n      </g>\n     </g>\n    </g>\n    <g id=\"text_6\">\n     <!-- temperature -->\n     <g transform=\"translate(186.117969 268.034687)scale(0.1 -0.1)\">\n      <defs>\n       <path id=\"DejaVuSans-74\" d=\"M 1172 4494 \nL 1172 3500 \nL 2356 3500 \nL 2356 3053 \nL 1172 3053 \nL 1172 1153 \nQ 1172 725 1289 603 \nQ 1406 481 1766 481 \nL 2356 481 \nL 2356 0 \nL 1766 0 \nQ 1100 0 847 248 \nQ 594 497 594 1153 \nL 594 3053 \nL 172 3053 \nL 172 3500 \nL 594 3500 \nL 594 4494 \nL 1172 4494 \nz\n\" transform=\"scale(0.015625)\"/>\n       <path id=\"DejaVuSans-65\" d=\"M 3597 1894 \nL 3597 1613 \nL 953 1613 \nQ 991 1019 1311 708 \nQ 1631 397 2203 397 \nQ 2534 397 2845 478 \nQ 3156 559 3463 722 \nL 3463 178 \nQ 3153 47 2828 -22 \nQ 2503 -91 2169 -91 \nQ 1331 -91 842 396 \nQ 353 884 353 1716 \nQ 353 2575 817 3079 \nQ 1281 3584 2069 3584 \nQ 2775 3584 3186 3129 \nQ 3597 2675 3597 1894 \nz\nM 3022 2063 \nQ 3016 2534 2758 2815 \nQ 2500 3097 2075 3097 \nQ 1594 3097 1305 2825 \nQ 1016 2553 972 2059 \nL 3022 2063 \nz\n\" transform=\"scale(0.015625)\"/>\n       <path id=\"DejaVuSans-6d\" d=\"M 3328 2828 \nQ 3544 3216 3844 3400 \nQ 4144 3584 4550 3584 \nQ 5097 3584 5394 3201 \nQ 5691 2819 5691 2113 \nL 5691 0 \nL 5113 0 \nL 5113 2094 \nQ 5113 2597 4934 2840 \nQ 4756 3084 4391 3084 \nQ 3944 3084 3684 2787 \nQ 3425 2491 3425 1978 \nL 3425 0 \nL 2847 0 \nL 2847 2094 \nQ 2847 2600 2669 2842 \nQ 2491 3084 2119 3084 \nQ 1678 3084 1418 2786 \nQ 1159 2488 1159 1978 \nL 1159 0 \nL 581 0 \nL 581 3500 \nL 1159 3500 \nL 1159 2956 \nQ 1356 3278 1631 3431 \nQ 1906 3584 2284 3584 \nQ 2666 3584 2933 3390 \nQ 3200 3197 3328 2828 \nz\n\" transform=\"scale(0.015625)\"/>\n       <path id=\"DejaVuSans-70\" d=\"M 1159 525 \nL 1159 -1331 \nL 581 -1331 \nL 581 3500 \nL 1159 3500 \nL 1159 2969 \nQ 1341 3281 1617 3432 \nQ 1894 3584 2278 3584 \nQ 2916 3584 3314 3078 \nQ 3713 2572 3713 1747 \nQ 3713 922 3314 415 \nQ 2916 -91 2278 -91 \nQ 1894 -91 1617 61 \nQ 1341 213 1159 525 \nz\nM 3116 1747 \nQ 3116 2381 2855 2742 \nQ 2594 3103 2138 3103 \nQ 1681 3103 1420 2742 \nQ 1159 2381 1159 1747 \nQ 1159 1113 1420 752 \nQ 1681 391 2138 391 \nQ 2594 391 2855 752 \nQ 3116 1113 3116 1747 \nz\n\" transform=\"scale(0.015625)\"/>\n       <path id=\"DejaVuSans-72\" d=\"M 2631 2963 \nQ 2534 3019 2420 3045 \nQ 2306 3072 2169 3072 \nQ 1681 3072 1420 2755 \nQ 1159 2438 1159 1844 \nL 1159 0 \nL 581 0 \nL 581 3500 \nL 1159 3500 \nL 1159 2956 \nQ 1341 3275 1631 3429 \nQ 1922 3584 2338 3584 \nQ 2397 3584 2469 3576 \nQ 2541 3569 2628 3553 \nL 2631 2963 \nz\n\" transform=\"scale(0.015625)\"/>\n       <path id=\"DejaVuSans-61\" d=\"M 2194 1759 \nQ 1497 1759 1228 1600 \nQ 959 1441 959 1056 \nQ 959 750 1161 570 \nQ 1363 391 1709 391 \nQ 2188 391 2477 730 \nQ 2766 1069 2766 1631 \nL 2766 1759 \nL 2194 1759 \nz\nM 3341 1997 \nL 3341 0 \nL 2766 0 \nL 2766 531 \nQ 2569 213 2275 61 \nQ 1981 -91 1556 -91 \nQ 1019 -91 701 211 \nQ 384 513 384 1019 \nQ 384 1609 779 1909 \nQ 1175 2209 1959 2209 \nL 2766 2209 \nL 2766 2266 \nQ 2766 2663 2505 2880 \nQ 2244 3097 1772 3097 \nQ 1472 3097 1187 3025 \nQ 903 2953 641 2809 \nL 641 3341 \nQ 956 3463 1253 3523 \nQ 1550 3584 1831 3584 \nQ 2591 3584 2966 3190 \nQ 3341 2797 3341 1997 \nz\n\" transform=\"scale(0.015625)\"/>\n       <path id=\"DejaVuSans-75\" d=\"M 544 1381 \nL 544 3500 \nL 1119 3500 \nL 1119 1403 \nQ 1119 906 1312 657 \nQ 1506 409 1894 409 \nQ 2359 409 2629 706 \nQ 2900 1003 2900 1516 \nL 2900 3500 \nL 3475 3500 \nL 3475 0 \nL 2900 0 \nL 2900 538 \nQ 2691 219 2414 64 \nQ 2138 -91 1772 -91 \nQ 1169 -91 856 284 \nQ 544 659 544 1381 \nz\nM 1991 3584 \nL 1991 3584 \nz\n\" transform=\"scale(0.015625)\"/>\n      </defs>\n      <use xlink:href=\"#DejaVuSans-74\"/>\n      <use xlink:href=\"#DejaVuSans-65\" x=\"39.208984\"/>\n      <use xlink:href=\"#DejaVuSans-6d\" x=\"100.732422\"/>\n      <use xlink:href=\"#DejaVuSans-70\" x=\"198.144531\"/>\n      <use xlink:href=\"#DejaVuSans-65\" x=\"261.621094\"/>\n      <use xlink:href=\"#DejaVuSans-72\" x=\"323.144531\"/>\n      <use xlink:href=\"#DejaVuSans-61\" x=\"364.257812\"/>\n      <use xlink:href=\"#DejaVuSans-74\" x=\"425.537109\"/>\n      <use xlink:href=\"#DejaVuSans-75\" x=\"464.746094\"/>\n      <use xlink:href=\"#DejaVuSans-72\" x=\"528.125\"/>\n      <use xlink:href=\"#DejaVuSans-65\" x=\"566.988281\"/>\n     </g>\n    </g>\n   </g>\n   <g id=\"matplotlib.axis_2\">\n    <g id=\"ytick_1\">\n     <g id=\"line2d_6\">\n      <defs>\n       <path id=\"mf3952ae140\" d=\"M 0 0 \nL -3.5 0 \n\" style=\"stroke: #000000; stroke-width: 0.8\"/>\n      </defs>\n      <g>\n       <use xlink:href=\"#mf3952ae140\" x=\"50.14375\" y=\"239.758125\" style=\"stroke: #000000; stroke-width: 0.8\"/>\n      </g>\n     </g>\n     <g id=\"text_7\">\n      <!-- 0.00 -->\n      <g transform=\"translate(20.878125 243.557344)scale(0.1 -0.1)\">\n       <defs>\n        <path id=\"DejaVuSans-2e\" d=\"M 684 794 \nL 1344 794 \nL 1344 0 \nL 684 0 \nL 684 794 \nz\n\" transform=\"scale(0.015625)\"/>\n       </defs>\n       <use xlink:href=\"#DejaVuSans-30\"/>\n       <use xlink:href=\"#DejaVuSans-2e\" x=\"63.623047\"/>\n       <use xlink:href=\"#DejaVuSans-30\" x=\"95.410156\"/>\n       <use xlink:href=\"#DejaVuSans-30\" x=\"159.033203\"/>\n      </g>\n     </g>\n    </g>\n    <g id=\"ytick_2\">\n     <g id=\"line2d_7\">\n      <g>\n       <use xlink:href=\"#mf3952ae140\" x=\"50.14375\" y=\"213.886577\" style=\"stroke: #000000; stroke-width: 0.8\"/>\n      </g>\n     </g>\n     <g id=\"text_8\">\n      <!-- 0.05 -->\n      <g transform=\"translate(20.878125 217.685796)scale(0.1 -0.1)\">\n       <defs>\n        <path id=\"DejaVuSans-35\" d=\"M 691 4666 \nL 3169 4666 \nL 3169 4134 \nL 1269 4134 \nL 1269 2991 \nQ 1406 3038 1543 3061 \nQ 1681 3084 1819 3084 \nQ 2600 3084 3056 2656 \nQ 3513 2228 3513 1497 \nQ 3513 744 3044 326 \nQ 2575 -91 1722 -91 \nQ 1428 -91 1123 -41 \nQ 819 9 494 109 \nL 494 744 \nQ 775 591 1075 516 \nQ 1375 441 1709 441 \nQ 2250 441 2565 725 \nQ 2881 1009 2881 1497 \nQ 2881 1984 2565 2268 \nQ 2250 2553 1709 2553 \nQ 1456 2553 1204 2497 \nQ 953 2441 691 2322 \nL 691 4666 \nz\n\" transform=\"scale(0.015625)\"/>\n       </defs>\n       <use xlink:href=\"#DejaVuSans-30\"/>\n       <use xlink:href=\"#DejaVuSans-2e\" x=\"63.623047\"/>\n       <use xlink:href=\"#DejaVuSans-30\" x=\"95.410156\"/>\n       <use xlink:href=\"#DejaVuSans-35\" x=\"159.033203\"/>\n      </g>\n     </g>\n    </g>\n    <g id=\"ytick_3\">\n     <g id=\"line2d_8\">\n      <g>\n       <use xlink:href=\"#mf3952ae140\" x=\"50.14375\" y=\"188.01503\" style=\"stroke: #000000; stroke-width: 0.8\"/>\n      </g>\n     </g>\n     <g id=\"text_9\">\n      <!-- 0.10 -->\n      <g transform=\"translate(20.878125 191.814249)scale(0.1 -0.1)\">\n       <defs>\n        <path id=\"DejaVuSans-31\" d=\"M 794 531 \nL 1825 531 \nL 1825 4091 \nL 703 3866 \nL 703 4441 \nL 1819 4666 \nL 2450 4666 \nL 2450 531 \nL 3481 531 \nL 3481 0 \nL 794 0 \nL 794 531 \nz\n\" transform=\"scale(0.015625)\"/>\n       </defs>\n       <use xlink:href=\"#DejaVuSans-30\"/>\n       <use xlink:href=\"#DejaVuSans-2e\" x=\"63.623047\"/>\n       <use xlink:href=\"#DejaVuSans-31\" x=\"95.410156\"/>\n       <use xlink:href=\"#DejaVuSans-30\" x=\"159.033203\"/>\n      </g>\n     </g>\n    </g>\n    <g id=\"ytick_4\">\n     <g id=\"line2d_9\">\n      <g>\n       <use xlink:href=\"#mf3952ae140\" x=\"50.14375\" y=\"162.143482\" style=\"stroke: #000000; stroke-width: 0.8\"/>\n      </g>\n     </g>\n     <g id=\"text_10\">\n      <!-- 0.15 -->\n      <g transform=\"translate(20.878125 165.942701)scale(0.1 -0.1)\">\n       <use xlink:href=\"#DejaVuSans-30\"/>\n       <use xlink:href=\"#DejaVuSans-2e\" x=\"63.623047\"/>\n       <use xlink:href=\"#DejaVuSans-31\" x=\"95.410156\"/>\n       <use xlink:href=\"#DejaVuSans-35\" x=\"159.033203\"/>\n      </g>\n     </g>\n    </g>\n    <g id=\"ytick_5\">\n     <g id=\"line2d_10\">\n      <g>\n       <use xlink:href=\"#mf3952ae140\" x=\"50.14375\" y=\"136.271935\" style=\"stroke: #000000; stroke-width: 0.8\"/>\n      </g>\n     </g>\n     <g id=\"text_11\">\n      <!-- 0.20 -->\n      <g transform=\"translate(20.878125 140.071154)scale(0.1 -0.1)\">\n       <use xlink:href=\"#DejaVuSans-30\"/>\n       <use xlink:href=\"#DejaVuSans-2e\" x=\"63.623047\"/>\n       <use xlink:href=\"#DejaVuSans-32\" x=\"95.410156\"/>\n       <use xlink:href=\"#DejaVuSans-30\" x=\"159.033203\"/>\n      </g>\n     </g>\n    </g>\n    <g id=\"ytick_6\">\n     <g id=\"line2d_11\">\n      <g>\n       <use xlink:href=\"#mf3952ae140\" x=\"50.14375\" y=\"110.400387\" style=\"stroke: #000000; stroke-width: 0.8\"/>\n      </g>\n     </g>\n     <g id=\"text_12\">\n      <!-- 0.25 -->\n      <g transform=\"translate(20.878125 114.199606)scale(0.1 -0.1)\">\n       <use xlink:href=\"#DejaVuSans-30\"/>\n       <use xlink:href=\"#DejaVuSans-2e\" x=\"63.623047\"/>\n       <use xlink:href=\"#DejaVuSans-32\" x=\"95.410156\"/>\n       <use xlink:href=\"#DejaVuSans-35\" x=\"159.033203\"/>\n      </g>\n     </g>\n    </g>\n    <g id=\"ytick_7\">\n     <g id=\"line2d_12\">\n      <g>\n       <use xlink:href=\"#mf3952ae140\" x=\"50.14375\" y=\"84.52884\" style=\"stroke: #000000; stroke-width: 0.8\"/>\n      </g>\n     </g>\n     <g id=\"text_13\">\n      <!-- 0.30 -->\n      <g transform=\"translate(20.878125 88.328059)scale(0.1 -0.1)\">\n       <defs>\n        <path id=\"DejaVuSans-33\" d=\"M 2597 2516 \nQ 3050 2419 3304 2112 \nQ 3559 1806 3559 1356 \nQ 3559 666 3084 287 \nQ 2609 -91 1734 -91 \nQ 1441 -91 1130 -33 \nQ 819 25 488 141 \nL 488 750 \nQ 750 597 1062 519 \nQ 1375 441 1716 441 \nQ 2309 441 2620 675 \nQ 2931 909 2931 1356 \nQ 2931 1769 2642 2001 \nQ 2353 2234 1838 2234 \nL 1294 2234 \nL 1294 2753 \nL 1863 2753 \nQ 2328 2753 2575 2939 \nQ 2822 3125 2822 3475 \nQ 2822 3834 2567 4026 \nQ 2313 4219 1838 4219 \nQ 1578 4219 1281 4162 \nQ 984 4106 628 3988 \nL 628 4550 \nQ 988 4650 1302 4700 \nQ 1616 4750 1894 4750 \nQ 2613 4750 3031 4423 \nQ 3450 4097 3450 3541 \nQ 3450 3153 3228 2886 \nQ 3006 2619 2597 2516 \nz\n\" transform=\"scale(0.015625)\"/>\n       </defs>\n       <use xlink:href=\"#DejaVuSans-30\"/>\n       <use xlink:href=\"#DejaVuSans-2e\" x=\"63.623047\"/>\n       <use xlink:href=\"#DejaVuSans-33\" x=\"95.410156\"/>\n       <use xlink:href=\"#DejaVuSans-30\" x=\"159.033203\"/>\n      </g>\n     </g>\n    </g>\n    <g id=\"ytick_8\">\n     <g id=\"line2d_13\">\n      <g>\n       <use xlink:href=\"#mf3952ae140\" x=\"50.14375\" y=\"58.657292\" style=\"stroke: #000000; stroke-width: 0.8\"/>\n      </g>\n     </g>\n     <g id=\"text_14\">\n      <!-- 0.35 -->\n      <g transform=\"translate(20.878125 62.456511)scale(0.1 -0.1)\">\n       <use xlink:href=\"#DejaVuSans-30\"/>\n       <use xlink:href=\"#DejaVuSans-2e\" x=\"63.623047\"/>\n       <use xlink:href=\"#DejaVuSans-33\" x=\"95.410156\"/>\n       <use xlink:href=\"#DejaVuSans-35\" x=\"159.033203\"/>\n      </g>\n     </g>\n    </g>\n    <g id=\"ytick_9\">\n     <g id=\"line2d_14\">\n      <g>\n       <use xlink:href=\"#mf3952ae140\" x=\"50.14375\" y=\"32.785745\" style=\"stroke: #000000; stroke-width: 0.8\"/>\n      </g>\n     </g>\n     <g id=\"text_15\">\n      <!-- 0.40 -->\n      <g transform=\"translate(20.878125 36.584964)scale(0.1 -0.1)\">\n       <use xlink:href=\"#DejaVuSans-30\"/>\n       <use xlink:href=\"#DejaVuSans-2e\" x=\"63.623047\"/>\n       <use xlink:href=\"#DejaVuSans-34\" x=\"95.410156\"/>\n       <use xlink:href=\"#DejaVuSans-30\" x=\"159.033203\"/>\n      </g>\n     </g>\n    </g>\n    <g id=\"text_16\">\n     <!-- probability -->\n     <g transform=\"translate(14.798438 157.713906)rotate(-90)scale(0.1 -0.1)\">\n      <defs>\n       <path id=\"DejaVuSans-6f\" d=\"M 1959 3097 \nQ 1497 3097 1228 2736 \nQ 959 2375 959 1747 \nQ 959 1119 1226 758 \nQ 1494 397 1959 397 \nQ 2419 397 2687 759 \nQ 2956 1122 2956 1747 \nQ 2956 2369 2687 2733 \nQ 2419 3097 1959 3097 \nz\nM 1959 3584 \nQ 2709 3584 3137 3096 \nQ 3566 2609 3566 1747 \nQ 3566 888 3137 398 \nQ 2709 -91 1959 -91 \nQ 1206 -91 779 398 \nQ 353 888 353 1747 \nQ 353 2609 779 3096 \nQ 1206 3584 1959 3584 \nz\n\" transform=\"scale(0.015625)\"/>\n       <path id=\"DejaVuSans-62\" d=\"M 3116 1747 \nQ 3116 2381 2855 2742 \nQ 2594 3103 2138 3103 \nQ 1681 3103 1420 2742 \nQ 1159 2381 1159 1747 \nQ 1159 1113 1420 752 \nQ 1681 391 2138 391 \nQ 2594 391 2855 752 \nQ 3116 1113 3116 1747 \nz\nM 1159 2969 \nQ 1341 3281 1617 3432 \nQ 1894 3584 2278 3584 \nQ 2916 3584 3314 3078 \nQ 3713 2572 3713 1747 \nQ 3713 922 3314 415 \nQ 2916 -91 2278 -91 \nQ 1894 -91 1617 61 \nQ 1341 213 1159 525 \nL 1159 0 \nL 581 0 \nL 581 4863 \nL 1159 4863 \nL 1159 2969 \nz\n\" transform=\"scale(0.015625)\"/>\n       <path id=\"DejaVuSans-69\" d=\"M 603 3500 \nL 1178 3500 \nL 1178 0 \nL 603 0 \nL 603 3500 \nz\nM 603 4863 \nL 1178 4863 \nL 1178 4134 \nL 603 4134 \nL 603 4863 \nz\n\" transform=\"scale(0.015625)\"/>\n       <path id=\"DejaVuSans-6c\" d=\"M 603 4863 \nL 1178 4863 \nL 1178 0 \nL 603 0 \nL 603 4863 \nz\n\" transform=\"scale(0.015625)\"/>\n       <path id=\"DejaVuSans-79\" d=\"M 2059 -325 \nQ 1816 -950 1584 -1140 \nQ 1353 -1331 966 -1331 \nL 506 -1331 \nL 506 -850 \nL 844 -850 \nQ 1081 -850 1212 -737 \nQ 1344 -625 1503 -206 \nL 1606 56 \nL 191 3500 \nL 800 3500 \nL 1894 763 \nL 2988 3500 \nL 3597 3500 \nL 2059 -325 \nz\n\" transform=\"scale(0.015625)\"/>\n      </defs>\n      <use xlink:href=\"#DejaVuSans-70\"/>\n      <use xlink:href=\"#DejaVuSans-72\" x=\"63.476562\"/>\n      <use xlink:href=\"#DejaVuSans-6f\" x=\"102.339844\"/>\n      <use xlink:href=\"#DejaVuSans-62\" x=\"163.521484\"/>\n      <use xlink:href=\"#DejaVuSans-61\" x=\"226.998047\"/>\n      <use xlink:href=\"#DejaVuSans-62\" x=\"288.277344\"/>\n      <use xlink:href=\"#DejaVuSans-69\" x=\"351.753906\"/>\n      <use xlink:href=\"#DejaVuSans-6c\" x=\"379.537109\"/>\n      <use xlink:href=\"#DejaVuSans-69\" x=\"407.320312\"/>\n      <use xlink:href=\"#DejaVuSans-74\" x=\"435.103516\"/>\n      <use xlink:href=\"#DejaVuSans-79\" x=\"474.3125\"/>\n     </g>\n    </g>\n   </g>\n   <g id=\"line2d_15\">\n    <path d=\"M 65.361932 239.753466 \nL 90.987468 239.626646 \nL 100.39431 239.374931 \nL 106.881787 238.99507 \nL 112.071769 238.471723 \nL 116.28863 237.828408 \nL 119.856742 237.07407 \nL 123.100481 236.172963 \nL 126.019846 235.145518 \nL 128.939211 233.871429 \nL 131.534202 232.495756 \nL 134.129193 230.855674 \nL 136.39981 229.175089 \nL 138.670427 227.238654 \nL 140.941044 225.020185 \nL 143.211661 222.493283 \nL 145.482278 219.631846 \nL 147.752895 216.410675 \nL 150.023512 212.806159 \nL 152.294129 208.797016 \nL 154.564747 204.365104 \nL 157.159738 198.764441 \nL 159.754728 192.579985 \nL 162.349719 185.808397 \nL 165.269084 177.499254 \nL 168.188449 168.489142 \nL 171.432188 157.722548 \nL 175.0003 145.089669 \nL 179.541535 128.127402 \nL 191.543368 82.707617 \nL 194.787107 71.522729 \nL 197.382098 63.277336 \nL 199.652715 56.693992 \nL 201.923332 50.791916 \nL 203.869575 46.336487 \nL 205.815818 42.486428 \nL 207.437688 39.769491 \nL 209.059557 37.520623 \nL 210.357052 36.069768 \nL 211.654548 34.936005 \nL 212.952043 34.124727 \nL 213.925165 33.730288 \nL 214.898287 33.52052 \nL 215.871408 33.495986 \nL 216.84453 33.656754 \nL 217.817652 34.00239 \nL 219.115147 34.749131 \nL 220.412642 35.81925 \nL 221.710138 37.20765 \nL 223.007633 38.907747 \nL 224.629503 41.458839 \nL 226.251372 44.465658 \nL 227.873242 47.906413 \nL 229.819485 52.573222 \nL 232.090102 58.69904 \nL 234.360719 65.479196 \nL 236.95571 73.914206 \nL 240.199449 85.280732 \nL 244.416309 100.987776 \nL 257.391264 150.006647 \nL 260.959376 162.341853 \nL 264.203115 172.78406 \nL 267.12248 181.471915 \nL 270.041845 189.441406 \nL 272.636836 195.904576 \nL 275.231827 201.78103 \nL 277.826818 207.079535 \nL 280.097435 211.255461 \nL 282.368052 215.019096 \nL 284.638669 218.390567 \nL 286.909286 221.392648 \nL 289.179903 224.049992 \nL 291.45052 226.388414 \nL 293.721137 228.434265 \nL 295.991755 230.21387 \nL 298.586746 231.954792 \nL 301.181737 233.418804 \nL 303.776728 234.640954 \nL 306.696092 235.767205 \nL 309.939831 236.758955 \nL 313.507944 237.592849 \nL 317.40043 238.261275 \nL 321.941664 238.80263 \nL 327.45602 239.21852 \nL 334.592245 239.511331 \nL 344.972209 239.685565 \nL 365.407763 239.753292 \nL 369.624623 239.755494 \nL 369.624623 239.755494 \n\" clip-path=\"url(#p807227c6e8)\" style=\"fill: none; stroke: #1f77b4; stroke-width: 1.5; stroke-linecap: square\"/>\n   </g>\n   <g id=\"patch_103\">\n    <path d=\"M 50.14375 239.758125 \nL 50.14375 22.318125 \n\" style=\"fill: none; stroke: #000000; stroke-width: 0.8; stroke-linejoin: miter; stroke-linecap: square\"/>\n   </g>\n   <g id=\"patch_104\">\n    <path d=\"M 384.94375 239.758125 \nL 384.94375 22.318125 \n\" style=\"fill: none; stroke: #000000; stroke-width: 0.8; stroke-linejoin: miter; stroke-linecap: square\"/>\n   </g>\n   <g id=\"patch_105\">\n    <path d=\"M 50.14375 239.758125 \nL 384.94375 239.758125 \n\" style=\"fill: none; stroke: #000000; stroke-width: 0.8; stroke-linejoin: miter; stroke-linecap: square\"/>\n   </g>\n   <g id=\"patch_106\">\n    <path d=\"M 50.14375 22.318125 \nL 384.94375 22.318125 \n\" style=\"fill: none; stroke: #000000; stroke-width: 0.8; stroke-linejoin: miter; stroke-linecap: square\"/>\n   </g>\n   <g id=\"text_17\">\n    <!-- distribution -->\n    <g transform=\"translate(183.352188 16.318125)scale(0.12 -0.12)\">\n     <defs>\n      <path id=\"DejaVuSans-64\" d=\"M 2906 2969 \nL 2906 4863 \nL 3481 4863 \nL 3481 0 \nL 2906 0 \nL 2906 525 \nQ 2725 213 2448 61 \nQ 2172 -91 1784 -91 \nQ 1150 -91 751 415 \nQ 353 922 353 1747 \nQ 353 2572 751 3078 \nQ 1150 3584 1784 3584 \nQ 2172 3584 2448 3432 \nQ 2725 3281 2906 2969 \nz\nM 947 1747 \nQ 947 1113 1208 752 \nQ 1469 391 1925 391 \nQ 2381 391 2643 752 \nQ 2906 1113 2906 1747 \nQ 2906 2381 2643 2742 \nQ 2381 3103 1925 3103 \nQ 1469 3103 1208 2742 \nQ 947 2381 947 1747 \nz\n\" transform=\"scale(0.015625)\"/>\n      <path id=\"DejaVuSans-73\" d=\"M 2834 3397 \nL 2834 2853 \nQ 2591 2978 2328 3040 \nQ 2066 3103 1784 3103 \nQ 1356 3103 1142 2972 \nQ 928 2841 928 2578 \nQ 928 2378 1081 2264 \nQ 1234 2150 1697 2047 \nL 1894 2003 \nQ 2506 1872 2764 1633 \nQ 3022 1394 3022 966 \nQ 3022 478 2636 193 \nQ 2250 -91 1575 -91 \nQ 1294 -91 989 -36 \nQ 684 19 347 128 \nL 347 722 \nQ 666 556 975 473 \nQ 1284 391 1588 391 \nQ 1994 391 2212 530 \nQ 2431 669 2431 922 \nQ 2431 1156 2273 1281 \nQ 2116 1406 1581 1522 \nL 1381 1569 \nQ 847 1681 609 1914 \nQ 372 2147 372 2553 \nQ 372 3047 722 3315 \nQ 1072 3584 1716 3584 \nQ 2034 3584 2315 3537 \nQ 2597 3491 2834 3397 \nz\n\" transform=\"scale(0.015625)\"/>\n      <path id=\"DejaVuSans-6e\" d=\"M 3513 2113 \nL 3513 0 \nL 2938 0 \nL 2938 2094 \nQ 2938 2591 2744 2837 \nQ 2550 3084 2163 3084 \nQ 1697 3084 1428 2787 \nQ 1159 2491 1159 1978 \nL 1159 0 \nL 581 0 \nL 581 3500 \nL 1159 3500 \nL 1159 2956 \nQ 1366 3272 1645 3428 \nQ 1925 3584 2291 3584 \nQ 2894 3584 3203 3211 \nQ 3513 2838 3513 2113 \nz\n\" transform=\"scale(0.015625)\"/>\n     </defs>\n     <use xlink:href=\"#DejaVuSans-64\"/>\n     <use xlink:href=\"#DejaVuSans-69\" x=\"63.476562\"/>\n     <use xlink:href=\"#DejaVuSans-73\" x=\"91.259766\"/>\n     <use xlink:href=\"#DejaVuSans-74\" x=\"143.359375\"/>\n     <use xlink:href=\"#DejaVuSans-72\" x=\"182.568359\"/>\n     <use xlink:href=\"#DejaVuSans-69\" x=\"223.681641\"/>\n     <use xlink:href=\"#DejaVuSans-62\" x=\"251.464844\"/>\n     <use xlink:href=\"#DejaVuSans-75\" x=\"314.941406\"/>\n     <use xlink:href=\"#DejaVuSans-74\" x=\"378.320312\"/>\n     <use xlink:href=\"#DejaVuSans-69\" x=\"417.529297\"/>\n     <use xlink:href=\"#DejaVuSans-6f\" x=\"445.3125\"/>\n     <use xlink:href=\"#DejaVuSans-6e\" x=\"506.494141\"/>\n    </g>\n   </g>\n  </g>\n </g>\n <defs>\n  <clipPath id=\"p807227c6e8\">\n   <rect x=\"50.14375\" y=\"22.318125\" width=\"334.8\" height=\"217.44\"/>\n  </clipPath>\n </defs>\n</svg>\n",
      "text/plain": [
       "<Figure size 432x288 with 1 Axes>"
      ]
     },
     "metadata": {
      "needs_background": "light"
     },
     "output_type": "display_data"
    },
    {
     "name": "stdout",
     "output_type": "stream",
     "text": [
      "CPU times: total: 344 ms\n",
      "Wall time: 378 ms\n"
     ]
    }
   ],
   "source": [
    "%%time\n",
    "# 根据均值、标准差，求制定范围的正态分布概率值\n",
    "\n",
    "def normfun(x, mu, sigma):\n",
    "    pdf = np.exp(-((x - mu)**2)/(2*sigma**2)) / (sigma * np.sqrt(2*np.pi))\n",
    "    return pdf\n",
    "\n",
    "\n",
    "# 生成高斯分布的概率密度随机数\n",
    "result = np.random.normal(0, 1, 1000000) # mean 0 and standard deviation 1\n",
    "\n",
    "# np.arange()\n",
    "# 函数返回一个有终点和起点的固定步长的排列，如[1,2,3,4,5]，起点是1，终点是6，步长为1\n",
    "# 参数个数情况：np.arange()函数分为一个参数，两个参数，三个参数三种情况\n",
    "# 1）一个参数时，参数值为终点，起点取默认值0，步长取默认值1\n",
    "# 2）两个参数时，第一个参数为起点，第二个参数为终点，步长取默认值1\n",
    "# 3）三个参数时，第一个参数为起点，第二个参数为终点，第三个参数为步长，其中步长支持小数\n",
    "\n",
    "x = np.arange(min(result), max(result),0.01)\n",
    "\n",
    "# 设定 y 轴，载入刚才的正态分布函数\n",
    "y = normfun(x, result.mean(), result.std())\n",
    "plt.plot(x, y) # 这里画出理论的正态分布概率曲线\n",
    "\n",
    "# 这里画出实际的参数概率与取值关系\n",
    "fig = plt.hist(result, bins=100, rwidth=1, density=True) # bins个柱状图，宽度是rwidth（0~1），=1没有缝隙\n",
    "plt.title('distribution')\n",
    "plt.xlabel('temperature')\n",
    "plt.ylabel('probability')\n",
    "# 输出\n",
    "plt.show() # 最后图片的概率和不为1是因为正态分布是从负无穷到正无穷，这里截取了数据最小值到最大值的分布\n"
   ]
  },
  {
   "cell_type": "markdown",
   "metadata": {},
   "source": [
    "## 在日收益率直方图上添加正态分布密度曲线"
   ]
  },
  {
   "cell_type": "code",
   "execution_count": 49,
   "metadata": {},
   "outputs": [
    {
     "name": "stdout",
     "output_type": "stream",
     "text": [
      "CPU times: total: 453 ms\n",
      "Wall time: 449 ms\n"
     ]
    },
    {
     "data": {
      "text/plain": [
       "Text(0, 0.5, 'Probability')"
      ]
     },
     "execution_count": 49,
     "metadata": {},
     "output_type": "execute_result"
    },
    {
     "data": {
      "image/svg+xml": "<?xml version=\"1.0\" encoding=\"utf-8\" standalone=\"no\"?>\n<!DOCTYPE svg PUBLIC \"-//W3C//DTD SVG 1.1//EN\"\n  \"http://www.w3.org/Graphics/SVG/1.1/DTD/svg11.dtd\">\n<svg xmlns:xlink=\"http://www.w3.org/1999/xlink\" width=\"605.803125pt\" height=\"351.6025pt\" viewBox=\"0 0 605.803125 351.6025\" xmlns=\"http://www.w3.org/2000/svg\" version=\"1.1\">\n <metadata>\n  <rdf:RDF xmlns:dc=\"http://purl.org/dc/elements/1.1/\" xmlns:cc=\"http://creativecommons.org/ns#\" xmlns:rdf=\"http://www.w3.org/1999/02/22-rdf-syntax-ns#\">\n   <cc:Work>\n    <dc:type rdf:resource=\"http://purl.org/dc/dcmitype/StillImage\"/>\n    <dc:date>2022-10-04T09:59:49.976929</dc:date>\n    <dc:format>image/svg+xml</dc:format>\n    <dc:creator>\n     <cc:Agent>\n      <dc:title>Matplotlib v3.5.1, https://matplotlib.org/</dc:title>\n     </cc:Agent>\n    </dc:creator>\n   </cc:Work>\n  </rdf:RDF>\n </metadata>\n <defs>\n  <style type=\"text/css\">*{stroke-linejoin: round; stroke-linecap: butt}</style>\n </defs>\n <g id=\"figure_1\">\n  <g id=\"patch_1\">\n   <path d=\"M 0 351.6025 \nL 605.803125 351.6025 \nL 605.803125 0 \nL 0 0 \nL 0 351.6025 \nz\n\" style=\"fill: none\"/>\n  </g>\n  <g id=\"axes_1\">\n   <g id=\"patch_2\">\n    <path d=\"M 40.603125 294.118125 \nL 598.603125 294.118125 \nL 598.603125 22.318125 \nL 40.603125 22.318125 \nz\n\" style=\"fill: #ffffff\"/>\n   </g>\n   <g id=\"patch_3\">\n    <path d=\"M 65.966761 294.118125 \nL 66.474034 294.118125 \nL 66.474034 289.234028 \nL 65.966761 289.234028 \nz\n\" clip-path=\"url(#pebcab09916)\" style=\"fill: #ff0000; opacity: 0.9\"/>\n   </g>\n   <g id=\"patch_4\">\n    <path d=\"M 66.474034 294.118125 \nL 66.981307 294.118125 \nL 66.981307 294.118125 \nL 66.474034 294.118125 \nz\n\" clip-path=\"url(#pebcab09916)\" style=\"fill: #ff0000; opacity: 0.9\"/>\n   </g>\n   <g id=\"patch_5\">\n    <path d=\"M 66.981307 294.118125 \nL 67.48858 294.118125 \nL 67.48858 294.118125 \nL 66.981307 294.118125 \nz\n\" clip-path=\"url(#pebcab09916)\" style=\"fill: #ff0000; opacity: 0.9\"/>\n   </g>\n   <g id=\"patch_6\">\n    <path d=\"M 67.48858 294.118125 \nL 67.995852 294.118125 \nL 67.995852 294.118125 \nL 67.48858 294.118125 \nz\n\" clip-path=\"url(#pebcab09916)\" style=\"fill: #ff0000; opacity: 0.9\"/>\n   </g>\n   <g id=\"patch_7\">\n    <path d=\"M 67.995852 294.118125 \nL 68.503125 294.118125 \nL 68.503125 294.118125 \nL 67.995852 294.118125 \nz\n\" clip-path=\"url(#pebcab09916)\" style=\"fill: #ff0000; opacity: 0.9\"/>\n   </g>\n   <g id=\"patch_8\">\n    <path d=\"M 68.503125 294.118125 \nL 69.010398 294.118125 \nL 69.010398 294.118125 \nL 68.503125 294.118125 \nz\n\" clip-path=\"url(#pebcab09916)\" style=\"fill: #ff0000; opacity: 0.9\"/>\n   </g>\n   <g id=\"patch_9\">\n    <path d=\"M 69.010398 294.118125 \nL 69.51767 294.118125 \nL 69.51767 294.118125 \nL 69.010398 294.118125 \nz\n\" clip-path=\"url(#pebcab09916)\" style=\"fill: #ff0000; opacity: 0.9\"/>\n   </g>\n   <g id=\"patch_10\">\n    <path d=\"M 69.51767 294.118125 \nL 70.024943 294.118125 \nL 70.024943 294.118125 \nL 69.51767 294.118125 \nz\n\" clip-path=\"url(#pebcab09916)\" style=\"fill: #ff0000; opacity: 0.9\"/>\n   </g>\n   <g id=\"patch_11\">\n    <path d=\"M 70.024943 294.118125 \nL 70.532216 294.118125 \nL 70.532216 294.118125 \nL 70.024943 294.118125 \nz\n\" clip-path=\"url(#pebcab09916)\" style=\"fill: #ff0000; opacity: 0.9\"/>\n   </g>\n   <g id=\"patch_12\">\n    <path d=\"M 70.532216 294.118125 \nL 71.039489 294.118125 \nL 71.039489 294.118125 \nL 70.532216 294.118125 \nz\n\" clip-path=\"url(#pebcab09916)\" style=\"fill: #ff0000; opacity: 0.9\"/>\n   </g>\n   <g id=\"patch_13\">\n    <path d=\"M 71.039489 294.118125 \nL 71.546761 294.118125 \nL 71.546761 294.118125 \nL 71.039489 294.118125 \nz\n\" clip-path=\"url(#pebcab09916)\" style=\"fill: #ff0000; opacity: 0.9\"/>\n   </g>\n   <g id=\"patch_14\">\n    <path d=\"M 71.546761 294.118125 \nL 72.054034 294.118125 \nL 72.054034 294.118125 \nL 71.546761 294.118125 \nz\n\" clip-path=\"url(#pebcab09916)\" style=\"fill: #ff0000; opacity: 0.9\"/>\n   </g>\n   <g id=\"patch_15\">\n    <path d=\"M 72.054034 294.118125 \nL 72.561307 294.118125 \nL 72.561307 294.118125 \nL 72.054034 294.118125 \nz\n\" clip-path=\"url(#pebcab09916)\" style=\"fill: #ff0000; opacity: 0.9\"/>\n   </g>\n   <g id=\"patch_16\">\n    <path d=\"M 72.561307 294.118125 \nL 73.06858 294.118125 \nL 73.06858 294.118125 \nL 72.561307 294.118125 \nz\n\" clip-path=\"url(#pebcab09916)\" style=\"fill: #ff0000; opacity: 0.9\"/>\n   </g>\n   <g id=\"patch_17\">\n    <path d=\"M 73.06858 294.118125 \nL 73.575852 294.118125 \nL 73.575852 294.118125 \nL 73.06858 294.118125 \nz\n\" clip-path=\"url(#pebcab09916)\" style=\"fill: #ff0000; opacity: 0.9\"/>\n   </g>\n   <g id=\"patch_18\">\n    <path d=\"M 73.575852 294.118125 \nL 74.083125 294.118125 \nL 74.083125 294.118125 \nL 73.575852 294.118125 \nz\n\" clip-path=\"url(#pebcab09916)\" style=\"fill: #ff0000; opacity: 0.9\"/>\n   </g>\n   <g id=\"patch_19\">\n    <path d=\"M 74.083125 294.118125 \nL 74.590398 294.118125 \nL 74.590398 294.118125 \nL 74.083125 294.118125 \nz\n\" clip-path=\"url(#pebcab09916)\" style=\"fill: #ff0000; opacity: 0.9\"/>\n   </g>\n   <g id=\"patch_20\">\n    <path d=\"M 74.590398 294.118125 \nL 75.09767 294.118125 \nL 75.09767 294.118125 \nL 74.590398 294.118125 \nz\n\" clip-path=\"url(#pebcab09916)\" style=\"fill: #ff0000; opacity: 0.9\"/>\n   </g>\n   <g id=\"patch_21\">\n    <path d=\"M 75.09767 294.118125 \nL 75.604943 294.118125 \nL 75.604943 289.234028 \nL 75.09767 289.234028 \nz\n\" clip-path=\"url(#pebcab09916)\" style=\"fill: #ff0000; opacity: 0.9\"/>\n   </g>\n   <g id=\"patch_22\">\n    <path d=\"M 75.604943 294.118125 \nL 76.112216 294.118125 \nL 76.112216 289.234028 \nL 75.604943 289.234028 \nz\n\" clip-path=\"url(#pebcab09916)\" style=\"fill: #ff0000; opacity: 0.9\"/>\n   </g>\n   <g id=\"patch_23\">\n    <path d=\"M 76.112216 294.118125 \nL 76.619489 294.118125 \nL 76.619489 294.118125 \nL 76.112216 294.118125 \nz\n\" clip-path=\"url(#pebcab09916)\" style=\"fill: #ff0000; opacity: 0.9\"/>\n   </g>\n   <g id=\"patch_24\">\n    <path d=\"M 76.619489 294.118125 \nL 77.126761 294.118125 \nL 77.126761 294.118125 \nL 76.619489 294.118125 \nz\n\" clip-path=\"url(#pebcab09916)\" style=\"fill: #ff0000; opacity: 0.9\"/>\n   </g>\n   <g id=\"patch_25\">\n    <path d=\"M 77.126761 294.118125 \nL 77.634034 294.118125 \nL 77.634034 294.118125 \nL 77.126761 294.118125 \nz\n\" clip-path=\"url(#pebcab09916)\" style=\"fill: #ff0000; opacity: 0.9\"/>\n   </g>\n   <g id=\"patch_26\">\n    <path d=\"M 77.634034 294.118125 \nL 78.141307 294.118125 \nL 78.141307 294.118125 \nL 77.634034 294.118125 \nz\n\" clip-path=\"url(#pebcab09916)\" style=\"fill: #ff0000; opacity: 0.9\"/>\n   </g>\n   <g id=\"patch_27\">\n    <path d=\"M 78.141307 294.118125 \nL 78.64858 294.118125 \nL 78.64858 294.118125 \nL 78.141307 294.118125 \nz\n\" clip-path=\"url(#pebcab09916)\" style=\"fill: #ff0000; opacity: 0.9\"/>\n   </g>\n   <g id=\"patch_28\">\n    <path d=\"M 78.64858 294.118125 \nL 79.155852 294.118125 \nL 79.155852 294.118125 \nL 78.64858 294.118125 \nz\n\" clip-path=\"url(#pebcab09916)\" style=\"fill: #ff0000; opacity: 0.9\"/>\n   </g>\n   <g id=\"patch_29\">\n    <path d=\"M 79.155852 294.118125 \nL 79.663125 294.118125 \nL 79.663125 294.118125 \nL 79.155852 294.118125 \nz\n\" clip-path=\"url(#pebcab09916)\" style=\"fill: #ff0000; opacity: 0.9\"/>\n   </g>\n   <g id=\"patch_30\">\n    <path d=\"M 79.663125 294.118125 \nL 80.170398 294.118125 \nL 80.170398 294.118125 \nL 79.663125 294.118125 \nz\n\" clip-path=\"url(#pebcab09916)\" style=\"fill: #ff0000; opacity: 0.9\"/>\n   </g>\n   <g id=\"patch_31\">\n    <path d=\"M 80.170398 294.118125 \nL 80.67767 294.118125 \nL 80.67767 294.118125 \nL 80.170398 294.118125 \nz\n\" clip-path=\"url(#pebcab09916)\" style=\"fill: #ff0000; opacity: 0.9\"/>\n   </g>\n   <g id=\"patch_32\">\n    <path d=\"M 80.67767 294.118125 \nL 81.184943 294.118125 \nL 81.184943 294.118125 \nL 80.67767 294.118125 \nz\n\" clip-path=\"url(#pebcab09916)\" style=\"fill: #ff0000; opacity: 0.9\"/>\n   </g>\n   <g id=\"patch_33\">\n    <path d=\"M 81.184943 294.118125 \nL 81.692216 294.118125 \nL 81.692216 294.118125 \nL 81.184943 294.118125 \nz\n\" clip-path=\"url(#pebcab09916)\" style=\"fill: #ff0000; opacity: 0.9\"/>\n   </g>\n   <g id=\"patch_34\">\n    <path d=\"M 81.692216 294.118125 \nL 82.199489 294.118125 \nL 82.199489 289.234028 \nL 81.692216 289.234028 \nz\n\" clip-path=\"url(#pebcab09916)\" style=\"fill: #ff0000; opacity: 0.9\"/>\n   </g>\n   <g id=\"patch_35\">\n    <path d=\"M 82.199489 294.118125 \nL 82.706761 294.118125 \nL 82.706761 294.118125 \nL 82.199489 294.118125 \nz\n\" clip-path=\"url(#pebcab09916)\" style=\"fill: #ff0000; opacity: 0.9\"/>\n   </g>\n   <g id=\"patch_36\">\n    <path d=\"M 82.706761 294.118125 \nL 83.214034 294.118125 \nL 83.214034 294.118125 \nL 82.706761 294.118125 \nz\n\" clip-path=\"url(#pebcab09916)\" style=\"fill: #ff0000; opacity: 0.9\"/>\n   </g>\n   <g id=\"patch_37\">\n    <path d=\"M 83.214034 294.118125 \nL 83.721307 294.118125 \nL 83.721307 294.118125 \nL 83.214034 294.118125 \nz\n\" clip-path=\"url(#pebcab09916)\" style=\"fill: #ff0000; opacity: 0.9\"/>\n   </g>\n   <g id=\"patch_38\">\n    <path d=\"M 83.721307 294.118125 \nL 84.22858 294.118125 \nL 84.22858 294.118125 \nL 83.721307 294.118125 \nz\n\" clip-path=\"url(#pebcab09916)\" style=\"fill: #ff0000; opacity: 0.9\"/>\n   </g>\n   <g id=\"patch_39\">\n    <path d=\"M 84.22858 294.118125 \nL 84.735852 294.118125 \nL 84.735852 294.118125 \nL 84.22858 294.118125 \nz\n\" clip-path=\"url(#pebcab09916)\" style=\"fill: #ff0000; opacity: 0.9\"/>\n   </g>\n   <g id=\"patch_40\">\n    <path d=\"M 84.735852 294.118125 \nL 85.243125 294.118125 \nL 85.243125 294.118125 \nL 84.735852 294.118125 \nz\n\" clip-path=\"url(#pebcab09916)\" style=\"fill: #ff0000; opacity: 0.9\"/>\n   </g>\n   <g id=\"patch_41\">\n    <path d=\"M 85.243125 294.118125 \nL 85.750398 294.118125 \nL 85.750398 294.118125 \nL 85.243125 294.118125 \nz\n\" clip-path=\"url(#pebcab09916)\" style=\"fill: #ff0000; opacity: 0.9\"/>\n   </g>\n   <g id=\"patch_42\">\n    <path d=\"M 85.750398 294.118125 \nL 86.25767 294.118125 \nL 86.25767 294.118125 \nL 85.750398 294.118125 \nz\n\" clip-path=\"url(#pebcab09916)\" style=\"fill: #ff0000; opacity: 0.9\"/>\n   </g>\n   <g id=\"patch_43\">\n    <path d=\"M 86.25767 294.118125 \nL 86.764943 294.118125 \nL 86.764943 294.118125 \nL 86.25767 294.118125 \nz\n\" clip-path=\"url(#pebcab09916)\" style=\"fill: #ff0000; opacity: 0.9\"/>\n   </g>\n   <g id=\"patch_44\">\n    <path d=\"M 86.764943 294.118125 \nL 87.272216 294.118125 \nL 87.272216 294.118125 \nL 86.764943 294.118125 \nz\n\" clip-path=\"url(#pebcab09916)\" style=\"fill: #ff0000; opacity: 0.9\"/>\n   </g>\n   <g id=\"patch_45\">\n    <path d=\"M 87.272216 294.118125 \nL 87.779489 294.118125 \nL 87.779489 294.118125 \nL 87.272216 294.118125 \nz\n\" clip-path=\"url(#pebcab09916)\" style=\"fill: #ff0000; opacity: 0.9\"/>\n   </g>\n   <g id=\"patch_46\">\n    <path d=\"M 87.779489 294.118125 \nL 88.286761 294.118125 \nL 88.286761 294.118125 \nL 87.779489 294.118125 \nz\n\" clip-path=\"url(#pebcab09916)\" style=\"fill: #ff0000; opacity: 0.9\"/>\n   </g>\n   <g id=\"patch_47\">\n    <path d=\"M 88.286761 294.118125 \nL 88.794034 294.118125 \nL 88.794034 294.118125 \nL 88.286761 294.118125 \nz\n\" clip-path=\"url(#pebcab09916)\" style=\"fill: #ff0000; opacity: 0.9\"/>\n   </g>\n   <g id=\"patch_48\">\n    <path d=\"M 88.794034 294.118125 \nL 89.301307 294.118125 \nL 89.301307 294.118125 \nL 88.794034 294.118125 \nz\n\" clip-path=\"url(#pebcab09916)\" style=\"fill: #ff0000; opacity: 0.9\"/>\n   </g>\n   <g id=\"patch_49\">\n    <path d=\"M 89.301307 294.118125 \nL 89.80858 294.118125 \nL 89.80858 294.118125 \nL 89.301307 294.118125 \nz\n\" clip-path=\"url(#pebcab09916)\" style=\"fill: #ff0000; opacity: 0.9\"/>\n   </g>\n   <g id=\"patch_50\">\n    <path d=\"M 89.80858 294.118125 \nL 90.315852 294.118125 \nL 90.315852 294.118125 \nL 89.80858 294.118125 \nz\n\" clip-path=\"url(#pebcab09916)\" style=\"fill: #ff0000; opacity: 0.9\"/>\n   </g>\n   <g id=\"patch_51\">\n    <path d=\"M 90.315852 294.118125 \nL 90.823125 294.118125 \nL 90.823125 294.118125 \nL 90.315852 294.118125 \nz\n\" clip-path=\"url(#pebcab09916)\" style=\"fill: #ff0000; opacity: 0.9\"/>\n   </g>\n   <g id=\"patch_52\">\n    <path d=\"M 90.823125 294.118125 \nL 91.330398 294.118125 \nL 91.330398 294.118125 \nL 90.823125 294.118125 \nz\n\" clip-path=\"url(#pebcab09916)\" style=\"fill: #ff0000; opacity: 0.9\"/>\n   </g>\n   <g id=\"patch_53\">\n    <path d=\"M 91.330398 294.118125 \nL 91.83767 294.118125 \nL 91.83767 294.118125 \nL 91.330398 294.118125 \nz\n\" clip-path=\"url(#pebcab09916)\" style=\"fill: #ff0000; opacity: 0.9\"/>\n   </g>\n   <g id=\"patch_54\">\n    <path d=\"M 91.83767 294.118125 \nL 92.344943 294.118125 \nL 92.344943 294.118125 \nL 91.83767 294.118125 \nz\n\" clip-path=\"url(#pebcab09916)\" style=\"fill: #ff0000; opacity: 0.9\"/>\n   </g>\n   <g id=\"patch_55\">\n    <path d=\"M 92.344943 294.118125 \nL 92.852216 294.118125 \nL 92.852216 294.118125 \nL 92.344943 294.118125 \nz\n\" clip-path=\"url(#pebcab09916)\" style=\"fill: #ff0000; opacity: 0.9\"/>\n   </g>\n   <g id=\"patch_56\">\n    <path d=\"M 92.852216 294.118125 \nL 93.359489 294.118125 \nL 93.359489 294.118125 \nL 92.852216 294.118125 \nz\n\" clip-path=\"url(#pebcab09916)\" style=\"fill: #ff0000; opacity: 0.9\"/>\n   </g>\n   <g id=\"patch_57\">\n    <path d=\"M 93.359489 294.118125 \nL 93.866761 294.118125 \nL 93.866761 294.118125 \nL 93.359489 294.118125 \nz\n\" clip-path=\"url(#pebcab09916)\" style=\"fill: #ff0000; opacity: 0.9\"/>\n   </g>\n   <g id=\"patch_58\">\n    <path d=\"M 93.866761 294.118125 \nL 94.374034 294.118125 \nL 94.374034 294.118125 \nL 93.866761 294.118125 \nz\n\" clip-path=\"url(#pebcab09916)\" style=\"fill: #ff0000; opacity: 0.9\"/>\n   </g>\n   <g id=\"patch_59\">\n    <path d=\"M 94.374034 294.118125 \nL 94.881307 294.118125 \nL 94.881307 294.118125 \nL 94.374034 294.118125 \nz\n\" clip-path=\"url(#pebcab09916)\" style=\"fill: #ff0000; opacity: 0.9\"/>\n   </g>\n   <g id=\"patch_60\">\n    <path d=\"M 94.881307 294.118125 \nL 95.38858 294.118125 \nL 95.38858 294.118125 \nL 94.881307 294.118125 \nz\n\" clip-path=\"url(#pebcab09916)\" style=\"fill: #ff0000; opacity: 0.9\"/>\n   </g>\n   <g id=\"patch_61\">\n    <path d=\"M 95.38858 294.118125 \nL 95.895852 294.118125 \nL 95.895852 294.118125 \nL 95.38858 294.118125 \nz\n\" clip-path=\"url(#pebcab09916)\" style=\"fill: #ff0000; opacity: 0.9\"/>\n   </g>\n   <g id=\"patch_62\">\n    <path d=\"M 95.895852 294.118125 \nL 96.403125 294.118125 \nL 96.403125 284.349931 \nL 95.895852 284.349931 \nz\n\" clip-path=\"url(#pebcab09916)\" style=\"fill: #ff0000; opacity: 0.9\"/>\n   </g>\n   <g id=\"patch_63\">\n    <path d=\"M 96.403125 294.118125 \nL 96.910398 294.118125 \nL 96.910398 289.234028 \nL 96.403125 289.234028 \nz\n\" clip-path=\"url(#pebcab09916)\" style=\"fill: #ff0000; opacity: 0.9\"/>\n   </g>\n   <g id=\"patch_64\">\n    <path d=\"M 96.910398 294.118125 \nL 97.41767 294.118125 \nL 97.41767 294.118125 \nL 96.910398 294.118125 \nz\n\" clip-path=\"url(#pebcab09916)\" style=\"fill: #ff0000; opacity: 0.9\"/>\n   </g>\n   <g id=\"patch_65\">\n    <path d=\"M 97.41767 294.118125 \nL 97.924943 294.118125 \nL 97.924943 294.118125 \nL 97.41767 294.118125 \nz\n\" clip-path=\"url(#pebcab09916)\" style=\"fill: #ff0000; opacity: 0.9\"/>\n   </g>\n   <g id=\"patch_66\">\n    <path d=\"M 97.924943 294.118125 \nL 98.432216 294.118125 \nL 98.432216 294.118125 \nL 97.924943 294.118125 \nz\n\" clip-path=\"url(#pebcab09916)\" style=\"fill: #ff0000; opacity: 0.9\"/>\n   </g>\n   <g id=\"patch_67\">\n    <path d=\"M 98.432216 294.118125 \nL 98.939489 294.118125 \nL 98.939489 289.234028 \nL 98.432216 289.234028 \nz\n\" clip-path=\"url(#pebcab09916)\" style=\"fill: #ff0000; opacity: 0.9\"/>\n   </g>\n   <g id=\"patch_68\">\n    <path d=\"M 98.939489 294.118125 \nL 99.446761 294.118125 \nL 99.446761 294.118125 \nL 98.939489 294.118125 \nz\n\" clip-path=\"url(#pebcab09916)\" style=\"fill: #ff0000; opacity: 0.9\"/>\n   </g>\n   <g id=\"patch_69\">\n    <path d=\"M 99.446761 294.118125 \nL 99.954034 294.118125 \nL 99.954034 294.118125 \nL 99.446761 294.118125 \nz\n\" clip-path=\"url(#pebcab09916)\" style=\"fill: #ff0000; opacity: 0.9\"/>\n   </g>\n   <g id=\"patch_70\">\n    <path d=\"M 99.954034 294.118125 \nL 100.461307 294.118125 \nL 100.461307 294.118125 \nL 99.954034 294.118125 \nz\n\" clip-path=\"url(#pebcab09916)\" style=\"fill: #ff0000; opacity: 0.9\"/>\n   </g>\n   <g id=\"patch_71\">\n    <path d=\"M 100.461307 294.118125 \nL 100.96858 294.118125 \nL 100.96858 294.118125 \nL 100.461307 294.118125 \nz\n\" clip-path=\"url(#pebcab09916)\" style=\"fill: #ff0000; opacity: 0.9\"/>\n   </g>\n   <g id=\"patch_72\">\n    <path d=\"M 100.96858 294.118125 \nL 101.475852 294.118125 \nL 101.475852 294.118125 \nL 100.96858 294.118125 \nz\n\" clip-path=\"url(#pebcab09916)\" style=\"fill: #ff0000; opacity: 0.9\"/>\n   </g>\n   <g id=\"patch_73\">\n    <path d=\"M 101.475852 294.118125 \nL 101.983125 294.118125 \nL 101.983125 294.118125 \nL 101.475852 294.118125 \nz\n\" clip-path=\"url(#pebcab09916)\" style=\"fill: #ff0000; opacity: 0.9\"/>\n   </g>\n   <g id=\"patch_74\">\n    <path d=\"M 101.983125 294.118125 \nL 102.490398 294.118125 \nL 102.490398 294.118125 \nL 101.983125 294.118125 \nz\n\" clip-path=\"url(#pebcab09916)\" style=\"fill: #ff0000; opacity: 0.9\"/>\n   </g>\n   <g id=\"patch_75\">\n    <path d=\"M 102.490398 294.118125 \nL 102.99767 294.118125 \nL 102.99767 294.118125 \nL 102.490398 294.118125 \nz\n\" clip-path=\"url(#pebcab09916)\" style=\"fill: #ff0000; opacity: 0.9\"/>\n   </g>\n   <g id=\"patch_76\">\n    <path d=\"M 102.99767 294.118125 \nL 103.504943 294.118125 \nL 103.504943 294.118125 \nL 102.99767 294.118125 \nz\n\" clip-path=\"url(#pebcab09916)\" style=\"fill: #ff0000; opacity: 0.9\"/>\n   </g>\n   <g id=\"patch_77\">\n    <path d=\"M 103.504943 294.118125 \nL 104.012216 294.118125 \nL 104.012216 294.118125 \nL 103.504943 294.118125 \nz\n\" clip-path=\"url(#pebcab09916)\" style=\"fill: #ff0000; opacity: 0.9\"/>\n   </g>\n   <g id=\"patch_78\">\n    <path d=\"M 104.012216 294.118125 \nL 104.519489 294.118125 \nL 104.519489 294.118125 \nL 104.012216 294.118125 \nz\n\" clip-path=\"url(#pebcab09916)\" style=\"fill: #ff0000; opacity: 0.9\"/>\n   </g>\n   <g id=\"patch_79\">\n    <path d=\"M 104.519489 294.118125 \nL 105.026761 294.118125 \nL 105.026761 294.118125 \nL 104.519489 294.118125 \nz\n\" clip-path=\"url(#pebcab09916)\" style=\"fill: #ff0000; opacity: 0.9\"/>\n   </g>\n   <g id=\"patch_80\">\n    <path d=\"M 105.026761 294.118125 \nL 105.534034 294.118125 \nL 105.534034 289.234028 \nL 105.026761 289.234028 \nz\n\" clip-path=\"url(#pebcab09916)\" style=\"fill: #ff0000; opacity: 0.9\"/>\n   </g>\n   <g id=\"patch_81\">\n    <path d=\"M 105.534034 294.118125 \nL 106.041307 294.118125 \nL 106.041307 294.118125 \nL 105.534034 294.118125 \nz\n\" clip-path=\"url(#pebcab09916)\" style=\"fill: #ff0000; opacity: 0.9\"/>\n   </g>\n   <g id=\"patch_82\">\n    <path d=\"M 106.041307 294.118125 \nL 106.54858 294.118125 \nL 106.54858 294.118125 \nL 106.041307 294.118125 \nz\n\" clip-path=\"url(#pebcab09916)\" style=\"fill: #ff0000; opacity: 0.9\"/>\n   </g>\n   <g id=\"patch_83\">\n    <path d=\"M 106.54858 294.118125 \nL 107.055852 294.118125 \nL 107.055852 294.118125 \nL 106.54858 294.118125 \nz\n\" clip-path=\"url(#pebcab09916)\" style=\"fill: #ff0000; opacity: 0.9\"/>\n   </g>\n   <g id=\"patch_84\">\n    <path d=\"M 107.055852 294.118125 \nL 107.563125 294.118125 \nL 107.563125 294.118125 \nL 107.055852 294.118125 \nz\n\" clip-path=\"url(#pebcab09916)\" style=\"fill: #ff0000; opacity: 0.9\"/>\n   </g>\n   <g id=\"patch_85\">\n    <path d=\"M 107.563125 294.118125 \nL 108.070398 294.118125 \nL 108.070398 294.118125 \nL 107.563125 294.118125 \nz\n\" clip-path=\"url(#pebcab09916)\" style=\"fill: #ff0000; opacity: 0.9\"/>\n   </g>\n   <g id=\"patch_86\">\n    <path d=\"M 108.070398 294.118125 \nL 108.57767 294.118125 \nL 108.57767 294.118125 \nL 108.070398 294.118125 \nz\n\" clip-path=\"url(#pebcab09916)\" style=\"fill: #ff0000; opacity: 0.9\"/>\n   </g>\n   <g id=\"patch_87\">\n    <path d=\"M 108.57767 294.118125 \nL 109.084943 294.118125 \nL 109.084943 294.118125 \nL 108.57767 294.118125 \nz\n\" clip-path=\"url(#pebcab09916)\" style=\"fill: #ff0000; opacity: 0.9\"/>\n   </g>\n   <g id=\"patch_88\">\n    <path d=\"M 109.084943 294.118125 \nL 109.592216 294.118125 \nL 109.592216 294.118125 \nL 109.084943 294.118125 \nz\n\" clip-path=\"url(#pebcab09916)\" style=\"fill: #ff0000; opacity: 0.9\"/>\n   </g>\n   <g id=\"patch_89\">\n    <path d=\"M 109.592216 294.118125 \nL 110.099489 294.118125 \nL 110.099489 289.234028 \nL 109.592216 289.234028 \nz\n\" clip-path=\"url(#pebcab09916)\" style=\"fill: #ff0000; opacity: 0.9\"/>\n   </g>\n   <g id=\"patch_90\">\n    <path d=\"M 110.099489 294.118125 \nL 110.606761 294.118125 \nL 110.606761 294.118125 \nL 110.099489 294.118125 \nz\n\" clip-path=\"url(#pebcab09916)\" style=\"fill: #ff0000; opacity: 0.9\"/>\n   </g>\n   <g id=\"patch_91\">\n    <path d=\"M 110.606761 294.118125 \nL 111.114034 294.118125 \nL 111.114034 289.234028 \nL 110.606761 289.234028 \nz\n\" clip-path=\"url(#pebcab09916)\" style=\"fill: #ff0000; opacity: 0.9\"/>\n   </g>\n   <g id=\"patch_92\">\n    <path d=\"M 111.114034 294.118125 \nL 111.621307 294.118125 \nL 111.621307 294.118125 \nL 111.114034 294.118125 \nz\n\" clip-path=\"url(#pebcab09916)\" style=\"fill: #ff0000; opacity: 0.9\"/>\n   </g>\n   <g id=\"patch_93\">\n    <path d=\"M 111.621307 294.118125 \nL 112.12858 294.118125 \nL 112.12858 294.118125 \nL 111.621307 294.118125 \nz\n\" clip-path=\"url(#pebcab09916)\" style=\"fill: #ff0000; opacity: 0.9\"/>\n   </g>\n   <g id=\"patch_94\">\n    <path d=\"M 112.12858 294.118125 \nL 112.635852 294.118125 \nL 112.635852 294.118125 \nL 112.12858 294.118125 \nz\n\" clip-path=\"url(#pebcab09916)\" style=\"fill: #ff0000; opacity: 0.9\"/>\n   </g>\n   <g id=\"patch_95\">\n    <path d=\"M 112.635852 294.118125 \nL 113.143125 294.118125 \nL 113.143125 294.118125 \nL 112.635852 294.118125 \nz\n\" clip-path=\"url(#pebcab09916)\" style=\"fill: #ff0000; opacity: 0.9\"/>\n   </g>\n   <g id=\"patch_96\">\n    <path d=\"M 113.143125 294.118125 \nL 113.650398 294.118125 \nL 113.650398 294.118125 \nL 113.143125 294.118125 \nz\n\" clip-path=\"url(#pebcab09916)\" style=\"fill: #ff0000; opacity: 0.9\"/>\n   </g>\n   <g id=\"patch_97\">\n    <path d=\"M 113.650398 294.118125 \nL 114.15767 294.118125 \nL 114.15767 294.118125 \nL 113.650398 294.118125 \nz\n\" clip-path=\"url(#pebcab09916)\" style=\"fill: #ff0000; opacity: 0.9\"/>\n   </g>\n   <g id=\"patch_98\">\n    <path d=\"M 114.15767 294.118125 \nL 114.664943 294.118125 \nL 114.664943 294.118125 \nL 114.15767 294.118125 \nz\n\" clip-path=\"url(#pebcab09916)\" style=\"fill: #ff0000; opacity: 0.9\"/>\n   </g>\n   <g id=\"patch_99\">\n    <path d=\"M 114.664943 294.118125 \nL 115.172216 294.118125 \nL 115.172216 289.234028 \nL 114.664943 289.234028 \nz\n\" clip-path=\"url(#pebcab09916)\" style=\"fill: #ff0000; opacity: 0.9\"/>\n   </g>\n   <g id=\"patch_100\">\n    <path d=\"M 115.172216 294.118125 \nL 115.679489 294.118125 \nL 115.679489 294.118125 \nL 115.172216 294.118125 \nz\n\" clip-path=\"url(#pebcab09916)\" style=\"fill: #ff0000; opacity: 0.9\"/>\n   </g>\n   <g id=\"patch_101\">\n    <path d=\"M 115.679489 294.118125 \nL 116.186761 294.118125 \nL 116.186761 294.118125 \nL 115.679489 294.118125 \nz\n\" clip-path=\"url(#pebcab09916)\" style=\"fill: #ff0000; opacity: 0.9\"/>\n   </g>\n   <g id=\"patch_102\">\n    <path d=\"M 116.186761 294.118125 \nL 116.694034 294.118125 \nL 116.694034 294.118125 \nL 116.186761 294.118125 \nz\n\" clip-path=\"url(#pebcab09916)\" style=\"fill: #ff0000; opacity: 0.9\"/>\n   </g>\n   <g id=\"patch_103\">\n    <path d=\"M 116.694034 294.118125 \nL 117.201307 294.118125 \nL 117.201307 294.118125 \nL 116.694034 294.118125 \nz\n\" clip-path=\"url(#pebcab09916)\" style=\"fill: #ff0000; opacity: 0.9\"/>\n   </g>\n   <g id=\"patch_104\">\n    <path d=\"M 117.201307 294.118125 \nL 117.70858 294.118125 \nL 117.70858 294.118125 \nL 117.201307 294.118125 \nz\n\" clip-path=\"url(#pebcab09916)\" style=\"fill: #ff0000; opacity: 0.9\"/>\n   </g>\n   <g id=\"patch_105\">\n    <path d=\"M 117.70858 294.118125 \nL 118.215852 294.118125 \nL 118.215852 294.118125 \nL 117.70858 294.118125 \nz\n\" clip-path=\"url(#pebcab09916)\" style=\"fill: #ff0000; opacity: 0.9\"/>\n   </g>\n   <g id=\"patch_106\">\n    <path d=\"M 118.215852 294.118125 \nL 118.723125 294.118125 \nL 118.723125 294.118125 \nL 118.215852 294.118125 \nz\n\" clip-path=\"url(#pebcab09916)\" style=\"fill: #ff0000; opacity: 0.9\"/>\n   </g>\n   <g id=\"patch_107\">\n    <path d=\"M 118.723125 294.118125 \nL 119.230398 294.118125 \nL 119.230398 294.118125 \nL 118.723125 294.118125 \nz\n\" clip-path=\"url(#pebcab09916)\" style=\"fill: #ff0000; opacity: 0.9\"/>\n   </g>\n   <g id=\"patch_108\">\n    <path d=\"M 119.230398 294.118125 \nL 119.73767 294.118125 \nL 119.73767 289.234028 \nL 119.230398 289.234028 \nz\n\" clip-path=\"url(#pebcab09916)\" style=\"fill: #ff0000; opacity: 0.9\"/>\n   </g>\n   <g id=\"patch_109\">\n    <path d=\"M 119.73767 294.118125 \nL 120.244943 294.118125 \nL 120.244943 294.118125 \nL 119.73767 294.118125 \nz\n\" clip-path=\"url(#pebcab09916)\" style=\"fill: #ff0000; opacity: 0.9\"/>\n   </g>\n   <g id=\"patch_110\">\n    <path d=\"M 120.244943 294.118125 \nL 120.752216 294.118125 \nL 120.752216 294.118125 \nL 120.244943 294.118125 \nz\n\" clip-path=\"url(#pebcab09916)\" style=\"fill: #ff0000; opacity: 0.9\"/>\n   </g>\n   <g id=\"patch_111\">\n    <path d=\"M 120.752216 294.118125 \nL 121.259489 294.118125 \nL 121.259489 294.118125 \nL 120.752216 294.118125 \nz\n\" clip-path=\"url(#pebcab09916)\" style=\"fill: #ff0000; opacity: 0.9\"/>\n   </g>\n   <g id=\"patch_112\">\n    <path d=\"M 121.259489 294.118125 \nL 121.766761 294.118125 \nL 121.766761 294.118125 \nL 121.259489 294.118125 \nz\n\" clip-path=\"url(#pebcab09916)\" style=\"fill: #ff0000; opacity: 0.9\"/>\n   </g>\n   <g id=\"patch_113\">\n    <path d=\"M 121.766761 294.118125 \nL 122.274034 294.118125 \nL 122.274034 294.118125 \nL 121.766761 294.118125 \nz\n\" clip-path=\"url(#pebcab09916)\" style=\"fill: #ff0000; opacity: 0.9\"/>\n   </g>\n   <g id=\"patch_114\">\n    <path d=\"M 122.274034 294.118125 \nL 122.781307 294.118125 \nL 122.781307 294.118125 \nL 122.274034 294.118125 \nz\n\" clip-path=\"url(#pebcab09916)\" style=\"fill: #ff0000; opacity: 0.9\"/>\n   </g>\n   <g id=\"patch_115\">\n    <path d=\"M 122.781307 294.118125 \nL 123.28858 294.118125 \nL 123.28858 289.234028 \nL 122.781307 289.234028 \nz\n\" clip-path=\"url(#pebcab09916)\" style=\"fill: #ff0000; opacity: 0.9\"/>\n   </g>\n   <g id=\"patch_116\">\n    <path d=\"M 123.28858 294.118125 \nL 123.795852 294.118125 \nL 123.795852 294.118125 \nL 123.28858 294.118125 \nz\n\" clip-path=\"url(#pebcab09916)\" style=\"fill: #ff0000; opacity: 0.9\"/>\n   </g>\n   <g id=\"patch_117\">\n    <path d=\"M 123.795852 294.118125 \nL 124.303125 294.118125 \nL 124.303125 294.118125 \nL 123.795852 294.118125 \nz\n\" clip-path=\"url(#pebcab09916)\" style=\"fill: #ff0000; opacity: 0.9\"/>\n   </g>\n   <g id=\"patch_118\">\n    <path d=\"M 124.303125 294.118125 \nL 124.810398 294.118125 \nL 124.810398 294.118125 \nL 124.303125 294.118125 \nz\n\" clip-path=\"url(#pebcab09916)\" style=\"fill: #ff0000; opacity: 0.9\"/>\n   </g>\n   <g id=\"patch_119\">\n    <path d=\"M 124.810398 294.118125 \nL 125.31767 294.118125 \nL 125.31767 294.118125 \nL 124.810398 294.118125 \nz\n\" clip-path=\"url(#pebcab09916)\" style=\"fill: #ff0000; opacity: 0.9\"/>\n   </g>\n   <g id=\"patch_120\">\n    <path d=\"M 125.31767 294.118125 \nL 125.824943 294.118125 \nL 125.824943 294.118125 \nL 125.31767 294.118125 \nz\n\" clip-path=\"url(#pebcab09916)\" style=\"fill: #ff0000; opacity: 0.9\"/>\n   </g>\n   <g id=\"patch_121\">\n    <path d=\"M 125.824943 294.118125 \nL 126.332216 294.118125 \nL 126.332216 294.118125 \nL 125.824943 294.118125 \nz\n\" clip-path=\"url(#pebcab09916)\" style=\"fill: #ff0000; opacity: 0.9\"/>\n   </g>\n   <g id=\"patch_122\">\n    <path d=\"M 126.332216 294.118125 \nL 126.839489 294.118125 \nL 126.839489 294.118125 \nL 126.332216 294.118125 \nz\n\" clip-path=\"url(#pebcab09916)\" style=\"fill: #ff0000; opacity: 0.9\"/>\n   </g>\n   <g id=\"patch_123\">\n    <path d=\"M 126.839489 294.118125 \nL 127.346761 294.118125 \nL 127.346761 294.118125 \nL 126.839489 294.118125 \nz\n\" clip-path=\"url(#pebcab09916)\" style=\"fill: #ff0000; opacity: 0.9\"/>\n   </g>\n   <g id=\"patch_124\">\n    <path d=\"M 127.346761 294.118125 \nL 127.854034 294.118125 \nL 127.854034 294.118125 \nL 127.346761 294.118125 \nz\n\" clip-path=\"url(#pebcab09916)\" style=\"fill: #ff0000; opacity: 0.9\"/>\n   </g>\n   <g id=\"patch_125\">\n    <path d=\"M 127.854034 294.118125 \nL 128.361307 294.118125 \nL 128.361307 294.118125 \nL 127.854034 294.118125 \nz\n\" clip-path=\"url(#pebcab09916)\" style=\"fill: #ff0000; opacity: 0.9\"/>\n   </g>\n   <g id=\"patch_126\">\n    <path d=\"M 128.361307 294.118125 \nL 128.86858 294.118125 \nL 128.86858 289.234028 \nL 128.361307 289.234028 \nz\n\" clip-path=\"url(#pebcab09916)\" style=\"fill: #ff0000; opacity: 0.9\"/>\n   </g>\n   <g id=\"patch_127\">\n    <path d=\"M 128.86858 294.118125 \nL 129.375852 294.118125 \nL 129.375852 289.234028 \nL 128.86858 289.234028 \nz\n\" clip-path=\"url(#pebcab09916)\" style=\"fill: #ff0000; opacity: 0.9\"/>\n   </g>\n   <g id=\"patch_128\">\n    <path d=\"M 129.375852 294.118125 \nL 129.883125 294.118125 \nL 129.883125 289.234028 \nL 129.375852 289.234028 \nz\n\" clip-path=\"url(#pebcab09916)\" style=\"fill: #ff0000; opacity: 0.9\"/>\n   </g>\n   <g id=\"patch_129\">\n    <path d=\"M 129.883125 294.118125 \nL 130.390398 294.118125 \nL 130.390398 294.118125 \nL 129.883125 294.118125 \nz\n\" clip-path=\"url(#pebcab09916)\" style=\"fill: #ff0000; opacity: 0.9\"/>\n   </g>\n   <g id=\"patch_130\">\n    <path d=\"M 130.390398 294.118125 \nL 130.89767 294.118125 \nL 130.89767 294.118125 \nL 130.390398 294.118125 \nz\n\" clip-path=\"url(#pebcab09916)\" style=\"fill: #ff0000; opacity: 0.9\"/>\n   </g>\n   <g id=\"patch_131\">\n    <path d=\"M 130.89767 294.118125 \nL 131.404943 294.118125 \nL 131.404943 294.118125 \nL 130.89767 294.118125 \nz\n\" clip-path=\"url(#pebcab09916)\" style=\"fill: #ff0000; opacity: 0.9\"/>\n   </g>\n   <g id=\"patch_132\">\n    <path d=\"M 131.404943 294.118125 \nL 131.912216 294.118125 \nL 131.912216 284.349931 \nL 131.404943 284.349931 \nz\n\" clip-path=\"url(#pebcab09916)\" style=\"fill: #ff0000; opacity: 0.9\"/>\n   </g>\n   <g id=\"patch_133\">\n    <path d=\"M 131.912216 294.118125 \nL 132.419489 294.118125 \nL 132.419489 289.234028 \nL 131.912216 289.234028 \nz\n\" clip-path=\"url(#pebcab09916)\" style=\"fill: #ff0000; opacity: 0.9\"/>\n   </g>\n   <g id=\"patch_134\">\n    <path d=\"M 132.419489 294.118125 \nL 132.926761 294.118125 \nL 132.926761 294.118125 \nL 132.419489 294.118125 \nz\n\" clip-path=\"url(#pebcab09916)\" style=\"fill: #ff0000; opacity: 0.9\"/>\n   </g>\n   <g id=\"patch_135\">\n    <path d=\"M 132.926761 294.118125 \nL 133.434034 294.118125 \nL 133.434034 294.118125 \nL 132.926761 294.118125 \nz\n\" clip-path=\"url(#pebcab09916)\" style=\"fill: #ff0000; opacity: 0.9\"/>\n   </g>\n   <g id=\"patch_136\">\n    <path d=\"M 133.434034 294.118125 \nL 133.941307 294.118125 \nL 133.941307 294.118125 \nL 133.434034 294.118125 \nz\n\" clip-path=\"url(#pebcab09916)\" style=\"fill: #ff0000; opacity: 0.9\"/>\n   </g>\n   <g id=\"patch_137\">\n    <path d=\"M 133.941307 294.118125 \nL 134.44858 294.118125 \nL 134.44858 284.349931 \nL 133.941307 284.349931 \nz\n\" clip-path=\"url(#pebcab09916)\" style=\"fill: #ff0000; opacity: 0.9\"/>\n   </g>\n   <g id=\"patch_138\">\n    <path d=\"M 134.44858 294.118125 \nL 134.955852 294.118125 \nL 134.955852 289.234028 \nL 134.44858 289.234028 \nz\n\" clip-path=\"url(#pebcab09916)\" style=\"fill: #ff0000; opacity: 0.9\"/>\n   </g>\n   <g id=\"patch_139\">\n    <path d=\"M 134.955852 294.118125 \nL 135.463125 294.118125 \nL 135.463125 294.118125 \nL 134.955852 294.118125 \nz\n\" clip-path=\"url(#pebcab09916)\" style=\"fill: #ff0000; opacity: 0.9\"/>\n   </g>\n   <g id=\"patch_140\">\n    <path d=\"M 135.463125 294.118125 \nL 135.970398 294.118125 \nL 135.970398 294.118125 \nL 135.463125 294.118125 \nz\n\" clip-path=\"url(#pebcab09916)\" style=\"fill: #ff0000; opacity: 0.9\"/>\n   </g>\n   <g id=\"patch_141\">\n    <path d=\"M 135.970398 294.118125 \nL 136.47767 294.118125 \nL 136.47767 294.118125 \nL 135.970398 294.118125 \nz\n\" clip-path=\"url(#pebcab09916)\" style=\"fill: #ff0000; opacity: 0.9\"/>\n   </g>\n   <g id=\"patch_142\">\n    <path d=\"M 136.47767 294.118125 \nL 136.984943 294.118125 \nL 136.984943 294.118125 \nL 136.47767 294.118125 \nz\n\" clip-path=\"url(#pebcab09916)\" style=\"fill: #ff0000; opacity: 0.9\"/>\n   </g>\n   <g id=\"patch_143\">\n    <path d=\"M 136.984943 294.118125 \nL 137.492216 294.118125 \nL 137.492216 294.118125 \nL 136.984943 294.118125 \nz\n\" clip-path=\"url(#pebcab09916)\" style=\"fill: #ff0000; opacity: 0.9\"/>\n   </g>\n   <g id=\"patch_144\">\n    <path d=\"M 137.492216 294.118125 \nL 137.999489 294.118125 \nL 137.999489 294.118125 \nL 137.492216 294.118125 \nz\n\" clip-path=\"url(#pebcab09916)\" style=\"fill: #ff0000; opacity: 0.9\"/>\n   </g>\n   <g id=\"patch_145\">\n    <path d=\"M 137.999489 294.118125 \nL 138.506761 294.118125 \nL 138.506761 294.118125 \nL 137.999489 294.118125 \nz\n\" clip-path=\"url(#pebcab09916)\" style=\"fill: #ff0000; opacity: 0.9\"/>\n   </g>\n   <g id=\"patch_146\">\n    <path d=\"M 138.506761 294.118125 \nL 139.014034 294.118125 \nL 139.014034 294.118125 \nL 138.506761 294.118125 \nz\n\" clip-path=\"url(#pebcab09916)\" style=\"fill: #ff0000; opacity: 0.9\"/>\n   </g>\n   <g id=\"patch_147\">\n    <path d=\"M 139.014034 294.118125 \nL 139.521307 294.118125 \nL 139.521307 289.234028 \nL 139.014034 289.234028 \nz\n\" clip-path=\"url(#pebcab09916)\" style=\"fill: #ff0000; opacity: 0.9\"/>\n   </g>\n   <g id=\"patch_148\">\n    <path d=\"M 139.521307 294.118125 \nL 140.02858 294.118125 \nL 140.02858 294.118125 \nL 139.521307 294.118125 \nz\n\" clip-path=\"url(#pebcab09916)\" style=\"fill: #ff0000; opacity: 0.9\"/>\n   </g>\n   <g id=\"patch_149\">\n    <path d=\"M 140.02858 294.118125 \nL 140.535852 294.118125 \nL 140.535852 294.118125 \nL 140.02858 294.118125 \nz\n\" clip-path=\"url(#pebcab09916)\" style=\"fill: #ff0000; opacity: 0.9\"/>\n   </g>\n   <g id=\"patch_150\">\n    <path d=\"M 140.535852 294.118125 \nL 141.043125 294.118125 \nL 141.043125 294.118125 \nL 140.535852 294.118125 \nz\n\" clip-path=\"url(#pebcab09916)\" style=\"fill: #ff0000; opacity: 0.9\"/>\n   </g>\n   <g id=\"patch_151\">\n    <path d=\"M 141.043125 294.118125 \nL 141.550398 294.118125 \nL 141.550398 294.118125 \nL 141.043125 294.118125 \nz\n\" clip-path=\"url(#pebcab09916)\" style=\"fill: #ff0000; opacity: 0.9\"/>\n   </g>\n   <g id=\"patch_152\">\n    <path d=\"M 141.550398 294.118125 \nL 142.05767 294.118125 \nL 142.05767 294.118125 \nL 141.550398 294.118125 \nz\n\" clip-path=\"url(#pebcab09916)\" style=\"fill: #ff0000; opacity: 0.9\"/>\n   </g>\n   <g id=\"patch_153\">\n    <path d=\"M 142.05767 294.118125 \nL 142.564943 294.118125 \nL 142.564943 294.118125 \nL 142.05767 294.118125 \nz\n\" clip-path=\"url(#pebcab09916)\" style=\"fill: #ff0000; opacity: 0.9\"/>\n   </g>\n   <g id=\"patch_154\">\n    <path d=\"M 142.564943 294.118125 \nL 143.072216 294.118125 \nL 143.072216 294.118125 \nL 142.564943 294.118125 \nz\n\" clip-path=\"url(#pebcab09916)\" style=\"fill: #ff0000; opacity: 0.9\"/>\n   </g>\n   <g id=\"patch_155\">\n    <path d=\"M 143.072216 294.118125 \nL 143.579489 294.118125 \nL 143.579489 294.118125 \nL 143.072216 294.118125 \nz\n\" clip-path=\"url(#pebcab09916)\" style=\"fill: #ff0000; opacity: 0.9\"/>\n   </g>\n   <g id=\"patch_156\">\n    <path d=\"M 143.579489 294.118125 \nL 144.086761 294.118125 \nL 144.086761 294.118125 \nL 143.579489 294.118125 \nz\n\" clip-path=\"url(#pebcab09916)\" style=\"fill: #ff0000; opacity: 0.9\"/>\n   </g>\n   <g id=\"patch_157\">\n    <path d=\"M 144.086761 294.118125 \nL 144.594034 294.118125 \nL 144.594034 294.118125 \nL 144.086761 294.118125 \nz\n\" clip-path=\"url(#pebcab09916)\" style=\"fill: #ff0000; opacity: 0.9\"/>\n   </g>\n   <g id=\"patch_158\">\n    <path d=\"M 144.594034 294.118125 \nL 145.101307 294.118125 \nL 145.101307 294.118125 \nL 144.594034 294.118125 \nz\n\" clip-path=\"url(#pebcab09916)\" style=\"fill: #ff0000; opacity: 0.9\"/>\n   </g>\n   <g id=\"patch_159\">\n    <path d=\"M 145.101307 294.118125 \nL 145.60858 294.118125 \nL 145.60858 294.118125 \nL 145.101307 294.118125 \nz\n\" clip-path=\"url(#pebcab09916)\" style=\"fill: #ff0000; opacity: 0.9\"/>\n   </g>\n   <g id=\"patch_160\">\n    <path d=\"M 145.60858 294.118125 \nL 146.115852 294.118125 \nL 146.115852 289.234028 \nL 145.60858 289.234028 \nz\n\" clip-path=\"url(#pebcab09916)\" style=\"fill: #ff0000; opacity: 0.9\"/>\n   </g>\n   <g id=\"patch_161\">\n    <path d=\"M 146.115852 294.118125 \nL 146.623125 294.118125 \nL 146.623125 294.118125 \nL 146.115852 294.118125 \nz\n\" clip-path=\"url(#pebcab09916)\" style=\"fill: #ff0000; opacity: 0.9\"/>\n   </g>\n   <g id=\"patch_162\">\n    <path d=\"M 146.623125 294.118125 \nL 147.130398 294.118125 \nL 147.130398 294.118125 \nL 146.623125 294.118125 \nz\n\" clip-path=\"url(#pebcab09916)\" style=\"fill: #ff0000; opacity: 0.9\"/>\n   </g>\n   <g id=\"patch_163\">\n    <path d=\"M 147.130398 294.118125 \nL 147.63767 294.118125 \nL 147.63767 294.118125 \nL 147.130398 294.118125 \nz\n\" clip-path=\"url(#pebcab09916)\" style=\"fill: #ff0000; opacity: 0.9\"/>\n   </g>\n   <g id=\"patch_164\">\n    <path d=\"M 147.63767 294.118125 \nL 148.144943 294.118125 \nL 148.144943 294.118125 \nL 147.63767 294.118125 \nz\n\" clip-path=\"url(#pebcab09916)\" style=\"fill: #ff0000; opacity: 0.9\"/>\n   </g>\n   <g id=\"patch_165\">\n    <path d=\"M 148.144943 294.118125 \nL 148.652216 294.118125 \nL 148.652216 294.118125 \nL 148.144943 294.118125 \nz\n\" clip-path=\"url(#pebcab09916)\" style=\"fill: #ff0000; opacity: 0.9\"/>\n   </g>\n   <g id=\"patch_166\">\n    <path d=\"M 148.652216 294.118125 \nL 149.159489 294.118125 \nL 149.159489 289.234028 \nL 148.652216 289.234028 \nz\n\" clip-path=\"url(#pebcab09916)\" style=\"fill: #ff0000; opacity: 0.9\"/>\n   </g>\n   <g id=\"patch_167\">\n    <path d=\"M 149.159489 294.118125 \nL 149.666761 294.118125 \nL 149.666761 289.234028 \nL 149.159489 289.234028 \nz\n\" clip-path=\"url(#pebcab09916)\" style=\"fill: #ff0000; opacity: 0.9\"/>\n   </g>\n   <g id=\"patch_168\">\n    <path d=\"M 149.666761 294.118125 \nL 150.174034 294.118125 \nL 150.174034 294.118125 \nL 149.666761 294.118125 \nz\n\" clip-path=\"url(#pebcab09916)\" style=\"fill: #ff0000; opacity: 0.9\"/>\n   </g>\n   <g id=\"patch_169\">\n    <path d=\"M 150.174034 294.118125 \nL 150.681307 294.118125 \nL 150.681307 294.118125 \nL 150.174034 294.118125 \nz\n\" clip-path=\"url(#pebcab09916)\" style=\"fill: #ff0000; opacity: 0.9\"/>\n   </g>\n   <g id=\"patch_170\">\n    <path d=\"M 150.681307 294.118125 \nL 151.18858 294.118125 \nL 151.18858 294.118125 \nL 150.681307 294.118125 \nz\n\" clip-path=\"url(#pebcab09916)\" style=\"fill: #ff0000; opacity: 0.9\"/>\n   </g>\n   <g id=\"patch_171\">\n    <path d=\"M 151.18858 294.118125 \nL 151.695852 294.118125 \nL 151.695852 294.118125 \nL 151.18858 294.118125 \nz\n\" clip-path=\"url(#pebcab09916)\" style=\"fill: #ff0000; opacity: 0.9\"/>\n   </g>\n   <g id=\"patch_172\">\n    <path d=\"M 151.695852 294.118125 \nL 152.203125 294.118125 \nL 152.203125 294.118125 \nL 151.695852 294.118125 \nz\n\" clip-path=\"url(#pebcab09916)\" style=\"fill: #ff0000; opacity: 0.9\"/>\n   </g>\n   <g id=\"patch_173\">\n    <path d=\"M 152.203125 294.118125 \nL 152.710398 294.118125 \nL 152.710398 294.118125 \nL 152.203125 294.118125 \nz\n\" clip-path=\"url(#pebcab09916)\" style=\"fill: #ff0000; opacity: 0.9\"/>\n   </g>\n   <g id=\"patch_174\">\n    <path d=\"M 152.710398 294.118125 \nL 153.21767 294.118125 \nL 153.21767 294.118125 \nL 152.710398 294.118125 \nz\n\" clip-path=\"url(#pebcab09916)\" style=\"fill: #ff0000; opacity: 0.9\"/>\n   </g>\n   <g id=\"patch_175\">\n    <path d=\"M 153.21767 294.118125 \nL 153.724943 294.118125 \nL 153.724943 289.234028 \nL 153.21767 289.234028 \nz\n\" clip-path=\"url(#pebcab09916)\" style=\"fill: #ff0000; opacity: 0.9\"/>\n   </g>\n   <g id=\"patch_176\">\n    <path d=\"M 153.724943 294.118125 \nL 154.232216 294.118125 \nL 154.232216 294.118125 \nL 153.724943 294.118125 \nz\n\" clip-path=\"url(#pebcab09916)\" style=\"fill: #ff0000; opacity: 0.9\"/>\n   </g>\n   <g id=\"patch_177\">\n    <path d=\"M 154.232216 294.118125 \nL 154.739489 294.118125 \nL 154.739489 289.234028 \nL 154.232216 289.234028 \nz\n\" clip-path=\"url(#pebcab09916)\" style=\"fill: #ff0000; opacity: 0.9\"/>\n   </g>\n   <g id=\"patch_178\">\n    <path d=\"M 154.739489 294.118125 \nL 155.246761 294.118125 \nL 155.246761 294.118125 \nL 154.739489 294.118125 \nz\n\" clip-path=\"url(#pebcab09916)\" style=\"fill: #ff0000; opacity: 0.9\"/>\n   </g>\n   <g id=\"patch_179\">\n    <path d=\"M 155.246761 294.118125 \nL 155.754034 294.118125 \nL 155.754034 294.118125 \nL 155.246761 294.118125 \nz\n\" clip-path=\"url(#pebcab09916)\" style=\"fill: #ff0000; opacity: 0.9\"/>\n   </g>\n   <g id=\"patch_180\">\n    <path d=\"M 155.754034 294.118125 \nL 156.261307 294.118125 \nL 156.261307 294.118125 \nL 155.754034 294.118125 \nz\n\" clip-path=\"url(#pebcab09916)\" style=\"fill: #ff0000; opacity: 0.9\"/>\n   </g>\n   <g id=\"patch_181\">\n    <path d=\"M 156.261307 294.118125 \nL 156.76858 294.118125 \nL 156.76858 289.234028 \nL 156.261307 289.234028 \nz\n\" clip-path=\"url(#pebcab09916)\" style=\"fill: #ff0000; opacity: 0.9\"/>\n   </g>\n   <g id=\"patch_182\">\n    <path d=\"M 156.76858 294.118125 \nL 157.275852 294.118125 \nL 157.275852 289.234028 \nL 156.76858 289.234028 \nz\n\" clip-path=\"url(#pebcab09916)\" style=\"fill: #ff0000; opacity: 0.9\"/>\n   </g>\n   <g id=\"patch_183\">\n    <path d=\"M 157.275852 294.118125 \nL 157.783125 294.118125 \nL 157.783125 294.118125 \nL 157.275852 294.118125 \nz\n\" clip-path=\"url(#pebcab09916)\" style=\"fill: #ff0000; opacity: 0.9\"/>\n   </g>\n   <g id=\"patch_184\">\n    <path d=\"M 157.783125 294.118125 \nL 158.290398 294.118125 \nL 158.290398 294.118125 \nL 157.783125 294.118125 \nz\n\" clip-path=\"url(#pebcab09916)\" style=\"fill: #ff0000; opacity: 0.9\"/>\n   </g>\n   <g id=\"patch_185\">\n    <path d=\"M 158.290398 294.118125 \nL 158.79767 294.118125 \nL 158.79767 289.234028 \nL 158.290398 289.234028 \nz\n\" clip-path=\"url(#pebcab09916)\" style=\"fill: #ff0000; opacity: 0.9\"/>\n   </g>\n   <g id=\"patch_186\">\n    <path d=\"M 158.79767 294.118125 \nL 159.304943 294.118125 \nL 159.304943 289.234028 \nL 158.79767 289.234028 \nz\n\" clip-path=\"url(#pebcab09916)\" style=\"fill: #ff0000; opacity: 0.9\"/>\n   </g>\n   <g id=\"patch_187\">\n    <path d=\"M 159.304943 294.118125 \nL 159.812216 294.118125 \nL 159.812216 294.118125 \nL 159.304943 294.118125 \nz\n\" clip-path=\"url(#pebcab09916)\" style=\"fill: #ff0000; opacity: 0.9\"/>\n   </g>\n   <g id=\"patch_188\">\n    <path d=\"M 159.812216 294.118125 \nL 160.319489 294.118125 \nL 160.319489 294.118125 \nL 159.812216 294.118125 \nz\n\" clip-path=\"url(#pebcab09916)\" style=\"fill: #ff0000; opacity: 0.9\"/>\n   </g>\n   <g id=\"patch_189\">\n    <path d=\"M 160.319489 294.118125 \nL 160.826761 294.118125 \nL 160.826761 294.118125 \nL 160.319489 294.118125 \nz\n\" clip-path=\"url(#pebcab09916)\" style=\"fill: #ff0000; opacity: 0.9\"/>\n   </g>\n   <g id=\"patch_190\">\n    <path d=\"M 160.826761 294.118125 \nL 161.334034 294.118125 \nL 161.334034 279.465834 \nL 160.826761 279.465834 \nz\n\" clip-path=\"url(#pebcab09916)\" style=\"fill: #ff0000; opacity: 0.9\"/>\n   </g>\n   <g id=\"patch_191\">\n    <path d=\"M 161.334034 294.118125 \nL 161.841307 294.118125 \nL 161.841307 294.118125 \nL 161.334034 294.118125 \nz\n\" clip-path=\"url(#pebcab09916)\" style=\"fill: #ff0000; opacity: 0.9\"/>\n   </g>\n   <g id=\"patch_192\">\n    <path d=\"M 161.841307 294.118125 \nL 162.34858 294.118125 \nL 162.34858 289.234028 \nL 161.841307 289.234028 \nz\n\" clip-path=\"url(#pebcab09916)\" style=\"fill: #ff0000; opacity: 0.9\"/>\n   </g>\n   <g id=\"patch_193\">\n    <path d=\"M 162.34858 294.118125 \nL 162.855852 294.118125 \nL 162.855852 284.349931 \nL 162.34858 284.349931 \nz\n\" clip-path=\"url(#pebcab09916)\" style=\"fill: #ff0000; opacity: 0.9\"/>\n   </g>\n   <g id=\"patch_194\">\n    <path d=\"M 162.855852 294.118125 \nL 163.363125 294.118125 \nL 163.363125 294.118125 \nL 162.855852 294.118125 \nz\n\" clip-path=\"url(#pebcab09916)\" style=\"fill: #ff0000; opacity: 0.9\"/>\n   </g>\n   <g id=\"patch_195\">\n    <path d=\"M 163.363125 294.118125 \nL 163.870398 294.118125 \nL 163.870398 284.349931 \nL 163.363125 284.349931 \nz\n\" clip-path=\"url(#pebcab09916)\" style=\"fill: #ff0000; opacity: 0.9\"/>\n   </g>\n   <g id=\"patch_196\">\n    <path d=\"M 163.870398 294.118125 \nL 164.37767 294.118125 \nL 164.37767 284.349931 \nL 163.870398 284.349931 \nz\n\" clip-path=\"url(#pebcab09916)\" style=\"fill: #ff0000; opacity: 0.9\"/>\n   </g>\n   <g id=\"patch_197\">\n    <path d=\"M 164.37767 294.118125 \nL 164.884943 294.118125 \nL 164.884943 289.234028 \nL 164.37767 289.234028 \nz\n\" clip-path=\"url(#pebcab09916)\" style=\"fill: #ff0000; opacity: 0.9\"/>\n   </g>\n   <g id=\"patch_198\">\n    <path d=\"M 164.884943 294.118125 \nL 165.392216 294.118125 \nL 165.392216 294.118125 \nL 164.884943 294.118125 \nz\n\" clip-path=\"url(#pebcab09916)\" style=\"fill: #ff0000; opacity: 0.9\"/>\n   </g>\n   <g id=\"patch_199\">\n    <path d=\"M 165.392216 294.118125 \nL 165.899489 294.118125 \nL 165.899489 294.118125 \nL 165.392216 294.118125 \nz\n\" clip-path=\"url(#pebcab09916)\" style=\"fill: #ff0000; opacity: 0.9\"/>\n   </g>\n   <g id=\"patch_200\">\n    <path d=\"M 165.899489 294.118125 \nL 166.406761 294.118125 \nL 166.406761 289.234028 \nL 165.899489 289.234028 \nz\n\" clip-path=\"url(#pebcab09916)\" style=\"fill: #ff0000; opacity: 0.9\"/>\n   </g>\n   <g id=\"patch_201\">\n    <path d=\"M 166.406761 294.118125 \nL 166.914034 294.118125 \nL 166.914034 289.234028 \nL 166.406761 289.234028 \nz\n\" clip-path=\"url(#pebcab09916)\" style=\"fill: #ff0000; opacity: 0.9\"/>\n   </g>\n   <g id=\"patch_202\">\n    <path d=\"M 166.914034 294.118125 \nL 167.421307 294.118125 \nL 167.421307 294.118125 \nL 166.914034 294.118125 \nz\n\" clip-path=\"url(#pebcab09916)\" style=\"fill: #ff0000; opacity: 0.9\"/>\n   </g>\n   <g id=\"patch_203\">\n    <path d=\"M 167.421307 294.118125 \nL 167.92858 294.118125 \nL 167.92858 294.118125 \nL 167.421307 294.118125 \nz\n\" clip-path=\"url(#pebcab09916)\" style=\"fill: #ff0000; opacity: 0.9\"/>\n   </g>\n   <g id=\"patch_204\">\n    <path d=\"M 167.92858 294.118125 \nL 168.435852 294.118125 \nL 168.435852 289.234028 \nL 167.92858 289.234028 \nz\n\" clip-path=\"url(#pebcab09916)\" style=\"fill: #ff0000; opacity: 0.9\"/>\n   </g>\n   <g id=\"patch_205\">\n    <path d=\"M 168.435852 294.118125 \nL 168.943125 294.118125 \nL 168.943125 294.118125 \nL 168.435852 294.118125 \nz\n\" clip-path=\"url(#pebcab09916)\" style=\"fill: #ff0000; opacity: 0.9\"/>\n   </g>\n   <g id=\"patch_206\">\n    <path d=\"M 168.943125 294.118125 \nL 169.450398 294.118125 \nL 169.450398 294.118125 \nL 168.943125 294.118125 \nz\n\" clip-path=\"url(#pebcab09916)\" style=\"fill: #ff0000; opacity: 0.9\"/>\n   </g>\n   <g id=\"patch_207\">\n    <path d=\"M 169.450398 294.118125 \nL 169.95767 294.118125 \nL 169.95767 294.118125 \nL 169.450398 294.118125 \nz\n\" clip-path=\"url(#pebcab09916)\" style=\"fill: #ff0000; opacity: 0.9\"/>\n   </g>\n   <g id=\"patch_208\">\n    <path d=\"M 169.95767 294.118125 \nL 170.464943 294.118125 \nL 170.464943 289.234028 \nL 169.95767 289.234028 \nz\n\" clip-path=\"url(#pebcab09916)\" style=\"fill: #ff0000; opacity: 0.9\"/>\n   </g>\n   <g id=\"patch_209\">\n    <path d=\"M 170.464943 294.118125 \nL 170.972216 294.118125 \nL 170.972216 294.118125 \nL 170.464943 294.118125 \nz\n\" clip-path=\"url(#pebcab09916)\" style=\"fill: #ff0000; opacity: 0.9\"/>\n   </g>\n   <g id=\"patch_210\">\n    <path d=\"M 170.972216 294.118125 \nL 171.479489 294.118125 \nL 171.479489 294.118125 \nL 170.972216 294.118125 \nz\n\" clip-path=\"url(#pebcab09916)\" style=\"fill: #ff0000; opacity: 0.9\"/>\n   </g>\n   <g id=\"patch_211\">\n    <path d=\"M 171.479489 294.118125 \nL 171.986761 294.118125 \nL 171.986761 294.118125 \nL 171.479489 294.118125 \nz\n\" clip-path=\"url(#pebcab09916)\" style=\"fill: #ff0000; opacity: 0.9\"/>\n   </g>\n   <g id=\"patch_212\">\n    <path d=\"M 171.986761 294.118125 \nL 172.494034 294.118125 \nL 172.494034 289.234028 \nL 171.986761 289.234028 \nz\n\" clip-path=\"url(#pebcab09916)\" style=\"fill: #ff0000; opacity: 0.9\"/>\n   </g>\n   <g id=\"patch_213\">\n    <path d=\"M 172.494034 294.118125 \nL 173.001307 294.118125 \nL 173.001307 294.118125 \nL 172.494034 294.118125 \nz\n\" clip-path=\"url(#pebcab09916)\" style=\"fill: #ff0000; opacity: 0.9\"/>\n   </g>\n   <g id=\"patch_214\">\n    <path d=\"M 173.001307 294.118125 \nL 173.50858 294.118125 \nL 173.50858 294.118125 \nL 173.001307 294.118125 \nz\n\" clip-path=\"url(#pebcab09916)\" style=\"fill: #ff0000; opacity: 0.9\"/>\n   </g>\n   <g id=\"patch_215\">\n    <path d=\"M 173.50858 294.118125 \nL 174.015852 294.118125 \nL 174.015852 294.118125 \nL 173.50858 294.118125 \nz\n\" clip-path=\"url(#pebcab09916)\" style=\"fill: #ff0000; opacity: 0.9\"/>\n   </g>\n   <g id=\"patch_216\">\n    <path d=\"M 174.015852 294.118125 \nL 174.523125 294.118125 \nL 174.523125 284.349931 \nL 174.015852 284.349931 \nz\n\" clip-path=\"url(#pebcab09916)\" style=\"fill: #ff0000; opacity: 0.9\"/>\n   </g>\n   <g id=\"patch_217\">\n    <path d=\"M 174.523125 294.118125 \nL 175.030398 294.118125 \nL 175.030398 294.118125 \nL 174.523125 294.118125 \nz\n\" clip-path=\"url(#pebcab09916)\" style=\"fill: #ff0000; opacity: 0.9\"/>\n   </g>\n   <g id=\"patch_218\">\n    <path d=\"M 175.030398 294.118125 \nL 175.53767 294.118125 \nL 175.53767 289.234028 \nL 175.030398 289.234028 \nz\n\" clip-path=\"url(#pebcab09916)\" style=\"fill: #ff0000; opacity: 0.9\"/>\n   </g>\n   <g id=\"patch_219\">\n    <path d=\"M 175.53767 294.118125 \nL 176.044943 294.118125 \nL 176.044943 289.234028 \nL 175.53767 289.234028 \nz\n\" clip-path=\"url(#pebcab09916)\" style=\"fill: #ff0000; opacity: 0.9\"/>\n   </g>\n   <g id=\"patch_220\">\n    <path d=\"M 176.044943 294.118125 \nL 176.552216 294.118125 \nL 176.552216 294.118125 \nL 176.044943 294.118125 \nz\n\" clip-path=\"url(#pebcab09916)\" style=\"fill: #ff0000; opacity: 0.9\"/>\n   </g>\n   <g id=\"patch_221\">\n    <path d=\"M 176.552216 294.118125 \nL 177.059489 294.118125 \nL 177.059489 294.118125 \nL 176.552216 294.118125 \nz\n\" clip-path=\"url(#pebcab09916)\" style=\"fill: #ff0000; opacity: 0.9\"/>\n   </g>\n   <g id=\"patch_222\">\n    <path d=\"M 177.059489 294.118125 \nL 177.566761 294.118125 \nL 177.566761 294.118125 \nL 177.059489 294.118125 \nz\n\" clip-path=\"url(#pebcab09916)\" style=\"fill: #ff0000; opacity: 0.9\"/>\n   </g>\n   <g id=\"patch_223\">\n    <path d=\"M 177.566761 294.118125 \nL 178.074034 294.118125 \nL 178.074034 289.234028 \nL 177.566761 289.234028 \nz\n\" clip-path=\"url(#pebcab09916)\" style=\"fill: #ff0000; opacity: 0.9\"/>\n   </g>\n   <g id=\"patch_224\">\n    <path d=\"M 178.074034 294.118125 \nL 178.581307 294.118125 \nL 178.581307 294.118125 \nL 178.074034 294.118125 \nz\n\" clip-path=\"url(#pebcab09916)\" style=\"fill: #ff0000; opacity: 0.9\"/>\n   </g>\n   <g id=\"patch_225\">\n    <path d=\"M 178.581307 294.118125 \nL 179.08858 294.118125 \nL 179.08858 294.118125 \nL 178.581307 294.118125 \nz\n\" clip-path=\"url(#pebcab09916)\" style=\"fill: #ff0000; opacity: 0.9\"/>\n   </g>\n   <g id=\"patch_226\">\n    <path d=\"M 179.08858 294.118125 \nL 179.595852 294.118125 \nL 179.595852 289.234028 \nL 179.08858 289.234028 \nz\n\" clip-path=\"url(#pebcab09916)\" style=\"fill: #ff0000; opacity: 0.9\"/>\n   </g>\n   <g id=\"patch_227\">\n    <path d=\"M 179.595852 294.118125 \nL 180.103125 294.118125 \nL 180.103125 294.118125 \nL 179.595852 294.118125 \nz\n\" clip-path=\"url(#pebcab09916)\" style=\"fill: #ff0000; opacity: 0.9\"/>\n   </g>\n   <g id=\"patch_228\">\n    <path d=\"M 180.103125 294.118125 \nL 180.610398 294.118125 \nL 180.610398 289.234028 \nL 180.103125 289.234028 \nz\n\" clip-path=\"url(#pebcab09916)\" style=\"fill: #ff0000; opacity: 0.9\"/>\n   </g>\n   <g id=\"patch_229\">\n    <path d=\"M 180.610398 294.118125 \nL 181.11767 294.118125 \nL 181.11767 294.118125 \nL 180.610398 294.118125 \nz\n\" clip-path=\"url(#pebcab09916)\" style=\"fill: #ff0000; opacity: 0.9\"/>\n   </g>\n   <g id=\"patch_230\">\n    <path d=\"M 181.11767 294.118125 \nL 181.624943 294.118125 \nL 181.624943 294.118125 \nL 181.11767 294.118125 \nz\n\" clip-path=\"url(#pebcab09916)\" style=\"fill: #ff0000; opacity: 0.9\"/>\n   </g>\n   <g id=\"patch_231\">\n    <path d=\"M 181.624943 294.118125 \nL 182.132216 294.118125 \nL 182.132216 289.234028 \nL 181.624943 289.234028 \nz\n\" clip-path=\"url(#pebcab09916)\" style=\"fill: #ff0000; opacity: 0.9\"/>\n   </g>\n   <g id=\"patch_232\">\n    <path d=\"M 182.132216 294.118125 \nL 182.639489 294.118125 \nL 182.639489 289.234028 \nL 182.132216 289.234028 \nz\n\" clip-path=\"url(#pebcab09916)\" style=\"fill: #ff0000; opacity: 0.9\"/>\n   </g>\n   <g id=\"patch_233\">\n    <path d=\"M 182.639489 294.118125 \nL 183.146761 294.118125 \nL 183.146761 289.234028 \nL 182.639489 289.234028 \nz\n\" clip-path=\"url(#pebcab09916)\" style=\"fill: #ff0000; opacity: 0.9\"/>\n   </g>\n   <g id=\"patch_234\">\n    <path d=\"M 183.146761 294.118125 \nL 183.654034 294.118125 \nL 183.654034 289.234028 \nL 183.146761 289.234028 \nz\n\" clip-path=\"url(#pebcab09916)\" style=\"fill: #ff0000; opacity: 0.9\"/>\n   </g>\n   <g id=\"patch_235\">\n    <path d=\"M 183.654034 294.118125 \nL 184.161307 294.118125 \nL 184.161307 284.349931 \nL 183.654034 284.349931 \nz\n\" clip-path=\"url(#pebcab09916)\" style=\"fill: #ff0000; opacity: 0.9\"/>\n   </g>\n   <g id=\"patch_236\">\n    <path d=\"M 184.161307 294.118125 \nL 184.66858 294.118125 \nL 184.66858 279.465834 \nL 184.161307 279.465834 \nz\n\" clip-path=\"url(#pebcab09916)\" style=\"fill: #ff0000; opacity: 0.9\"/>\n   </g>\n   <g id=\"patch_237\">\n    <path d=\"M 184.66858 294.118125 \nL 185.175852 294.118125 \nL 185.175852 294.118125 \nL 184.66858 294.118125 \nz\n\" clip-path=\"url(#pebcab09916)\" style=\"fill: #ff0000; opacity: 0.9\"/>\n   </g>\n   <g id=\"patch_238\">\n    <path d=\"M 185.175852 294.118125 \nL 185.683125 294.118125 \nL 185.683125 294.118125 \nL 185.175852 294.118125 \nz\n\" clip-path=\"url(#pebcab09916)\" style=\"fill: #ff0000; opacity: 0.9\"/>\n   </g>\n   <g id=\"patch_239\">\n    <path d=\"M 185.683125 294.118125 \nL 186.190398 294.118125 \nL 186.190398 289.234028 \nL 185.683125 289.234028 \nz\n\" clip-path=\"url(#pebcab09916)\" style=\"fill: #ff0000; opacity: 0.9\"/>\n   </g>\n   <g id=\"patch_240\">\n    <path d=\"M 186.190398 294.118125 \nL 186.69767 294.118125 \nL 186.69767 284.349931 \nL 186.190398 284.349931 \nz\n\" clip-path=\"url(#pebcab09916)\" style=\"fill: #ff0000; opacity: 0.9\"/>\n   </g>\n   <g id=\"patch_241\">\n    <path d=\"M 186.69767 294.118125 \nL 187.204943 294.118125 \nL 187.204943 294.118125 \nL 186.69767 294.118125 \nz\n\" clip-path=\"url(#pebcab09916)\" style=\"fill: #ff0000; opacity: 0.9\"/>\n   </g>\n   <g id=\"patch_242\">\n    <path d=\"M 187.204943 294.118125 \nL 187.712216 294.118125 \nL 187.712216 294.118125 \nL 187.204943 294.118125 \nz\n\" clip-path=\"url(#pebcab09916)\" style=\"fill: #ff0000; opacity: 0.9\"/>\n   </g>\n   <g id=\"patch_243\">\n    <path d=\"M 187.712216 294.118125 \nL 188.219489 294.118125 \nL 188.219489 294.118125 \nL 187.712216 294.118125 \nz\n\" clip-path=\"url(#pebcab09916)\" style=\"fill: #ff0000; opacity: 0.9\"/>\n   </g>\n   <g id=\"patch_244\">\n    <path d=\"M 188.219489 294.118125 \nL 188.726761 294.118125 \nL 188.726761 294.118125 \nL 188.219489 294.118125 \nz\n\" clip-path=\"url(#pebcab09916)\" style=\"fill: #ff0000; opacity: 0.9\"/>\n   </g>\n   <g id=\"patch_245\">\n    <path d=\"M 188.726761 294.118125 \nL 189.234034 294.118125 \nL 189.234034 289.234028 \nL 188.726761 289.234028 \nz\n\" clip-path=\"url(#pebcab09916)\" style=\"fill: #ff0000; opacity: 0.9\"/>\n   </g>\n   <g id=\"patch_246\">\n    <path d=\"M 189.234034 294.118125 \nL 189.741307 294.118125 \nL 189.741307 294.118125 \nL 189.234034 294.118125 \nz\n\" clip-path=\"url(#pebcab09916)\" style=\"fill: #ff0000; opacity: 0.9\"/>\n   </g>\n   <g id=\"patch_247\">\n    <path d=\"M 189.741307 294.118125 \nL 190.24858 294.118125 \nL 190.24858 284.349931 \nL 189.741307 284.349931 \nz\n\" clip-path=\"url(#pebcab09916)\" style=\"fill: #ff0000; opacity: 0.9\"/>\n   </g>\n   <g id=\"patch_248\">\n    <path d=\"M 190.24858 294.118125 \nL 190.755852 294.118125 \nL 190.755852 289.234028 \nL 190.24858 289.234028 \nz\n\" clip-path=\"url(#pebcab09916)\" style=\"fill: #ff0000; opacity: 0.9\"/>\n   </g>\n   <g id=\"patch_249\">\n    <path d=\"M 190.755852 294.118125 \nL 191.263125 294.118125 \nL 191.263125 289.234028 \nL 190.755852 289.234028 \nz\n\" clip-path=\"url(#pebcab09916)\" style=\"fill: #ff0000; opacity: 0.9\"/>\n   </g>\n   <g id=\"patch_250\">\n    <path d=\"M 191.263125 294.118125 \nL 191.770398 294.118125 \nL 191.770398 294.118125 \nL 191.263125 294.118125 \nz\n\" clip-path=\"url(#pebcab09916)\" style=\"fill: #ff0000; opacity: 0.9\"/>\n   </g>\n   <g id=\"patch_251\">\n    <path d=\"M 191.770398 294.118125 \nL 192.27767 294.118125 \nL 192.27767 294.118125 \nL 191.770398 294.118125 \nz\n\" clip-path=\"url(#pebcab09916)\" style=\"fill: #ff0000; opacity: 0.9\"/>\n   </g>\n   <g id=\"patch_252\">\n    <path d=\"M 192.27767 294.118125 \nL 192.784943 294.118125 \nL 192.784943 294.118125 \nL 192.27767 294.118125 \nz\n\" clip-path=\"url(#pebcab09916)\" style=\"fill: #ff0000; opacity: 0.9\"/>\n   </g>\n   <g id=\"patch_253\">\n    <path d=\"M 192.784943 294.118125 \nL 193.292216 294.118125 \nL 193.292216 294.118125 \nL 192.784943 294.118125 \nz\n\" clip-path=\"url(#pebcab09916)\" style=\"fill: #ff0000; opacity: 0.9\"/>\n   </g>\n   <g id=\"patch_254\">\n    <path d=\"M 193.292216 294.118125 \nL 193.799489 294.118125 \nL 193.799489 284.349931 \nL 193.292216 284.349931 \nz\n\" clip-path=\"url(#pebcab09916)\" style=\"fill: #ff0000; opacity: 0.9\"/>\n   </g>\n   <g id=\"patch_255\">\n    <path d=\"M 193.799489 294.118125 \nL 194.306761 294.118125 \nL 194.306761 289.234028 \nL 193.799489 289.234028 \nz\n\" clip-path=\"url(#pebcab09916)\" style=\"fill: #ff0000; opacity: 0.9\"/>\n   </g>\n   <g id=\"patch_256\">\n    <path d=\"M 194.306761 294.118125 \nL 194.814034 294.118125 \nL 194.814034 294.118125 \nL 194.306761 294.118125 \nz\n\" clip-path=\"url(#pebcab09916)\" style=\"fill: #ff0000; opacity: 0.9\"/>\n   </g>\n   <g id=\"patch_257\">\n    <path d=\"M 194.814034 294.118125 \nL 195.321307 294.118125 \nL 195.321307 294.118125 \nL 194.814034 294.118125 \nz\n\" clip-path=\"url(#pebcab09916)\" style=\"fill: #ff0000; opacity: 0.9\"/>\n   </g>\n   <g id=\"patch_258\">\n    <path d=\"M 195.321307 294.118125 \nL 195.82858 294.118125 \nL 195.82858 279.465834 \nL 195.321307 279.465834 \nz\n\" clip-path=\"url(#pebcab09916)\" style=\"fill: #ff0000; opacity: 0.9\"/>\n   </g>\n   <g id=\"patch_259\">\n    <path d=\"M 195.82858 294.118125 \nL 196.335852 294.118125 \nL 196.335852 289.234028 \nL 195.82858 289.234028 \nz\n\" clip-path=\"url(#pebcab09916)\" style=\"fill: #ff0000; opacity: 0.9\"/>\n   </g>\n   <g id=\"patch_260\">\n    <path d=\"M 196.335852 294.118125 \nL 196.843125 294.118125 \nL 196.843125 284.349931 \nL 196.335852 284.349931 \nz\n\" clip-path=\"url(#pebcab09916)\" style=\"fill: #ff0000; opacity: 0.9\"/>\n   </g>\n   <g id=\"patch_261\">\n    <path d=\"M 196.843125 294.118125 \nL 197.350398 294.118125 \nL 197.350398 294.118125 \nL 196.843125 294.118125 \nz\n\" clip-path=\"url(#pebcab09916)\" style=\"fill: #ff0000; opacity: 0.9\"/>\n   </g>\n   <g id=\"patch_262\">\n    <path d=\"M 197.350398 294.118125 \nL 197.85767 294.118125 \nL 197.85767 294.118125 \nL 197.350398 294.118125 \nz\n\" clip-path=\"url(#pebcab09916)\" style=\"fill: #ff0000; opacity: 0.9\"/>\n   </g>\n   <g id=\"patch_263\">\n    <path d=\"M 197.85767 294.118125 \nL 198.364943 294.118125 \nL 198.364943 284.349931 \nL 197.85767 284.349931 \nz\n\" clip-path=\"url(#pebcab09916)\" style=\"fill: #ff0000; opacity: 0.9\"/>\n   </g>\n   <g id=\"patch_264\">\n    <path d=\"M 198.364943 294.118125 \nL 198.872216 294.118125 \nL 198.872216 284.349931 \nL 198.364943 284.349931 \nz\n\" clip-path=\"url(#pebcab09916)\" style=\"fill: #ff0000; opacity: 0.9\"/>\n   </g>\n   <g id=\"patch_265\">\n    <path d=\"M 198.872216 294.118125 \nL 199.379489 294.118125 \nL 199.379489 294.118125 \nL 198.872216 294.118125 \nz\n\" clip-path=\"url(#pebcab09916)\" style=\"fill: #ff0000; opacity: 0.9\"/>\n   </g>\n   <g id=\"patch_266\">\n    <path d=\"M 199.379489 294.118125 \nL 199.886761 294.118125 \nL 199.886761 289.234028 \nL 199.379489 289.234028 \nz\n\" clip-path=\"url(#pebcab09916)\" style=\"fill: #ff0000; opacity: 0.9\"/>\n   </g>\n   <g id=\"patch_267\">\n    <path d=\"M 199.886761 294.118125 \nL 200.394034 294.118125 \nL 200.394034 294.118125 \nL 199.886761 294.118125 \nz\n\" clip-path=\"url(#pebcab09916)\" style=\"fill: #ff0000; opacity: 0.9\"/>\n   </g>\n   <g id=\"patch_268\">\n    <path d=\"M 200.394034 294.118125 \nL 200.901307 294.118125 \nL 200.901307 289.234028 \nL 200.394034 289.234028 \nz\n\" clip-path=\"url(#pebcab09916)\" style=\"fill: #ff0000; opacity: 0.9\"/>\n   </g>\n   <g id=\"patch_269\">\n    <path d=\"M 200.901307 294.118125 \nL 201.40858 294.118125 \nL 201.40858 284.349931 \nL 200.901307 284.349931 \nz\n\" clip-path=\"url(#pebcab09916)\" style=\"fill: #ff0000; opacity: 0.9\"/>\n   </g>\n   <g id=\"patch_270\">\n    <path d=\"M 201.40858 294.118125 \nL 201.915852 294.118125 \nL 201.915852 294.118125 \nL 201.40858 294.118125 \nz\n\" clip-path=\"url(#pebcab09916)\" style=\"fill: #ff0000; opacity: 0.9\"/>\n   </g>\n   <g id=\"patch_271\">\n    <path d=\"M 201.915852 294.118125 \nL 202.423125 294.118125 \nL 202.423125 284.349931 \nL 201.915852 284.349931 \nz\n\" clip-path=\"url(#pebcab09916)\" style=\"fill: #ff0000; opacity: 0.9\"/>\n   </g>\n   <g id=\"patch_272\">\n    <path d=\"M 202.423125 294.118125 \nL 202.930398 294.118125 \nL 202.930398 294.118125 \nL 202.423125 294.118125 \nz\n\" clip-path=\"url(#pebcab09916)\" style=\"fill: #ff0000; opacity: 0.9\"/>\n   </g>\n   <g id=\"patch_273\">\n    <path d=\"M 202.930398 294.118125 \nL 203.43767 294.118125 \nL 203.43767 284.349931 \nL 202.930398 284.349931 \nz\n\" clip-path=\"url(#pebcab09916)\" style=\"fill: #ff0000; opacity: 0.9\"/>\n   </g>\n   <g id=\"patch_274\">\n    <path d=\"M 203.43767 294.118125 \nL 203.944943 294.118125 \nL 203.944943 289.234028 \nL 203.43767 289.234028 \nz\n\" clip-path=\"url(#pebcab09916)\" style=\"fill: #ff0000; opacity: 0.9\"/>\n   </g>\n   <g id=\"patch_275\">\n    <path d=\"M 203.944943 294.118125 \nL 204.452216 294.118125 \nL 204.452216 289.234028 \nL 203.944943 289.234028 \nz\n\" clip-path=\"url(#pebcab09916)\" style=\"fill: #ff0000; opacity: 0.9\"/>\n   </g>\n   <g id=\"patch_276\">\n    <path d=\"M 204.452216 294.118125 \nL 204.959489 294.118125 \nL 204.959489 294.118125 \nL 204.452216 294.118125 \nz\n\" clip-path=\"url(#pebcab09916)\" style=\"fill: #ff0000; opacity: 0.9\"/>\n   </g>\n   <g id=\"patch_277\">\n    <path d=\"M 204.959489 294.118125 \nL 205.466761 294.118125 \nL 205.466761 284.349931 \nL 204.959489 284.349931 \nz\n\" clip-path=\"url(#pebcab09916)\" style=\"fill: #ff0000; opacity: 0.9\"/>\n   </g>\n   <g id=\"patch_278\">\n    <path d=\"M 205.466761 294.118125 \nL 205.974034 294.118125 \nL 205.974034 289.234028 \nL 205.466761 289.234028 \nz\n\" clip-path=\"url(#pebcab09916)\" style=\"fill: #ff0000; opacity: 0.9\"/>\n   </g>\n   <g id=\"patch_279\">\n    <path d=\"M 205.974034 294.118125 \nL 206.481307 294.118125 \nL 206.481307 279.465834 \nL 205.974034 279.465834 \nz\n\" clip-path=\"url(#pebcab09916)\" style=\"fill: #ff0000; opacity: 0.9\"/>\n   </g>\n   <g id=\"patch_280\">\n    <path d=\"M 206.481307 294.118125 \nL 206.98858 294.118125 \nL 206.98858 289.234028 \nL 206.481307 289.234028 \nz\n\" clip-path=\"url(#pebcab09916)\" style=\"fill: #ff0000; opacity: 0.9\"/>\n   </g>\n   <g id=\"patch_281\">\n    <path d=\"M 206.98858 294.118125 \nL 207.495852 294.118125 \nL 207.495852 284.349931 \nL 206.98858 284.349931 \nz\n\" clip-path=\"url(#pebcab09916)\" style=\"fill: #ff0000; opacity: 0.9\"/>\n   </g>\n   <g id=\"patch_282\">\n    <path d=\"M 207.495852 294.118125 \nL 208.003125 294.118125 \nL 208.003125 289.234028 \nL 207.495852 289.234028 \nz\n\" clip-path=\"url(#pebcab09916)\" style=\"fill: #ff0000; opacity: 0.9\"/>\n   </g>\n   <g id=\"patch_283\">\n    <path d=\"M 208.003125 294.118125 \nL 208.510398 294.118125 \nL 208.510398 289.234028 \nL 208.003125 289.234028 \nz\n\" clip-path=\"url(#pebcab09916)\" style=\"fill: #ff0000; opacity: 0.9\"/>\n   </g>\n   <g id=\"patch_284\">\n    <path d=\"M 208.510398 294.118125 \nL 209.01767 294.118125 \nL 209.01767 289.234028 \nL 208.510398 289.234028 \nz\n\" clip-path=\"url(#pebcab09916)\" style=\"fill: #ff0000; opacity: 0.9\"/>\n   </g>\n   <g id=\"patch_285\">\n    <path d=\"M 209.01767 294.118125 \nL 209.524943 294.118125 \nL 209.524943 289.234028 \nL 209.01767 289.234028 \nz\n\" clip-path=\"url(#pebcab09916)\" style=\"fill: #ff0000; opacity: 0.9\"/>\n   </g>\n   <g id=\"patch_286\">\n    <path d=\"M 209.524943 294.118125 \nL 210.032216 294.118125 \nL 210.032216 289.234028 \nL 209.524943 289.234028 \nz\n\" clip-path=\"url(#pebcab09916)\" style=\"fill: #ff0000; opacity: 0.9\"/>\n   </g>\n   <g id=\"patch_287\">\n    <path d=\"M 210.032216 294.118125 \nL 210.539489 294.118125 \nL 210.539489 289.234028 \nL 210.032216 289.234028 \nz\n\" clip-path=\"url(#pebcab09916)\" style=\"fill: #ff0000; opacity: 0.9\"/>\n   </g>\n   <g id=\"patch_288\">\n    <path d=\"M 210.539489 294.118125 \nL 211.046761 294.118125 \nL 211.046761 289.234028 \nL 210.539489 289.234028 \nz\n\" clip-path=\"url(#pebcab09916)\" style=\"fill: #ff0000; opacity: 0.9\"/>\n   </g>\n   <g id=\"patch_289\">\n    <path d=\"M 211.046761 294.118125 \nL 211.554034 294.118125 \nL 211.554034 289.234028 \nL 211.046761 289.234028 \nz\n\" clip-path=\"url(#pebcab09916)\" style=\"fill: #ff0000; opacity: 0.9\"/>\n   </g>\n   <g id=\"patch_290\">\n    <path d=\"M 211.554034 294.118125 \nL 212.061307 294.118125 \nL 212.061307 279.465834 \nL 211.554034 279.465834 \nz\n\" clip-path=\"url(#pebcab09916)\" style=\"fill: #ff0000; opacity: 0.9\"/>\n   </g>\n   <g id=\"patch_291\">\n    <path d=\"M 212.061307 294.118125 \nL 212.56858 294.118125 \nL 212.56858 289.234028 \nL 212.061307 289.234028 \nz\n\" clip-path=\"url(#pebcab09916)\" style=\"fill: #ff0000; opacity: 0.9\"/>\n   </g>\n   <g id=\"patch_292\">\n    <path d=\"M 212.56858 294.118125 \nL 213.075852 294.118125 \nL 213.075852 274.581737 \nL 212.56858 274.581737 \nz\n\" clip-path=\"url(#pebcab09916)\" style=\"fill: #ff0000; opacity: 0.9\"/>\n   </g>\n   <g id=\"patch_293\">\n    <path d=\"M 213.075852 294.118125 \nL 213.583125 294.118125 \nL 213.583125 289.234028 \nL 213.075852 289.234028 \nz\n\" clip-path=\"url(#pebcab09916)\" style=\"fill: #ff0000; opacity: 0.9\"/>\n   </g>\n   <g id=\"patch_294\">\n    <path d=\"M 213.583125 294.118125 \nL 214.090398 294.118125 \nL 214.090398 284.349931 \nL 213.583125 284.349931 \nz\n\" clip-path=\"url(#pebcab09916)\" style=\"fill: #ff0000; opacity: 0.9\"/>\n   </g>\n   <g id=\"patch_295\">\n    <path d=\"M 214.090398 294.118125 \nL 214.59767 294.118125 \nL 214.59767 294.118125 \nL 214.090398 294.118125 \nz\n\" clip-path=\"url(#pebcab09916)\" style=\"fill: #ff0000; opacity: 0.9\"/>\n   </g>\n   <g id=\"patch_296\">\n    <path d=\"M 214.59767 294.118125 \nL 215.104943 294.118125 \nL 215.104943 289.234028 \nL 214.59767 289.234028 \nz\n\" clip-path=\"url(#pebcab09916)\" style=\"fill: #ff0000; opacity: 0.9\"/>\n   </g>\n   <g id=\"patch_297\">\n    <path d=\"M 215.104943 294.118125 \nL 215.612216 294.118125 \nL 215.612216 279.465834 \nL 215.104943 279.465834 \nz\n\" clip-path=\"url(#pebcab09916)\" style=\"fill: #ff0000; opacity: 0.9\"/>\n   </g>\n   <g id=\"patch_298\">\n    <path d=\"M 215.612216 294.118125 \nL 216.119489 294.118125 \nL 216.119489 294.118125 \nL 215.612216 294.118125 \nz\n\" clip-path=\"url(#pebcab09916)\" style=\"fill: #ff0000; opacity: 0.9\"/>\n   </g>\n   <g id=\"patch_299\">\n    <path d=\"M 216.119489 294.118125 \nL 216.626761 294.118125 \nL 216.626761 279.465834 \nL 216.119489 279.465834 \nz\n\" clip-path=\"url(#pebcab09916)\" style=\"fill: #ff0000; opacity: 0.9\"/>\n   </g>\n   <g id=\"patch_300\">\n    <path d=\"M 216.626761 294.118125 \nL 217.134034 294.118125 \nL 217.134034 279.465834 \nL 216.626761 279.465834 \nz\n\" clip-path=\"url(#pebcab09916)\" style=\"fill: #ff0000; opacity: 0.9\"/>\n   </g>\n   <g id=\"patch_301\">\n    <path d=\"M 217.134034 294.118125 \nL 217.641307 294.118125 \nL 217.641307 294.118125 \nL 217.134034 294.118125 \nz\n\" clip-path=\"url(#pebcab09916)\" style=\"fill: #ff0000; opacity: 0.9\"/>\n   </g>\n   <g id=\"patch_302\">\n    <path d=\"M 217.641307 294.118125 \nL 218.14858 294.118125 \nL 218.14858 289.234028 \nL 217.641307 289.234028 \nz\n\" clip-path=\"url(#pebcab09916)\" style=\"fill: #ff0000; opacity: 0.9\"/>\n   </g>\n   <g id=\"patch_303\">\n    <path d=\"M 218.14858 294.118125 \nL 218.655852 294.118125 \nL 218.655852 289.234028 \nL 218.14858 289.234028 \nz\n\" clip-path=\"url(#pebcab09916)\" style=\"fill: #ff0000; opacity: 0.9\"/>\n   </g>\n   <g id=\"patch_304\">\n    <path d=\"M 218.655852 294.118125 \nL 219.163125 294.118125 \nL 219.163125 284.349931 \nL 218.655852 284.349931 \nz\n\" clip-path=\"url(#pebcab09916)\" style=\"fill: #ff0000; opacity: 0.9\"/>\n   </g>\n   <g id=\"patch_305\">\n    <path d=\"M 219.163125 294.118125 \nL 219.670398 294.118125 \nL 219.670398 289.234028 \nL 219.163125 289.234028 \nz\n\" clip-path=\"url(#pebcab09916)\" style=\"fill: #ff0000; opacity: 0.9\"/>\n   </g>\n   <g id=\"patch_306\">\n    <path d=\"M 219.670398 294.118125 \nL 220.17767 294.118125 \nL 220.17767 294.118125 \nL 219.670398 294.118125 \nz\n\" clip-path=\"url(#pebcab09916)\" style=\"fill: #ff0000; opacity: 0.9\"/>\n   </g>\n   <g id=\"patch_307\">\n    <path d=\"M 220.17767 294.118125 \nL 220.684943 294.118125 \nL 220.684943 289.234028 \nL 220.17767 289.234028 \nz\n\" clip-path=\"url(#pebcab09916)\" style=\"fill: #ff0000; opacity: 0.9\"/>\n   </g>\n   <g id=\"patch_308\">\n    <path d=\"M 220.684943 294.118125 \nL 221.192216 294.118125 \nL 221.192216 289.234028 \nL 220.684943 289.234028 \nz\n\" clip-path=\"url(#pebcab09916)\" style=\"fill: #ff0000; opacity: 0.9\"/>\n   </g>\n   <g id=\"patch_309\">\n    <path d=\"M 221.192216 294.118125 \nL 221.699489 294.118125 \nL 221.699489 284.349931 \nL 221.192216 284.349931 \nz\n\" clip-path=\"url(#pebcab09916)\" style=\"fill: #ff0000; opacity: 0.9\"/>\n   </g>\n   <g id=\"patch_310\">\n    <path d=\"M 221.699489 294.118125 \nL 222.206761 294.118125 \nL 222.206761 279.465834 \nL 221.699489 279.465834 \nz\n\" clip-path=\"url(#pebcab09916)\" style=\"fill: #ff0000; opacity: 0.9\"/>\n   </g>\n   <g id=\"patch_311\">\n    <path d=\"M 222.206761 294.118125 \nL 222.714034 294.118125 \nL 222.714034 294.118125 \nL 222.206761 294.118125 \nz\n\" clip-path=\"url(#pebcab09916)\" style=\"fill: #ff0000; opacity: 0.9\"/>\n   </g>\n   <g id=\"patch_312\">\n    <path d=\"M 222.714034 294.118125 \nL 223.221307 294.118125 \nL 223.221307 279.465834 \nL 222.714034 279.465834 \nz\n\" clip-path=\"url(#pebcab09916)\" style=\"fill: #ff0000; opacity: 0.9\"/>\n   </g>\n   <g id=\"patch_313\">\n    <path d=\"M 223.221307 294.118125 \nL 223.72858 294.118125 \nL 223.72858 269.69764 \nL 223.221307 269.69764 \nz\n\" clip-path=\"url(#pebcab09916)\" style=\"fill: #ff0000; opacity: 0.9\"/>\n   </g>\n   <g id=\"patch_314\">\n    <path d=\"M 223.72858 294.118125 \nL 224.235852 294.118125 \nL 224.235852 289.234028 \nL 223.72858 289.234028 \nz\n\" clip-path=\"url(#pebcab09916)\" style=\"fill: #ff0000; opacity: 0.9\"/>\n   </g>\n   <g id=\"patch_315\">\n    <path d=\"M 224.235852 294.118125 \nL 224.743125 294.118125 \nL 224.743125 279.465834 \nL 224.235852 279.465834 \nz\n\" clip-path=\"url(#pebcab09916)\" style=\"fill: #ff0000; opacity: 0.9\"/>\n   </g>\n   <g id=\"patch_316\">\n    <path d=\"M 224.743125 294.118125 \nL 225.250398 294.118125 \nL 225.250398 279.465834 \nL 224.743125 279.465834 \nz\n\" clip-path=\"url(#pebcab09916)\" style=\"fill: #ff0000; opacity: 0.9\"/>\n   </g>\n   <g id=\"patch_317\">\n    <path d=\"M 225.250398 294.118125 \nL 225.75767 294.118125 \nL 225.75767 284.349931 \nL 225.250398 284.349931 \nz\n\" clip-path=\"url(#pebcab09916)\" style=\"fill: #ff0000; opacity: 0.9\"/>\n   </g>\n   <g id=\"patch_318\">\n    <path d=\"M 225.75767 294.118125 \nL 226.264943 294.118125 \nL 226.264943 274.581737 \nL 225.75767 274.581737 \nz\n\" clip-path=\"url(#pebcab09916)\" style=\"fill: #ff0000; opacity: 0.9\"/>\n   </g>\n   <g id=\"patch_319\">\n    <path d=\"M 226.264943 294.118125 \nL 226.772216 294.118125 \nL 226.772216 269.69764 \nL 226.264943 269.69764 \nz\n\" clip-path=\"url(#pebcab09916)\" style=\"fill: #ff0000; opacity: 0.9\"/>\n   </g>\n   <g id=\"patch_320\">\n    <path d=\"M 226.772216 294.118125 \nL 227.279489 294.118125 \nL 227.279489 279.465834 \nL 226.772216 279.465834 \nz\n\" clip-path=\"url(#pebcab09916)\" style=\"fill: #ff0000; opacity: 0.9\"/>\n   </g>\n   <g id=\"patch_321\">\n    <path d=\"M 227.279489 294.118125 \nL 227.786761 294.118125 \nL 227.786761 289.234028 \nL 227.279489 289.234028 \nz\n\" clip-path=\"url(#pebcab09916)\" style=\"fill: #ff0000; opacity: 0.9\"/>\n   </g>\n   <g id=\"patch_322\">\n    <path d=\"M 227.786761 294.118125 \nL 228.294034 294.118125 \nL 228.294034 279.465834 \nL 227.786761 279.465834 \nz\n\" clip-path=\"url(#pebcab09916)\" style=\"fill: #ff0000; opacity: 0.9\"/>\n   </g>\n   <g id=\"patch_323\">\n    <path d=\"M 228.294034 294.118125 \nL 228.801307 294.118125 \nL 228.801307 289.234028 \nL 228.294034 289.234028 \nz\n\" clip-path=\"url(#pebcab09916)\" style=\"fill: #ff0000; opacity: 0.9\"/>\n   </g>\n   <g id=\"patch_324\">\n    <path d=\"M 228.801307 294.118125 \nL 229.30858 294.118125 \nL 229.30858 259.929446 \nL 228.801307 259.929446 \nz\n\" clip-path=\"url(#pebcab09916)\" style=\"fill: #ff0000; opacity: 0.9\"/>\n   </g>\n   <g id=\"patch_325\">\n    <path d=\"M 229.30858 294.118125 \nL 229.815852 294.118125 \nL 229.815852 284.349931 \nL 229.30858 284.349931 \nz\n\" clip-path=\"url(#pebcab09916)\" style=\"fill: #ff0000; opacity: 0.9\"/>\n   </g>\n   <g id=\"patch_326\">\n    <path d=\"M 229.815852 294.118125 \nL 230.323125 294.118125 \nL 230.323125 284.349931 \nL 229.815852 284.349931 \nz\n\" clip-path=\"url(#pebcab09916)\" style=\"fill: #ff0000; opacity: 0.9\"/>\n   </g>\n   <g id=\"patch_327\">\n    <path d=\"M 230.323125 294.118125 \nL 230.830398 294.118125 \nL 230.830398 279.465834 \nL 230.323125 279.465834 \nz\n\" clip-path=\"url(#pebcab09916)\" style=\"fill: #ff0000; opacity: 0.9\"/>\n   </g>\n   <g id=\"patch_328\">\n    <path d=\"M 230.830398 294.118125 \nL 231.33767 294.118125 \nL 231.33767 284.349931 \nL 230.830398 284.349931 \nz\n\" clip-path=\"url(#pebcab09916)\" style=\"fill: #ff0000; opacity: 0.9\"/>\n   </g>\n   <g id=\"patch_329\">\n    <path d=\"M 231.33767 294.118125 \nL 231.844943 294.118125 \nL 231.844943 279.465834 \nL 231.33767 279.465834 \nz\n\" clip-path=\"url(#pebcab09916)\" style=\"fill: #ff0000; opacity: 0.9\"/>\n   </g>\n   <g id=\"patch_330\">\n    <path d=\"M 231.844943 294.118125 \nL 232.352216 294.118125 \nL 232.352216 289.234028 \nL 231.844943 289.234028 \nz\n\" clip-path=\"url(#pebcab09916)\" style=\"fill: #ff0000; opacity: 0.9\"/>\n   </g>\n   <g id=\"patch_331\">\n    <path d=\"M 232.352216 294.118125 \nL 232.859489 294.118125 \nL 232.859489 289.234028 \nL 232.352216 289.234028 \nz\n\" clip-path=\"url(#pebcab09916)\" style=\"fill: #ff0000; opacity: 0.9\"/>\n   </g>\n   <g id=\"patch_332\">\n    <path d=\"M 232.859489 294.118125 \nL 233.366761 294.118125 \nL 233.366761 279.465834 \nL 232.859489 279.465834 \nz\n\" clip-path=\"url(#pebcab09916)\" style=\"fill: #ff0000; opacity: 0.9\"/>\n   </g>\n   <g id=\"patch_333\">\n    <path d=\"M 233.366761 294.118125 \nL 233.874034 294.118125 \nL 233.874034 269.69764 \nL 233.366761 269.69764 \nz\n\" clip-path=\"url(#pebcab09916)\" style=\"fill: #ff0000; opacity: 0.9\"/>\n   </g>\n   <g id=\"patch_334\">\n    <path d=\"M 233.874034 294.118125 \nL 234.381307 294.118125 \nL 234.381307 279.465834 \nL 233.874034 279.465834 \nz\n\" clip-path=\"url(#pebcab09916)\" style=\"fill: #ff0000; opacity: 0.9\"/>\n   </g>\n   <g id=\"patch_335\">\n    <path d=\"M 234.381307 294.118125 \nL 234.88858 294.118125 \nL 234.88858 259.929446 \nL 234.381307 259.929446 \nz\n\" clip-path=\"url(#pebcab09916)\" style=\"fill: #ff0000; opacity: 0.9\"/>\n   </g>\n   <g id=\"patch_336\">\n    <path d=\"M 234.88858 294.118125 \nL 235.395852 294.118125 \nL 235.395852 294.118125 \nL 234.88858 294.118125 \nz\n\" clip-path=\"url(#pebcab09916)\" style=\"fill: #ff0000; opacity: 0.9\"/>\n   </g>\n   <g id=\"patch_337\">\n    <path d=\"M 235.395852 294.118125 \nL 235.903125 294.118125 \nL 235.903125 264.813543 \nL 235.395852 264.813543 \nz\n\" clip-path=\"url(#pebcab09916)\" style=\"fill: #ff0000; opacity: 0.9\"/>\n   </g>\n   <g id=\"patch_338\">\n    <path d=\"M 235.903125 294.118125 \nL 236.410398 294.118125 \nL 236.410398 289.234028 \nL 235.903125 289.234028 \nz\n\" clip-path=\"url(#pebcab09916)\" style=\"fill: #ff0000; opacity: 0.9\"/>\n   </g>\n   <g id=\"patch_339\">\n    <path d=\"M 236.410398 294.118125 \nL 236.91767 294.118125 \nL 236.91767 289.234028 \nL 236.410398 289.234028 \nz\n\" clip-path=\"url(#pebcab09916)\" style=\"fill: #ff0000; opacity: 0.9\"/>\n   </g>\n   <g id=\"patch_340\">\n    <path d=\"M 236.91767 294.118125 \nL 237.424943 294.118125 \nL 237.424943 274.581737 \nL 236.91767 274.581737 \nz\n\" clip-path=\"url(#pebcab09916)\" style=\"fill: #ff0000; opacity: 0.9\"/>\n   </g>\n   <g id=\"patch_341\">\n    <path d=\"M 237.424943 294.118125 \nL 237.932216 294.118125 \nL 237.932216 274.581737 \nL 237.424943 274.581737 \nz\n\" clip-path=\"url(#pebcab09916)\" style=\"fill: #ff0000; opacity: 0.9\"/>\n   </g>\n   <g id=\"patch_342\">\n    <path d=\"M 237.932216 294.118125 \nL 238.439489 294.118125 \nL 238.439489 269.69764 \nL 237.932216 269.69764 \nz\n\" clip-path=\"url(#pebcab09916)\" style=\"fill: #ff0000; opacity: 0.9\"/>\n   </g>\n   <g id=\"patch_343\">\n    <path d=\"M 238.439489 294.118125 \nL 238.946761 294.118125 \nL 238.946761 274.581737 \nL 238.439489 274.581737 \nz\n\" clip-path=\"url(#pebcab09916)\" style=\"fill: #ff0000; opacity: 0.9\"/>\n   </g>\n   <g id=\"patch_344\">\n    <path d=\"M 238.946761 294.118125 \nL 239.454034 294.118125 \nL 239.454034 289.234028 \nL 238.946761 289.234028 \nz\n\" clip-path=\"url(#pebcab09916)\" style=\"fill: #ff0000; opacity: 0.9\"/>\n   </g>\n   <g id=\"patch_345\">\n    <path d=\"M 239.454034 294.118125 \nL 239.961307 294.118125 \nL 239.961307 264.813543 \nL 239.454034 264.813543 \nz\n\" clip-path=\"url(#pebcab09916)\" style=\"fill: #ff0000; opacity: 0.9\"/>\n   </g>\n   <g id=\"patch_346\">\n    <path d=\"M 239.961307 294.118125 \nL 240.46858 294.118125 \nL 240.46858 274.581737 \nL 239.961307 274.581737 \nz\n\" clip-path=\"url(#pebcab09916)\" style=\"fill: #ff0000; opacity: 0.9\"/>\n   </g>\n   <g id=\"patch_347\">\n    <path d=\"M 240.46858 294.118125 \nL 240.975852 294.118125 \nL 240.975852 284.349931 \nL 240.46858 284.349931 \nz\n\" clip-path=\"url(#pebcab09916)\" style=\"fill: #ff0000; opacity: 0.9\"/>\n   </g>\n   <g id=\"patch_348\">\n    <path d=\"M 240.975852 294.118125 \nL 241.483125 294.118125 \nL 241.483125 269.69764 \nL 240.975852 269.69764 \nz\n\" clip-path=\"url(#pebcab09916)\" style=\"fill: #ff0000; opacity: 0.9\"/>\n   </g>\n   <g id=\"patch_349\">\n    <path d=\"M 241.483125 294.118125 \nL 241.990398 294.118125 \nL 241.990398 274.581737 \nL 241.483125 274.581737 \nz\n\" clip-path=\"url(#pebcab09916)\" style=\"fill: #ff0000; opacity: 0.9\"/>\n   </g>\n   <g id=\"patch_350\">\n    <path d=\"M 241.990398 294.118125 \nL 242.49767 294.118125 \nL 242.49767 259.929446 \nL 241.990398 259.929446 \nz\n\" clip-path=\"url(#pebcab09916)\" style=\"fill: #ff0000; opacity: 0.9\"/>\n   </g>\n   <g id=\"patch_351\">\n    <path d=\"M 242.49767 294.118125 \nL 243.004943 294.118125 \nL 243.004943 250.161252 \nL 242.49767 250.161252 \nz\n\" clip-path=\"url(#pebcab09916)\" style=\"fill: #ff0000; opacity: 0.9\"/>\n   </g>\n   <g id=\"patch_352\">\n    <path d=\"M 243.004943 294.118125 \nL 243.512216 294.118125 \nL 243.512216 274.581737 \nL 243.004943 274.581737 \nz\n\" clip-path=\"url(#pebcab09916)\" style=\"fill: #ff0000; opacity: 0.9\"/>\n   </g>\n   <g id=\"patch_353\">\n    <path d=\"M 243.512216 294.118125 \nL 244.019489 294.118125 \nL 244.019489 274.581737 \nL 243.512216 274.581737 \nz\n\" clip-path=\"url(#pebcab09916)\" style=\"fill: #ff0000; opacity: 0.9\"/>\n   </g>\n   <g id=\"patch_354\">\n    <path d=\"M 244.019489 294.118125 \nL 244.526761 294.118125 \nL 244.526761 279.465834 \nL 244.019489 279.465834 \nz\n\" clip-path=\"url(#pebcab09916)\" style=\"fill: #ff0000; opacity: 0.9\"/>\n   </g>\n   <g id=\"patch_355\">\n    <path d=\"M 244.526761 294.118125 \nL 245.034034 294.118125 \nL 245.034034 279.465834 \nL 244.526761 279.465834 \nz\n\" clip-path=\"url(#pebcab09916)\" style=\"fill: #ff0000; opacity: 0.9\"/>\n   </g>\n   <g id=\"patch_356\">\n    <path d=\"M 245.034034 294.118125 \nL 245.541307 294.118125 \nL 245.541307 279.465834 \nL 245.034034 279.465834 \nz\n\" clip-path=\"url(#pebcab09916)\" style=\"fill: #ff0000; opacity: 0.9\"/>\n   </g>\n   <g id=\"patch_357\">\n    <path d=\"M 245.541307 294.118125 \nL 246.04858 294.118125 \nL 246.04858 279.465834 \nL 245.541307 279.465834 \nz\n\" clip-path=\"url(#pebcab09916)\" style=\"fill: #ff0000; opacity: 0.9\"/>\n   </g>\n   <g id=\"patch_358\">\n    <path d=\"M 246.04858 294.118125 \nL 246.555852 294.118125 \nL 246.555852 269.69764 \nL 246.04858 269.69764 \nz\n\" clip-path=\"url(#pebcab09916)\" style=\"fill: #ff0000; opacity: 0.9\"/>\n   </g>\n   <g id=\"patch_359\">\n    <path d=\"M 246.555852 294.118125 \nL 247.063125 294.118125 \nL 247.063125 269.69764 \nL 246.555852 269.69764 \nz\n\" clip-path=\"url(#pebcab09916)\" style=\"fill: #ff0000; opacity: 0.9\"/>\n   </g>\n   <g id=\"patch_360\">\n    <path d=\"M 247.063125 294.118125 \nL 247.570398 294.118125 \nL 247.570398 279.465834 \nL 247.063125 279.465834 \nz\n\" clip-path=\"url(#pebcab09916)\" style=\"fill: #ff0000; opacity: 0.9\"/>\n   </g>\n   <g id=\"patch_361\">\n    <path d=\"M 247.570398 294.118125 \nL 248.07767 294.118125 \nL 248.07767 250.161252 \nL 247.570398 250.161252 \nz\n\" clip-path=\"url(#pebcab09916)\" style=\"fill: #ff0000; opacity: 0.9\"/>\n   </g>\n   <g id=\"patch_362\">\n    <path d=\"M 248.07767 294.118125 \nL 248.584943 294.118125 \nL 248.584943 289.234028 \nL 248.07767 289.234028 \nz\n\" clip-path=\"url(#pebcab09916)\" style=\"fill: #ff0000; opacity: 0.9\"/>\n   </g>\n   <g id=\"patch_363\">\n    <path d=\"M 248.584943 294.118125 \nL 249.092216 294.118125 \nL 249.092216 264.813543 \nL 248.584943 264.813543 \nz\n\" clip-path=\"url(#pebcab09916)\" style=\"fill: #ff0000; opacity: 0.9\"/>\n   </g>\n   <g id=\"patch_364\">\n    <path d=\"M 249.092216 294.118125 \nL 249.599489 294.118125 \nL 249.599489 255.045349 \nL 249.092216 255.045349 \nz\n\" clip-path=\"url(#pebcab09916)\" style=\"fill: #ff0000; opacity: 0.9\"/>\n   </g>\n   <g id=\"patch_365\">\n    <path d=\"M 249.599489 294.118125 \nL 250.106761 294.118125 \nL 250.106761 279.465834 \nL 249.599489 279.465834 \nz\n\" clip-path=\"url(#pebcab09916)\" style=\"fill: #ff0000; opacity: 0.9\"/>\n   </g>\n   <g id=\"patch_366\">\n    <path d=\"M 250.106761 294.118125 \nL 250.614034 294.118125 \nL 250.614034 269.69764 \nL 250.106761 269.69764 \nz\n\" clip-path=\"url(#pebcab09916)\" style=\"fill: #ff0000; opacity: 0.9\"/>\n   </g>\n   <g id=\"patch_367\">\n    <path d=\"M 250.614034 294.118125 \nL 251.121307 294.118125 \nL 251.121307 250.161252 \nL 250.614034 250.161252 \nz\n\" clip-path=\"url(#pebcab09916)\" style=\"fill: #ff0000; opacity: 0.9\"/>\n   </g>\n   <g id=\"patch_368\">\n    <path d=\"M 251.121307 294.118125 \nL 251.62858 294.118125 \nL 251.62858 269.69764 \nL 251.121307 269.69764 \nz\n\" clip-path=\"url(#pebcab09916)\" style=\"fill: #ff0000; opacity: 0.9\"/>\n   </g>\n   <g id=\"patch_369\">\n    <path d=\"M 251.62858 294.118125 \nL 252.135852 294.118125 \nL 252.135852 269.69764 \nL 251.62858 269.69764 \nz\n\" clip-path=\"url(#pebcab09916)\" style=\"fill: #ff0000; opacity: 0.9\"/>\n   </g>\n   <g id=\"patch_370\">\n    <path d=\"M 252.135852 294.118125 \nL 252.643125 294.118125 \nL 252.643125 259.929446 \nL 252.135852 259.929446 \nz\n\" clip-path=\"url(#pebcab09916)\" style=\"fill: #ff0000; opacity: 0.9\"/>\n   </g>\n   <g id=\"patch_371\">\n    <path d=\"M 252.643125 294.118125 \nL 253.150398 294.118125 \nL 253.150398 250.161252 \nL 252.643125 250.161252 \nz\n\" clip-path=\"url(#pebcab09916)\" style=\"fill: #ff0000; opacity: 0.9\"/>\n   </g>\n   <g id=\"patch_372\">\n    <path d=\"M 253.150398 294.118125 \nL 253.65767 294.118125 \nL 253.65767 264.813543 \nL 253.150398 264.813543 \nz\n\" clip-path=\"url(#pebcab09916)\" style=\"fill: #ff0000; opacity: 0.9\"/>\n   </g>\n   <g id=\"patch_373\">\n    <path d=\"M 253.65767 294.118125 \nL 254.164943 294.118125 \nL 254.164943 245.277155 \nL 253.65767 245.277155 \nz\n\" clip-path=\"url(#pebcab09916)\" style=\"fill: #ff0000; opacity: 0.9\"/>\n   </g>\n   <g id=\"patch_374\">\n    <path d=\"M 254.164943 294.118125 \nL 254.672216 294.118125 \nL 254.672216 230.624864 \nL 254.164943 230.624864 \nz\n\" clip-path=\"url(#pebcab09916)\" style=\"fill: #ff0000; opacity: 0.9\"/>\n   </g>\n   <g id=\"patch_375\">\n    <path d=\"M 254.672216 294.118125 \nL 255.179489 294.118125 \nL 255.179489 250.161252 \nL 254.672216 250.161252 \nz\n\" clip-path=\"url(#pebcab09916)\" style=\"fill: #ff0000; opacity: 0.9\"/>\n   </g>\n   <g id=\"patch_376\">\n    <path d=\"M 255.179489 294.118125 \nL 255.686761 294.118125 \nL 255.686761 259.929446 \nL 255.179489 259.929446 \nz\n\" clip-path=\"url(#pebcab09916)\" style=\"fill: #ff0000; opacity: 0.9\"/>\n   </g>\n   <g id=\"patch_377\">\n    <path d=\"M 255.686761 294.118125 \nL 256.194034 294.118125 \nL 256.194034 264.813543 \nL 255.686761 264.813543 \nz\n\" clip-path=\"url(#pebcab09916)\" style=\"fill: #ff0000; opacity: 0.9\"/>\n   </g>\n   <g id=\"patch_378\">\n    <path d=\"M 256.194034 294.118125 \nL 256.701307 294.118125 \nL 256.701307 259.929446 \nL 256.194034 259.929446 \nz\n\" clip-path=\"url(#pebcab09916)\" style=\"fill: #ff0000; opacity: 0.9\"/>\n   </g>\n   <g id=\"patch_379\">\n    <path d=\"M 256.701307 294.118125 \nL 257.20858 294.118125 \nL 257.20858 255.045349 \nL 256.701307 255.045349 \nz\n\" clip-path=\"url(#pebcab09916)\" style=\"fill: #ff0000; opacity: 0.9\"/>\n   </g>\n   <g id=\"patch_380\">\n    <path d=\"M 257.20858 294.118125 \nL 257.715852 294.118125 \nL 257.715852 269.69764 \nL 257.20858 269.69764 \nz\n\" clip-path=\"url(#pebcab09916)\" style=\"fill: #ff0000; opacity: 0.9\"/>\n   </g>\n   <g id=\"patch_381\">\n    <path d=\"M 257.715852 294.118125 \nL 258.223125 294.118125 \nL 258.223125 269.69764 \nL 257.715852 269.69764 \nz\n\" clip-path=\"url(#pebcab09916)\" style=\"fill: #ff0000; opacity: 0.9\"/>\n   </g>\n   <g id=\"patch_382\">\n    <path d=\"M 258.223125 294.118125 \nL 258.730398 294.118125 \nL 258.730398 259.929446 \nL 258.223125 259.929446 \nz\n\" clip-path=\"url(#pebcab09916)\" style=\"fill: #ff0000; opacity: 0.9\"/>\n   </g>\n   <g id=\"patch_383\">\n    <path d=\"M 258.730398 294.118125 \nL 259.23767 294.118125 \nL 259.23767 255.045349 \nL 258.730398 255.045349 \nz\n\" clip-path=\"url(#pebcab09916)\" style=\"fill: #ff0000; opacity: 0.9\"/>\n   </g>\n   <g id=\"patch_384\">\n    <path d=\"M 259.23767 294.118125 \nL 259.744943 294.118125 \nL 259.744943 235.508961 \nL 259.23767 235.508961 \nz\n\" clip-path=\"url(#pebcab09916)\" style=\"fill: #ff0000; opacity: 0.9\"/>\n   </g>\n   <g id=\"patch_385\">\n    <path d=\"M 259.744943 294.118125 \nL 260.252216 294.118125 \nL 260.252216 245.277155 \nL 259.744943 245.277155 \nz\n\" clip-path=\"url(#pebcab09916)\" style=\"fill: #ff0000; opacity: 0.9\"/>\n   </g>\n   <g id=\"patch_386\">\n    <path d=\"M 260.252216 294.118125 \nL 260.759489 294.118125 \nL 260.759489 259.929446 \nL 260.252216 259.929446 \nz\n\" clip-path=\"url(#pebcab09916)\" style=\"fill: #ff0000; opacity: 0.9\"/>\n   </g>\n   <g id=\"patch_387\">\n    <path d=\"M 260.759489 294.118125 \nL 261.266761 294.118125 \nL 261.266761 255.045349 \nL 260.759489 255.045349 \nz\n\" clip-path=\"url(#pebcab09916)\" style=\"fill: #ff0000; opacity: 0.9\"/>\n   </g>\n   <g id=\"patch_388\">\n    <path d=\"M 261.266761 294.118125 \nL 261.774034 294.118125 \nL 261.774034 230.624864 \nL 261.266761 230.624864 \nz\n\" clip-path=\"url(#pebcab09916)\" style=\"fill: #ff0000; opacity: 0.9\"/>\n   </g>\n   <g id=\"patch_389\">\n    <path d=\"M 261.774034 294.118125 \nL 262.281307 294.118125 \nL 262.281307 235.508961 \nL 261.774034 235.508961 \nz\n\" clip-path=\"url(#pebcab09916)\" style=\"fill: #ff0000; opacity: 0.9\"/>\n   </g>\n   <g id=\"patch_390\">\n    <path d=\"M 262.281307 294.118125 \nL 262.78858 294.118125 \nL 262.78858 230.624864 \nL 262.281307 230.624864 \nz\n\" clip-path=\"url(#pebcab09916)\" style=\"fill: #ff0000; opacity: 0.9\"/>\n   </g>\n   <g id=\"patch_391\">\n    <path d=\"M 262.78858 294.118125 \nL 263.295852 294.118125 \nL 263.295852 259.929446 \nL 262.78858 259.929446 \nz\n\" clip-path=\"url(#pebcab09916)\" style=\"fill: #ff0000; opacity: 0.9\"/>\n   </g>\n   <g id=\"patch_392\">\n    <path d=\"M 263.295852 294.118125 \nL 263.803125 294.118125 \nL 263.803125 264.813543 \nL 263.295852 264.813543 \nz\n\" clip-path=\"url(#pebcab09916)\" style=\"fill: #ff0000; opacity: 0.9\"/>\n   </g>\n   <g id=\"patch_393\">\n    <path d=\"M 263.803125 294.118125 \nL 264.310398 294.118125 \nL 264.310398 240.393058 \nL 263.803125 240.393058 \nz\n\" clip-path=\"url(#pebcab09916)\" style=\"fill: #ff0000; opacity: 0.9\"/>\n   </g>\n   <g id=\"patch_394\">\n    <path d=\"M 264.310398 294.118125 \nL 264.81767 294.118125 \nL 264.81767 250.161252 \nL 264.310398 250.161252 \nz\n\" clip-path=\"url(#pebcab09916)\" style=\"fill: #ff0000; opacity: 0.9\"/>\n   </g>\n   <g id=\"patch_395\">\n    <path d=\"M 264.81767 294.118125 \nL 265.324943 294.118125 \nL 265.324943 230.624864 \nL 264.81767 230.624864 \nz\n\" clip-path=\"url(#pebcab09916)\" style=\"fill: #ff0000; opacity: 0.9\"/>\n   </g>\n   <g id=\"patch_396\">\n    <path d=\"M 265.324943 294.118125 \nL 265.832216 294.118125 \nL 265.832216 269.69764 \nL 265.324943 269.69764 \nz\n\" clip-path=\"url(#pebcab09916)\" style=\"fill: #ff0000; opacity: 0.9\"/>\n   </g>\n   <g id=\"patch_397\">\n    <path d=\"M 265.832216 294.118125 \nL 266.339489 294.118125 \nL 266.339489 264.813543 \nL 265.832216 264.813543 \nz\n\" clip-path=\"url(#pebcab09916)\" style=\"fill: #ff0000; opacity: 0.9\"/>\n   </g>\n   <g id=\"patch_398\">\n    <path d=\"M 266.339489 294.118125 \nL 266.846761 294.118125 \nL 266.846761 240.393058 \nL 266.339489 240.393058 \nz\n\" clip-path=\"url(#pebcab09916)\" style=\"fill: #ff0000; opacity: 0.9\"/>\n   </g>\n   <g id=\"patch_399\">\n    <path d=\"M 266.846761 294.118125 \nL 267.354034 294.118125 \nL 267.354034 245.277155 \nL 266.846761 245.277155 \nz\n\" clip-path=\"url(#pebcab09916)\" style=\"fill: #ff0000; opacity: 0.9\"/>\n   </g>\n   <g id=\"patch_400\">\n    <path d=\"M 267.354034 294.118125 \nL 267.861307 294.118125 \nL 267.861307 215.972572 \nL 267.354034 215.972572 \nz\n\" clip-path=\"url(#pebcab09916)\" style=\"fill: #ff0000; opacity: 0.9\"/>\n   </g>\n   <g id=\"patch_401\">\n    <path d=\"M 267.861307 294.118125 \nL 268.36858 294.118125 \nL 268.36858 230.624864 \nL 267.861307 230.624864 \nz\n\" clip-path=\"url(#pebcab09916)\" style=\"fill: #ff0000; opacity: 0.9\"/>\n   </g>\n   <g id=\"patch_402\">\n    <path d=\"M 268.36858 294.118125 \nL 268.875852 294.118125 \nL 268.875852 235.508961 \nL 268.36858 235.508961 \nz\n\" clip-path=\"url(#pebcab09916)\" style=\"fill: #ff0000; opacity: 0.9\"/>\n   </g>\n   <g id=\"patch_403\">\n    <path d=\"M 268.875852 294.118125 \nL 269.383125 294.118125 \nL 269.383125 264.813543 \nL 268.875852 264.813543 \nz\n\" clip-path=\"url(#pebcab09916)\" style=\"fill: #ff0000; opacity: 0.9\"/>\n   </g>\n   <g id=\"patch_404\">\n    <path d=\"M 269.383125 294.118125 \nL 269.890398 294.118125 \nL 269.890398 264.813543 \nL 269.383125 264.813543 \nz\n\" clip-path=\"url(#pebcab09916)\" style=\"fill: #ff0000; opacity: 0.9\"/>\n   </g>\n   <g id=\"patch_405\">\n    <path d=\"M 269.890398 294.118125 \nL 270.39767 294.118125 \nL 270.39767 240.393058 \nL 269.890398 240.393058 \nz\n\" clip-path=\"url(#pebcab09916)\" style=\"fill: #ff0000; opacity: 0.9\"/>\n   </g>\n   <g id=\"patch_406\">\n    <path d=\"M 270.39767 294.118125 \nL 270.904943 294.118125 \nL 270.904943 245.277155 \nL 270.39767 245.277155 \nz\n\" clip-path=\"url(#pebcab09916)\" style=\"fill: #ff0000; opacity: 0.9\"/>\n   </g>\n   <g id=\"patch_407\">\n    <path d=\"M 270.904943 294.118125 \nL 271.412216 294.118125 \nL 271.412216 225.740767 \nL 270.904943 225.740767 \nz\n\" clip-path=\"url(#pebcab09916)\" style=\"fill: #ff0000; opacity: 0.9\"/>\n   </g>\n   <g id=\"patch_408\">\n    <path d=\"M 271.412216 294.118125 \nL 271.919489 294.118125 \nL 271.919489 269.69764 \nL 271.412216 269.69764 \nz\n\" clip-path=\"url(#pebcab09916)\" style=\"fill: #ff0000; opacity: 0.9\"/>\n   </g>\n   <g id=\"patch_409\">\n    <path d=\"M 271.919489 294.118125 \nL 272.426761 294.118125 \nL 272.426761 191.552087 \nL 271.919489 191.552087 \nz\n\" clip-path=\"url(#pebcab09916)\" style=\"fill: #ff0000; opacity: 0.9\"/>\n   </g>\n   <g id=\"patch_410\">\n    <path d=\"M 272.426761 294.118125 \nL 272.934034 294.118125 \nL 272.934034 225.740767 \nL 272.426761 225.740767 \nz\n\" clip-path=\"url(#pebcab09916)\" style=\"fill: #ff0000; opacity: 0.9\"/>\n   </g>\n   <g id=\"patch_411\">\n    <path d=\"M 272.934034 294.118125 \nL 273.441307 294.118125 \nL 273.441307 230.624864 \nL 272.934034 230.624864 \nz\n\" clip-path=\"url(#pebcab09916)\" style=\"fill: #ff0000; opacity: 0.9\"/>\n   </g>\n   <g id=\"patch_412\">\n    <path d=\"M 273.441307 294.118125 \nL 273.94858 294.118125 \nL 273.94858 240.393058 \nL 273.441307 240.393058 \nz\n\" clip-path=\"url(#pebcab09916)\" style=\"fill: #ff0000; opacity: 0.9\"/>\n   </g>\n   <g id=\"patch_413\">\n    <path d=\"M 273.94858 294.118125 \nL 274.455852 294.118125 \nL 274.455852 220.856669 \nL 273.94858 220.856669 \nz\n\" clip-path=\"url(#pebcab09916)\" style=\"fill: #ff0000; opacity: 0.9\"/>\n   </g>\n   <g id=\"patch_414\">\n    <path d=\"M 274.455852 294.118125 \nL 274.963125 294.118125 \nL 274.963125 269.69764 \nL 274.455852 269.69764 \nz\n\" clip-path=\"url(#pebcab09916)\" style=\"fill: #ff0000; opacity: 0.9\"/>\n   </g>\n   <g id=\"patch_415\">\n    <path d=\"M 274.963125 294.118125 \nL 275.470398 294.118125 \nL 275.470398 201.320281 \nL 274.963125 201.320281 \nz\n\" clip-path=\"url(#pebcab09916)\" style=\"fill: #ff0000; opacity: 0.9\"/>\n   </g>\n   <g id=\"patch_416\">\n    <path d=\"M 275.470398 294.118125 \nL 275.97767 294.118125 \nL 275.97767 201.320281 \nL 275.470398 201.320281 \nz\n\" clip-path=\"url(#pebcab09916)\" style=\"fill: #ff0000; opacity: 0.9\"/>\n   </g>\n   <g id=\"patch_417\">\n    <path d=\"M 275.97767 294.118125 \nL 276.484943 294.118125 \nL 276.484943 186.66799 \nL 275.97767 186.66799 \nz\n\" clip-path=\"url(#pebcab09916)\" style=\"fill: #ff0000; opacity: 0.9\"/>\n   </g>\n   <g id=\"patch_418\">\n    <path d=\"M 276.484943 294.118125 \nL 276.992216 294.118125 \nL 276.992216 235.508961 \nL 276.484943 235.508961 \nz\n\" clip-path=\"url(#pebcab09916)\" style=\"fill: #ff0000; opacity: 0.9\"/>\n   </g>\n   <g id=\"patch_419\">\n    <path d=\"M 276.992216 294.118125 \nL 277.499489 294.118125 \nL 277.499489 220.856669 \nL 276.992216 220.856669 \nz\n\" clip-path=\"url(#pebcab09916)\" style=\"fill: #ff0000; opacity: 0.9\"/>\n   </g>\n   <g id=\"patch_420\">\n    <path d=\"M 277.499489 294.118125 \nL 278.006761 294.118125 \nL 278.006761 211.088475 \nL 277.499489 211.088475 \nz\n\" clip-path=\"url(#pebcab09916)\" style=\"fill: #ff0000; opacity: 0.9\"/>\n   </g>\n   <g id=\"patch_421\">\n    <path d=\"M 278.006761 294.118125 \nL 278.514034 294.118125 \nL 278.514034 245.277155 \nL 278.006761 245.277155 \nz\n\" clip-path=\"url(#pebcab09916)\" style=\"fill: #ff0000; opacity: 0.9\"/>\n   </g>\n   <g id=\"patch_422\">\n    <path d=\"M 278.514034 294.118125 \nL 279.021307 294.118125 \nL 279.021307 201.320281 \nL 278.514034 201.320281 \nz\n\" clip-path=\"url(#pebcab09916)\" style=\"fill: #ff0000; opacity: 0.9\"/>\n   </g>\n   <g id=\"patch_423\">\n    <path d=\"M 279.021307 294.118125 \nL 279.52858 294.118125 \nL 279.52858 211.088475 \nL 279.021307 211.088475 \nz\n\" clip-path=\"url(#pebcab09916)\" style=\"fill: #ff0000; opacity: 0.9\"/>\n   </g>\n   <g id=\"patch_424\">\n    <path d=\"M 279.52858 294.118125 \nL 280.035852 294.118125 \nL 280.035852 181.783893 \nL 279.52858 181.783893 \nz\n\" clip-path=\"url(#pebcab09916)\" style=\"fill: #ff0000; opacity: 0.9\"/>\n   </g>\n   <g id=\"patch_425\">\n    <path d=\"M 280.035852 294.118125 \nL 280.543125 294.118125 \nL 280.543125 191.552087 \nL 280.035852 191.552087 \nz\n\" clip-path=\"url(#pebcab09916)\" style=\"fill: #ff0000; opacity: 0.9\"/>\n   </g>\n   <g id=\"patch_426\">\n    <path d=\"M 280.543125 294.118125 \nL 281.050398 294.118125 \nL 281.050398 191.552087 \nL 280.543125 191.552087 \nz\n\" clip-path=\"url(#pebcab09916)\" style=\"fill: #ff0000; opacity: 0.9\"/>\n   </g>\n   <g id=\"patch_427\">\n    <path d=\"M 281.050398 294.118125 \nL 281.55767 294.118125 \nL 281.55767 181.783893 \nL 281.050398 181.783893 \nz\n\" clip-path=\"url(#pebcab09916)\" style=\"fill: #ff0000; opacity: 0.9\"/>\n   </g>\n   <g id=\"patch_428\">\n    <path d=\"M 281.55767 294.118125 \nL 282.064943 294.118125 \nL 282.064943 206.204378 \nL 281.55767 206.204378 \nz\n\" clip-path=\"url(#pebcab09916)\" style=\"fill: #ff0000; opacity: 0.9\"/>\n   </g>\n   <g id=\"patch_429\">\n    <path d=\"M 282.064943 294.118125 \nL 282.572216 294.118125 \nL 282.572216 176.899796 \nL 282.064943 176.899796 \nz\n\" clip-path=\"url(#pebcab09916)\" style=\"fill: #ff0000; opacity: 0.9\"/>\n   </g>\n   <g id=\"patch_430\">\n    <path d=\"M 282.572216 294.118125 \nL 283.079489 294.118125 \nL 283.079489 201.320281 \nL 282.572216 201.320281 \nz\n\" clip-path=\"url(#pebcab09916)\" style=\"fill: #ff0000; opacity: 0.9\"/>\n   </g>\n   <g id=\"patch_431\">\n    <path d=\"M 283.079489 294.118125 \nL 283.586761 294.118125 \nL 283.586761 186.66799 \nL 283.079489 186.66799 \nz\n\" clip-path=\"url(#pebcab09916)\" style=\"fill: #ff0000; opacity: 0.9\"/>\n   </g>\n   <g id=\"patch_432\">\n    <path d=\"M 283.586761 294.118125 \nL 284.094034 294.118125 \nL 284.094034 196.436184 \nL 283.586761 196.436184 \nz\n\" clip-path=\"url(#pebcab09916)\" style=\"fill: #ff0000; opacity: 0.9\"/>\n   </g>\n   <g id=\"patch_433\">\n    <path d=\"M 284.094034 294.118125 \nL 284.601307 294.118125 \nL 284.601307 162.247505 \nL 284.094034 162.247505 \nz\n\" clip-path=\"url(#pebcab09916)\" style=\"fill: #ff0000; opacity: 0.9\"/>\n   </g>\n   <g id=\"patch_434\">\n    <path d=\"M 284.601307 294.118125 \nL 285.10858 294.118125 \nL 285.10858 181.783893 \nL 284.601307 181.783893 \nz\n\" clip-path=\"url(#pebcab09916)\" style=\"fill: #ff0000; opacity: 0.9\"/>\n   </g>\n   <g id=\"patch_435\">\n    <path d=\"M 285.10858 294.118125 \nL 285.615852 294.118125 \nL 285.615852 201.320281 \nL 285.10858 201.320281 \nz\n\" clip-path=\"url(#pebcab09916)\" style=\"fill: #ff0000; opacity: 0.9\"/>\n   </g>\n   <g id=\"patch_436\">\n    <path d=\"M 285.615852 294.118125 \nL 286.123125 294.118125 \nL 286.123125 157.363408 \nL 285.615852 157.363408 \nz\n\" clip-path=\"url(#pebcab09916)\" style=\"fill: #ff0000; opacity: 0.9\"/>\n   </g>\n   <g id=\"patch_437\">\n    <path d=\"M 286.123125 294.118125 \nL 286.630398 294.118125 \nL 286.630398 181.783893 \nL 286.123125 181.783893 \nz\n\" clip-path=\"url(#pebcab09916)\" style=\"fill: #ff0000; opacity: 0.9\"/>\n   </g>\n   <g id=\"patch_438\">\n    <path d=\"M 286.630398 294.118125 \nL 287.13767 294.118125 \nL 287.13767 191.552087 \nL 286.630398 191.552087 \nz\n\" clip-path=\"url(#pebcab09916)\" style=\"fill: #ff0000; opacity: 0.9\"/>\n   </g>\n   <g id=\"patch_439\">\n    <path d=\"M 287.13767 294.118125 \nL 287.644943 294.118125 \nL 287.644943 157.363408 \nL 287.13767 157.363408 \nz\n\" clip-path=\"url(#pebcab09916)\" style=\"fill: #ff0000; opacity: 0.9\"/>\n   </g>\n   <g id=\"patch_440\">\n    <path d=\"M 287.644943 294.118125 \nL 288.152216 294.118125 \nL 288.152216 172.015699 \nL 287.644943 172.015699 \nz\n\" clip-path=\"url(#pebcab09916)\" style=\"fill: #ff0000; opacity: 0.9\"/>\n   </g>\n   <g id=\"patch_441\">\n    <path d=\"M 288.152216 294.118125 \nL 288.659489 294.118125 \nL 288.659489 191.552087 \nL 288.152216 191.552087 \nz\n\" clip-path=\"url(#pebcab09916)\" style=\"fill: #ff0000; opacity: 0.9\"/>\n   </g>\n   <g id=\"patch_442\">\n    <path d=\"M 288.659489 294.118125 \nL 289.166761 294.118125 \nL 289.166761 176.899796 \nL 288.659489 176.899796 \nz\n\" clip-path=\"url(#pebcab09916)\" style=\"fill: #ff0000; opacity: 0.9\"/>\n   </g>\n   <g id=\"patch_443\">\n    <path d=\"M 289.166761 294.118125 \nL 289.674034 294.118125 \nL 289.674034 123.174729 \nL 289.166761 123.174729 \nz\n\" clip-path=\"url(#pebcab09916)\" style=\"fill: #ff0000; opacity: 0.9\"/>\n   </g>\n   <g id=\"patch_444\">\n    <path d=\"M 289.674034 294.118125 \nL 290.181307 294.118125 \nL 290.181307 191.552087 \nL 289.674034 191.552087 \nz\n\" clip-path=\"url(#pebcab09916)\" style=\"fill: #ff0000; opacity: 0.9\"/>\n   </g>\n   <g id=\"patch_445\">\n    <path d=\"M 290.181307 294.118125 \nL 290.68858 294.118125 \nL 290.68858 128.058826 \nL 290.181307 128.058826 \nz\n\" clip-path=\"url(#pebcab09916)\" style=\"fill: #ff0000; opacity: 0.9\"/>\n   </g>\n   <g id=\"patch_446\">\n    <path d=\"M 290.68858 294.118125 \nL 291.195852 294.118125 \nL 291.195852 186.66799 \nL 290.68858 186.66799 \nz\n\" clip-path=\"url(#pebcab09916)\" style=\"fill: #ff0000; opacity: 0.9\"/>\n   </g>\n   <g id=\"patch_447\">\n    <path d=\"M 291.195852 294.118125 \nL 291.703125 294.118125 \nL 291.703125 142.711117 \nL 291.195852 142.711117 \nz\n\" clip-path=\"url(#pebcab09916)\" style=\"fill: #ff0000; opacity: 0.9\"/>\n   </g>\n   <g id=\"patch_448\">\n    <path d=\"M 291.703125 294.118125 \nL 292.210398 294.118125 \nL 292.210398 142.711117 \nL 291.703125 142.711117 \nz\n\" clip-path=\"url(#pebcab09916)\" style=\"fill: #ff0000; opacity: 0.9\"/>\n   </g>\n   <g id=\"patch_449\">\n    <path d=\"M 292.210398 294.118125 \nL 292.71767 294.118125 \nL 292.71767 103.638341 \nL 292.210398 103.638341 \nz\n\" clip-path=\"url(#pebcab09916)\" style=\"fill: #ff0000; opacity: 0.9\"/>\n   </g>\n   <g id=\"patch_450\">\n    <path d=\"M 292.71767 294.118125 \nL 293.224943 294.118125 \nL 293.224943 123.174729 \nL 292.71767 123.174729 \nz\n\" clip-path=\"url(#pebcab09916)\" style=\"fill: #ff0000; opacity: 0.9\"/>\n   </g>\n   <g id=\"patch_451\">\n    <path d=\"M 293.224943 294.118125 \nL 293.732216 294.118125 \nL 293.732216 167.131602 \nL 293.224943 167.131602 \nz\n\" clip-path=\"url(#pebcab09916)\" style=\"fill: #ff0000; opacity: 0.9\"/>\n   </g>\n   <g id=\"patch_452\">\n    <path d=\"M 293.732216 294.118125 \nL 294.239489 294.118125 \nL 294.239489 172.015699 \nL 293.732216 172.015699 \nz\n\" clip-path=\"url(#pebcab09916)\" style=\"fill: #ff0000; opacity: 0.9\"/>\n   </g>\n   <g id=\"patch_453\">\n    <path d=\"M 294.239489 294.118125 \nL 294.746761 294.118125 \nL 294.746761 132.942923 \nL 294.239489 132.942923 \nz\n\" clip-path=\"url(#pebcab09916)\" style=\"fill: #ff0000; opacity: 0.9\"/>\n   </g>\n   <g id=\"patch_454\">\n    <path d=\"M 294.746761 294.118125 \nL 295.254034 294.118125 \nL 295.254034 181.783893 \nL 294.746761 181.783893 \nz\n\" clip-path=\"url(#pebcab09916)\" style=\"fill: #ff0000; opacity: 0.9\"/>\n   </g>\n   <g id=\"patch_455\">\n    <path d=\"M 295.254034 294.118125 \nL 295.761307 294.118125 \nL 295.761307 162.247505 \nL 295.254034 162.247505 \nz\n\" clip-path=\"url(#pebcab09916)\" style=\"fill: #ff0000; opacity: 0.9\"/>\n   </g>\n   <g id=\"patch_456\">\n    <path d=\"M 295.761307 294.118125 \nL 296.26858 294.118125 \nL 296.26858 152.479311 \nL 295.761307 152.479311 \nz\n\" clip-path=\"url(#pebcab09916)\" style=\"fill: #ff0000; opacity: 0.9\"/>\n   </g>\n   <g id=\"patch_457\">\n    <path d=\"M 296.26858 294.118125 \nL 296.775852 294.118125 \nL 296.775852 118.290632 \nL 296.26858 118.290632 \nz\n\" clip-path=\"url(#pebcab09916)\" style=\"fill: #ff0000; opacity: 0.9\"/>\n   </g>\n   <g id=\"patch_458\">\n    <path d=\"M 296.775852 294.118125 \nL 297.283125 294.118125 \nL 297.283125 142.711117 \nL 296.775852 142.711117 \nz\n\" clip-path=\"url(#pebcab09916)\" style=\"fill: #ff0000; opacity: 0.9\"/>\n   </g>\n   <g id=\"patch_459\">\n    <path d=\"M 297.283125 294.118125 \nL 297.790398 294.118125 \nL 297.790398 132.942923 \nL 297.283125 132.942923 \nz\n\" clip-path=\"url(#pebcab09916)\" style=\"fill: #ff0000; opacity: 0.9\"/>\n   </g>\n   <g id=\"patch_460\">\n    <path d=\"M 297.790398 294.118125 \nL 298.29767 294.118125 \nL 298.29767 142.711117 \nL 297.790398 142.711117 \nz\n\" clip-path=\"url(#pebcab09916)\" style=\"fill: #ff0000; opacity: 0.9\"/>\n   </g>\n   <g id=\"patch_461\">\n    <path d=\"M 298.29767 294.118125 \nL 298.804943 294.118125 \nL 298.804943 162.247505 \nL 298.29767 162.247505 \nz\n\" clip-path=\"url(#pebcab09916)\" style=\"fill: #ff0000; opacity: 0.9\"/>\n   </g>\n   <g id=\"patch_462\">\n    <path d=\"M 298.804943 294.118125 \nL 299.312216 294.118125 \nL 299.312216 128.058826 \nL 298.804943 128.058826 \nz\n\" clip-path=\"url(#pebcab09916)\" style=\"fill: #ff0000; opacity: 0.9\"/>\n   </g>\n   <g id=\"patch_463\">\n    <path d=\"M 299.312216 294.118125 \nL 299.819489 294.118125 \nL 299.819489 88.98605 \nL 299.312216 88.98605 \nz\n\" clip-path=\"url(#pebcab09916)\" style=\"fill: #ff0000; opacity: 0.9\"/>\n   </g>\n   <g id=\"patch_464\">\n    <path d=\"M 299.819489 294.118125 \nL 300.326761 294.118125 \nL 300.326761 132.942923 \nL 299.819489 132.942923 \nz\n\" clip-path=\"url(#pebcab09916)\" style=\"fill: #ff0000; opacity: 0.9\"/>\n   </g>\n   <g id=\"patch_465\">\n    <path d=\"M 300.326761 294.118125 \nL 300.834034 294.118125 \nL 300.834034 84.101952 \nL 300.326761 84.101952 \nz\n\" clip-path=\"url(#pebcab09916)\" style=\"fill: #ff0000; opacity: 0.9\"/>\n   </g>\n   <g id=\"patch_466\">\n    <path d=\"M 300.834034 294.118125 \nL 301.341307 294.118125 \nL 301.341307 49.913273 \nL 300.834034 49.913273 \nz\n\" clip-path=\"url(#pebcab09916)\" style=\"fill: #ff0000; opacity: 0.9\"/>\n   </g>\n   <g id=\"patch_467\">\n    <path d=\"M 301.341307 294.118125 \nL 301.84858 294.118125 \nL 301.84858 59.681467 \nL 301.341307 59.681467 \nz\n\" clip-path=\"url(#pebcab09916)\" style=\"fill: #ff0000; opacity: 0.9\"/>\n   </g>\n   <g id=\"patch_468\">\n    <path d=\"M 301.84858 294.118125 \nL 302.355852 294.118125 \nL 302.355852 123.174729 \nL 301.84858 123.174729 \nz\n\" clip-path=\"url(#pebcab09916)\" style=\"fill: #ff0000; opacity: 0.9\"/>\n   </g>\n   <g id=\"patch_469\">\n    <path d=\"M 302.355852 294.118125 \nL 302.863125 294.118125 \nL 302.863125 84.101952 \nL 302.355852 84.101952 \nz\n\" clip-path=\"url(#pebcab09916)\" style=\"fill: #ff0000; opacity: 0.9\"/>\n   </g>\n   <g id=\"patch_470\">\n    <path d=\"M 302.863125 294.118125 \nL 303.370398 294.118125 \nL 303.370398 74.333758 \nL 302.863125 74.333758 \nz\n\" clip-path=\"url(#pebcab09916)\" style=\"fill: #ff0000; opacity: 0.9\"/>\n   </g>\n   <g id=\"patch_471\">\n    <path d=\"M 303.370398 294.118125 \nL 303.87767 294.118125 \nL 303.87767 132.942923 \nL 303.370398 132.942923 \nz\n\" clip-path=\"url(#pebcab09916)\" style=\"fill: #ff0000; opacity: 0.9\"/>\n   </g>\n   <g id=\"patch_472\">\n    <path d=\"M 303.87767 294.118125 \nL 304.384943 294.118125 \nL 304.384943 79.217855 \nL 303.87767 79.217855 \nz\n\" clip-path=\"url(#pebcab09916)\" style=\"fill: #ff0000; opacity: 0.9\"/>\n   </g>\n   <g id=\"patch_473\">\n    <path d=\"M 304.384943 294.118125 \nL 304.892216 294.118125 \nL 304.892216 74.333758 \nL 304.384943 74.333758 \nz\n\" clip-path=\"url(#pebcab09916)\" style=\"fill: #ff0000; opacity: 0.9\"/>\n   </g>\n   <g id=\"patch_474\">\n    <path d=\"M 304.892216 294.118125 \nL 305.399489 294.118125 \nL 305.399489 137.82702 \nL 304.892216 137.82702 \nz\n\" clip-path=\"url(#pebcab09916)\" style=\"fill: #ff0000; opacity: 0.9\"/>\n   </g>\n   <g id=\"patch_475\">\n    <path d=\"M 305.399489 294.118125 \nL 305.906761 294.118125 \nL 305.906761 93.870147 \nL 305.399489 93.870147 \nz\n\" clip-path=\"url(#pebcab09916)\" style=\"fill: #ff0000; opacity: 0.9\"/>\n   </g>\n   <g id=\"patch_476\">\n    <path d=\"M 305.906761 294.118125 \nL 306.414034 294.118125 \nL 306.414034 40.145079 \nL 305.906761 40.145079 \nz\n\" clip-path=\"url(#pebcab09916)\" style=\"fill: #ff0000; opacity: 0.9\"/>\n   </g>\n   <g id=\"patch_477\">\n    <path d=\"M 306.414034 294.118125 \nL 306.921307 294.118125 \nL 306.921307 84.101952 \nL 306.414034 84.101952 \nz\n\" clip-path=\"url(#pebcab09916)\" style=\"fill: #ff0000; opacity: 0.9\"/>\n   </g>\n   <g id=\"patch_478\">\n    <path d=\"M 306.921307 294.118125 \nL 307.42858 294.118125 \nL 307.42858 49.913273 \nL 306.921307 49.913273 \nz\n\" clip-path=\"url(#pebcab09916)\" style=\"fill: #ff0000; opacity: 0.9\"/>\n   </g>\n   <g id=\"patch_479\">\n    <path d=\"M 307.42858 294.118125 \nL 307.935852 294.118125 \nL 307.935852 40.145079 \nL 307.42858 40.145079 \nz\n\" clip-path=\"url(#pebcab09916)\" style=\"fill: #ff0000; opacity: 0.9\"/>\n   </g>\n   <g id=\"patch_480\">\n    <path d=\"M 307.935852 294.118125 \nL 308.443125 294.118125 \nL 308.443125 113.406535 \nL 307.935852 113.406535 \nz\n\" clip-path=\"url(#pebcab09916)\" style=\"fill: #ff0000; opacity: 0.9\"/>\n   </g>\n   <g id=\"patch_481\">\n    <path d=\"M 308.443125 294.118125 \nL 308.950398 294.118125 \nL 308.950398 74.333758 \nL 308.443125 74.333758 \nz\n\" clip-path=\"url(#pebcab09916)\" style=\"fill: #ff0000; opacity: 0.9\"/>\n   </g>\n   <g id=\"patch_482\">\n    <path d=\"M 308.950398 294.118125 \nL 309.45767 294.118125 \nL 309.45767 45.029176 \nL 308.950398 45.029176 \nz\n\" clip-path=\"url(#pebcab09916)\" style=\"fill: #ff0000; opacity: 0.9\"/>\n   </g>\n   <g id=\"patch_483\">\n    <path d=\"M 309.45767 294.118125 \nL 309.964943 294.118125 \nL 309.964943 123.174729 \nL 309.45767 123.174729 \nz\n\" clip-path=\"url(#pebcab09916)\" style=\"fill: #ff0000; opacity: 0.9\"/>\n   </g>\n   <g id=\"patch_484\">\n    <path d=\"M 309.964943 294.118125 \nL 310.472216 294.118125 \nL 310.472216 88.98605 \nL 309.964943 88.98605 \nz\n\" clip-path=\"url(#pebcab09916)\" style=\"fill: #ff0000; opacity: 0.9\"/>\n   </g>\n   <g id=\"patch_485\">\n    <path d=\"M 310.472216 294.118125 \nL 310.979489 294.118125 \nL 310.979489 84.101952 \nL 310.472216 84.101952 \nz\n\" clip-path=\"url(#pebcab09916)\" style=\"fill: #ff0000; opacity: 0.9\"/>\n   </g>\n   <g id=\"patch_486\">\n    <path d=\"M 310.979489 294.118125 \nL 311.486761 294.118125 \nL 311.486761 108.522438 \nL 310.979489 108.522438 \nz\n\" clip-path=\"url(#pebcab09916)\" style=\"fill: #ff0000; opacity: 0.9\"/>\n   </g>\n   <g id=\"patch_487\">\n    <path d=\"M 311.486761 294.118125 \nL 311.994034 294.118125 \nL 311.994034 40.145079 \nL 311.486761 40.145079 \nz\n\" clip-path=\"url(#pebcab09916)\" style=\"fill: #ff0000; opacity: 0.9\"/>\n   </g>\n   <g id=\"patch_488\">\n    <path d=\"M 311.994034 294.118125 \nL 312.501307 294.118125 \nL 312.501307 84.101952 \nL 311.994034 84.101952 \nz\n\" clip-path=\"url(#pebcab09916)\" style=\"fill: #ff0000; opacity: 0.9\"/>\n   </g>\n   <g id=\"patch_489\">\n    <path d=\"M 312.501307 294.118125 \nL 313.00858 294.118125 \nL 313.00858 35.260982 \nL 312.501307 35.260982 \nz\n\" clip-path=\"url(#pebcab09916)\" style=\"fill: #ff0000; opacity: 0.9\"/>\n   </g>\n   <g id=\"patch_490\">\n    <path d=\"M 313.00858 294.118125 \nL 313.515852 294.118125 \nL 313.515852 98.754244 \nL 313.00858 98.754244 \nz\n\" clip-path=\"url(#pebcab09916)\" style=\"fill: #ff0000; opacity: 0.9\"/>\n   </g>\n   <g id=\"patch_491\">\n    <path d=\"M 313.515852 294.118125 \nL 314.023125 294.118125 \nL 314.023125 93.870147 \nL 313.515852 93.870147 \nz\n\" clip-path=\"url(#pebcab09916)\" style=\"fill: #ff0000; opacity: 0.9\"/>\n   </g>\n   <g id=\"patch_492\">\n    <path d=\"M 314.023125 294.118125 \nL 314.530398 294.118125 \nL 314.530398 123.174729 \nL 314.023125 123.174729 \nz\n\" clip-path=\"url(#pebcab09916)\" style=\"fill: #ff0000; opacity: 0.9\"/>\n   </g>\n   <g id=\"patch_493\">\n    <path d=\"M 314.530398 294.118125 \nL 315.03767 294.118125 \nL 315.03767 79.217855 \nL 314.530398 79.217855 \nz\n\" clip-path=\"url(#pebcab09916)\" style=\"fill: #ff0000; opacity: 0.9\"/>\n   </g>\n   <g id=\"patch_494\">\n    <path d=\"M 315.03767 294.118125 \nL 315.544943 294.118125 \nL 315.544943 123.174729 \nL 315.03767 123.174729 \nz\n\" clip-path=\"url(#pebcab09916)\" style=\"fill: #ff0000; opacity: 0.9\"/>\n   </g>\n   <g id=\"patch_495\">\n    <path d=\"M 315.544943 294.118125 \nL 316.052216 294.118125 \nL 316.052216 49.913273 \nL 315.544943 49.913273 \nz\n\" clip-path=\"url(#pebcab09916)\" style=\"fill: #ff0000; opacity: 0.9\"/>\n   </g>\n   <g id=\"patch_496\">\n    <path d=\"M 316.052216 294.118125 \nL 316.559489 294.118125 \nL 316.559489 103.638341 \nL 316.052216 103.638341 \nz\n\" clip-path=\"url(#pebcab09916)\" style=\"fill: #ff0000; opacity: 0.9\"/>\n   </g>\n   <g id=\"patch_497\">\n    <path d=\"M 316.559489 294.118125 \nL 317.066761 294.118125 \nL 317.066761 103.638341 \nL 316.559489 103.638341 \nz\n\" clip-path=\"url(#pebcab09916)\" style=\"fill: #ff0000; opacity: 0.9\"/>\n   </g>\n   <g id=\"patch_498\">\n    <path d=\"M 317.066761 294.118125 \nL 317.574034 294.118125 \nL 317.574034 142.711117 \nL 317.066761 142.711117 \nz\n\" clip-path=\"url(#pebcab09916)\" style=\"fill: #ff0000; opacity: 0.9\"/>\n   </g>\n   <g id=\"patch_499\">\n    <path d=\"M 317.574034 294.118125 \nL 318.081307 294.118125 \nL 318.081307 118.290632 \nL 317.574034 118.290632 \nz\n\" clip-path=\"url(#pebcab09916)\" style=\"fill: #ff0000; opacity: 0.9\"/>\n   </g>\n   <g id=\"patch_500\">\n    <path d=\"M 318.081307 294.118125 \nL 318.58858 294.118125 \nL 318.58858 142.711117 \nL 318.081307 142.711117 \nz\n\" clip-path=\"url(#pebcab09916)\" style=\"fill: #ff0000; opacity: 0.9\"/>\n   </g>\n   <g id=\"patch_501\">\n    <path d=\"M 318.58858 294.118125 \nL 319.095852 294.118125 \nL 319.095852 108.522438 \nL 318.58858 108.522438 \nz\n\" clip-path=\"url(#pebcab09916)\" style=\"fill: #ff0000; opacity: 0.9\"/>\n   </g>\n   <g id=\"patch_502\">\n    <path d=\"M 319.095852 294.118125 \nL 319.603125 294.118125 \nL 319.603125 152.479311 \nL 319.095852 152.479311 \nz\n\" clip-path=\"url(#pebcab09916)\" style=\"fill: #ff0000; opacity: 0.9\"/>\n   </g>\n   <g id=\"patch_503\">\n    <path d=\"M 319.603125 294.118125 \nL 320.110398 294.118125 \nL 320.110398 123.174729 \nL 319.603125 123.174729 \nz\n\" clip-path=\"url(#pebcab09916)\" style=\"fill: #ff0000; opacity: 0.9\"/>\n   </g>\n   <g id=\"patch_504\">\n    <path d=\"M 320.110398 294.118125 \nL 320.61767 294.118125 \nL 320.61767 93.870147 \nL 320.110398 93.870147 \nz\n\" clip-path=\"url(#pebcab09916)\" style=\"fill: #ff0000; opacity: 0.9\"/>\n   </g>\n   <g id=\"patch_505\">\n    <path d=\"M 320.61767 294.118125 \nL 321.124943 294.118125 \nL 321.124943 172.015699 \nL 320.61767 172.015699 \nz\n\" clip-path=\"url(#pebcab09916)\" style=\"fill: #ff0000; opacity: 0.9\"/>\n   </g>\n   <g id=\"patch_506\">\n    <path d=\"M 321.124943 294.118125 \nL 321.632216 294.118125 \nL 321.632216 167.131602 \nL 321.124943 167.131602 \nz\n\" clip-path=\"url(#pebcab09916)\" style=\"fill: #ff0000; opacity: 0.9\"/>\n   </g>\n   <g id=\"patch_507\">\n    <path d=\"M 321.632216 294.118125 \nL 322.139489 294.118125 \nL 322.139489 113.406535 \nL 321.632216 113.406535 \nz\n\" clip-path=\"url(#pebcab09916)\" style=\"fill: #ff0000; opacity: 0.9\"/>\n   </g>\n   <g id=\"patch_508\">\n    <path d=\"M 322.139489 294.118125 \nL 322.646761 294.118125 \nL 322.646761 132.942923 \nL 322.139489 132.942923 \nz\n\" clip-path=\"url(#pebcab09916)\" style=\"fill: #ff0000; opacity: 0.9\"/>\n   </g>\n   <g id=\"patch_509\">\n    <path d=\"M 322.646761 294.118125 \nL 323.154034 294.118125 \nL 323.154034 128.058826 \nL 322.646761 128.058826 \nz\n\" clip-path=\"url(#pebcab09916)\" style=\"fill: #ff0000; opacity: 0.9\"/>\n   </g>\n   <g id=\"patch_510\">\n    <path d=\"M 323.154034 294.118125 \nL 323.661307 294.118125 \nL 323.661307 157.363408 \nL 323.154034 157.363408 \nz\n\" clip-path=\"url(#pebcab09916)\" style=\"fill: #ff0000; opacity: 0.9\"/>\n   </g>\n   <g id=\"patch_511\">\n    <path d=\"M 323.661307 294.118125 \nL 324.16858 294.118125 \nL 324.16858 201.320281 \nL 323.661307 201.320281 \nz\n\" clip-path=\"url(#pebcab09916)\" style=\"fill: #ff0000; opacity: 0.9\"/>\n   </g>\n   <g id=\"patch_512\">\n    <path d=\"M 324.16858 294.118125 \nL 324.675852 294.118125 \nL 324.675852 181.783893 \nL 324.16858 181.783893 \nz\n\" clip-path=\"url(#pebcab09916)\" style=\"fill: #ff0000; opacity: 0.9\"/>\n   </g>\n   <g id=\"patch_513\">\n    <path d=\"M 324.675852 294.118125 \nL 325.183125 294.118125 \nL 325.183125 181.783893 \nL 324.675852 181.783893 \nz\n\" clip-path=\"url(#pebcab09916)\" style=\"fill: #ff0000; opacity: 0.9\"/>\n   </g>\n   <g id=\"patch_514\">\n    <path d=\"M 325.183125 294.118125 \nL 325.690398 294.118125 \nL 325.690398 186.66799 \nL 325.183125 186.66799 \nz\n\" clip-path=\"url(#pebcab09916)\" style=\"fill: #ff0000; opacity: 0.9\"/>\n   </g>\n   <g id=\"patch_515\">\n    <path d=\"M 325.690398 294.118125 \nL 326.19767 294.118125 \nL 326.19767 157.363408 \nL 325.690398 157.363408 \nz\n\" clip-path=\"url(#pebcab09916)\" style=\"fill: #ff0000; opacity: 0.9\"/>\n   </g>\n   <g id=\"patch_516\">\n    <path d=\"M 326.19767 294.118125 \nL 326.704943 294.118125 \nL 326.704943 181.783893 \nL 326.19767 181.783893 \nz\n\" clip-path=\"url(#pebcab09916)\" style=\"fill: #ff0000; opacity: 0.9\"/>\n   </g>\n   <g id=\"patch_517\">\n    <path d=\"M 326.704943 294.118125 \nL 327.212216 294.118125 \nL 327.212216 157.363408 \nL 326.704943 157.363408 \nz\n\" clip-path=\"url(#pebcab09916)\" style=\"fill: #ff0000; opacity: 0.9\"/>\n   </g>\n   <g id=\"patch_518\">\n    <path d=\"M 327.212216 294.118125 \nL 327.719489 294.118125 \nL 327.719489 172.015699 \nL 327.212216 172.015699 \nz\n\" clip-path=\"url(#pebcab09916)\" style=\"fill: #ff0000; opacity: 0.9\"/>\n   </g>\n   <g id=\"patch_519\">\n    <path d=\"M 327.719489 294.118125 \nL 328.226761 294.118125 \nL 328.226761 201.320281 \nL 327.719489 201.320281 \nz\n\" clip-path=\"url(#pebcab09916)\" style=\"fill: #ff0000; opacity: 0.9\"/>\n   </g>\n   <g id=\"patch_520\">\n    <path d=\"M 328.226761 294.118125 \nL 328.734034 294.118125 \nL 328.734034 152.479311 \nL 328.226761 152.479311 \nz\n\" clip-path=\"url(#pebcab09916)\" style=\"fill: #ff0000; opacity: 0.9\"/>\n   </g>\n   <g id=\"patch_521\">\n    <path d=\"M 328.734034 294.118125 \nL 329.241307 294.118125 \nL 329.241307 167.131602 \nL 328.734034 167.131602 \nz\n\" clip-path=\"url(#pebcab09916)\" style=\"fill: #ff0000; opacity: 0.9\"/>\n   </g>\n   <g id=\"patch_522\">\n    <path d=\"M 329.241307 294.118125 \nL 329.74858 294.118125 \nL 329.74858 132.942923 \nL 329.241307 132.942923 \nz\n\" clip-path=\"url(#pebcab09916)\" style=\"fill: #ff0000; opacity: 0.9\"/>\n   </g>\n   <g id=\"patch_523\">\n    <path d=\"M 329.74858 294.118125 \nL 330.255852 294.118125 \nL 330.255852 225.740767 \nL 329.74858 225.740767 \nz\n\" clip-path=\"url(#pebcab09916)\" style=\"fill: #ff0000; opacity: 0.9\"/>\n   </g>\n   <g id=\"patch_524\">\n    <path d=\"M 330.255852 294.118125 \nL 330.763125 294.118125 \nL 330.763125 206.204378 \nL 330.255852 206.204378 \nz\n\" clip-path=\"url(#pebcab09916)\" style=\"fill: #ff0000; opacity: 0.9\"/>\n   </g>\n   <g id=\"patch_525\">\n    <path d=\"M 330.763125 294.118125 \nL 331.270398 294.118125 \nL 331.270398 176.899796 \nL 330.763125 176.899796 \nz\n\" clip-path=\"url(#pebcab09916)\" style=\"fill: #ff0000; opacity: 0.9\"/>\n   </g>\n   <g id=\"patch_526\">\n    <path d=\"M 331.270398 294.118125 \nL 331.77767 294.118125 \nL 331.77767 215.972572 \nL 331.270398 215.972572 \nz\n\" clip-path=\"url(#pebcab09916)\" style=\"fill: #ff0000; opacity: 0.9\"/>\n   </g>\n   <g id=\"patch_527\">\n    <path d=\"M 331.77767 294.118125 \nL 332.284943 294.118125 \nL 332.284943 181.783893 \nL 331.77767 181.783893 \nz\n\" clip-path=\"url(#pebcab09916)\" style=\"fill: #ff0000; opacity: 0.9\"/>\n   </g>\n   <g id=\"patch_528\">\n    <path d=\"M 332.284943 294.118125 \nL 332.792216 294.118125 \nL 332.792216 245.277155 \nL 332.284943 245.277155 \nz\n\" clip-path=\"url(#pebcab09916)\" style=\"fill: #ff0000; opacity: 0.9\"/>\n   </g>\n   <g id=\"patch_529\">\n    <path d=\"M 332.792216 294.118125 \nL 333.299489 294.118125 \nL 333.299489 176.899796 \nL 332.792216 176.899796 \nz\n\" clip-path=\"url(#pebcab09916)\" style=\"fill: #ff0000; opacity: 0.9\"/>\n   </g>\n   <g id=\"patch_530\">\n    <path d=\"M 333.299489 294.118125 \nL 333.806761 294.118125 \nL 333.806761 186.66799 \nL 333.299489 186.66799 \nz\n\" clip-path=\"url(#pebcab09916)\" style=\"fill: #ff0000; opacity: 0.9\"/>\n   </g>\n   <g id=\"patch_531\">\n    <path d=\"M 333.806761 294.118125 \nL 334.314034 294.118125 \nL 334.314034 220.856669 \nL 333.806761 220.856669 \nz\n\" clip-path=\"url(#pebcab09916)\" style=\"fill: #ff0000; opacity: 0.9\"/>\n   </g>\n   <g id=\"patch_532\">\n    <path d=\"M 334.314034 294.118125 \nL 334.821307 294.118125 \nL 334.821307 186.66799 \nL 334.314034 186.66799 \nz\n\" clip-path=\"url(#pebcab09916)\" style=\"fill: #ff0000; opacity: 0.9\"/>\n   </g>\n   <g id=\"patch_533\">\n    <path d=\"M 334.821307 294.118125 \nL 335.32858 294.118125 \nL 335.32858 215.972572 \nL 334.821307 215.972572 \nz\n\" clip-path=\"url(#pebcab09916)\" style=\"fill: #ff0000; opacity: 0.9\"/>\n   </g>\n   <g id=\"patch_534\">\n    <path d=\"M 335.32858 294.118125 \nL 335.835852 294.118125 \nL 335.835852 211.088475 \nL 335.32858 211.088475 \nz\n\" clip-path=\"url(#pebcab09916)\" style=\"fill: #ff0000; opacity: 0.9\"/>\n   </g>\n   <g id=\"patch_535\">\n    <path d=\"M 335.835852 294.118125 \nL 336.343125 294.118125 \nL 336.343125 245.277155 \nL 335.835852 245.277155 \nz\n\" clip-path=\"url(#pebcab09916)\" style=\"fill: #ff0000; opacity: 0.9\"/>\n   </g>\n   <g id=\"patch_536\">\n    <path d=\"M 336.343125 294.118125 \nL 336.850398 294.118125 \nL 336.850398 240.393058 \nL 336.343125 240.393058 \nz\n\" clip-path=\"url(#pebcab09916)\" style=\"fill: #ff0000; opacity: 0.9\"/>\n   </g>\n   <g id=\"patch_537\">\n    <path d=\"M 336.850398 294.118125 \nL 337.35767 294.118125 \nL 337.35767 206.204378 \nL 336.850398 206.204378 \nz\n\" clip-path=\"url(#pebcab09916)\" style=\"fill: #ff0000; opacity: 0.9\"/>\n   </g>\n   <g id=\"patch_538\">\n    <path d=\"M 337.35767 294.118125 \nL 337.864943 294.118125 \nL 337.864943 215.972572 \nL 337.35767 215.972572 \nz\n\" clip-path=\"url(#pebcab09916)\" style=\"fill: #ff0000; opacity: 0.9\"/>\n   </g>\n   <g id=\"patch_539\">\n    <path d=\"M 337.864943 294.118125 \nL 338.372216 294.118125 \nL 338.372216 220.856669 \nL 337.864943 220.856669 \nz\n\" clip-path=\"url(#pebcab09916)\" style=\"fill: #ff0000; opacity: 0.9\"/>\n   </g>\n   <g id=\"patch_540\">\n    <path d=\"M 338.372216 294.118125 \nL 338.879489 294.118125 \nL 338.879489 240.393058 \nL 338.372216 240.393058 \nz\n\" clip-path=\"url(#pebcab09916)\" style=\"fill: #ff0000; opacity: 0.9\"/>\n   </g>\n   <g id=\"patch_541\">\n    <path d=\"M 338.879489 294.118125 \nL 339.386761 294.118125 \nL 339.386761 201.320281 \nL 338.879489 201.320281 \nz\n\" clip-path=\"url(#pebcab09916)\" style=\"fill: #ff0000; opacity: 0.9\"/>\n   </g>\n   <g id=\"patch_542\">\n    <path d=\"M 339.386761 294.118125 \nL 339.894034 294.118125 \nL 339.894034 225.740767 \nL 339.386761 225.740767 \nz\n\" clip-path=\"url(#pebcab09916)\" style=\"fill: #ff0000; opacity: 0.9\"/>\n   </g>\n   <g id=\"patch_543\">\n    <path d=\"M 339.894034 294.118125 \nL 340.401307 294.118125 \nL 340.401307 255.045349 \nL 339.894034 255.045349 \nz\n\" clip-path=\"url(#pebcab09916)\" style=\"fill: #ff0000; opacity: 0.9\"/>\n   </g>\n   <g id=\"patch_544\">\n    <path d=\"M 340.401307 294.118125 \nL 340.90858 294.118125 \nL 340.90858 264.813543 \nL 340.401307 264.813543 \nz\n\" clip-path=\"url(#pebcab09916)\" style=\"fill: #ff0000; opacity: 0.9\"/>\n   </g>\n   <g id=\"patch_545\">\n    <path d=\"M 340.90858 294.118125 \nL 341.415852 294.118125 \nL 341.415852 240.393058 \nL 340.90858 240.393058 \nz\n\" clip-path=\"url(#pebcab09916)\" style=\"fill: #ff0000; opacity: 0.9\"/>\n   </g>\n   <g id=\"patch_546\">\n    <path d=\"M 341.415852 294.118125 \nL 341.923125 294.118125 \nL 341.923125 235.508961 \nL 341.415852 235.508961 \nz\n\" clip-path=\"url(#pebcab09916)\" style=\"fill: #ff0000; opacity: 0.9\"/>\n   </g>\n   <g id=\"patch_547\">\n    <path d=\"M 341.923125 294.118125 \nL 342.430398 294.118125 \nL 342.430398 211.088475 \nL 341.923125 211.088475 \nz\n\" clip-path=\"url(#pebcab09916)\" style=\"fill: #ff0000; opacity: 0.9\"/>\n   </g>\n   <g id=\"patch_548\">\n    <path d=\"M 342.430398 294.118125 \nL 342.93767 294.118125 \nL 342.93767 201.320281 \nL 342.430398 201.320281 \nz\n\" clip-path=\"url(#pebcab09916)\" style=\"fill: #ff0000; opacity: 0.9\"/>\n   </g>\n   <g id=\"patch_549\">\n    <path d=\"M 342.93767 294.118125 \nL 343.444943 294.118125 \nL 343.444943 186.66799 \nL 342.93767 186.66799 \nz\n\" clip-path=\"url(#pebcab09916)\" style=\"fill: #ff0000; opacity: 0.9\"/>\n   </g>\n   <g id=\"patch_550\">\n    <path d=\"M 343.444943 294.118125 \nL 343.952216 294.118125 \nL 343.952216 211.088475 \nL 343.444943 211.088475 \nz\n\" clip-path=\"url(#pebcab09916)\" style=\"fill: #ff0000; opacity: 0.9\"/>\n   </g>\n   <g id=\"patch_551\">\n    <path d=\"M 343.952216 294.118125 \nL 344.459489 294.118125 \nL 344.459489 255.045349 \nL 343.952216 255.045349 \nz\n\" clip-path=\"url(#pebcab09916)\" style=\"fill: #ff0000; opacity: 0.9\"/>\n   </g>\n   <g id=\"patch_552\">\n    <path d=\"M 344.459489 294.118125 \nL 344.966761 294.118125 \nL 344.966761 250.161252 \nL 344.459489 250.161252 \nz\n\" clip-path=\"url(#pebcab09916)\" style=\"fill: #ff0000; opacity: 0.9\"/>\n   </g>\n   <g id=\"patch_553\">\n    <path d=\"M 344.966761 294.118125 \nL 345.474034 294.118125 \nL 345.474034 211.088475 \nL 344.966761 211.088475 \nz\n\" clip-path=\"url(#pebcab09916)\" style=\"fill: #ff0000; opacity: 0.9\"/>\n   </g>\n   <g id=\"patch_554\">\n    <path d=\"M 345.474034 294.118125 \nL 345.981307 294.118125 \nL 345.981307 250.161252 \nL 345.474034 250.161252 \nz\n\" clip-path=\"url(#pebcab09916)\" style=\"fill: #ff0000; opacity: 0.9\"/>\n   </g>\n   <g id=\"patch_555\">\n    <path d=\"M 345.981307 294.118125 \nL 346.48858 294.118125 \nL 346.48858 230.624864 \nL 345.981307 230.624864 \nz\n\" clip-path=\"url(#pebcab09916)\" style=\"fill: #ff0000; opacity: 0.9\"/>\n   </g>\n   <g id=\"patch_556\">\n    <path d=\"M 346.48858 294.118125 \nL 346.995852 294.118125 \nL 346.995852 255.045349 \nL 346.48858 255.045349 \nz\n\" clip-path=\"url(#pebcab09916)\" style=\"fill: #ff0000; opacity: 0.9\"/>\n   </g>\n   <g id=\"patch_557\">\n    <path d=\"M 346.995852 294.118125 \nL 347.503125 294.118125 \nL 347.503125 250.161252 \nL 346.995852 250.161252 \nz\n\" clip-path=\"url(#pebcab09916)\" style=\"fill: #ff0000; opacity: 0.9\"/>\n   </g>\n   <g id=\"patch_558\">\n    <path d=\"M 347.503125 294.118125 \nL 348.010398 294.118125 \nL 348.010398 245.277155 \nL 347.503125 245.277155 \nz\n\" clip-path=\"url(#pebcab09916)\" style=\"fill: #ff0000; opacity: 0.9\"/>\n   </g>\n   <g id=\"patch_559\">\n    <path d=\"M 348.010398 294.118125 \nL 348.51767 294.118125 \nL 348.51767 230.624864 \nL 348.010398 230.624864 \nz\n\" clip-path=\"url(#pebcab09916)\" style=\"fill: #ff0000; opacity: 0.9\"/>\n   </g>\n   <g id=\"patch_560\">\n    <path d=\"M 348.51767 294.118125 \nL 349.024943 294.118125 \nL 349.024943 220.856669 \nL 348.51767 220.856669 \nz\n\" clip-path=\"url(#pebcab09916)\" style=\"fill: #ff0000; opacity: 0.9\"/>\n   </g>\n   <g id=\"patch_561\">\n    <path d=\"M 349.024943 294.118125 \nL 349.532216 294.118125 \nL 349.532216 225.740767 \nL 349.024943 225.740767 \nz\n\" clip-path=\"url(#pebcab09916)\" style=\"fill: #ff0000; opacity: 0.9\"/>\n   </g>\n   <g id=\"patch_562\">\n    <path d=\"M 349.532216 294.118125 \nL 350.039489 294.118125 \nL 350.039489 279.465834 \nL 349.532216 279.465834 \nz\n\" clip-path=\"url(#pebcab09916)\" style=\"fill: #ff0000; opacity: 0.9\"/>\n   </g>\n   <g id=\"patch_563\">\n    <path d=\"M 350.039489 294.118125 \nL 350.546761 294.118125 \nL 350.546761 255.045349 \nL 350.039489 255.045349 \nz\n\" clip-path=\"url(#pebcab09916)\" style=\"fill: #ff0000; opacity: 0.9\"/>\n   </g>\n   <g id=\"patch_564\">\n    <path d=\"M 350.546761 294.118125 \nL 351.054034 294.118125 \nL 351.054034 255.045349 \nL 350.546761 255.045349 \nz\n\" clip-path=\"url(#pebcab09916)\" style=\"fill: #ff0000; opacity: 0.9\"/>\n   </g>\n   <g id=\"patch_565\">\n    <path d=\"M 351.054034 294.118125 \nL 351.561307 294.118125 \nL 351.561307 264.813543 \nL 351.054034 264.813543 \nz\n\" clip-path=\"url(#pebcab09916)\" style=\"fill: #ff0000; opacity: 0.9\"/>\n   </g>\n   <g id=\"patch_566\">\n    <path d=\"M 351.561307 294.118125 \nL 352.06858 294.118125 \nL 352.06858 245.277155 \nL 351.561307 245.277155 \nz\n\" clip-path=\"url(#pebcab09916)\" style=\"fill: #ff0000; opacity: 0.9\"/>\n   </g>\n   <g id=\"patch_567\">\n    <path d=\"M 352.06858 294.118125 \nL 352.575852 294.118125 \nL 352.575852 245.277155 \nL 352.06858 245.277155 \nz\n\" clip-path=\"url(#pebcab09916)\" style=\"fill: #ff0000; opacity: 0.9\"/>\n   </g>\n   <g id=\"patch_568\">\n    <path d=\"M 352.575852 294.118125 \nL 353.083125 294.118125 \nL 353.083125 235.508961 \nL 352.575852 235.508961 \nz\n\" clip-path=\"url(#pebcab09916)\" style=\"fill: #ff0000; opacity: 0.9\"/>\n   </g>\n   <g id=\"patch_569\">\n    <path d=\"M 353.083125 294.118125 \nL 353.590398 294.118125 \nL 353.590398 250.161252 \nL 353.083125 250.161252 \nz\n\" clip-path=\"url(#pebcab09916)\" style=\"fill: #ff0000; opacity: 0.9\"/>\n   </g>\n   <g id=\"patch_570\">\n    <path d=\"M 353.590398 294.118125 \nL 354.09767 294.118125 \nL 354.09767 230.624864 \nL 353.590398 230.624864 \nz\n\" clip-path=\"url(#pebcab09916)\" style=\"fill: #ff0000; opacity: 0.9\"/>\n   </g>\n   <g id=\"patch_571\">\n    <path d=\"M 354.09767 294.118125 \nL 354.604943 294.118125 \nL 354.604943 264.813543 \nL 354.09767 264.813543 \nz\n\" clip-path=\"url(#pebcab09916)\" style=\"fill: #ff0000; opacity: 0.9\"/>\n   </g>\n   <g id=\"patch_572\">\n    <path d=\"M 354.604943 294.118125 \nL 355.112216 294.118125 \nL 355.112216 240.393058 \nL 354.604943 240.393058 \nz\n\" clip-path=\"url(#pebcab09916)\" style=\"fill: #ff0000; opacity: 0.9\"/>\n   </g>\n   <g id=\"patch_573\">\n    <path d=\"M 355.112216 294.118125 \nL 355.619489 294.118125 \nL 355.619489 259.929446 \nL 355.112216 259.929446 \nz\n\" clip-path=\"url(#pebcab09916)\" style=\"fill: #ff0000; opacity: 0.9\"/>\n   </g>\n   <g id=\"patch_574\">\n    <path d=\"M 355.619489 294.118125 \nL 356.126761 294.118125 \nL 356.126761 235.508961 \nL 355.619489 235.508961 \nz\n\" clip-path=\"url(#pebcab09916)\" style=\"fill: #ff0000; opacity: 0.9\"/>\n   </g>\n   <g id=\"patch_575\">\n    <path d=\"M 356.126761 294.118125 \nL 356.634034 294.118125 \nL 356.634034 259.929446 \nL 356.126761 259.929446 \nz\n\" clip-path=\"url(#pebcab09916)\" style=\"fill: #ff0000; opacity: 0.9\"/>\n   </g>\n   <g id=\"patch_576\">\n    <path d=\"M 356.634034 294.118125 \nL 357.141307 294.118125 \nL 357.141307 250.161252 \nL 356.634034 250.161252 \nz\n\" clip-path=\"url(#pebcab09916)\" style=\"fill: #ff0000; opacity: 0.9\"/>\n   </g>\n   <g id=\"patch_577\">\n    <path d=\"M 357.141307 294.118125 \nL 357.64858 294.118125 \nL 357.64858 250.161252 \nL 357.141307 250.161252 \nz\n\" clip-path=\"url(#pebcab09916)\" style=\"fill: #ff0000; opacity: 0.9\"/>\n   </g>\n   <g id=\"patch_578\">\n    <path d=\"M 357.64858 294.118125 \nL 358.155852 294.118125 \nL 358.155852 255.045349 \nL 357.64858 255.045349 \nz\n\" clip-path=\"url(#pebcab09916)\" style=\"fill: #ff0000; opacity: 0.9\"/>\n   </g>\n   <g id=\"patch_579\">\n    <path d=\"M 358.155852 294.118125 \nL 358.663125 294.118125 \nL 358.663125 250.161252 \nL 358.155852 250.161252 \nz\n\" clip-path=\"url(#pebcab09916)\" style=\"fill: #ff0000; opacity: 0.9\"/>\n   </g>\n   <g id=\"patch_580\">\n    <path d=\"M 358.663125 294.118125 \nL 359.170398 294.118125 \nL 359.170398 235.508961 \nL 358.663125 235.508961 \nz\n\" clip-path=\"url(#pebcab09916)\" style=\"fill: #ff0000; opacity: 0.9\"/>\n   </g>\n   <g id=\"patch_581\">\n    <path d=\"M 359.170398 294.118125 \nL 359.67767 294.118125 \nL 359.67767 259.929446 \nL 359.170398 259.929446 \nz\n\" clip-path=\"url(#pebcab09916)\" style=\"fill: #ff0000; opacity: 0.9\"/>\n   </g>\n   <g id=\"patch_582\">\n    <path d=\"M 359.67767 294.118125 \nL 360.184943 294.118125 \nL 360.184943 259.929446 \nL 359.67767 259.929446 \nz\n\" clip-path=\"url(#pebcab09916)\" style=\"fill: #ff0000; opacity: 0.9\"/>\n   </g>\n   <g id=\"patch_583\">\n    <path d=\"M 360.184943 294.118125 \nL 360.692216 294.118125 \nL 360.692216 264.813543 \nL 360.184943 264.813543 \nz\n\" clip-path=\"url(#pebcab09916)\" style=\"fill: #ff0000; opacity: 0.9\"/>\n   </g>\n   <g id=\"patch_584\">\n    <path d=\"M 360.692216 294.118125 \nL 361.199489 294.118125 \nL 361.199489 279.465834 \nL 360.692216 279.465834 \nz\n\" clip-path=\"url(#pebcab09916)\" style=\"fill: #ff0000; opacity: 0.9\"/>\n   </g>\n   <g id=\"patch_585\">\n    <path d=\"M 361.199489 294.118125 \nL 361.706761 294.118125 \nL 361.706761 259.929446 \nL 361.199489 259.929446 \nz\n\" clip-path=\"url(#pebcab09916)\" style=\"fill: #ff0000; opacity: 0.9\"/>\n   </g>\n   <g id=\"patch_586\">\n    <path d=\"M 361.706761 294.118125 \nL 362.214034 294.118125 \nL 362.214034 245.277155 \nL 361.706761 245.277155 \nz\n\" clip-path=\"url(#pebcab09916)\" style=\"fill: #ff0000; opacity: 0.9\"/>\n   </g>\n   <g id=\"patch_587\">\n    <path d=\"M 362.214034 294.118125 \nL 362.721307 294.118125 \nL 362.721307 274.581737 \nL 362.214034 274.581737 \nz\n\" clip-path=\"url(#pebcab09916)\" style=\"fill: #ff0000; opacity: 0.9\"/>\n   </g>\n   <g id=\"patch_588\">\n    <path d=\"M 362.721307 294.118125 \nL 363.22858 294.118125 \nL 363.22858 269.69764 \nL 362.721307 269.69764 \nz\n\" clip-path=\"url(#pebcab09916)\" style=\"fill: #ff0000; opacity: 0.9\"/>\n   </g>\n   <g id=\"patch_589\">\n    <path d=\"M 363.22858 294.118125 \nL 363.735852 294.118125 \nL 363.735852 279.465834 \nL 363.22858 279.465834 \nz\n\" clip-path=\"url(#pebcab09916)\" style=\"fill: #ff0000; opacity: 0.9\"/>\n   </g>\n   <g id=\"patch_590\">\n    <path d=\"M 363.735852 294.118125 \nL 364.243125 294.118125 \nL 364.243125 250.161252 \nL 363.735852 250.161252 \nz\n\" clip-path=\"url(#pebcab09916)\" style=\"fill: #ff0000; opacity: 0.9\"/>\n   </g>\n   <g id=\"patch_591\">\n    <path d=\"M 364.243125 294.118125 \nL 364.750398 294.118125 \nL 364.750398 230.624864 \nL 364.243125 230.624864 \nz\n\" clip-path=\"url(#pebcab09916)\" style=\"fill: #ff0000; opacity: 0.9\"/>\n   </g>\n   <g id=\"patch_592\">\n    <path d=\"M 364.750398 294.118125 \nL 365.25767 294.118125 \nL 365.25767 259.929446 \nL 364.750398 259.929446 \nz\n\" clip-path=\"url(#pebcab09916)\" style=\"fill: #ff0000; opacity: 0.9\"/>\n   </g>\n   <g id=\"patch_593\">\n    <path d=\"M 365.25767 294.118125 \nL 365.764943 294.118125 \nL 365.764943 264.813543 \nL 365.25767 264.813543 \nz\n\" clip-path=\"url(#pebcab09916)\" style=\"fill: #ff0000; opacity: 0.9\"/>\n   </g>\n   <g id=\"patch_594\">\n    <path d=\"M 365.764943 294.118125 \nL 366.272216 294.118125 \nL 366.272216 264.813543 \nL 365.764943 264.813543 \nz\n\" clip-path=\"url(#pebcab09916)\" style=\"fill: #ff0000; opacity: 0.9\"/>\n   </g>\n   <g id=\"patch_595\">\n    <path d=\"M 366.272216 294.118125 \nL 366.779489 294.118125 \nL 366.779489 284.349931 \nL 366.272216 284.349931 \nz\n\" clip-path=\"url(#pebcab09916)\" style=\"fill: #ff0000; opacity: 0.9\"/>\n   </g>\n   <g id=\"patch_596\">\n    <path d=\"M 366.779489 294.118125 \nL 367.286761 294.118125 \nL 367.286761 259.929446 \nL 366.779489 259.929446 \nz\n\" clip-path=\"url(#pebcab09916)\" style=\"fill: #ff0000; opacity: 0.9\"/>\n   </g>\n   <g id=\"patch_597\">\n    <path d=\"M 367.286761 294.118125 \nL 367.794034 294.118125 \nL 367.794034 264.813543 \nL 367.286761 264.813543 \nz\n\" clip-path=\"url(#pebcab09916)\" style=\"fill: #ff0000; opacity: 0.9\"/>\n   </g>\n   <g id=\"patch_598\">\n    <path d=\"M 367.794034 294.118125 \nL 368.301307 294.118125 \nL 368.301307 269.69764 \nL 367.794034 269.69764 \nz\n\" clip-path=\"url(#pebcab09916)\" style=\"fill: #ff0000; opacity: 0.9\"/>\n   </g>\n   <g id=\"patch_599\">\n    <path d=\"M 368.301307 294.118125 \nL 368.80858 294.118125 \nL 368.80858 269.69764 \nL 368.301307 269.69764 \nz\n\" clip-path=\"url(#pebcab09916)\" style=\"fill: #ff0000; opacity: 0.9\"/>\n   </g>\n   <g id=\"patch_600\">\n    <path d=\"M 368.80858 294.118125 \nL 369.315852 294.118125 \nL 369.315852 284.349931 \nL 368.80858 284.349931 \nz\n\" clip-path=\"url(#pebcab09916)\" style=\"fill: #ff0000; opacity: 0.9\"/>\n   </g>\n   <g id=\"patch_601\">\n    <path d=\"M 369.315852 294.118125 \nL 369.823125 294.118125 \nL 369.823125 255.045349 \nL 369.315852 255.045349 \nz\n\" clip-path=\"url(#pebcab09916)\" style=\"fill: #ff0000; opacity: 0.9\"/>\n   </g>\n   <g id=\"patch_602\">\n    <path d=\"M 369.823125 294.118125 \nL 370.330398 294.118125 \nL 370.330398 284.349931 \nL 369.823125 284.349931 \nz\n\" clip-path=\"url(#pebcab09916)\" style=\"fill: #ff0000; opacity: 0.9\"/>\n   </g>\n   <g id=\"patch_603\">\n    <path d=\"M 370.330398 294.118125 \nL 370.83767 294.118125 \nL 370.83767 279.465834 \nL 370.330398 279.465834 \nz\n\" clip-path=\"url(#pebcab09916)\" style=\"fill: #ff0000; opacity: 0.9\"/>\n   </g>\n   <g id=\"patch_604\">\n    <path d=\"M 370.83767 294.118125 \nL 371.344943 294.118125 \nL 371.344943 274.581737 \nL 370.83767 274.581737 \nz\n\" clip-path=\"url(#pebcab09916)\" style=\"fill: #ff0000; opacity: 0.9\"/>\n   </g>\n   <g id=\"patch_605\">\n    <path d=\"M 371.344943 294.118125 \nL 371.852216 294.118125 \nL 371.852216 269.69764 \nL 371.344943 269.69764 \nz\n\" clip-path=\"url(#pebcab09916)\" style=\"fill: #ff0000; opacity: 0.9\"/>\n   </g>\n   <g id=\"patch_606\">\n    <path d=\"M 371.852216 294.118125 \nL 372.359489 294.118125 \nL 372.359489 259.929446 \nL 371.852216 259.929446 \nz\n\" clip-path=\"url(#pebcab09916)\" style=\"fill: #ff0000; opacity: 0.9\"/>\n   </g>\n   <g id=\"patch_607\">\n    <path d=\"M 372.359489 294.118125 \nL 372.866761 294.118125 \nL 372.866761 269.69764 \nL 372.359489 269.69764 \nz\n\" clip-path=\"url(#pebcab09916)\" style=\"fill: #ff0000; opacity: 0.9\"/>\n   </g>\n   <g id=\"patch_608\">\n    <path d=\"M 372.866761 294.118125 \nL 373.374034 294.118125 \nL 373.374034 274.581737 \nL 372.866761 274.581737 \nz\n\" clip-path=\"url(#pebcab09916)\" style=\"fill: #ff0000; opacity: 0.9\"/>\n   </g>\n   <g id=\"patch_609\">\n    <path d=\"M 373.374034 294.118125 \nL 373.881307 294.118125 \nL 373.881307 259.929446 \nL 373.374034 259.929446 \nz\n\" clip-path=\"url(#pebcab09916)\" style=\"fill: #ff0000; opacity: 0.9\"/>\n   </g>\n   <g id=\"patch_610\">\n    <path d=\"M 373.881307 294.118125 \nL 374.38858 294.118125 \nL 374.38858 269.69764 \nL 373.881307 269.69764 \nz\n\" clip-path=\"url(#pebcab09916)\" style=\"fill: #ff0000; opacity: 0.9\"/>\n   </g>\n   <g id=\"patch_611\">\n    <path d=\"M 374.38858 294.118125 \nL 374.895852 294.118125 \nL 374.895852 264.813543 \nL 374.38858 264.813543 \nz\n\" clip-path=\"url(#pebcab09916)\" style=\"fill: #ff0000; opacity: 0.9\"/>\n   </g>\n   <g id=\"patch_612\">\n    <path d=\"M 374.895852 294.118125 \nL 375.403125 294.118125 \nL 375.403125 274.581737 \nL 374.895852 274.581737 \nz\n\" clip-path=\"url(#pebcab09916)\" style=\"fill: #ff0000; opacity: 0.9\"/>\n   </g>\n   <g id=\"patch_613\">\n    <path d=\"M 375.403125 294.118125 \nL 375.910398 294.118125 \nL 375.910398 255.045349 \nL 375.403125 255.045349 \nz\n\" clip-path=\"url(#pebcab09916)\" style=\"fill: #ff0000; opacity: 0.9\"/>\n   </g>\n   <g id=\"patch_614\">\n    <path d=\"M 375.910398 294.118125 \nL 376.41767 294.118125 \nL 376.41767 259.929446 \nL 375.910398 259.929446 \nz\n\" clip-path=\"url(#pebcab09916)\" style=\"fill: #ff0000; opacity: 0.9\"/>\n   </g>\n   <g id=\"patch_615\">\n    <path d=\"M 376.41767 294.118125 \nL 376.924943 294.118125 \nL 376.924943 279.465834 \nL 376.41767 279.465834 \nz\n\" clip-path=\"url(#pebcab09916)\" style=\"fill: #ff0000; opacity: 0.9\"/>\n   </g>\n   <g id=\"patch_616\">\n    <path d=\"M 376.924943 294.118125 \nL 377.432216 294.118125 \nL 377.432216 264.813543 \nL 376.924943 264.813543 \nz\n\" clip-path=\"url(#pebcab09916)\" style=\"fill: #ff0000; opacity: 0.9\"/>\n   </g>\n   <g id=\"patch_617\">\n    <path d=\"M 377.432216 294.118125 \nL 377.939489 294.118125 \nL 377.939489 274.581737 \nL 377.432216 274.581737 \nz\n\" clip-path=\"url(#pebcab09916)\" style=\"fill: #ff0000; opacity: 0.9\"/>\n   </g>\n   <g id=\"patch_618\">\n    <path d=\"M 377.939489 294.118125 \nL 378.446761 294.118125 \nL 378.446761 289.234028 \nL 377.939489 289.234028 \nz\n\" clip-path=\"url(#pebcab09916)\" style=\"fill: #ff0000; opacity: 0.9\"/>\n   </g>\n   <g id=\"patch_619\">\n    <path d=\"M 378.446761 294.118125 \nL 378.954034 294.118125 \nL 378.954034 274.581737 \nL 378.446761 274.581737 \nz\n\" clip-path=\"url(#pebcab09916)\" style=\"fill: #ff0000; opacity: 0.9\"/>\n   </g>\n   <g id=\"patch_620\">\n    <path d=\"M 378.954034 294.118125 \nL 379.461307 294.118125 \nL 379.461307 274.581737 \nL 378.954034 274.581737 \nz\n\" clip-path=\"url(#pebcab09916)\" style=\"fill: #ff0000; opacity: 0.9\"/>\n   </g>\n   <g id=\"patch_621\">\n    <path d=\"M 379.461307 294.118125 \nL 379.96858 294.118125 \nL 379.96858 274.581737 \nL 379.461307 274.581737 \nz\n\" clip-path=\"url(#pebcab09916)\" style=\"fill: #ff0000; opacity: 0.9\"/>\n   </g>\n   <g id=\"patch_622\">\n    <path d=\"M 379.96858 294.118125 \nL 380.475852 294.118125 \nL 380.475852 284.349931 \nL 379.96858 284.349931 \nz\n\" clip-path=\"url(#pebcab09916)\" style=\"fill: #ff0000; opacity: 0.9\"/>\n   </g>\n   <g id=\"patch_623\">\n    <path d=\"M 380.475852 294.118125 \nL 380.983125 294.118125 \nL 380.983125 279.465834 \nL 380.475852 279.465834 \nz\n\" clip-path=\"url(#pebcab09916)\" style=\"fill: #ff0000; opacity: 0.9\"/>\n   </g>\n   <g id=\"patch_624\">\n    <path d=\"M 380.983125 294.118125 \nL 381.490398 294.118125 \nL 381.490398 284.349931 \nL 380.983125 284.349931 \nz\n\" clip-path=\"url(#pebcab09916)\" style=\"fill: #ff0000; opacity: 0.9\"/>\n   </g>\n   <g id=\"patch_625\">\n    <path d=\"M 381.490398 294.118125 \nL 381.99767 294.118125 \nL 381.99767 284.349931 \nL 381.490398 284.349931 \nz\n\" clip-path=\"url(#pebcab09916)\" style=\"fill: #ff0000; opacity: 0.9\"/>\n   </g>\n   <g id=\"patch_626\">\n    <path d=\"M 381.99767 294.118125 \nL 382.504943 294.118125 \nL 382.504943 269.69764 \nL 381.99767 269.69764 \nz\n\" clip-path=\"url(#pebcab09916)\" style=\"fill: #ff0000; opacity: 0.9\"/>\n   </g>\n   <g id=\"patch_627\">\n    <path d=\"M 382.504943 294.118125 \nL 383.012216 294.118125 \nL 383.012216 264.813543 \nL 382.504943 264.813543 \nz\n\" clip-path=\"url(#pebcab09916)\" style=\"fill: #ff0000; opacity: 0.9\"/>\n   </g>\n   <g id=\"patch_628\">\n    <path d=\"M 383.012216 294.118125 \nL 383.519489 294.118125 \nL 383.519489 294.118125 \nL 383.012216 294.118125 \nz\n\" clip-path=\"url(#pebcab09916)\" style=\"fill: #ff0000; opacity: 0.9\"/>\n   </g>\n   <g id=\"patch_629\">\n    <path d=\"M 383.519489 294.118125 \nL 384.026761 294.118125 \nL 384.026761 279.465834 \nL 383.519489 279.465834 \nz\n\" clip-path=\"url(#pebcab09916)\" style=\"fill: #ff0000; opacity: 0.9\"/>\n   </g>\n   <g id=\"patch_630\">\n    <path d=\"M 384.026761 294.118125 \nL 384.534034 294.118125 \nL 384.534034 284.349931 \nL 384.026761 284.349931 \nz\n\" clip-path=\"url(#pebcab09916)\" style=\"fill: #ff0000; opacity: 0.9\"/>\n   </g>\n   <g id=\"patch_631\">\n    <path d=\"M 384.534034 294.118125 \nL 385.041307 294.118125 \nL 385.041307 274.581737 \nL 384.534034 274.581737 \nz\n\" clip-path=\"url(#pebcab09916)\" style=\"fill: #ff0000; opacity: 0.9\"/>\n   </g>\n   <g id=\"patch_632\">\n    <path d=\"M 385.041307 294.118125 \nL 385.54858 294.118125 \nL 385.54858 274.581737 \nL 385.041307 274.581737 \nz\n\" clip-path=\"url(#pebcab09916)\" style=\"fill: #ff0000; opacity: 0.9\"/>\n   </g>\n   <g id=\"patch_633\">\n    <path d=\"M 385.54858 294.118125 \nL 386.055852 294.118125 \nL 386.055852 289.234028 \nL 385.54858 289.234028 \nz\n\" clip-path=\"url(#pebcab09916)\" style=\"fill: #ff0000; opacity: 0.9\"/>\n   </g>\n   <g id=\"patch_634\">\n    <path d=\"M 386.055852 294.118125 \nL 386.563125 294.118125 \nL 386.563125 279.465834 \nL 386.055852 279.465834 \nz\n\" clip-path=\"url(#pebcab09916)\" style=\"fill: #ff0000; opacity: 0.9\"/>\n   </g>\n   <g id=\"patch_635\">\n    <path d=\"M 386.563125 294.118125 \nL 387.070398 294.118125 \nL 387.070398 289.234028 \nL 386.563125 289.234028 \nz\n\" clip-path=\"url(#pebcab09916)\" style=\"fill: #ff0000; opacity: 0.9\"/>\n   </g>\n   <g id=\"patch_636\">\n    <path d=\"M 387.070398 294.118125 \nL 387.57767 294.118125 \nL 387.57767 279.465834 \nL 387.070398 279.465834 \nz\n\" clip-path=\"url(#pebcab09916)\" style=\"fill: #ff0000; opacity: 0.9\"/>\n   </g>\n   <g id=\"patch_637\">\n    <path d=\"M 387.57767 294.118125 \nL 388.084943 294.118125 \nL 388.084943 269.69764 \nL 387.57767 269.69764 \nz\n\" clip-path=\"url(#pebcab09916)\" style=\"fill: #ff0000; opacity: 0.9\"/>\n   </g>\n   <g id=\"patch_638\">\n    <path d=\"M 388.084943 294.118125 \nL 388.592216 294.118125 \nL 388.592216 279.465834 \nL 388.084943 279.465834 \nz\n\" clip-path=\"url(#pebcab09916)\" style=\"fill: #ff0000; opacity: 0.9\"/>\n   </g>\n   <g id=\"patch_639\">\n    <path d=\"M 388.592216 294.118125 \nL 389.099489 294.118125 \nL 389.099489 279.465834 \nL 388.592216 279.465834 \nz\n\" clip-path=\"url(#pebcab09916)\" style=\"fill: #ff0000; opacity: 0.9\"/>\n   </g>\n   <g id=\"patch_640\">\n    <path d=\"M 389.099489 294.118125 \nL 389.606761 294.118125 \nL 389.606761 284.349931 \nL 389.099489 284.349931 \nz\n\" clip-path=\"url(#pebcab09916)\" style=\"fill: #ff0000; opacity: 0.9\"/>\n   </g>\n   <g id=\"patch_641\">\n    <path d=\"M 389.606761 294.118125 \nL 390.114034 294.118125 \nL 390.114034 289.234028 \nL 389.606761 289.234028 \nz\n\" clip-path=\"url(#pebcab09916)\" style=\"fill: #ff0000; opacity: 0.9\"/>\n   </g>\n   <g id=\"patch_642\">\n    <path d=\"M 390.114034 294.118125 \nL 390.621307 294.118125 \nL 390.621307 279.465834 \nL 390.114034 279.465834 \nz\n\" clip-path=\"url(#pebcab09916)\" style=\"fill: #ff0000; opacity: 0.9\"/>\n   </g>\n   <g id=\"patch_643\">\n    <path d=\"M 390.621307 294.118125 \nL 391.12858 294.118125 \nL 391.12858 274.581737 \nL 390.621307 274.581737 \nz\n\" clip-path=\"url(#pebcab09916)\" style=\"fill: #ff0000; opacity: 0.9\"/>\n   </g>\n   <g id=\"patch_644\">\n    <path d=\"M 391.12858 294.118125 \nL 391.635852 294.118125 \nL 391.635852 284.349931 \nL 391.12858 284.349931 \nz\n\" clip-path=\"url(#pebcab09916)\" style=\"fill: #ff0000; opacity: 0.9\"/>\n   </g>\n   <g id=\"patch_645\">\n    <path d=\"M 391.635852 294.118125 \nL 392.143125 294.118125 \nL 392.143125 274.581737 \nL 391.635852 274.581737 \nz\n\" clip-path=\"url(#pebcab09916)\" style=\"fill: #ff0000; opacity: 0.9\"/>\n   </g>\n   <g id=\"patch_646\">\n    <path d=\"M 392.143125 294.118125 \nL 392.650398 294.118125 \nL 392.650398 284.349931 \nL 392.143125 284.349931 \nz\n\" clip-path=\"url(#pebcab09916)\" style=\"fill: #ff0000; opacity: 0.9\"/>\n   </g>\n   <g id=\"patch_647\">\n    <path d=\"M 392.650398 294.118125 \nL 393.15767 294.118125 \nL 393.15767 294.118125 \nL 392.650398 294.118125 \nz\n\" clip-path=\"url(#pebcab09916)\" style=\"fill: #ff0000; opacity: 0.9\"/>\n   </g>\n   <g id=\"patch_648\">\n    <path d=\"M 393.15767 294.118125 \nL 393.664943 294.118125 \nL 393.664943 269.69764 \nL 393.15767 269.69764 \nz\n\" clip-path=\"url(#pebcab09916)\" style=\"fill: #ff0000; opacity: 0.9\"/>\n   </g>\n   <g id=\"patch_649\">\n    <path d=\"M 393.664943 294.118125 \nL 394.172216 294.118125 \nL 394.172216 294.118125 \nL 393.664943 294.118125 \nz\n\" clip-path=\"url(#pebcab09916)\" style=\"fill: #ff0000; opacity: 0.9\"/>\n   </g>\n   <g id=\"patch_650\">\n    <path d=\"M 394.172216 294.118125 \nL 394.679489 294.118125 \nL 394.679489 294.118125 \nL 394.172216 294.118125 \nz\n\" clip-path=\"url(#pebcab09916)\" style=\"fill: #ff0000; opacity: 0.9\"/>\n   </g>\n   <g id=\"patch_651\">\n    <path d=\"M 394.679489 294.118125 \nL 395.186761 294.118125 \nL 395.186761 279.465834 \nL 394.679489 279.465834 \nz\n\" clip-path=\"url(#pebcab09916)\" style=\"fill: #ff0000; opacity: 0.9\"/>\n   </g>\n   <g id=\"patch_652\">\n    <path d=\"M 395.186761 294.118125 \nL 395.694034 294.118125 \nL 395.694034 294.118125 \nL 395.186761 294.118125 \nz\n\" clip-path=\"url(#pebcab09916)\" style=\"fill: #ff0000; opacity: 0.9\"/>\n   </g>\n   <g id=\"patch_653\">\n    <path d=\"M 395.694034 294.118125 \nL 396.201307 294.118125 \nL 396.201307 289.234028 \nL 395.694034 289.234028 \nz\n\" clip-path=\"url(#pebcab09916)\" style=\"fill: #ff0000; opacity: 0.9\"/>\n   </g>\n   <g id=\"patch_654\">\n    <path d=\"M 396.201307 294.118125 \nL 396.70858 294.118125 \nL 396.70858 289.234028 \nL 396.201307 289.234028 \nz\n\" clip-path=\"url(#pebcab09916)\" style=\"fill: #ff0000; opacity: 0.9\"/>\n   </g>\n   <g id=\"patch_655\">\n    <path d=\"M 396.70858 294.118125 \nL 397.215852 294.118125 \nL 397.215852 279.465834 \nL 396.70858 279.465834 \nz\n\" clip-path=\"url(#pebcab09916)\" style=\"fill: #ff0000; opacity: 0.9\"/>\n   </g>\n   <g id=\"patch_656\">\n    <path d=\"M 397.215852 294.118125 \nL 397.723125 294.118125 \nL 397.723125 289.234028 \nL 397.215852 289.234028 \nz\n\" clip-path=\"url(#pebcab09916)\" style=\"fill: #ff0000; opacity: 0.9\"/>\n   </g>\n   <g id=\"patch_657\">\n    <path d=\"M 397.723125 294.118125 \nL 398.230398 294.118125 \nL 398.230398 284.349931 \nL 397.723125 284.349931 \nz\n\" clip-path=\"url(#pebcab09916)\" style=\"fill: #ff0000; opacity: 0.9\"/>\n   </g>\n   <g id=\"patch_658\">\n    <path d=\"M 398.230398 294.118125 \nL 398.73767 294.118125 \nL 398.73767 294.118125 \nL 398.230398 294.118125 \nz\n\" clip-path=\"url(#pebcab09916)\" style=\"fill: #ff0000; opacity: 0.9\"/>\n   </g>\n   <g id=\"patch_659\">\n    <path d=\"M 398.73767 294.118125 \nL 399.244943 294.118125 \nL 399.244943 284.349931 \nL 398.73767 284.349931 \nz\n\" clip-path=\"url(#pebcab09916)\" style=\"fill: #ff0000; opacity: 0.9\"/>\n   </g>\n   <g id=\"patch_660\">\n    <path d=\"M 399.244943 294.118125 \nL 399.752216 294.118125 \nL 399.752216 289.234028 \nL 399.244943 289.234028 \nz\n\" clip-path=\"url(#pebcab09916)\" style=\"fill: #ff0000; opacity: 0.9\"/>\n   </g>\n   <g id=\"patch_661\">\n    <path d=\"M 399.752216 294.118125 \nL 400.259489 294.118125 \nL 400.259489 279.465834 \nL 399.752216 279.465834 \nz\n\" clip-path=\"url(#pebcab09916)\" style=\"fill: #ff0000; opacity: 0.9\"/>\n   </g>\n   <g id=\"patch_662\">\n    <path d=\"M 400.259489 294.118125 \nL 400.766761 294.118125 \nL 400.766761 289.234028 \nL 400.259489 289.234028 \nz\n\" clip-path=\"url(#pebcab09916)\" style=\"fill: #ff0000; opacity: 0.9\"/>\n   </g>\n   <g id=\"patch_663\">\n    <path d=\"M 400.766761 294.118125 \nL 401.274034 294.118125 \nL 401.274034 284.349931 \nL 400.766761 284.349931 \nz\n\" clip-path=\"url(#pebcab09916)\" style=\"fill: #ff0000; opacity: 0.9\"/>\n   </g>\n   <g id=\"patch_664\">\n    <path d=\"M 401.274034 294.118125 \nL 401.781307 294.118125 \nL 401.781307 289.234028 \nL 401.274034 289.234028 \nz\n\" clip-path=\"url(#pebcab09916)\" style=\"fill: #ff0000; opacity: 0.9\"/>\n   </g>\n   <g id=\"patch_665\">\n    <path d=\"M 401.781307 294.118125 \nL 402.28858 294.118125 \nL 402.28858 289.234028 \nL 401.781307 289.234028 \nz\n\" clip-path=\"url(#pebcab09916)\" style=\"fill: #ff0000; opacity: 0.9\"/>\n   </g>\n   <g id=\"patch_666\">\n    <path d=\"M 402.28858 294.118125 \nL 402.795852 294.118125 \nL 402.795852 284.349931 \nL 402.28858 284.349931 \nz\n\" clip-path=\"url(#pebcab09916)\" style=\"fill: #ff0000; opacity: 0.9\"/>\n   </g>\n   <g id=\"patch_667\">\n    <path d=\"M 402.795852 294.118125 \nL 403.303125 294.118125 \nL 403.303125 279.465834 \nL 402.795852 279.465834 \nz\n\" clip-path=\"url(#pebcab09916)\" style=\"fill: #ff0000; opacity: 0.9\"/>\n   </g>\n   <g id=\"patch_668\">\n    <path d=\"M 403.303125 294.118125 \nL 403.810398 294.118125 \nL 403.810398 289.234028 \nL 403.303125 289.234028 \nz\n\" clip-path=\"url(#pebcab09916)\" style=\"fill: #ff0000; opacity: 0.9\"/>\n   </g>\n   <g id=\"patch_669\">\n    <path d=\"M 403.810398 294.118125 \nL 404.31767 294.118125 \nL 404.31767 294.118125 \nL 403.810398 294.118125 \nz\n\" clip-path=\"url(#pebcab09916)\" style=\"fill: #ff0000; opacity: 0.9\"/>\n   </g>\n   <g id=\"patch_670\">\n    <path d=\"M 404.31767 294.118125 \nL 404.824943 294.118125 \nL 404.824943 279.465834 \nL 404.31767 279.465834 \nz\n\" clip-path=\"url(#pebcab09916)\" style=\"fill: #ff0000; opacity: 0.9\"/>\n   </g>\n   <g id=\"patch_671\">\n    <path d=\"M 404.824943 294.118125 \nL 405.332216 294.118125 \nL 405.332216 294.118125 \nL 404.824943 294.118125 \nz\n\" clip-path=\"url(#pebcab09916)\" style=\"fill: #ff0000; opacity: 0.9\"/>\n   </g>\n   <g id=\"patch_672\">\n    <path d=\"M 405.332216 294.118125 \nL 405.839489 294.118125 \nL 405.839489 289.234028 \nL 405.332216 289.234028 \nz\n\" clip-path=\"url(#pebcab09916)\" style=\"fill: #ff0000; opacity: 0.9\"/>\n   </g>\n   <g id=\"patch_673\">\n    <path d=\"M 405.839489 294.118125 \nL 406.346761 294.118125 \nL 406.346761 284.349931 \nL 405.839489 284.349931 \nz\n\" clip-path=\"url(#pebcab09916)\" style=\"fill: #ff0000; opacity: 0.9\"/>\n   </g>\n   <g id=\"patch_674\">\n    <path d=\"M 406.346761 294.118125 \nL 406.854034 294.118125 \nL 406.854034 289.234028 \nL 406.346761 289.234028 \nz\n\" clip-path=\"url(#pebcab09916)\" style=\"fill: #ff0000; opacity: 0.9\"/>\n   </g>\n   <g id=\"patch_675\">\n    <path d=\"M 406.854034 294.118125 \nL 407.361307 294.118125 \nL 407.361307 289.234028 \nL 406.854034 289.234028 \nz\n\" clip-path=\"url(#pebcab09916)\" style=\"fill: #ff0000; opacity: 0.9\"/>\n   </g>\n   <g id=\"patch_676\">\n    <path d=\"M 407.361307 294.118125 \nL 407.86858 294.118125 \nL 407.86858 289.234028 \nL 407.361307 289.234028 \nz\n\" clip-path=\"url(#pebcab09916)\" style=\"fill: #ff0000; opacity: 0.9\"/>\n   </g>\n   <g id=\"patch_677\">\n    <path d=\"M 407.86858 294.118125 \nL 408.375852 294.118125 \nL 408.375852 294.118125 \nL 407.86858 294.118125 \nz\n\" clip-path=\"url(#pebcab09916)\" style=\"fill: #ff0000; opacity: 0.9\"/>\n   </g>\n   <g id=\"patch_678\">\n    <path d=\"M 408.375852 294.118125 \nL 408.883125 294.118125 \nL 408.883125 294.118125 \nL 408.375852 294.118125 \nz\n\" clip-path=\"url(#pebcab09916)\" style=\"fill: #ff0000; opacity: 0.9\"/>\n   </g>\n   <g id=\"patch_679\">\n    <path d=\"M 408.883125 294.118125 \nL 409.390398 294.118125 \nL 409.390398 289.234028 \nL 408.883125 289.234028 \nz\n\" clip-path=\"url(#pebcab09916)\" style=\"fill: #ff0000; opacity: 0.9\"/>\n   </g>\n   <g id=\"patch_680\">\n    <path d=\"M 409.390398 294.118125 \nL 409.89767 294.118125 \nL 409.89767 289.234028 \nL 409.390398 289.234028 \nz\n\" clip-path=\"url(#pebcab09916)\" style=\"fill: #ff0000; opacity: 0.9\"/>\n   </g>\n   <g id=\"patch_681\">\n    <path d=\"M 409.89767 294.118125 \nL 410.404943 294.118125 \nL 410.404943 289.234028 \nL 409.89767 289.234028 \nz\n\" clip-path=\"url(#pebcab09916)\" style=\"fill: #ff0000; opacity: 0.9\"/>\n   </g>\n   <g id=\"patch_682\">\n    <path d=\"M 410.404943 294.118125 \nL 410.912216 294.118125 \nL 410.912216 294.118125 \nL 410.404943 294.118125 \nz\n\" clip-path=\"url(#pebcab09916)\" style=\"fill: #ff0000; opacity: 0.9\"/>\n   </g>\n   <g id=\"patch_683\">\n    <path d=\"M 410.912216 294.118125 \nL 411.419489 294.118125 \nL 411.419489 294.118125 \nL 410.912216 294.118125 \nz\n\" clip-path=\"url(#pebcab09916)\" style=\"fill: #ff0000; opacity: 0.9\"/>\n   </g>\n   <g id=\"patch_684\">\n    <path d=\"M 411.419489 294.118125 \nL 411.926761 294.118125 \nL 411.926761 294.118125 \nL 411.419489 294.118125 \nz\n\" clip-path=\"url(#pebcab09916)\" style=\"fill: #ff0000; opacity: 0.9\"/>\n   </g>\n   <g id=\"patch_685\">\n    <path d=\"M 411.926761 294.118125 \nL 412.434034 294.118125 \nL 412.434034 284.349931 \nL 411.926761 284.349931 \nz\n\" clip-path=\"url(#pebcab09916)\" style=\"fill: #ff0000; opacity: 0.9\"/>\n   </g>\n   <g id=\"patch_686\">\n    <path d=\"M 412.434034 294.118125 \nL 412.941307 294.118125 \nL 412.941307 289.234028 \nL 412.434034 289.234028 \nz\n\" clip-path=\"url(#pebcab09916)\" style=\"fill: #ff0000; opacity: 0.9\"/>\n   </g>\n   <g id=\"patch_687\">\n    <path d=\"M 412.941307 294.118125 \nL 413.44858 294.118125 \nL 413.44858 284.349931 \nL 412.941307 284.349931 \nz\n\" clip-path=\"url(#pebcab09916)\" style=\"fill: #ff0000; opacity: 0.9\"/>\n   </g>\n   <g id=\"patch_688\">\n    <path d=\"M 413.44858 294.118125 \nL 413.955852 294.118125 \nL 413.955852 294.118125 \nL 413.44858 294.118125 \nz\n\" clip-path=\"url(#pebcab09916)\" style=\"fill: #ff0000; opacity: 0.9\"/>\n   </g>\n   <g id=\"patch_689\">\n    <path d=\"M 413.955852 294.118125 \nL 414.463125 294.118125 \nL 414.463125 294.118125 \nL 413.955852 294.118125 \nz\n\" clip-path=\"url(#pebcab09916)\" style=\"fill: #ff0000; opacity: 0.9\"/>\n   </g>\n   <g id=\"patch_690\">\n    <path d=\"M 414.463125 294.118125 \nL 414.970398 294.118125 \nL 414.970398 289.234028 \nL 414.463125 289.234028 \nz\n\" clip-path=\"url(#pebcab09916)\" style=\"fill: #ff0000; opacity: 0.9\"/>\n   </g>\n   <g id=\"patch_691\">\n    <path d=\"M 414.970398 294.118125 \nL 415.47767 294.118125 \nL 415.47767 294.118125 \nL 414.970398 294.118125 \nz\n\" clip-path=\"url(#pebcab09916)\" style=\"fill: #ff0000; opacity: 0.9\"/>\n   </g>\n   <g id=\"patch_692\">\n    <path d=\"M 415.47767 294.118125 \nL 415.984943 294.118125 \nL 415.984943 289.234028 \nL 415.47767 289.234028 \nz\n\" clip-path=\"url(#pebcab09916)\" style=\"fill: #ff0000; opacity: 0.9\"/>\n   </g>\n   <g id=\"patch_693\">\n    <path d=\"M 415.984943 294.118125 \nL 416.492216 294.118125 \nL 416.492216 294.118125 \nL 415.984943 294.118125 \nz\n\" clip-path=\"url(#pebcab09916)\" style=\"fill: #ff0000; opacity: 0.9\"/>\n   </g>\n   <g id=\"patch_694\">\n    <path d=\"M 416.492216 294.118125 \nL 416.999489 294.118125 \nL 416.999489 289.234028 \nL 416.492216 289.234028 \nz\n\" clip-path=\"url(#pebcab09916)\" style=\"fill: #ff0000; opacity: 0.9\"/>\n   </g>\n   <g id=\"patch_695\">\n    <path d=\"M 416.999489 294.118125 \nL 417.506761 294.118125 \nL 417.506761 294.118125 \nL 416.999489 294.118125 \nz\n\" clip-path=\"url(#pebcab09916)\" style=\"fill: #ff0000; opacity: 0.9\"/>\n   </g>\n   <g id=\"patch_696\">\n    <path d=\"M 417.506761 294.118125 \nL 418.014034 294.118125 \nL 418.014034 294.118125 \nL 417.506761 294.118125 \nz\n\" clip-path=\"url(#pebcab09916)\" style=\"fill: #ff0000; opacity: 0.9\"/>\n   </g>\n   <g id=\"patch_697\">\n    <path d=\"M 418.014034 294.118125 \nL 418.521307 294.118125 \nL 418.521307 284.349931 \nL 418.014034 284.349931 \nz\n\" clip-path=\"url(#pebcab09916)\" style=\"fill: #ff0000; opacity: 0.9\"/>\n   </g>\n   <g id=\"patch_698\">\n    <path d=\"M 418.521307 294.118125 \nL 419.02858 294.118125 \nL 419.02858 289.234028 \nL 418.521307 289.234028 \nz\n\" clip-path=\"url(#pebcab09916)\" style=\"fill: #ff0000; opacity: 0.9\"/>\n   </g>\n   <g id=\"patch_699\">\n    <path d=\"M 419.02858 294.118125 \nL 419.535852 294.118125 \nL 419.535852 289.234028 \nL 419.02858 289.234028 \nz\n\" clip-path=\"url(#pebcab09916)\" style=\"fill: #ff0000; opacity: 0.9\"/>\n   </g>\n   <g id=\"patch_700\">\n    <path d=\"M 419.535852 294.118125 \nL 420.043125 294.118125 \nL 420.043125 289.234028 \nL 419.535852 289.234028 \nz\n\" clip-path=\"url(#pebcab09916)\" style=\"fill: #ff0000; opacity: 0.9\"/>\n   </g>\n   <g id=\"patch_701\">\n    <path d=\"M 420.043125 294.118125 \nL 420.550398 294.118125 \nL 420.550398 289.234028 \nL 420.043125 289.234028 \nz\n\" clip-path=\"url(#pebcab09916)\" style=\"fill: #ff0000; opacity: 0.9\"/>\n   </g>\n   <g id=\"patch_702\">\n    <path d=\"M 420.550398 294.118125 \nL 421.05767 294.118125 \nL 421.05767 294.118125 \nL 420.550398 294.118125 \nz\n\" clip-path=\"url(#pebcab09916)\" style=\"fill: #ff0000; opacity: 0.9\"/>\n   </g>\n   <g id=\"patch_703\">\n    <path d=\"M 421.05767 294.118125 \nL 421.564943 294.118125 \nL 421.564943 284.349931 \nL 421.05767 284.349931 \nz\n\" clip-path=\"url(#pebcab09916)\" style=\"fill: #ff0000; opacity: 0.9\"/>\n   </g>\n   <g id=\"patch_704\">\n    <path d=\"M 421.564943 294.118125 \nL 422.072216 294.118125 \nL 422.072216 294.118125 \nL 421.564943 294.118125 \nz\n\" clip-path=\"url(#pebcab09916)\" style=\"fill: #ff0000; opacity: 0.9\"/>\n   </g>\n   <g id=\"patch_705\">\n    <path d=\"M 422.072216 294.118125 \nL 422.579489 294.118125 \nL 422.579489 294.118125 \nL 422.072216 294.118125 \nz\n\" clip-path=\"url(#pebcab09916)\" style=\"fill: #ff0000; opacity: 0.9\"/>\n   </g>\n   <g id=\"patch_706\">\n    <path d=\"M 422.579489 294.118125 \nL 423.086761 294.118125 \nL 423.086761 284.349931 \nL 422.579489 284.349931 \nz\n\" clip-path=\"url(#pebcab09916)\" style=\"fill: #ff0000; opacity: 0.9\"/>\n   </g>\n   <g id=\"patch_707\">\n    <path d=\"M 423.086761 294.118125 \nL 423.594034 294.118125 \nL 423.594034 289.234028 \nL 423.086761 289.234028 \nz\n\" clip-path=\"url(#pebcab09916)\" style=\"fill: #ff0000; opacity: 0.9\"/>\n   </g>\n   <g id=\"patch_708\">\n    <path d=\"M 423.594034 294.118125 \nL 424.101307 294.118125 \nL 424.101307 294.118125 \nL 423.594034 294.118125 \nz\n\" clip-path=\"url(#pebcab09916)\" style=\"fill: #ff0000; opacity: 0.9\"/>\n   </g>\n   <g id=\"patch_709\">\n    <path d=\"M 424.101307 294.118125 \nL 424.60858 294.118125 \nL 424.60858 294.118125 \nL 424.101307 294.118125 \nz\n\" clip-path=\"url(#pebcab09916)\" style=\"fill: #ff0000; opacity: 0.9\"/>\n   </g>\n   <g id=\"patch_710\">\n    <path d=\"M 424.60858 294.118125 \nL 425.115852 294.118125 \nL 425.115852 294.118125 \nL 424.60858 294.118125 \nz\n\" clip-path=\"url(#pebcab09916)\" style=\"fill: #ff0000; opacity: 0.9\"/>\n   </g>\n   <g id=\"patch_711\">\n    <path d=\"M 425.115852 294.118125 \nL 425.623125 294.118125 \nL 425.623125 294.118125 \nL 425.115852 294.118125 \nz\n\" clip-path=\"url(#pebcab09916)\" style=\"fill: #ff0000; opacity: 0.9\"/>\n   </g>\n   <g id=\"patch_712\">\n    <path d=\"M 425.623125 294.118125 \nL 426.130398 294.118125 \nL 426.130398 294.118125 \nL 425.623125 294.118125 \nz\n\" clip-path=\"url(#pebcab09916)\" style=\"fill: #ff0000; opacity: 0.9\"/>\n   </g>\n   <g id=\"patch_713\">\n    <path d=\"M 426.130398 294.118125 \nL 426.63767 294.118125 \nL 426.63767 289.234028 \nL 426.130398 289.234028 \nz\n\" clip-path=\"url(#pebcab09916)\" style=\"fill: #ff0000; opacity: 0.9\"/>\n   </g>\n   <g id=\"patch_714\">\n    <path d=\"M 426.63767 294.118125 \nL 427.144943 294.118125 \nL 427.144943 294.118125 \nL 426.63767 294.118125 \nz\n\" clip-path=\"url(#pebcab09916)\" style=\"fill: #ff0000; opacity: 0.9\"/>\n   </g>\n   <g id=\"patch_715\">\n    <path d=\"M 427.144943 294.118125 \nL 427.652216 294.118125 \nL 427.652216 294.118125 \nL 427.144943 294.118125 \nz\n\" clip-path=\"url(#pebcab09916)\" style=\"fill: #ff0000; opacity: 0.9\"/>\n   </g>\n   <g id=\"patch_716\">\n    <path d=\"M 427.652216 294.118125 \nL 428.159489 294.118125 \nL 428.159489 289.234028 \nL 427.652216 289.234028 \nz\n\" clip-path=\"url(#pebcab09916)\" style=\"fill: #ff0000; opacity: 0.9\"/>\n   </g>\n   <g id=\"patch_717\">\n    <path d=\"M 428.159489 294.118125 \nL 428.666761 294.118125 \nL 428.666761 289.234028 \nL 428.159489 289.234028 \nz\n\" clip-path=\"url(#pebcab09916)\" style=\"fill: #ff0000; opacity: 0.9\"/>\n   </g>\n   <g id=\"patch_718\">\n    <path d=\"M 428.666761 294.118125 \nL 429.174034 294.118125 \nL 429.174034 289.234028 \nL 428.666761 289.234028 \nz\n\" clip-path=\"url(#pebcab09916)\" style=\"fill: #ff0000; opacity: 0.9\"/>\n   </g>\n   <g id=\"patch_719\">\n    <path d=\"M 429.174034 294.118125 \nL 429.681307 294.118125 \nL 429.681307 294.118125 \nL 429.174034 294.118125 \nz\n\" clip-path=\"url(#pebcab09916)\" style=\"fill: #ff0000; opacity: 0.9\"/>\n   </g>\n   <g id=\"patch_720\">\n    <path d=\"M 429.681307 294.118125 \nL 430.18858 294.118125 \nL 430.18858 289.234028 \nL 429.681307 289.234028 \nz\n\" clip-path=\"url(#pebcab09916)\" style=\"fill: #ff0000; opacity: 0.9\"/>\n   </g>\n   <g id=\"patch_721\">\n    <path d=\"M 430.18858 294.118125 \nL 430.695852 294.118125 \nL 430.695852 289.234028 \nL 430.18858 289.234028 \nz\n\" clip-path=\"url(#pebcab09916)\" style=\"fill: #ff0000; opacity: 0.9\"/>\n   </g>\n   <g id=\"patch_722\">\n    <path d=\"M 430.695852 294.118125 \nL 431.203125 294.118125 \nL 431.203125 294.118125 \nL 430.695852 294.118125 \nz\n\" clip-path=\"url(#pebcab09916)\" style=\"fill: #ff0000; opacity: 0.9\"/>\n   </g>\n   <g id=\"patch_723\">\n    <path d=\"M 431.203125 294.118125 \nL 431.710398 294.118125 \nL 431.710398 294.118125 \nL 431.203125 294.118125 \nz\n\" clip-path=\"url(#pebcab09916)\" style=\"fill: #ff0000; opacity: 0.9\"/>\n   </g>\n   <g id=\"patch_724\">\n    <path d=\"M 431.710398 294.118125 \nL 432.21767 294.118125 \nL 432.21767 294.118125 \nL 431.710398 294.118125 \nz\n\" clip-path=\"url(#pebcab09916)\" style=\"fill: #ff0000; opacity: 0.9\"/>\n   </g>\n   <g id=\"patch_725\">\n    <path d=\"M 432.21767 294.118125 \nL 432.724943 294.118125 \nL 432.724943 294.118125 \nL 432.21767 294.118125 \nz\n\" clip-path=\"url(#pebcab09916)\" style=\"fill: #ff0000; opacity: 0.9\"/>\n   </g>\n   <g id=\"patch_726\">\n    <path d=\"M 432.724943 294.118125 \nL 433.232216 294.118125 \nL 433.232216 294.118125 \nL 432.724943 294.118125 \nz\n\" clip-path=\"url(#pebcab09916)\" style=\"fill: #ff0000; opacity: 0.9\"/>\n   </g>\n   <g id=\"patch_727\">\n    <path d=\"M 433.232216 294.118125 \nL 433.739489 294.118125 \nL 433.739489 289.234028 \nL 433.232216 289.234028 \nz\n\" clip-path=\"url(#pebcab09916)\" style=\"fill: #ff0000; opacity: 0.9\"/>\n   </g>\n   <g id=\"patch_728\">\n    <path d=\"M 433.739489 294.118125 \nL 434.246761 294.118125 \nL 434.246761 294.118125 \nL 433.739489 294.118125 \nz\n\" clip-path=\"url(#pebcab09916)\" style=\"fill: #ff0000; opacity: 0.9\"/>\n   </g>\n   <g id=\"patch_729\">\n    <path d=\"M 434.246761 294.118125 \nL 434.754034 294.118125 \nL 434.754034 284.349931 \nL 434.246761 284.349931 \nz\n\" clip-path=\"url(#pebcab09916)\" style=\"fill: #ff0000; opacity: 0.9\"/>\n   </g>\n   <g id=\"patch_730\">\n    <path d=\"M 434.754034 294.118125 \nL 435.261307 294.118125 \nL 435.261307 289.234028 \nL 434.754034 289.234028 \nz\n\" clip-path=\"url(#pebcab09916)\" style=\"fill: #ff0000; opacity: 0.9\"/>\n   </g>\n   <g id=\"patch_731\">\n    <path d=\"M 435.261307 294.118125 \nL 435.76858 294.118125 \nL 435.76858 294.118125 \nL 435.261307 294.118125 \nz\n\" clip-path=\"url(#pebcab09916)\" style=\"fill: #ff0000; opacity: 0.9\"/>\n   </g>\n   <g id=\"patch_732\">\n    <path d=\"M 435.76858 294.118125 \nL 436.275852 294.118125 \nL 436.275852 289.234028 \nL 435.76858 289.234028 \nz\n\" clip-path=\"url(#pebcab09916)\" style=\"fill: #ff0000; opacity: 0.9\"/>\n   </g>\n   <g id=\"patch_733\">\n    <path d=\"M 436.275852 294.118125 \nL 436.783125 294.118125 \nL 436.783125 284.349931 \nL 436.275852 284.349931 \nz\n\" clip-path=\"url(#pebcab09916)\" style=\"fill: #ff0000; opacity: 0.9\"/>\n   </g>\n   <g id=\"patch_734\">\n    <path d=\"M 436.783125 294.118125 \nL 437.290398 294.118125 \nL 437.290398 294.118125 \nL 436.783125 294.118125 \nz\n\" clip-path=\"url(#pebcab09916)\" style=\"fill: #ff0000; opacity: 0.9\"/>\n   </g>\n   <g id=\"patch_735\">\n    <path d=\"M 437.290398 294.118125 \nL 437.79767 294.118125 \nL 437.79767 294.118125 \nL 437.290398 294.118125 \nz\n\" clip-path=\"url(#pebcab09916)\" style=\"fill: #ff0000; opacity: 0.9\"/>\n   </g>\n   <g id=\"patch_736\">\n    <path d=\"M 437.79767 294.118125 \nL 438.304943 294.118125 \nL 438.304943 294.118125 \nL 437.79767 294.118125 \nz\n\" clip-path=\"url(#pebcab09916)\" style=\"fill: #ff0000; opacity: 0.9\"/>\n   </g>\n   <g id=\"patch_737\">\n    <path d=\"M 438.304943 294.118125 \nL 438.812216 294.118125 \nL 438.812216 289.234028 \nL 438.304943 289.234028 \nz\n\" clip-path=\"url(#pebcab09916)\" style=\"fill: #ff0000; opacity: 0.9\"/>\n   </g>\n   <g id=\"patch_738\">\n    <path d=\"M 438.812216 294.118125 \nL 439.319489 294.118125 \nL 439.319489 289.234028 \nL 438.812216 289.234028 \nz\n\" clip-path=\"url(#pebcab09916)\" style=\"fill: #ff0000; opacity: 0.9\"/>\n   </g>\n   <g id=\"patch_739\">\n    <path d=\"M 439.319489 294.118125 \nL 439.826761 294.118125 \nL 439.826761 289.234028 \nL 439.319489 289.234028 \nz\n\" clip-path=\"url(#pebcab09916)\" style=\"fill: #ff0000; opacity: 0.9\"/>\n   </g>\n   <g id=\"patch_740\">\n    <path d=\"M 439.826761 294.118125 \nL 440.334034 294.118125 \nL 440.334034 289.234028 \nL 439.826761 289.234028 \nz\n\" clip-path=\"url(#pebcab09916)\" style=\"fill: #ff0000; opacity: 0.9\"/>\n   </g>\n   <g id=\"patch_741\">\n    <path d=\"M 440.334034 294.118125 \nL 440.841307 294.118125 \nL 440.841307 294.118125 \nL 440.334034 294.118125 \nz\n\" clip-path=\"url(#pebcab09916)\" style=\"fill: #ff0000; opacity: 0.9\"/>\n   </g>\n   <g id=\"patch_742\">\n    <path d=\"M 440.841307 294.118125 \nL 441.34858 294.118125 \nL 441.34858 294.118125 \nL 440.841307 294.118125 \nz\n\" clip-path=\"url(#pebcab09916)\" style=\"fill: #ff0000; opacity: 0.9\"/>\n   </g>\n   <g id=\"patch_743\">\n    <path d=\"M 441.34858 294.118125 \nL 441.855852 294.118125 \nL 441.855852 294.118125 \nL 441.34858 294.118125 \nz\n\" clip-path=\"url(#pebcab09916)\" style=\"fill: #ff0000; opacity: 0.9\"/>\n   </g>\n   <g id=\"patch_744\">\n    <path d=\"M 441.855852 294.118125 \nL 442.363125 294.118125 \nL 442.363125 294.118125 \nL 441.855852 294.118125 \nz\n\" clip-path=\"url(#pebcab09916)\" style=\"fill: #ff0000; opacity: 0.9\"/>\n   </g>\n   <g id=\"patch_745\">\n    <path d=\"M 442.363125 294.118125 \nL 442.870398 294.118125 \nL 442.870398 294.118125 \nL 442.363125 294.118125 \nz\n\" clip-path=\"url(#pebcab09916)\" style=\"fill: #ff0000; opacity: 0.9\"/>\n   </g>\n   <g id=\"patch_746\">\n    <path d=\"M 442.870398 294.118125 \nL 443.37767 294.118125 \nL 443.37767 294.118125 \nL 442.870398 294.118125 \nz\n\" clip-path=\"url(#pebcab09916)\" style=\"fill: #ff0000; opacity: 0.9\"/>\n   </g>\n   <g id=\"patch_747\">\n    <path d=\"M 443.37767 294.118125 \nL 443.884943 294.118125 \nL 443.884943 294.118125 \nL 443.37767 294.118125 \nz\n\" clip-path=\"url(#pebcab09916)\" style=\"fill: #ff0000; opacity: 0.9\"/>\n   </g>\n   <g id=\"patch_748\">\n    <path d=\"M 443.884943 294.118125 \nL 444.392216 294.118125 \nL 444.392216 294.118125 \nL 443.884943 294.118125 \nz\n\" clip-path=\"url(#pebcab09916)\" style=\"fill: #ff0000; opacity: 0.9\"/>\n   </g>\n   <g id=\"patch_749\">\n    <path d=\"M 444.392216 294.118125 \nL 444.899489 294.118125 \nL 444.899489 294.118125 \nL 444.392216 294.118125 \nz\n\" clip-path=\"url(#pebcab09916)\" style=\"fill: #ff0000; opacity: 0.9\"/>\n   </g>\n   <g id=\"patch_750\">\n    <path d=\"M 444.899489 294.118125 \nL 445.406761 294.118125 \nL 445.406761 294.118125 \nL 444.899489 294.118125 \nz\n\" clip-path=\"url(#pebcab09916)\" style=\"fill: #ff0000; opacity: 0.9\"/>\n   </g>\n   <g id=\"patch_751\">\n    <path d=\"M 445.406761 294.118125 \nL 445.914034 294.118125 \nL 445.914034 294.118125 \nL 445.406761 294.118125 \nz\n\" clip-path=\"url(#pebcab09916)\" style=\"fill: #ff0000; opacity: 0.9\"/>\n   </g>\n   <g id=\"patch_752\">\n    <path d=\"M 445.914034 294.118125 \nL 446.421307 294.118125 \nL 446.421307 294.118125 \nL 445.914034 294.118125 \nz\n\" clip-path=\"url(#pebcab09916)\" style=\"fill: #ff0000; opacity: 0.9\"/>\n   </g>\n   <g id=\"patch_753\">\n    <path d=\"M 446.421307 294.118125 \nL 446.92858 294.118125 \nL 446.92858 294.118125 \nL 446.421307 294.118125 \nz\n\" clip-path=\"url(#pebcab09916)\" style=\"fill: #ff0000; opacity: 0.9\"/>\n   </g>\n   <g id=\"patch_754\">\n    <path d=\"M 446.92858 294.118125 \nL 447.435852 294.118125 \nL 447.435852 294.118125 \nL 446.92858 294.118125 \nz\n\" clip-path=\"url(#pebcab09916)\" style=\"fill: #ff0000; opacity: 0.9\"/>\n   </g>\n   <g id=\"patch_755\">\n    <path d=\"M 447.435852 294.118125 \nL 447.943125 294.118125 \nL 447.943125 289.234028 \nL 447.435852 289.234028 \nz\n\" clip-path=\"url(#pebcab09916)\" style=\"fill: #ff0000; opacity: 0.9\"/>\n   </g>\n   <g id=\"patch_756\">\n    <path d=\"M 447.943125 294.118125 \nL 448.450398 294.118125 \nL 448.450398 294.118125 \nL 447.943125 294.118125 \nz\n\" clip-path=\"url(#pebcab09916)\" style=\"fill: #ff0000; opacity: 0.9\"/>\n   </g>\n   <g id=\"patch_757\">\n    <path d=\"M 448.450398 294.118125 \nL 448.95767 294.118125 \nL 448.95767 294.118125 \nL 448.450398 294.118125 \nz\n\" clip-path=\"url(#pebcab09916)\" style=\"fill: #ff0000; opacity: 0.9\"/>\n   </g>\n   <g id=\"patch_758\">\n    <path d=\"M 448.95767 294.118125 \nL 449.464943 294.118125 \nL 449.464943 294.118125 \nL 448.95767 294.118125 \nz\n\" clip-path=\"url(#pebcab09916)\" style=\"fill: #ff0000; opacity: 0.9\"/>\n   </g>\n   <g id=\"patch_759\">\n    <path d=\"M 449.464943 294.118125 \nL 449.972216 294.118125 \nL 449.972216 294.118125 \nL 449.464943 294.118125 \nz\n\" clip-path=\"url(#pebcab09916)\" style=\"fill: #ff0000; opacity: 0.9\"/>\n   </g>\n   <g id=\"patch_760\">\n    <path d=\"M 449.972216 294.118125 \nL 450.479489 294.118125 \nL 450.479489 289.234028 \nL 449.972216 289.234028 \nz\n\" clip-path=\"url(#pebcab09916)\" style=\"fill: #ff0000; opacity: 0.9\"/>\n   </g>\n   <g id=\"patch_761\">\n    <path d=\"M 450.479489 294.118125 \nL 450.986761 294.118125 \nL 450.986761 284.349931 \nL 450.479489 284.349931 \nz\n\" clip-path=\"url(#pebcab09916)\" style=\"fill: #ff0000; opacity: 0.9\"/>\n   </g>\n   <g id=\"patch_762\">\n    <path d=\"M 450.986761 294.118125 \nL 451.494034 294.118125 \nL 451.494034 294.118125 \nL 450.986761 294.118125 \nz\n\" clip-path=\"url(#pebcab09916)\" style=\"fill: #ff0000; opacity: 0.9\"/>\n   </g>\n   <g id=\"patch_763\">\n    <path d=\"M 451.494034 294.118125 \nL 452.001307 294.118125 \nL 452.001307 294.118125 \nL 451.494034 294.118125 \nz\n\" clip-path=\"url(#pebcab09916)\" style=\"fill: #ff0000; opacity: 0.9\"/>\n   </g>\n   <g id=\"patch_764\">\n    <path d=\"M 452.001307 294.118125 \nL 452.50858 294.118125 \nL 452.50858 294.118125 \nL 452.001307 294.118125 \nz\n\" clip-path=\"url(#pebcab09916)\" style=\"fill: #ff0000; opacity: 0.9\"/>\n   </g>\n   <g id=\"patch_765\">\n    <path d=\"M 452.50858 294.118125 \nL 453.015852 294.118125 \nL 453.015852 294.118125 \nL 452.50858 294.118125 \nz\n\" clip-path=\"url(#pebcab09916)\" style=\"fill: #ff0000; opacity: 0.9\"/>\n   </g>\n   <g id=\"patch_766\">\n    <path d=\"M 453.015852 294.118125 \nL 453.523125 294.118125 \nL 453.523125 294.118125 \nL 453.015852 294.118125 \nz\n\" clip-path=\"url(#pebcab09916)\" style=\"fill: #ff0000; opacity: 0.9\"/>\n   </g>\n   <g id=\"patch_767\">\n    <path d=\"M 453.523125 294.118125 \nL 454.030398 294.118125 \nL 454.030398 294.118125 \nL 453.523125 294.118125 \nz\n\" clip-path=\"url(#pebcab09916)\" style=\"fill: #ff0000; opacity: 0.9\"/>\n   </g>\n   <g id=\"patch_768\">\n    <path d=\"M 454.030398 294.118125 \nL 454.53767 294.118125 \nL 454.53767 294.118125 \nL 454.030398 294.118125 \nz\n\" clip-path=\"url(#pebcab09916)\" style=\"fill: #ff0000; opacity: 0.9\"/>\n   </g>\n   <g id=\"patch_769\">\n    <path d=\"M 454.53767 294.118125 \nL 455.044943 294.118125 \nL 455.044943 294.118125 \nL 454.53767 294.118125 \nz\n\" clip-path=\"url(#pebcab09916)\" style=\"fill: #ff0000; opacity: 0.9\"/>\n   </g>\n   <g id=\"patch_770\">\n    <path d=\"M 455.044943 294.118125 \nL 455.552216 294.118125 \nL 455.552216 294.118125 \nL 455.044943 294.118125 \nz\n\" clip-path=\"url(#pebcab09916)\" style=\"fill: #ff0000; opacity: 0.9\"/>\n   </g>\n   <g id=\"patch_771\">\n    <path d=\"M 455.552216 294.118125 \nL 456.059489 294.118125 \nL 456.059489 289.234028 \nL 455.552216 289.234028 \nz\n\" clip-path=\"url(#pebcab09916)\" style=\"fill: #ff0000; opacity: 0.9\"/>\n   </g>\n   <g id=\"patch_772\">\n    <path d=\"M 456.059489 294.118125 \nL 456.566761 294.118125 \nL 456.566761 294.118125 \nL 456.059489 294.118125 \nz\n\" clip-path=\"url(#pebcab09916)\" style=\"fill: #ff0000; opacity: 0.9\"/>\n   </g>\n   <g id=\"patch_773\">\n    <path d=\"M 456.566761 294.118125 \nL 457.074034 294.118125 \nL 457.074034 294.118125 \nL 456.566761 294.118125 \nz\n\" clip-path=\"url(#pebcab09916)\" style=\"fill: #ff0000; opacity: 0.9\"/>\n   </g>\n   <g id=\"patch_774\">\n    <path d=\"M 457.074034 294.118125 \nL 457.581307 294.118125 \nL 457.581307 294.118125 \nL 457.074034 294.118125 \nz\n\" clip-path=\"url(#pebcab09916)\" style=\"fill: #ff0000; opacity: 0.9\"/>\n   </g>\n   <g id=\"patch_775\">\n    <path d=\"M 457.581307 294.118125 \nL 458.08858 294.118125 \nL 458.08858 289.234028 \nL 457.581307 289.234028 \nz\n\" clip-path=\"url(#pebcab09916)\" style=\"fill: #ff0000; opacity: 0.9\"/>\n   </g>\n   <g id=\"patch_776\">\n    <path d=\"M 458.08858 294.118125 \nL 458.595852 294.118125 \nL 458.595852 294.118125 \nL 458.08858 294.118125 \nz\n\" clip-path=\"url(#pebcab09916)\" style=\"fill: #ff0000; opacity: 0.9\"/>\n   </g>\n   <g id=\"patch_777\">\n    <path d=\"M 458.595852 294.118125 \nL 459.103125 294.118125 \nL 459.103125 294.118125 \nL 458.595852 294.118125 \nz\n\" clip-path=\"url(#pebcab09916)\" style=\"fill: #ff0000; opacity: 0.9\"/>\n   </g>\n   <g id=\"patch_778\">\n    <path d=\"M 459.103125 294.118125 \nL 459.610398 294.118125 \nL 459.610398 294.118125 \nL 459.103125 294.118125 \nz\n\" clip-path=\"url(#pebcab09916)\" style=\"fill: #ff0000; opacity: 0.9\"/>\n   </g>\n   <g id=\"patch_779\">\n    <path d=\"M 459.610398 294.118125 \nL 460.11767 294.118125 \nL 460.11767 294.118125 \nL 459.610398 294.118125 \nz\n\" clip-path=\"url(#pebcab09916)\" style=\"fill: #ff0000; opacity: 0.9\"/>\n   </g>\n   <g id=\"patch_780\">\n    <path d=\"M 460.11767 294.118125 \nL 460.624943 294.118125 \nL 460.624943 294.118125 \nL 460.11767 294.118125 \nz\n\" clip-path=\"url(#pebcab09916)\" style=\"fill: #ff0000; opacity: 0.9\"/>\n   </g>\n   <g id=\"patch_781\">\n    <path d=\"M 460.624943 294.118125 \nL 461.132216 294.118125 \nL 461.132216 289.234028 \nL 460.624943 289.234028 \nz\n\" clip-path=\"url(#pebcab09916)\" style=\"fill: #ff0000; opacity: 0.9\"/>\n   </g>\n   <g id=\"patch_782\">\n    <path d=\"M 461.132216 294.118125 \nL 461.639489 294.118125 \nL 461.639489 294.118125 \nL 461.132216 294.118125 \nz\n\" clip-path=\"url(#pebcab09916)\" style=\"fill: #ff0000; opacity: 0.9\"/>\n   </g>\n   <g id=\"patch_783\">\n    <path d=\"M 461.639489 294.118125 \nL 462.146761 294.118125 \nL 462.146761 294.118125 \nL 461.639489 294.118125 \nz\n\" clip-path=\"url(#pebcab09916)\" style=\"fill: #ff0000; opacity: 0.9\"/>\n   </g>\n   <g id=\"patch_784\">\n    <path d=\"M 462.146761 294.118125 \nL 462.654034 294.118125 \nL 462.654034 289.234028 \nL 462.146761 289.234028 \nz\n\" clip-path=\"url(#pebcab09916)\" style=\"fill: #ff0000; opacity: 0.9\"/>\n   </g>\n   <g id=\"patch_785\">\n    <path d=\"M 462.654034 294.118125 \nL 463.161307 294.118125 \nL 463.161307 294.118125 \nL 462.654034 294.118125 \nz\n\" clip-path=\"url(#pebcab09916)\" style=\"fill: #ff0000; opacity: 0.9\"/>\n   </g>\n   <g id=\"patch_786\">\n    <path d=\"M 463.161307 294.118125 \nL 463.66858 294.118125 \nL 463.66858 289.234028 \nL 463.161307 289.234028 \nz\n\" clip-path=\"url(#pebcab09916)\" style=\"fill: #ff0000; opacity: 0.9\"/>\n   </g>\n   <g id=\"patch_787\">\n    <path d=\"M 463.66858 294.118125 \nL 464.175852 294.118125 \nL 464.175852 294.118125 \nL 463.66858 294.118125 \nz\n\" clip-path=\"url(#pebcab09916)\" style=\"fill: #ff0000; opacity: 0.9\"/>\n   </g>\n   <g id=\"patch_788\">\n    <path d=\"M 464.175852 294.118125 \nL 464.683125 294.118125 \nL 464.683125 294.118125 \nL 464.175852 294.118125 \nz\n\" clip-path=\"url(#pebcab09916)\" style=\"fill: #ff0000; opacity: 0.9\"/>\n   </g>\n   <g id=\"patch_789\">\n    <path d=\"M 464.683125 294.118125 \nL 465.190398 294.118125 \nL 465.190398 294.118125 \nL 464.683125 294.118125 \nz\n\" clip-path=\"url(#pebcab09916)\" style=\"fill: #ff0000; opacity: 0.9\"/>\n   </g>\n   <g id=\"patch_790\">\n    <path d=\"M 465.190398 294.118125 \nL 465.69767 294.118125 \nL 465.69767 294.118125 \nL 465.190398 294.118125 \nz\n\" clip-path=\"url(#pebcab09916)\" style=\"fill: #ff0000; opacity: 0.9\"/>\n   </g>\n   <g id=\"patch_791\">\n    <path d=\"M 465.69767 294.118125 \nL 466.204943 294.118125 \nL 466.204943 294.118125 \nL 465.69767 294.118125 \nz\n\" clip-path=\"url(#pebcab09916)\" style=\"fill: #ff0000; opacity: 0.9\"/>\n   </g>\n   <g id=\"patch_792\">\n    <path d=\"M 466.204943 294.118125 \nL 466.712216 294.118125 \nL 466.712216 294.118125 \nL 466.204943 294.118125 \nz\n\" clip-path=\"url(#pebcab09916)\" style=\"fill: #ff0000; opacity: 0.9\"/>\n   </g>\n   <g id=\"patch_793\">\n    <path d=\"M 466.712216 294.118125 \nL 467.219489 294.118125 \nL 467.219489 294.118125 \nL 466.712216 294.118125 \nz\n\" clip-path=\"url(#pebcab09916)\" style=\"fill: #ff0000; opacity: 0.9\"/>\n   </g>\n   <g id=\"patch_794\">\n    <path d=\"M 467.219489 294.118125 \nL 467.726761 294.118125 \nL 467.726761 294.118125 \nL 467.219489 294.118125 \nz\n\" clip-path=\"url(#pebcab09916)\" style=\"fill: #ff0000; opacity: 0.9\"/>\n   </g>\n   <g id=\"patch_795\">\n    <path d=\"M 467.726761 294.118125 \nL 468.234034 294.118125 \nL 468.234034 294.118125 \nL 467.726761 294.118125 \nz\n\" clip-path=\"url(#pebcab09916)\" style=\"fill: #ff0000; opacity: 0.9\"/>\n   </g>\n   <g id=\"patch_796\">\n    <path d=\"M 468.234034 294.118125 \nL 468.741307 294.118125 \nL 468.741307 294.118125 \nL 468.234034 294.118125 \nz\n\" clip-path=\"url(#pebcab09916)\" style=\"fill: #ff0000; opacity: 0.9\"/>\n   </g>\n   <g id=\"patch_797\">\n    <path d=\"M 468.741307 294.118125 \nL 469.24858 294.118125 \nL 469.24858 294.118125 \nL 468.741307 294.118125 \nz\n\" clip-path=\"url(#pebcab09916)\" style=\"fill: #ff0000; opacity: 0.9\"/>\n   </g>\n   <g id=\"patch_798\">\n    <path d=\"M 469.24858 294.118125 \nL 469.755852 294.118125 \nL 469.755852 294.118125 \nL 469.24858 294.118125 \nz\n\" clip-path=\"url(#pebcab09916)\" style=\"fill: #ff0000; opacity: 0.9\"/>\n   </g>\n   <g id=\"patch_799\">\n    <path d=\"M 469.755852 294.118125 \nL 470.263125 294.118125 \nL 470.263125 289.234028 \nL 469.755852 289.234028 \nz\n\" clip-path=\"url(#pebcab09916)\" style=\"fill: #ff0000; opacity: 0.9\"/>\n   </g>\n   <g id=\"patch_800\">\n    <path d=\"M 470.263125 294.118125 \nL 470.770398 294.118125 \nL 470.770398 294.118125 \nL 470.263125 294.118125 \nz\n\" clip-path=\"url(#pebcab09916)\" style=\"fill: #ff0000; opacity: 0.9\"/>\n   </g>\n   <g id=\"patch_801\">\n    <path d=\"M 470.770398 294.118125 \nL 471.27767 294.118125 \nL 471.27767 294.118125 \nL 470.770398 294.118125 \nz\n\" clip-path=\"url(#pebcab09916)\" style=\"fill: #ff0000; opacity: 0.9\"/>\n   </g>\n   <g id=\"patch_802\">\n    <path d=\"M 471.27767 294.118125 \nL 471.784943 294.118125 \nL 471.784943 289.234028 \nL 471.27767 289.234028 \nz\n\" clip-path=\"url(#pebcab09916)\" style=\"fill: #ff0000; opacity: 0.9\"/>\n   </g>\n   <g id=\"patch_803\">\n    <path d=\"M 471.784943 294.118125 \nL 472.292216 294.118125 \nL 472.292216 294.118125 \nL 471.784943 294.118125 \nz\n\" clip-path=\"url(#pebcab09916)\" style=\"fill: #ff0000; opacity: 0.9\"/>\n   </g>\n   <g id=\"patch_804\">\n    <path d=\"M 472.292216 294.118125 \nL 472.799489 294.118125 \nL 472.799489 294.118125 \nL 472.292216 294.118125 \nz\n\" clip-path=\"url(#pebcab09916)\" style=\"fill: #ff0000; opacity: 0.9\"/>\n   </g>\n   <g id=\"patch_805\">\n    <path d=\"M 472.799489 294.118125 \nL 473.306761 294.118125 \nL 473.306761 294.118125 \nL 472.799489 294.118125 \nz\n\" clip-path=\"url(#pebcab09916)\" style=\"fill: #ff0000; opacity: 0.9\"/>\n   </g>\n   <g id=\"patch_806\">\n    <path d=\"M 473.306761 294.118125 \nL 473.814034 294.118125 \nL 473.814034 294.118125 \nL 473.306761 294.118125 \nz\n\" clip-path=\"url(#pebcab09916)\" style=\"fill: #ff0000; opacity: 0.9\"/>\n   </g>\n   <g id=\"patch_807\">\n    <path d=\"M 473.814034 294.118125 \nL 474.321307 294.118125 \nL 474.321307 294.118125 \nL 473.814034 294.118125 \nz\n\" clip-path=\"url(#pebcab09916)\" style=\"fill: #ff0000; opacity: 0.9\"/>\n   </g>\n   <g id=\"patch_808\">\n    <path d=\"M 474.321307 294.118125 \nL 474.82858 294.118125 \nL 474.82858 294.118125 \nL 474.321307 294.118125 \nz\n\" clip-path=\"url(#pebcab09916)\" style=\"fill: #ff0000; opacity: 0.9\"/>\n   </g>\n   <g id=\"patch_809\">\n    <path d=\"M 474.82858 294.118125 \nL 475.335852 294.118125 \nL 475.335852 294.118125 \nL 474.82858 294.118125 \nz\n\" clip-path=\"url(#pebcab09916)\" style=\"fill: #ff0000; opacity: 0.9\"/>\n   </g>\n   <g id=\"patch_810\">\n    <path d=\"M 475.335852 294.118125 \nL 475.843125 294.118125 \nL 475.843125 294.118125 \nL 475.335852 294.118125 \nz\n\" clip-path=\"url(#pebcab09916)\" style=\"fill: #ff0000; opacity: 0.9\"/>\n   </g>\n   <g id=\"patch_811\">\n    <path d=\"M 475.843125 294.118125 \nL 476.350398 294.118125 \nL 476.350398 294.118125 \nL 475.843125 294.118125 \nz\n\" clip-path=\"url(#pebcab09916)\" style=\"fill: #ff0000; opacity: 0.9\"/>\n   </g>\n   <g id=\"patch_812\">\n    <path d=\"M 476.350398 294.118125 \nL 476.85767 294.118125 \nL 476.85767 294.118125 \nL 476.350398 294.118125 \nz\n\" clip-path=\"url(#pebcab09916)\" style=\"fill: #ff0000; opacity: 0.9\"/>\n   </g>\n   <g id=\"patch_813\">\n    <path d=\"M 476.85767 294.118125 \nL 477.364943 294.118125 \nL 477.364943 294.118125 \nL 476.85767 294.118125 \nz\n\" clip-path=\"url(#pebcab09916)\" style=\"fill: #ff0000; opacity: 0.9\"/>\n   </g>\n   <g id=\"patch_814\">\n    <path d=\"M 477.364943 294.118125 \nL 477.872216 294.118125 \nL 477.872216 294.118125 \nL 477.364943 294.118125 \nz\n\" clip-path=\"url(#pebcab09916)\" style=\"fill: #ff0000; opacity: 0.9\"/>\n   </g>\n   <g id=\"patch_815\">\n    <path d=\"M 477.872216 294.118125 \nL 478.379489 294.118125 \nL 478.379489 289.234028 \nL 477.872216 289.234028 \nz\n\" clip-path=\"url(#pebcab09916)\" style=\"fill: #ff0000; opacity: 0.9\"/>\n   </g>\n   <g id=\"patch_816\">\n    <path d=\"M 478.379489 294.118125 \nL 478.886761 294.118125 \nL 478.886761 294.118125 \nL 478.379489 294.118125 \nz\n\" clip-path=\"url(#pebcab09916)\" style=\"fill: #ff0000; opacity: 0.9\"/>\n   </g>\n   <g id=\"patch_817\">\n    <path d=\"M 478.886761 294.118125 \nL 479.394034 294.118125 \nL 479.394034 294.118125 \nL 478.886761 294.118125 \nz\n\" clip-path=\"url(#pebcab09916)\" style=\"fill: #ff0000; opacity: 0.9\"/>\n   </g>\n   <g id=\"patch_818\">\n    <path d=\"M 479.394034 294.118125 \nL 479.901307 294.118125 \nL 479.901307 294.118125 \nL 479.394034 294.118125 \nz\n\" clip-path=\"url(#pebcab09916)\" style=\"fill: #ff0000; opacity: 0.9\"/>\n   </g>\n   <g id=\"patch_819\">\n    <path d=\"M 479.901307 294.118125 \nL 480.40858 294.118125 \nL 480.40858 294.118125 \nL 479.901307 294.118125 \nz\n\" clip-path=\"url(#pebcab09916)\" style=\"fill: #ff0000; opacity: 0.9\"/>\n   </g>\n   <g id=\"patch_820\">\n    <path d=\"M 480.40858 294.118125 \nL 480.915852 294.118125 \nL 480.915852 294.118125 \nL 480.40858 294.118125 \nz\n\" clip-path=\"url(#pebcab09916)\" style=\"fill: #ff0000; opacity: 0.9\"/>\n   </g>\n   <g id=\"patch_821\">\n    <path d=\"M 480.915852 294.118125 \nL 481.423125 294.118125 \nL 481.423125 294.118125 \nL 480.915852 294.118125 \nz\n\" clip-path=\"url(#pebcab09916)\" style=\"fill: #ff0000; opacity: 0.9\"/>\n   </g>\n   <g id=\"patch_822\">\n    <path d=\"M 481.423125 294.118125 \nL 481.930398 294.118125 \nL 481.930398 294.118125 \nL 481.423125 294.118125 \nz\n\" clip-path=\"url(#pebcab09916)\" style=\"fill: #ff0000; opacity: 0.9\"/>\n   </g>\n   <g id=\"patch_823\">\n    <path d=\"M 481.930398 294.118125 \nL 482.43767 294.118125 \nL 482.43767 294.118125 \nL 481.930398 294.118125 \nz\n\" clip-path=\"url(#pebcab09916)\" style=\"fill: #ff0000; opacity: 0.9\"/>\n   </g>\n   <g id=\"patch_824\">\n    <path d=\"M 482.43767 294.118125 \nL 482.944943 294.118125 \nL 482.944943 294.118125 \nL 482.43767 294.118125 \nz\n\" clip-path=\"url(#pebcab09916)\" style=\"fill: #ff0000; opacity: 0.9\"/>\n   </g>\n   <g id=\"patch_825\">\n    <path d=\"M 482.944943 294.118125 \nL 483.452216 294.118125 \nL 483.452216 294.118125 \nL 482.944943 294.118125 \nz\n\" clip-path=\"url(#pebcab09916)\" style=\"fill: #ff0000; opacity: 0.9\"/>\n   </g>\n   <g id=\"patch_826\">\n    <path d=\"M 483.452216 294.118125 \nL 483.959489 294.118125 \nL 483.959489 294.118125 \nL 483.452216 294.118125 \nz\n\" clip-path=\"url(#pebcab09916)\" style=\"fill: #ff0000; opacity: 0.9\"/>\n   </g>\n   <g id=\"patch_827\">\n    <path d=\"M 483.959489 294.118125 \nL 484.466761 294.118125 \nL 484.466761 294.118125 \nL 483.959489 294.118125 \nz\n\" clip-path=\"url(#pebcab09916)\" style=\"fill: #ff0000; opacity: 0.9\"/>\n   </g>\n   <g id=\"patch_828\">\n    <path d=\"M 484.466761 294.118125 \nL 484.974034 294.118125 \nL 484.974034 294.118125 \nL 484.466761 294.118125 \nz\n\" clip-path=\"url(#pebcab09916)\" style=\"fill: #ff0000; opacity: 0.9\"/>\n   </g>\n   <g id=\"patch_829\">\n    <path d=\"M 484.974034 294.118125 \nL 485.481307 294.118125 \nL 485.481307 294.118125 \nL 484.974034 294.118125 \nz\n\" clip-path=\"url(#pebcab09916)\" style=\"fill: #ff0000; opacity: 0.9\"/>\n   </g>\n   <g id=\"patch_830\">\n    <path d=\"M 485.481307 294.118125 \nL 485.98858 294.118125 \nL 485.98858 294.118125 \nL 485.481307 294.118125 \nz\n\" clip-path=\"url(#pebcab09916)\" style=\"fill: #ff0000; opacity: 0.9\"/>\n   </g>\n   <g id=\"patch_831\">\n    <path d=\"M 485.98858 294.118125 \nL 486.495852 294.118125 \nL 486.495852 294.118125 \nL 485.98858 294.118125 \nz\n\" clip-path=\"url(#pebcab09916)\" style=\"fill: #ff0000; opacity: 0.9\"/>\n   </g>\n   <g id=\"patch_832\">\n    <path d=\"M 486.495852 294.118125 \nL 487.003125 294.118125 \nL 487.003125 294.118125 \nL 486.495852 294.118125 \nz\n\" clip-path=\"url(#pebcab09916)\" style=\"fill: #ff0000; opacity: 0.9\"/>\n   </g>\n   <g id=\"patch_833\">\n    <path d=\"M 487.003125 294.118125 \nL 487.510398 294.118125 \nL 487.510398 294.118125 \nL 487.003125 294.118125 \nz\n\" clip-path=\"url(#pebcab09916)\" style=\"fill: #ff0000; opacity: 0.9\"/>\n   </g>\n   <g id=\"patch_834\">\n    <path d=\"M 487.510398 294.118125 \nL 488.01767 294.118125 \nL 488.01767 294.118125 \nL 487.510398 294.118125 \nz\n\" clip-path=\"url(#pebcab09916)\" style=\"fill: #ff0000; opacity: 0.9\"/>\n   </g>\n   <g id=\"patch_835\">\n    <path d=\"M 488.01767 294.118125 \nL 488.524943 294.118125 \nL 488.524943 294.118125 \nL 488.01767 294.118125 \nz\n\" clip-path=\"url(#pebcab09916)\" style=\"fill: #ff0000; opacity: 0.9\"/>\n   </g>\n   <g id=\"patch_836\">\n    <path d=\"M 488.524943 294.118125 \nL 489.032216 294.118125 \nL 489.032216 294.118125 \nL 488.524943 294.118125 \nz\n\" clip-path=\"url(#pebcab09916)\" style=\"fill: #ff0000; opacity: 0.9\"/>\n   </g>\n   <g id=\"patch_837\">\n    <path d=\"M 489.032216 294.118125 \nL 489.539489 294.118125 \nL 489.539489 294.118125 \nL 489.032216 294.118125 \nz\n\" clip-path=\"url(#pebcab09916)\" style=\"fill: #ff0000; opacity: 0.9\"/>\n   </g>\n   <g id=\"patch_838\">\n    <path d=\"M 489.539489 294.118125 \nL 490.046761 294.118125 \nL 490.046761 294.118125 \nL 489.539489 294.118125 \nz\n\" clip-path=\"url(#pebcab09916)\" style=\"fill: #ff0000; opacity: 0.9\"/>\n   </g>\n   <g id=\"patch_839\">\n    <path d=\"M 490.046761 294.118125 \nL 490.554034 294.118125 \nL 490.554034 289.234028 \nL 490.046761 289.234028 \nz\n\" clip-path=\"url(#pebcab09916)\" style=\"fill: #ff0000; opacity: 0.9\"/>\n   </g>\n   <g id=\"patch_840\">\n    <path d=\"M 490.554034 294.118125 \nL 491.061307 294.118125 \nL 491.061307 294.118125 \nL 490.554034 294.118125 \nz\n\" clip-path=\"url(#pebcab09916)\" style=\"fill: #ff0000; opacity: 0.9\"/>\n   </g>\n   <g id=\"patch_841\">\n    <path d=\"M 491.061307 294.118125 \nL 491.56858 294.118125 \nL 491.56858 294.118125 \nL 491.061307 294.118125 \nz\n\" clip-path=\"url(#pebcab09916)\" style=\"fill: #ff0000; opacity: 0.9\"/>\n   </g>\n   <g id=\"patch_842\">\n    <path d=\"M 491.56858 294.118125 \nL 492.075852 294.118125 \nL 492.075852 294.118125 \nL 491.56858 294.118125 \nz\n\" clip-path=\"url(#pebcab09916)\" style=\"fill: #ff0000; opacity: 0.9\"/>\n   </g>\n   <g id=\"patch_843\">\n    <path d=\"M 492.075852 294.118125 \nL 492.583125 294.118125 \nL 492.583125 294.118125 \nL 492.075852 294.118125 \nz\n\" clip-path=\"url(#pebcab09916)\" style=\"fill: #ff0000; opacity: 0.9\"/>\n   </g>\n   <g id=\"patch_844\">\n    <path d=\"M 492.583125 294.118125 \nL 493.090398 294.118125 \nL 493.090398 294.118125 \nL 492.583125 294.118125 \nz\n\" clip-path=\"url(#pebcab09916)\" style=\"fill: #ff0000; opacity: 0.9\"/>\n   </g>\n   <g id=\"patch_845\">\n    <path d=\"M 493.090398 294.118125 \nL 493.59767 294.118125 \nL 493.59767 294.118125 \nL 493.090398 294.118125 \nz\n\" clip-path=\"url(#pebcab09916)\" style=\"fill: #ff0000; opacity: 0.9\"/>\n   </g>\n   <g id=\"patch_846\">\n    <path d=\"M 493.59767 294.118125 \nL 494.104943 294.118125 \nL 494.104943 294.118125 \nL 493.59767 294.118125 \nz\n\" clip-path=\"url(#pebcab09916)\" style=\"fill: #ff0000; opacity: 0.9\"/>\n   </g>\n   <g id=\"patch_847\">\n    <path d=\"M 494.104943 294.118125 \nL 494.612216 294.118125 \nL 494.612216 294.118125 \nL 494.104943 294.118125 \nz\n\" clip-path=\"url(#pebcab09916)\" style=\"fill: #ff0000; opacity: 0.9\"/>\n   </g>\n   <g id=\"patch_848\">\n    <path d=\"M 494.612216 294.118125 \nL 495.119489 294.118125 \nL 495.119489 294.118125 \nL 494.612216 294.118125 \nz\n\" clip-path=\"url(#pebcab09916)\" style=\"fill: #ff0000; opacity: 0.9\"/>\n   </g>\n   <g id=\"patch_849\">\n    <path d=\"M 495.119489 294.118125 \nL 495.626761 294.118125 \nL 495.626761 294.118125 \nL 495.119489 294.118125 \nz\n\" clip-path=\"url(#pebcab09916)\" style=\"fill: #ff0000; opacity: 0.9\"/>\n   </g>\n   <g id=\"patch_850\">\n    <path d=\"M 495.626761 294.118125 \nL 496.134034 294.118125 \nL 496.134034 294.118125 \nL 495.626761 294.118125 \nz\n\" clip-path=\"url(#pebcab09916)\" style=\"fill: #ff0000; opacity: 0.9\"/>\n   </g>\n   <g id=\"patch_851\">\n    <path d=\"M 496.134034 294.118125 \nL 496.641307 294.118125 \nL 496.641307 294.118125 \nL 496.134034 294.118125 \nz\n\" clip-path=\"url(#pebcab09916)\" style=\"fill: #ff0000; opacity: 0.9\"/>\n   </g>\n   <g id=\"patch_852\">\n    <path d=\"M 496.641307 294.118125 \nL 497.14858 294.118125 \nL 497.14858 294.118125 \nL 496.641307 294.118125 \nz\n\" clip-path=\"url(#pebcab09916)\" style=\"fill: #ff0000; opacity: 0.9\"/>\n   </g>\n   <g id=\"patch_853\">\n    <path d=\"M 497.14858 294.118125 \nL 497.655852 294.118125 \nL 497.655852 294.118125 \nL 497.14858 294.118125 \nz\n\" clip-path=\"url(#pebcab09916)\" style=\"fill: #ff0000; opacity: 0.9\"/>\n   </g>\n   <g id=\"patch_854\">\n    <path d=\"M 497.655852 294.118125 \nL 498.163125 294.118125 \nL 498.163125 294.118125 \nL 497.655852 294.118125 \nz\n\" clip-path=\"url(#pebcab09916)\" style=\"fill: #ff0000; opacity: 0.9\"/>\n   </g>\n   <g id=\"patch_855\">\n    <path d=\"M 498.163125 294.118125 \nL 498.670398 294.118125 \nL 498.670398 294.118125 \nL 498.163125 294.118125 \nz\n\" clip-path=\"url(#pebcab09916)\" style=\"fill: #ff0000; opacity: 0.9\"/>\n   </g>\n   <g id=\"patch_856\">\n    <path d=\"M 498.670398 294.118125 \nL 499.17767 294.118125 \nL 499.17767 294.118125 \nL 498.670398 294.118125 \nz\n\" clip-path=\"url(#pebcab09916)\" style=\"fill: #ff0000; opacity: 0.9\"/>\n   </g>\n   <g id=\"patch_857\">\n    <path d=\"M 499.17767 294.118125 \nL 499.684943 294.118125 \nL 499.684943 294.118125 \nL 499.17767 294.118125 \nz\n\" clip-path=\"url(#pebcab09916)\" style=\"fill: #ff0000; opacity: 0.9\"/>\n   </g>\n   <g id=\"patch_858\">\n    <path d=\"M 499.684943 294.118125 \nL 500.192216 294.118125 \nL 500.192216 294.118125 \nL 499.684943 294.118125 \nz\n\" clip-path=\"url(#pebcab09916)\" style=\"fill: #ff0000; opacity: 0.9\"/>\n   </g>\n   <g id=\"patch_859\">\n    <path d=\"M 500.192216 294.118125 \nL 500.699489 294.118125 \nL 500.699489 294.118125 \nL 500.192216 294.118125 \nz\n\" clip-path=\"url(#pebcab09916)\" style=\"fill: #ff0000; opacity: 0.9\"/>\n   </g>\n   <g id=\"patch_860\">\n    <path d=\"M 500.699489 294.118125 \nL 501.206761 294.118125 \nL 501.206761 294.118125 \nL 500.699489 294.118125 \nz\n\" clip-path=\"url(#pebcab09916)\" style=\"fill: #ff0000; opacity: 0.9\"/>\n   </g>\n   <g id=\"patch_861\">\n    <path d=\"M 501.206761 294.118125 \nL 501.714034 294.118125 \nL 501.714034 294.118125 \nL 501.206761 294.118125 \nz\n\" clip-path=\"url(#pebcab09916)\" style=\"fill: #ff0000; opacity: 0.9\"/>\n   </g>\n   <g id=\"patch_862\">\n    <path d=\"M 501.714034 294.118125 \nL 502.221307 294.118125 \nL 502.221307 294.118125 \nL 501.714034 294.118125 \nz\n\" clip-path=\"url(#pebcab09916)\" style=\"fill: #ff0000; opacity: 0.9\"/>\n   </g>\n   <g id=\"patch_863\">\n    <path d=\"M 502.221307 294.118125 \nL 502.72858 294.118125 \nL 502.72858 294.118125 \nL 502.221307 294.118125 \nz\n\" clip-path=\"url(#pebcab09916)\" style=\"fill: #ff0000; opacity: 0.9\"/>\n   </g>\n   <g id=\"patch_864\">\n    <path d=\"M 502.72858 294.118125 \nL 503.235852 294.118125 \nL 503.235852 289.234028 \nL 502.72858 289.234028 \nz\n\" clip-path=\"url(#pebcab09916)\" style=\"fill: #ff0000; opacity: 0.9\"/>\n   </g>\n   <g id=\"patch_865\">\n    <path d=\"M 503.235852 294.118125 \nL 503.743125 294.118125 \nL 503.743125 294.118125 \nL 503.235852 294.118125 \nz\n\" clip-path=\"url(#pebcab09916)\" style=\"fill: #ff0000; opacity: 0.9\"/>\n   </g>\n   <g id=\"patch_866\">\n    <path d=\"M 503.743125 294.118125 \nL 504.250398 294.118125 \nL 504.250398 294.118125 \nL 503.743125 294.118125 \nz\n\" clip-path=\"url(#pebcab09916)\" style=\"fill: #ff0000; opacity: 0.9\"/>\n   </g>\n   <g id=\"patch_867\">\n    <path d=\"M 504.250398 294.118125 \nL 504.75767 294.118125 \nL 504.75767 294.118125 \nL 504.250398 294.118125 \nz\n\" clip-path=\"url(#pebcab09916)\" style=\"fill: #ff0000; opacity: 0.9\"/>\n   </g>\n   <g id=\"patch_868\">\n    <path d=\"M 504.75767 294.118125 \nL 505.264943 294.118125 \nL 505.264943 294.118125 \nL 504.75767 294.118125 \nz\n\" clip-path=\"url(#pebcab09916)\" style=\"fill: #ff0000; opacity: 0.9\"/>\n   </g>\n   <g id=\"patch_869\">\n    <path d=\"M 505.264943 294.118125 \nL 505.772216 294.118125 \nL 505.772216 294.118125 \nL 505.264943 294.118125 \nz\n\" clip-path=\"url(#pebcab09916)\" style=\"fill: #ff0000; opacity: 0.9\"/>\n   </g>\n   <g id=\"patch_870\">\n    <path d=\"M 505.772216 294.118125 \nL 506.279489 294.118125 \nL 506.279489 294.118125 \nL 505.772216 294.118125 \nz\n\" clip-path=\"url(#pebcab09916)\" style=\"fill: #ff0000; opacity: 0.9\"/>\n   </g>\n   <g id=\"patch_871\">\n    <path d=\"M 506.279489 294.118125 \nL 506.786761 294.118125 \nL 506.786761 294.118125 \nL 506.279489 294.118125 \nz\n\" clip-path=\"url(#pebcab09916)\" style=\"fill: #ff0000; opacity: 0.9\"/>\n   </g>\n   <g id=\"patch_872\">\n    <path d=\"M 506.786761 294.118125 \nL 507.294034 294.118125 \nL 507.294034 294.118125 \nL 506.786761 294.118125 \nz\n\" clip-path=\"url(#pebcab09916)\" style=\"fill: #ff0000; opacity: 0.9\"/>\n   </g>\n   <g id=\"patch_873\">\n    <path d=\"M 507.294034 294.118125 \nL 507.801307 294.118125 \nL 507.801307 294.118125 \nL 507.294034 294.118125 \nz\n\" clip-path=\"url(#pebcab09916)\" style=\"fill: #ff0000; opacity: 0.9\"/>\n   </g>\n   <g id=\"patch_874\">\n    <path d=\"M 507.801307 294.118125 \nL 508.30858 294.118125 \nL 508.30858 294.118125 \nL 507.801307 294.118125 \nz\n\" clip-path=\"url(#pebcab09916)\" style=\"fill: #ff0000; opacity: 0.9\"/>\n   </g>\n   <g id=\"patch_875\">\n    <path d=\"M 508.30858 294.118125 \nL 508.815852 294.118125 \nL 508.815852 294.118125 \nL 508.30858 294.118125 \nz\n\" clip-path=\"url(#pebcab09916)\" style=\"fill: #ff0000; opacity: 0.9\"/>\n   </g>\n   <g id=\"patch_876\">\n    <path d=\"M 508.815852 294.118125 \nL 509.323125 294.118125 \nL 509.323125 294.118125 \nL 508.815852 294.118125 \nz\n\" clip-path=\"url(#pebcab09916)\" style=\"fill: #ff0000; opacity: 0.9\"/>\n   </g>\n   <g id=\"patch_877\">\n    <path d=\"M 509.323125 294.118125 \nL 509.830398 294.118125 \nL 509.830398 294.118125 \nL 509.323125 294.118125 \nz\n\" clip-path=\"url(#pebcab09916)\" style=\"fill: #ff0000; opacity: 0.9\"/>\n   </g>\n   <g id=\"patch_878\">\n    <path d=\"M 509.830398 294.118125 \nL 510.33767 294.118125 \nL 510.33767 294.118125 \nL 509.830398 294.118125 \nz\n\" clip-path=\"url(#pebcab09916)\" style=\"fill: #ff0000; opacity: 0.9\"/>\n   </g>\n   <g id=\"patch_879\">\n    <path d=\"M 510.33767 294.118125 \nL 510.844943 294.118125 \nL 510.844943 294.118125 \nL 510.33767 294.118125 \nz\n\" clip-path=\"url(#pebcab09916)\" style=\"fill: #ff0000; opacity: 0.9\"/>\n   </g>\n   <g id=\"patch_880\">\n    <path d=\"M 510.844943 294.118125 \nL 511.352216 294.118125 \nL 511.352216 294.118125 \nL 510.844943 294.118125 \nz\n\" clip-path=\"url(#pebcab09916)\" style=\"fill: #ff0000; opacity: 0.9\"/>\n   </g>\n   <g id=\"patch_881\">\n    <path d=\"M 511.352216 294.118125 \nL 511.859489 294.118125 \nL 511.859489 294.118125 \nL 511.352216 294.118125 \nz\n\" clip-path=\"url(#pebcab09916)\" style=\"fill: #ff0000; opacity: 0.9\"/>\n   </g>\n   <g id=\"patch_882\">\n    <path d=\"M 511.859489 294.118125 \nL 512.366761 294.118125 \nL 512.366761 294.118125 \nL 511.859489 294.118125 \nz\n\" clip-path=\"url(#pebcab09916)\" style=\"fill: #ff0000; opacity: 0.9\"/>\n   </g>\n   <g id=\"patch_883\">\n    <path d=\"M 512.366761 294.118125 \nL 512.874034 294.118125 \nL 512.874034 289.234028 \nL 512.366761 289.234028 \nz\n\" clip-path=\"url(#pebcab09916)\" style=\"fill: #ff0000; opacity: 0.9\"/>\n   </g>\n   <g id=\"patch_884\">\n    <path d=\"M 512.874034 294.118125 \nL 513.381307 294.118125 \nL 513.381307 294.118125 \nL 512.874034 294.118125 \nz\n\" clip-path=\"url(#pebcab09916)\" style=\"fill: #ff0000; opacity: 0.9\"/>\n   </g>\n   <g id=\"patch_885\">\n    <path d=\"M 513.381307 294.118125 \nL 513.88858 294.118125 \nL 513.88858 294.118125 \nL 513.381307 294.118125 \nz\n\" clip-path=\"url(#pebcab09916)\" style=\"fill: #ff0000; opacity: 0.9\"/>\n   </g>\n   <g id=\"patch_886\">\n    <path d=\"M 513.88858 294.118125 \nL 514.395852 294.118125 \nL 514.395852 294.118125 \nL 513.88858 294.118125 \nz\n\" clip-path=\"url(#pebcab09916)\" style=\"fill: #ff0000; opacity: 0.9\"/>\n   </g>\n   <g id=\"patch_887\">\n    <path d=\"M 514.395852 294.118125 \nL 514.903125 294.118125 \nL 514.903125 294.118125 \nL 514.395852 294.118125 \nz\n\" clip-path=\"url(#pebcab09916)\" style=\"fill: #ff0000; opacity: 0.9\"/>\n   </g>\n   <g id=\"patch_888\">\n    <path d=\"M 514.903125 294.118125 \nL 515.410398 294.118125 \nL 515.410398 294.118125 \nL 514.903125 294.118125 \nz\n\" clip-path=\"url(#pebcab09916)\" style=\"fill: #ff0000; opacity: 0.9\"/>\n   </g>\n   <g id=\"patch_889\">\n    <path d=\"M 515.410398 294.118125 \nL 515.91767 294.118125 \nL 515.91767 294.118125 \nL 515.410398 294.118125 \nz\n\" clip-path=\"url(#pebcab09916)\" style=\"fill: #ff0000; opacity: 0.9\"/>\n   </g>\n   <g id=\"patch_890\">\n    <path d=\"M 515.91767 294.118125 \nL 516.424943 294.118125 \nL 516.424943 294.118125 \nL 515.91767 294.118125 \nz\n\" clip-path=\"url(#pebcab09916)\" style=\"fill: #ff0000; opacity: 0.9\"/>\n   </g>\n   <g id=\"patch_891\">\n    <path d=\"M 516.424943 294.118125 \nL 516.932216 294.118125 \nL 516.932216 289.234028 \nL 516.424943 289.234028 \nz\n\" clip-path=\"url(#pebcab09916)\" style=\"fill: #ff0000; opacity: 0.9\"/>\n   </g>\n   <g id=\"patch_892\">\n    <path d=\"M 516.932216 294.118125 \nL 517.439489 294.118125 \nL 517.439489 294.118125 \nL 516.932216 294.118125 \nz\n\" clip-path=\"url(#pebcab09916)\" style=\"fill: #ff0000; opacity: 0.9\"/>\n   </g>\n   <g id=\"patch_893\">\n    <path d=\"M 517.439489 294.118125 \nL 517.946761 294.118125 \nL 517.946761 294.118125 \nL 517.439489 294.118125 \nz\n\" clip-path=\"url(#pebcab09916)\" style=\"fill: #ff0000; opacity: 0.9\"/>\n   </g>\n   <g id=\"patch_894\">\n    <path d=\"M 517.946761 294.118125 \nL 518.454034 294.118125 \nL 518.454034 294.118125 \nL 517.946761 294.118125 \nz\n\" clip-path=\"url(#pebcab09916)\" style=\"fill: #ff0000; opacity: 0.9\"/>\n   </g>\n   <g id=\"patch_895\">\n    <path d=\"M 518.454034 294.118125 \nL 518.961307 294.118125 \nL 518.961307 294.118125 \nL 518.454034 294.118125 \nz\n\" clip-path=\"url(#pebcab09916)\" style=\"fill: #ff0000; opacity: 0.9\"/>\n   </g>\n   <g id=\"patch_896\">\n    <path d=\"M 518.961307 294.118125 \nL 519.46858 294.118125 \nL 519.46858 294.118125 \nL 518.961307 294.118125 \nz\n\" clip-path=\"url(#pebcab09916)\" style=\"fill: #ff0000; opacity: 0.9\"/>\n   </g>\n   <g id=\"patch_897\">\n    <path d=\"M 519.46858 294.118125 \nL 519.975852 294.118125 \nL 519.975852 294.118125 \nL 519.46858 294.118125 \nz\n\" clip-path=\"url(#pebcab09916)\" style=\"fill: #ff0000; opacity: 0.9\"/>\n   </g>\n   <g id=\"patch_898\">\n    <path d=\"M 519.975852 294.118125 \nL 520.483125 294.118125 \nL 520.483125 294.118125 \nL 519.975852 294.118125 \nz\n\" clip-path=\"url(#pebcab09916)\" style=\"fill: #ff0000; opacity: 0.9\"/>\n   </g>\n   <g id=\"patch_899\">\n    <path d=\"M 520.483125 294.118125 \nL 520.990398 294.118125 \nL 520.990398 294.118125 \nL 520.483125 294.118125 \nz\n\" clip-path=\"url(#pebcab09916)\" style=\"fill: #ff0000; opacity: 0.9\"/>\n   </g>\n   <g id=\"patch_900\">\n    <path d=\"M 520.990398 294.118125 \nL 521.49767 294.118125 \nL 521.49767 294.118125 \nL 520.990398 294.118125 \nz\n\" clip-path=\"url(#pebcab09916)\" style=\"fill: #ff0000; opacity: 0.9\"/>\n   </g>\n   <g id=\"patch_901\">\n    <path d=\"M 521.49767 294.118125 \nL 522.004943 294.118125 \nL 522.004943 294.118125 \nL 521.49767 294.118125 \nz\n\" clip-path=\"url(#pebcab09916)\" style=\"fill: #ff0000; opacity: 0.9\"/>\n   </g>\n   <g id=\"patch_902\">\n    <path d=\"M 522.004943 294.118125 \nL 522.512216 294.118125 \nL 522.512216 294.118125 \nL 522.004943 294.118125 \nz\n\" clip-path=\"url(#pebcab09916)\" style=\"fill: #ff0000; opacity: 0.9\"/>\n   </g>\n   <g id=\"patch_903\">\n    <path d=\"M 522.512216 294.118125 \nL 523.019489 294.118125 \nL 523.019489 294.118125 \nL 522.512216 294.118125 \nz\n\" clip-path=\"url(#pebcab09916)\" style=\"fill: #ff0000; opacity: 0.9\"/>\n   </g>\n   <g id=\"patch_904\">\n    <path d=\"M 523.019489 294.118125 \nL 523.526761 294.118125 \nL 523.526761 294.118125 \nL 523.019489 294.118125 \nz\n\" clip-path=\"url(#pebcab09916)\" style=\"fill: #ff0000; opacity: 0.9\"/>\n   </g>\n   <g id=\"patch_905\">\n    <path d=\"M 523.526761 294.118125 \nL 524.034034 294.118125 \nL 524.034034 294.118125 \nL 523.526761 294.118125 \nz\n\" clip-path=\"url(#pebcab09916)\" style=\"fill: #ff0000; opacity: 0.9\"/>\n   </g>\n   <g id=\"patch_906\">\n    <path d=\"M 524.034034 294.118125 \nL 524.541307 294.118125 \nL 524.541307 294.118125 \nL 524.034034 294.118125 \nz\n\" clip-path=\"url(#pebcab09916)\" style=\"fill: #ff0000; opacity: 0.9\"/>\n   </g>\n   <g id=\"patch_907\">\n    <path d=\"M 524.541307 294.118125 \nL 525.04858 294.118125 \nL 525.04858 294.118125 \nL 524.541307 294.118125 \nz\n\" clip-path=\"url(#pebcab09916)\" style=\"fill: #ff0000; opacity: 0.9\"/>\n   </g>\n   <g id=\"patch_908\">\n    <path d=\"M 525.04858 294.118125 \nL 525.555852 294.118125 \nL 525.555852 294.118125 \nL 525.04858 294.118125 \nz\n\" clip-path=\"url(#pebcab09916)\" style=\"fill: #ff0000; opacity: 0.9\"/>\n   </g>\n   <g id=\"patch_909\">\n    <path d=\"M 525.555852 294.118125 \nL 526.063125 294.118125 \nL 526.063125 294.118125 \nL 525.555852 294.118125 \nz\n\" clip-path=\"url(#pebcab09916)\" style=\"fill: #ff0000; opacity: 0.9\"/>\n   </g>\n   <g id=\"patch_910\">\n    <path d=\"M 526.063125 294.118125 \nL 526.570398 294.118125 \nL 526.570398 289.234028 \nL 526.063125 289.234028 \nz\n\" clip-path=\"url(#pebcab09916)\" style=\"fill: #ff0000; opacity: 0.9\"/>\n   </g>\n   <g id=\"patch_911\">\n    <path d=\"M 526.570398 294.118125 \nL 527.07767 294.118125 \nL 527.07767 294.118125 \nL 526.570398 294.118125 \nz\n\" clip-path=\"url(#pebcab09916)\" style=\"fill: #ff0000; opacity: 0.9\"/>\n   </g>\n   <g id=\"patch_912\">\n    <path d=\"M 527.07767 294.118125 \nL 527.584943 294.118125 \nL 527.584943 294.118125 \nL 527.07767 294.118125 \nz\n\" clip-path=\"url(#pebcab09916)\" style=\"fill: #ff0000; opacity: 0.9\"/>\n   </g>\n   <g id=\"patch_913\">\n    <path d=\"M 527.584943 294.118125 \nL 528.092216 294.118125 \nL 528.092216 294.118125 \nL 527.584943 294.118125 \nz\n\" clip-path=\"url(#pebcab09916)\" style=\"fill: #ff0000; opacity: 0.9\"/>\n   </g>\n   <g id=\"patch_914\">\n    <path d=\"M 528.092216 294.118125 \nL 528.599489 294.118125 \nL 528.599489 289.234028 \nL 528.092216 289.234028 \nz\n\" clip-path=\"url(#pebcab09916)\" style=\"fill: #ff0000; opacity: 0.9\"/>\n   </g>\n   <g id=\"patch_915\">\n    <path d=\"M 528.599489 294.118125 \nL 529.106761 294.118125 \nL 529.106761 294.118125 \nL 528.599489 294.118125 \nz\n\" clip-path=\"url(#pebcab09916)\" style=\"fill: #ff0000; opacity: 0.9\"/>\n   </g>\n   <g id=\"patch_916\">\n    <path d=\"M 529.106761 294.118125 \nL 529.614034 294.118125 \nL 529.614034 294.118125 \nL 529.106761 294.118125 \nz\n\" clip-path=\"url(#pebcab09916)\" style=\"fill: #ff0000; opacity: 0.9\"/>\n   </g>\n   <g id=\"patch_917\">\n    <path d=\"M 529.614034 294.118125 \nL 530.121307 294.118125 \nL 530.121307 294.118125 \nL 529.614034 294.118125 \nz\n\" clip-path=\"url(#pebcab09916)\" style=\"fill: #ff0000; opacity: 0.9\"/>\n   </g>\n   <g id=\"patch_918\">\n    <path d=\"M 530.121307 294.118125 \nL 530.62858 294.118125 \nL 530.62858 294.118125 \nL 530.121307 294.118125 \nz\n\" clip-path=\"url(#pebcab09916)\" style=\"fill: #ff0000; opacity: 0.9\"/>\n   </g>\n   <g id=\"patch_919\">\n    <path d=\"M 530.62858 294.118125 \nL 531.135852 294.118125 \nL 531.135852 294.118125 \nL 530.62858 294.118125 \nz\n\" clip-path=\"url(#pebcab09916)\" style=\"fill: #ff0000; opacity: 0.9\"/>\n   </g>\n   <g id=\"patch_920\">\n    <path d=\"M 531.135852 294.118125 \nL 531.643125 294.118125 \nL 531.643125 294.118125 \nL 531.135852 294.118125 \nz\n\" clip-path=\"url(#pebcab09916)\" style=\"fill: #ff0000; opacity: 0.9\"/>\n   </g>\n   <g id=\"patch_921\">\n    <path d=\"M 531.643125 294.118125 \nL 532.150398 294.118125 \nL 532.150398 294.118125 \nL 531.643125 294.118125 \nz\n\" clip-path=\"url(#pebcab09916)\" style=\"fill: #ff0000; opacity: 0.9\"/>\n   </g>\n   <g id=\"patch_922\">\n    <path d=\"M 532.150398 294.118125 \nL 532.65767 294.118125 \nL 532.65767 294.118125 \nL 532.150398 294.118125 \nz\n\" clip-path=\"url(#pebcab09916)\" style=\"fill: #ff0000; opacity: 0.9\"/>\n   </g>\n   <g id=\"patch_923\">\n    <path d=\"M 532.65767 294.118125 \nL 533.164943 294.118125 \nL 533.164943 294.118125 \nL 532.65767 294.118125 \nz\n\" clip-path=\"url(#pebcab09916)\" style=\"fill: #ff0000; opacity: 0.9\"/>\n   </g>\n   <g id=\"patch_924\">\n    <path d=\"M 533.164943 294.118125 \nL 533.672216 294.118125 \nL 533.672216 294.118125 \nL 533.164943 294.118125 \nz\n\" clip-path=\"url(#pebcab09916)\" style=\"fill: #ff0000; opacity: 0.9\"/>\n   </g>\n   <g id=\"patch_925\">\n    <path d=\"M 533.672216 294.118125 \nL 534.179489 294.118125 \nL 534.179489 294.118125 \nL 533.672216 294.118125 \nz\n\" clip-path=\"url(#pebcab09916)\" style=\"fill: #ff0000; opacity: 0.9\"/>\n   </g>\n   <g id=\"patch_926\">\n    <path d=\"M 534.179489 294.118125 \nL 534.686761 294.118125 \nL 534.686761 294.118125 \nL 534.179489 294.118125 \nz\n\" clip-path=\"url(#pebcab09916)\" style=\"fill: #ff0000; opacity: 0.9\"/>\n   </g>\n   <g id=\"patch_927\">\n    <path d=\"M 534.686761 294.118125 \nL 535.194034 294.118125 \nL 535.194034 294.118125 \nL 534.686761 294.118125 \nz\n\" clip-path=\"url(#pebcab09916)\" style=\"fill: #ff0000; opacity: 0.9\"/>\n   </g>\n   <g id=\"patch_928\">\n    <path d=\"M 535.194034 294.118125 \nL 535.701307 294.118125 \nL 535.701307 294.118125 \nL 535.194034 294.118125 \nz\n\" clip-path=\"url(#pebcab09916)\" style=\"fill: #ff0000; opacity: 0.9\"/>\n   </g>\n   <g id=\"patch_929\">\n    <path d=\"M 535.701307 294.118125 \nL 536.20858 294.118125 \nL 536.20858 294.118125 \nL 535.701307 294.118125 \nz\n\" clip-path=\"url(#pebcab09916)\" style=\"fill: #ff0000; opacity: 0.9\"/>\n   </g>\n   <g id=\"patch_930\">\n    <path d=\"M 536.20858 294.118125 \nL 536.715852 294.118125 \nL 536.715852 294.118125 \nL 536.20858 294.118125 \nz\n\" clip-path=\"url(#pebcab09916)\" style=\"fill: #ff0000; opacity: 0.9\"/>\n   </g>\n   <g id=\"patch_931\">\n    <path d=\"M 536.715852 294.118125 \nL 537.223125 294.118125 \nL 537.223125 294.118125 \nL 536.715852 294.118125 \nz\n\" clip-path=\"url(#pebcab09916)\" style=\"fill: #ff0000; opacity: 0.9\"/>\n   </g>\n   <g id=\"patch_932\">\n    <path d=\"M 537.223125 294.118125 \nL 537.730398 294.118125 \nL 537.730398 294.118125 \nL 537.223125 294.118125 \nz\n\" clip-path=\"url(#pebcab09916)\" style=\"fill: #ff0000; opacity: 0.9\"/>\n   </g>\n   <g id=\"patch_933\">\n    <path d=\"M 537.730398 294.118125 \nL 538.23767 294.118125 \nL 538.23767 294.118125 \nL 537.730398 294.118125 \nz\n\" clip-path=\"url(#pebcab09916)\" style=\"fill: #ff0000; opacity: 0.9\"/>\n   </g>\n   <g id=\"patch_934\">\n    <path d=\"M 538.23767 294.118125 \nL 538.744943 294.118125 \nL 538.744943 294.118125 \nL 538.23767 294.118125 \nz\n\" clip-path=\"url(#pebcab09916)\" style=\"fill: #ff0000; opacity: 0.9\"/>\n   </g>\n   <g id=\"patch_935\">\n    <path d=\"M 538.744943 294.118125 \nL 539.252216 294.118125 \nL 539.252216 294.118125 \nL 538.744943 294.118125 \nz\n\" clip-path=\"url(#pebcab09916)\" style=\"fill: #ff0000; opacity: 0.9\"/>\n   </g>\n   <g id=\"patch_936\">\n    <path d=\"M 539.252216 294.118125 \nL 539.759489 294.118125 \nL 539.759489 294.118125 \nL 539.252216 294.118125 \nz\n\" clip-path=\"url(#pebcab09916)\" style=\"fill: #ff0000; opacity: 0.9\"/>\n   </g>\n   <g id=\"patch_937\">\n    <path d=\"M 539.759489 294.118125 \nL 540.266761 294.118125 \nL 540.266761 294.118125 \nL 539.759489 294.118125 \nz\n\" clip-path=\"url(#pebcab09916)\" style=\"fill: #ff0000; opacity: 0.9\"/>\n   </g>\n   <g id=\"patch_938\">\n    <path d=\"M 540.266761 294.118125 \nL 540.774034 294.118125 \nL 540.774034 294.118125 \nL 540.266761 294.118125 \nz\n\" clip-path=\"url(#pebcab09916)\" style=\"fill: #ff0000; opacity: 0.9\"/>\n   </g>\n   <g id=\"patch_939\">\n    <path d=\"M 540.774034 294.118125 \nL 541.281307 294.118125 \nL 541.281307 294.118125 \nL 540.774034 294.118125 \nz\n\" clip-path=\"url(#pebcab09916)\" style=\"fill: #ff0000; opacity: 0.9\"/>\n   </g>\n   <g id=\"patch_940\">\n    <path d=\"M 541.281307 294.118125 \nL 541.78858 294.118125 \nL 541.78858 294.118125 \nL 541.281307 294.118125 \nz\n\" clip-path=\"url(#pebcab09916)\" style=\"fill: #ff0000; opacity: 0.9\"/>\n   </g>\n   <g id=\"patch_941\">\n    <path d=\"M 541.78858 294.118125 \nL 542.295852 294.118125 \nL 542.295852 294.118125 \nL 541.78858 294.118125 \nz\n\" clip-path=\"url(#pebcab09916)\" style=\"fill: #ff0000; opacity: 0.9\"/>\n   </g>\n   <g id=\"patch_942\">\n    <path d=\"M 542.295852 294.118125 \nL 542.803125 294.118125 \nL 542.803125 294.118125 \nL 542.295852 294.118125 \nz\n\" clip-path=\"url(#pebcab09916)\" style=\"fill: #ff0000; opacity: 0.9\"/>\n   </g>\n   <g id=\"patch_943\">\n    <path d=\"M 542.803125 294.118125 \nL 543.310398 294.118125 \nL 543.310398 294.118125 \nL 542.803125 294.118125 \nz\n\" clip-path=\"url(#pebcab09916)\" style=\"fill: #ff0000; opacity: 0.9\"/>\n   </g>\n   <g id=\"patch_944\">\n    <path d=\"M 543.310398 294.118125 \nL 543.81767 294.118125 \nL 543.81767 294.118125 \nL 543.310398 294.118125 \nz\n\" clip-path=\"url(#pebcab09916)\" style=\"fill: #ff0000; opacity: 0.9\"/>\n   </g>\n   <g id=\"patch_945\">\n    <path d=\"M 543.81767 294.118125 \nL 544.324943 294.118125 \nL 544.324943 294.118125 \nL 543.81767 294.118125 \nz\n\" clip-path=\"url(#pebcab09916)\" style=\"fill: #ff0000; opacity: 0.9\"/>\n   </g>\n   <g id=\"patch_946\">\n    <path d=\"M 544.324943 294.118125 \nL 544.832216 294.118125 \nL 544.832216 294.118125 \nL 544.324943 294.118125 \nz\n\" clip-path=\"url(#pebcab09916)\" style=\"fill: #ff0000; opacity: 0.9\"/>\n   </g>\n   <g id=\"patch_947\">\n    <path d=\"M 544.832216 294.118125 \nL 545.339489 294.118125 \nL 545.339489 294.118125 \nL 544.832216 294.118125 \nz\n\" clip-path=\"url(#pebcab09916)\" style=\"fill: #ff0000; opacity: 0.9\"/>\n   </g>\n   <g id=\"patch_948\">\n    <path d=\"M 545.339489 294.118125 \nL 545.846761 294.118125 \nL 545.846761 294.118125 \nL 545.339489 294.118125 \nz\n\" clip-path=\"url(#pebcab09916)\" style=\"fill: #ff0000; opacity: 0.9\"/>\n   </g>\n   <g id=\"patch_949\">\n    <path d=\"M 545.846761 294.118125 \nL 546.354034 294.118125 \nL 546.354034 294.118125 \nL 545.846761 294.118125 \nz\n\" clip-path=\"url(#pebcab09916)\" style=\"fill: #ff0000; opacity: 0.9\"/>\n   </g>\n   <g id=\"patch_950\">\n    <path d=\"M 546.354034 294.118125 \nL 546.861307 294.118125 \nL 546.861307 294.118125 \nL 546.354034 294.118125 \nz\n\" clip-path=\"url(#pebcab09916)\" style=\"fill: #ff0000; opacity: 0.9\"/>\n   </g>\n   <g id=\"patch_951\">\n    <path d=\"M 546.861307 294.118125 \nL 547.36858 294.118125 \nL 547.36858 294.118125 \nL 546.861307 294.118125 \nz\n\" clip-path=\"url(#pebcab09916)\" style=\"fill: #ff0000; opacity: 0.9\"/>\n   </g>\n   <g id=\"patch_952\">\n    <path d=\"M 547.36858 294.118125 \nL 547.875852 294.118125 \nL 547.875852 294.118125 \nL 547.36858 294.118125 \nz\n\" clip-path=\"url(#pebcab09916)\" style=\"fill: #ff0000; opacity: 0.9\"/>\n   </g>\n   <g id=\"patch_953\">\n    <path d=\"M 547.875852 294.118125 \nL 548.383125 294.118125 \nL 548.383125 294.118125 \nL 547.875852 294.118125 \nz\n\" clip-path=\"url(#pebcab09916)\" style=\"fill: #ff0000; opacity: 0.9\"/>\n   </g>\n   <g id=\"patch_954\">\n    <path d=\"M 548.383125 294.118125 \nL 548.890398 294.118125 \nL 548.890398 294.118125 \nL 548.383125 294.118125 \nz\n\" clip-path=\"url(#pebcab09916)\" style=\"fill: #ff0000; opacity: 0.9\"/>\n   </g>\n   <g id=\"patch_955\">\n    <path d=\"M 548.890398 294.118125 \nL 549.39767 294.118125 \nL 549.39767 294.118125 \nL 548.890398 294.118125 \nz\n\" clip-path=\"url(#pebcab09916)\" style=\"fill: #ff0000; opacity: 0.9\"/>\n   </g>\n   <g id=\"patch_956\">\n    <path d=\"M 549.39767 294.118125 \nL 549.904943 294.118125 \nL 549.904943 294.118125 \nL 549.39767 294.118125 \nz\n\" clip-path=\"url(#pebcab09916)\" style=\"fill: #ff0000; opacity: 0.9\"/>\n   </g>\n   <g id=\"patch_957\">\n    <path d=\"M 549.904943 294.118125 \nL 550.412216 294.118125 \nL 550.412216 294.118125 \nL 549.904943 294.118125 \nz\n\" clip-path=\"url(#pebcab09916)\" style=\"fill: #ff0000; opacity: 0.9\"/>\n   </g>\n   <g id=\"patch_958\">\n    <path d=\"M 550.412216 294.118125 \nL 550.919489 294.118125 \nL 550.919489 294.118125 \nL 550.412216 294.118125 \nz\n\" clip-path=\"url(#pebcab09916)\" style=\"fill: #ff0000; opacity: 0.9\"/>\n   </g>\n   <g id=\"patch_959\">\n    <path d=\"M 550.919489 294.118125 \nL 551.426761 294.118125 \nL 551.426761 289.234028 \nL 550.919489 289.234028 \nz\n\" clip-path=\"url(#pebcab09916)\" style=\"fill: #ff0000; opacity: 0.9\"/>\n   </g>\n   <g id=\"patch_960\">\n    <path d=\"M 551.426761 294.118125 \nL 551.934034 294.118125 \nL 551.934034 294.118125 \nL 551.426761 294.118125 \nz\n\" clip-path=\"url(#pebcab09916)\" style=\"fill: #ff0000; opacity: 0.9\"/>\n   </g>\n   <g id=\"patch_961\">\n    <path d=\"M 551.934034 294.118125 \nL 552.441307 294.118125 \nL 552.441307 294.118125 \nL 551.934034 294.118125 \nz\n\" clip-path=\"url(#pebcab09916)\" style=\"fill: #ff0000; opacity: 0.9\"/>\n   </g>\n   <g id=\"patch_962\">\n    <path d=\"M 552.441307 294.118125 \nL 552.94858 294.118125 \nL 552.94858 294.118125 \nL 552.441307 294.118125 \nz\n\" clip-path=\"url(#pebcab09916)\" style=\"fill: #ff0000; opacity: 0.9\"/>\n   </g>\n   <g id=\"patch_963\">\n    <path d=\"M 552.94858 294.118125 \nL 553.455852 294.118125 \nL 553.455852 294.118125 \nL 552.94858 294.118125 \nz\n\" clip-path=\"url(#pebcab09916)\" style=\"fill: #ff0000; opacity: 0.9\"/>\n   </g>\n   <g id=\"patch_964\">\n    <path d=\"M 553.455852 294.118125 \nL 553.963125 294.118125 \nL 553.963125 294.118125 \nL 553.455852 294.118125 \nz\n\" clip-path=\"url(#pebcab09916)\" style=\"fill: #ff0000; opacity: 0.9\"/>\n   </g>\n   <g id=\"patch_965\">\n    <path d=\"M 553.963125 294.118125 \nL 554.470398 294.118125 \nL 554.470398 294.118125 \nL 553.963125 294.118125 \nz\n\" clip-path=\"url(#pebcab09916)\" style=\"fill: #ff0000; opacity: 0.9\"/>\n   </g>\n   <g id=\"patch_966\">\n    <path d=\"M 554.470398 294.118125 \nL 554.97767 294.118125 \nL 554.97767 294.118125 \nL 554.470398 294.118125 \nz\n\" clip-path=\"url(#pebcab09916)\" style=\"fill: #ff0000; opacity: 0.9\"/>\n   </g>\n   <g id=\"patch_967\">\n    <path d=\"M 554.97767 294.118125 \nL 555.484943 294.118125 \nL 555.484943 294.118125 \nL 554.97767 294.118125 \nz\n\" clip-path=\"url(#pebcab09916)\" style=\"fill: #ff0000; opacity: 0.9\"/>\n   </g>\n   <g id=\"patch_968\">\n    <path d=\"M 555.484943 294.118125 \nL 555.992216 294.118125 \nL 555.992216 294.118125 \nL 555.484943 294.118125 \nz\n\" clip-path=\"url(#pebcab09916)\" style=\"fill: #ff0000; opacity: 0.9\"/>\n   </g>\n   <g id=\"patch_969\">\n    <path d=\"M 555.992216 294.118125 \nL 556.499489 294.118125 \nL 556.499489 294.118125 \nL 555.992216 294.118125 \nz\n\" clip-path=\"url(#pebcab09916)\" style=\"fill: #ff0000; opacity: 0.9\"/>\n   </g>\n   <g id=\"patch_970\">\n    <path d=\"M 556.499489 294.118125 \nL 557.006761 294.118125 \nL 557.006761 289.234028 \nL 556.499489 289.234028 \nz\n\" clip-path=\"url(#pebcab09916)\" style=\"fill: #ff0000; opacity: 0.9\"/>\n   </g>\n   <g id=\"patch_971\">\n    <path d=\"M 557.006761 294.118125 \nL 557.514034 294.118125 \nL 557.514034 294.118125 \nL 557.006761 294.118125 \nz\n\" clip-path=\"url(#pebcab09916)\" style=\"fill: #ff0000; opacity: 0.9\"/>\n   </g>\n   <g id=\"patch_972\">\n    <path d=\"M 557.514034 294.118125 \nL 558.021307 294.118125 \nL 558.021307 289.234028 \nL 557.514034 289.234028 \nz\n\" clip-path=\"url(#pebcab09916)\" style=\"fill: #ff0000; opacity: 0.9\"/>\n   </g>\n   <g id=\"patch_973\">\n    <path d=\"M 558.021307 294.118125 \nL 558.52858 294.118125 \nL 558.52858 294.118125 \nL 558.021307 294.118125 \nz\n\" clip-path=\"url(#pebcab09916)\" style=\"fill: #ff0000; opacity: 0.9\"/>\n   </g>\n   <g id=\"patch_974\">\n    <path d=\"M 558.52858 294.118125 \nL 559.035852 294.118125 \nL 559.035852 294.118125 \nL 558.52858 294.118125 \nz\n\" clip-path=\"url(#pebcab09916)\" style=\"fill: #ff0000; opacity: 0.9\"/>\n   </g>\n   <g id=\"patch_975\">\n    <path d=\"M 559.035852 294.118125 \nL 559.543125 294.118125 \nL 559.543125 294.118125 \nL 559.035852 294.118125 \nz\n\" clip-path=\"url(#pebcab09916)\" style=\"fill: #ff0000; opacity: 0.9\"/>\n   </g>\n   <g id=\"patch_976\">\n    <path d=\"M 559.543125 294.118125 \nL 560.050398 294.118125 \nL 560.050398 294.118125 \nL 559.543125 294.118125 \nz\n\" clip-path=\"url(#pebcab09916)\" style=\"fill: #ff0000; opacity: 0.9\"/>\n   </g>\n   <g id=\"patch_977\">\n    <path d=\"M 560.050398 294.118125 \nL 560.55767 294.118125 \nL 560.55767 294.118125 \nL 560.050398 294.118125 \nz\n\" clip-path=\"url(#pebcab09916)\" style=\"fill: #ff0000; opacity: 0.9\"/>\n   </g>\n   <g id=\"patch_978\">\n    <path d=\"M 560.55767 294.118125 \nL 561.064943 294.118125 \nL 561.064943 294.118125 \nL 560.55767 294.118125 \nz\n\" clip-path=\"url(#pebcab09916)\" style=\"fill: #ff0000; opacity: 0.9\"/>\n   </g>\n   <g id=\"patch_979\">\n    <path d=\"M 561.064943 294.118125 \nL 561.572216 294.118125 \nL 561.572216 294.118125 \nL 561.064943 294.118125 \nz\n\" clip-path=\"url(#pebcab09916)\" style=\"fill: #ff0000; opacity: 0.9\"/>\n   </g>\n   <g id=\"patch_980\">\n    <path d=\"M 561.572216 294.118125 \nL 562.079489 294.118125 \nL 562.079489 294.118125 \nL 561.572216 294.118125 \nz\n\" clip-path=\"url(#pebcab09916)\" style=\"fill: #ff0000; opacity: 0.9\"/>\n   </g>\n   <g id=\"patch_981\">\n    <path d=\"M 562.079489 294.118125 \nL 562.586761 294.118125 \nL 562.586761 289.234028 \nL 562.079489 289.234028 \nz\n\" clip-path=\"url(#pebcab09916)\" style=\"fill: #ff0000; opacity: 0.9\"/>\n   </g>\n   <g id=\"patch_982\">\n    <path d=\"M 562.586761 294.118125 \nL 563.094034 294.118125 \nL 563.094034 294.118125 \nL 562.586761 294.118125 \nz\n\" clip-path=\"url(#pebcab09916)\" style=\"fill: #ff0000; opacity: 0.9\"/>\n   </g>\n   <g id=\"patch_983\">\n    <path d=\"M 563.094034 294.118125 \nL 563.601307 294.118125 \nL 563.601307 294.118125 \nL 563.094034 294.118125 \nz\n\" clip-path=\"url(#pebcab09916)\" style=\"fill: #ff0000; opacity: 0.9\"/>\n   </g>\n   <g id=\"patch_984\">\n    <path d=\"M 563.601307 294.118125 \nL 564.10858 294.118125 \nL 564.10858 294.118125 \nL 563.601307 294.118125 \nz\n\" clip-path=\"url(#pebcab09916)\" style=\"fill: #ff0000; opacity: 0.9\"/>\n   </g>\n   <g id=\"patch_985\">\n    <path d=\"M 564.10858 294.118125 \nL 564.615852 294.118125 \nL 564.615852 294.118125 \nL 564.10858 294.118125 \nz\n\" clip-path=\"url(#pebcab09916)\" style=\"fill: #ff0000; opacity: 0.9\"/>\n   </g>\n   <g id=\"patch_986\">\n    <path d=\"M 564.615852 294.118125 \nL 565.123125 294.118125 \nL 565.123125 294.118125 \nL 564.615852 294.118125 \nz\n\" clip-path=\"url(#pebcab09916)\" style=\"fill: #ff0000; opacity: 0.9\"/>\n   </g>\n   <g id=\"patch_987\">\n    <path d=\"M 565.123125 294.118125 \nL 565.630398 294.118125 \nL 565.630398 294.118125 \nL 565.123125 294.118125 \nz\n\" clip-path=\"url(#pebcab09916)\" style=\"fill: #ff0000; opacity: 0.9\"/>\n   </g>\n   <g id=\"patch_988\">\n    <path d=\"M 565.630398 294.118125 \nL 566.13767 294.118125 \nL 566.13767 294.118125 \nL 565.630398 294.118125 \nz\n\" clip-path=\"url(#pebcab09916)\" style=\"fill: #ff0000; opacity: 0.9\"/>\n   </g>\n   <g id=\"patch_989\">\n    <path d=\"M 566.13767 294.118125 \nL 566.644943 294.118125 \nL 566.644943 294.118125 \nL 566.13767 294.118125 \nz\n\" clip-path=\"url(#pebcab09916)\" style=\"fill: #ff0000; opacity: 0.9\"/>\n   </g>\n   <g id=\"patch_990\">\n    <path d=\"M 566.644943 294.118125 \nL 567.152216 294.118125 \nL 567.152216 294.118125 \nL 566.644943 294.118125 \nz\n\" clip-path=\"url(#pebcab09916)\" style=\"fill: #ff0000; opacity: 0.9\"/>\n   </g>\n   <g id=\"patch_991\">\n    <path d=\"M 567.152216 294.118125 \nL 567.659489 294.118125 \nL 567.659489 294.118125 \nL 567.152216 294.118125 \nz\n\" clip-path=\"url(#pebcab09916)\" style=\"fill: #ff0000; opacity: 0.9\"/>\n   </g>\n   <g id=\"patch_992\">\n    <path d=\"M 567.659489 294.118125 \nL 568.166761 294.118125 \nL 568.166761 294.118125 \nL 567.659489 294.118125 \nz\n\" clip-path=\"url(#pebcab09916)\" style=\"fill: #ff0000; opacity: 0.9\"/>\n   </g>\n   <g id=\"patch_993\">\n    <path d=\"M 568.166761 294.118125 \nL 568.674034 294.118125 \nL 568.674034 294.118125 \nL 568.166761 294.118125 \nz\n\" clip-path=\"url(#pebcab09916)\" style=\"fill: #ff0000; opacity: 0.9\"/>\n   </g>\n   <g id=\"patch_994\">\n    <path d=\"M 568.674034 294.118125 \nL 569.181307 294.118125 \nL 569.181307 294.118125 \nL 568.674034 294.118125 \nz\n\" clip-path=\"url(#pebcab09916)\" style=\"fill: #ff0000; opacity: 0.9\"/>\n   </g>\n   <g id=\"patch_995\">\n    <path d=\"M 569.181307 294.118125 \nL 569.68858 294.118125 \nL 569.68858 294.118125 \nL 569.181307 294.118125 \nz\n\" clip-path=\"url(#pebcab09916)\" style=\"fill: #ff0000; opacity: 0.9\"/>\n   </g>\n   <g id=\"patch_996\">\n    <path d=\"M 569.68858 294.118125 \nL 570.195852 294.118125 \nL 570.195852 294.118125 \nL 569.68858 294.118125 \nz\n\" clip-path=\"url(#pebcab09916)\" style=\"fill: #ff0000; opacity: 0.9\"/>\n   </g>\n   <g id=\"patch_997\">\n    <path d=\"M 570.195852 294.118125 \nL 570.703125 294.118125 \nL 570.703125 294.118125 \nL 570.195852 294.118125 \nz\n\" clip-path=\"url(#pebcab09916)\" style=\"fill: #ff0000; opacity: 0.9\"/>\n   </g>\n   <g id=\"patch_998\">\n    <path d=\"M 570.703125 294.118125 \nL 571.210398 294.118125 \nL 571.210398 294.118125 \nL 570.703125 294.118125 \nz\n\" clip-path=\"url(#pebcab09916)\" style=\"fill: #ff0000; opacity: 0.9\"/>\n   </g>\n   <g id=\"patch_999\">\n    <path d=\"M 571.210398 294.118125 \nL 571.71767 294.118125 \nL 571.71767 294.118125 \nL 571.210398 294.118125 \nz\n\" clip-path=\"url(#pebcab09916)\" style=\"fill: #ff0000; opacity: 0.9\"/>\n   </g>\n   <g id=\"patch_1000\">\n    <path d=\"M 571.71767 294.118125 \nL 572.224943 294.118125 \nL 572.224943 294.118125 \nL 571.71767 294.118125 \nz\n\" clip-path=\"url(#pebcab09916)\" style=\"fill: #ff0000; opacity: 0.9\"/>\n   </g>\n   <g id=\"patch_1001\">\n    <path d=\"M 572.224943 294.118125 \nL 572.732216 294.118125 \nL 572.732216 294.118125 \nL 572.224943 294.118125 \nz\n\" clip-path=\"url(#pebcab09916)\" style=\"fill: #ff0000; opacity: 0.9\"/>\n   </g>\n   <g id=\"patch_1002\">\n    <path d=\"M 572.732216 294.118125 \nL 573.239489 294.118125 \nL 573.239489 289.234028 \nL 572.732216 289.234028 \nz\n\" clip-path=\"url(#pebcab09916)\" style=\"fill: #ff0000; opacity: 0.9\"/>\n   </g>\n   <g id=\"matplotlib.axis_1\">\n    <g id=\"xtick_1\">\n     <g id=\"line2d_1\">\n      <defs>\n       <path id=\"mde5a9576d6\" d=\"M 0 0 \nL 0 3.5 \n\" style=\"stroke: #000000; stroke-width: 0.8\"/>\n      </defs>\n      <g>\n       <use xlink:href=\"#mde5a9576d6\" x=\"102.340292\" y=\"294.118125\" style=\"stroke: #000000; stroke-width: 0.8\"/>\n      </g>\n     </g>\n     <g id=\"text_1\">\n      <!-- −0.075 -->\n      <g transform=\"translate(104.547792 330.724375)rotate(-90)scale(0.08 -0.08)\">\n       <defs>\n        <path id=\"DejaVuSans-2212\" d=\"M 678 2272 \nL 4684 2272 \nL 4684 1741 \nL 678 1741 \nL 678 2272 \nz\n\" transform=\"scale(0.015625)\"/>\n        <path id=\"DejaVuSans-30\" d=\"M 2034 4250 \nQ 1547 4250 1301 3770 \nQ 1056 3291 1056 2328 \nQ 1056 1369 1301 889 \nQ 1547 409 2034 409 \nQ 2525 409 2770 889 \nQ 3016 1369 3016 2328 \nQ 3016 3291 2770 3770 \nQ 2525 4250 2034 4250 \nz\nM 2034 4750 \nQ 2819 4750 3233 4129 \nQ 3647 3509 3647 2328 \nQ 3647 1150 3233 529 \nQ 2819 -91 2034 -91 \nQ 1250 -91 836 529 \nQ 422 1150 422 2328 \nQ 422 3509 836 4129 \nQ 1250 4750 2034 4750 \nz\n\" transform=\"scale(0.015625)\"/>\n        <path id=\"DejaVuSans-2e\" d=\"M 684 794 \nL 1344 794 \nL 1344 0 \nL 684 0 \nL 684 794 \nz\n\" transform=\"scale(0.015625)\"/>\n        <path id=\"DejaVuSans-37\" d=\"M 525 4666 \nL 3525 4666 \nL 3525 4397 \nL 1831 0 \nL 1172 0 \nL 2766 4134 \nL 525 4134 \nL 525 4666 \nz\n\" transform=\"scale(0.015625)\"/>\n        <path id=\"DejaVuSans-35\" d=\"M 691 4666 \nL 3169 4666 \nL 3169 4134 \nL 1269 4134 \nL 1269 2991 \nQ 1406 3038 1543 3061 \nQ 1681 3084 1819 3084 \nQ 2600 3084 3056 2656 \nQ 3513 2228 3513 1497 \nQ 3513 744 3044 326 \nQ 2575 -91 1722 -91 \nQ 1428 -91 1123 -41 \nQ 819 9 494 109 \nL 494 744 \nQ 775 591 1075 516 \nQ 1375 441 1709 441 \nQ 2250 441 2565 725 \nQ 2881 1009 2881 1497 \nQ 2881 1984 2565 2268 \nQ 2250 2553 1709 2553 \nQ 1456 2553 1204 2497 \nQ 953 2441 691 2322 \nL 691 4666 \nz\n\" transform=\"scale(0.015625)\"/>\n       </defs>\n       <use xlink:href=\"#DejaVuSans-2212\"/>\n       <use xlink:href=\"#DejaVuSans-30\" x=\"83.789062\"/>\n       <use xlink:href=\"#DejaVuSans-2e\" x=\"147.412109\"/>\n       <use xlink:href=\"#DejaVuSans-30\" x=\"179.199219\"/>\n       <use xlink:href=\"#DejaVuSans-37\" x=\"242.822266\"/>\n       <use xlink:href=\"#DejaVuSans-35\" x=\"306.445312\"/>\n      </g>\n     </g>\n    </g>\n    <g id=\"xtick_2\">\n     <g id=\"line2d_2\">\n      <g>\n       <use xlink:href=\"#mde5a9576d6\" x=\"170.166465\" y=\"294.118125\" style=\"stroke: #000000; stroke-width: 0.8\"/>\n      </g>\n     </g>\n     <g id=\"text_2\">\n      <!-- −0.050 -->\n      <g transform=\"translate(172.373965 330.724375)rotate(-90)scale(0.08 -0.08)\">\n       <use xlink:href=\"#DejaVuSans-2212\"/>\n       <use xlink:href=\"#DejaVuSans-30\" x=\"83.789062\"/>\n       <use xlink:href=\"#DejaVuSans-2e\" x=\"147.412109\"/>\n       <use xlink:href=\"#DejaVuSans-30\" x=\"179.199219\"/>\n       <use xlink:href=\"#DejaVuSans-35\" x=\"242.822266\"/>\n       <use xlink:href=\"#DejaVuSans-30\" x=\"306.445312\"/>\n      </g>\n     </g>\n    </g>\n    <g id=\"xtick_3\">\n     <g id=\"line2d_3\">\n      <g>\n       <use xlink:href=\"#mde5a9576d6\" x=\"237.992638\" y=\"294.118125\" style=\"stroke: #000000; stroke-width: 0.8\"/>\n      </g>\n     </g>\n     <g id=\"text_3\">\n      <!-- −0.025 -->\n      <g transform=\"translate(240.200138 330.724375)rotate(-90)scale(0.08 -0.08)\">\n       <defs>\n        <path id=\"DejaVuSans-32\" d=\"M 1228 531 \nL 3431 531 \nL 3431 0 \nL 469 0 \nL 469 531 \nQ 828 903 1448 1529 \nQ 2069 2156 2228 2338 \nQ 2531 2678 2651 2914 \nQ 2772 3150 2772 3378 \nQ 2772 3750 2511 3984 \nQ 2250 4219 1831 4219 \nQ 1534 4219 1204 4116 \nQ 875 4013 500 3803 \nL 500 4441 \nQ 881 4594 1212 4672 \nQ 1544 4750 1819 4750 \nQ 2544 4750 2975 4387 \nQ 3406 4025 3406 3419 \nQ 3406 3131 3298 2873 \nQ 3191 2616 2906 2266 \nQ 2828 2175 2409 1742 \nQ 1991 1309 1228 531 \nz\n\" transform=\"scale(0.015625)\"/>\n       </defs>\n       <use xlink:href=\"#DejaVuSans-2212\"/>\n       <use xlink:href=\"#DejaVuSans-30\" x=\"83.789062\"/>\n       <use xlink:href=\"#DejaVuSans-2e\" x=\"147.412109\"/>\n       <use xlink:href=\"#DejaVuSans-30\" x=\"179.199219\"/>\n       <use xlink:href=\"#DejaVuSans-32\" x=\"242.822266\"/>\n       <use xlink:href=\"#DejaVuSans-35\" x=\"306.445312\"/>\n      </g>\n     </g>\n    </g>\n    <g id=\"xtick_4\">\n     <g id=\"line2d_4\">\n      <g>\n       <use xlink:href=\"#mde5a9576d6\" x=\"305.818811\" y=\"294.118125\" style=\"stroke: #000000; stroke-width: 0.8\"/>\n      </g>\n     </g>\n     <g id=\"text_4\">\n      <!-- 0.000 -->\n      <g transform=\"translate(308.026311 324.020625)rotate(-90)scale(0.08 -0.08)\">\n       <use xlink:href=\"#DejaVuSans-30\"/>\n       <use xlink:href=\"#DejaVuSans-2e\" x=\"63.623047\"/>\n       <use xlink:href=\"#DejaVuSans-30\" x=\"95.410156\"/>\n       <use xlink:href=\"#DejaVuSans-30\" x=\"159.033203\"/>\n       <use xlink:href=\"#DejaVuSans-30\" x=\"222.65625\"/>\n      </g>\n     </g>\n    </g>\n    <g id=\"xtick_5\">\n     <g id=\"line2d_5\">\n      <g>\n       <use xlink:href=\"#mde5a9576d6\" x=\"373.644984\" y=\"294.118125\" style=\"stroke: #000000; stroke-width: 0.8\"/>\n      </g>\n     </g>\n     <g id=\"text_5\">\n      <!-- 0.025 -->\n      <g transform=\"translate(375.852484 324.020625)rotate(-90)scale(0.08 -0.08)\">\n       <use xlink:href=\"#DejaVuSans-30\"/>\n       <use xlink:href=\"#DejaVuSans-2e\" x=\"63.623047\"/>\n       <use xlink:href=\"#DejaVuSans-30\" x=\"95.410156\"/>\n       <use xlink:href=\"#DejaVuSans-32\" x=\"159.033203\"/>\n       <use xlink:href=\"#DejaVuSans-35\" x=\"222.65625\"/>\n      </g>\n     </g>\n    </g>\n    <g id=\"xtick_6\">\n     <g id=\"line2d_6\">\n      <g>\n       <use xlink:href=\"#mde5a9576d6\" x=\"441.471157\" y=\"294.118125\" style=\"stroke: #000000; stroke-width: 0.8\"/>\n      </g>\n     </g>\n     <g id=\"text_6\">\n      <!-- 0.050 -->\n      <g transform=\"translate(443.678657 324.020625)rotate(-90)scale(0.08 -0.08)\">\n       <use xlink:href=\"#DejaVuSans-30\"/>\n       <use xlink:href=\"#DejaVuSans-2e\" x=\"63.623047\"/>\n       <use xlink:href=\"#DejaVuSans-30\" x=\"95.410156\"/>\n       <use xlink:href=\"#DejaVuSans-35\" x=\"159.033203\"/>\n       <use xlink:href=\"#DejaVuSans-30\" x=\"222.65625\"/>\n      </g>\n     </g>\n    </g>\n    <g id=\"xtick_7\">\n     <g id=\"line2d_7\">\n      <g>\n       <use xlink:href=\"#mde5a9576d6\" x=\"509.297329\" y=\"294.118125\" style=\"stroke: #000000; stroke-width: 0.8\"/>\n      </g>\n     </g>\n     <g id=\"text_7\">\n      <!-- 0.075 -->\n      <g transform=\"translate(511.504829 324.020625)rotate(-90)scale(0.08 -0.08)\">\n       <use xlink:href=\"#DejaVuSans-30\"/>\n       <use xlink:href=\"#DejaVuSans-2e\" x=\"63.623047\"/>\n       <use xlink:href=\"#DejaVuSans-30\" x=\"95.410156\"/>\n       <use xlink:href=\"#DejaVuSans-37\" x=\"159.033203\"/>\n       <use xlink:href=\"#DejaVuSans-35\" x=\"222.65625\"/>\n      </g>\n     </g>\n    </g>\n    <g id=\"xtick_8\">\n     <g id=\"line2d_8\">\n      <g>\n       <use xlink:href=\"#mde5a9576d6\" x=\"577.123502\" y=\"294.118125\" style=\"stroke: #000000; stroke-width: 0.8\"/>\n      </g>\n     </g>\n     <g id=\"text_8\">\n      <!-- 0.100 -->\n      <g transform=\"translate(579.331002 324.020625)rotate(-90)scale(0.08 -0.08)\">\n       <defs>\n        <path id=\"DejaVuSans-31\" d=\"M 794 531 \nL 1825 531 \nL 1825 4091 \nL 703 3866 \nL 703 4441 \nL 1819 4666 \nL 2450 4666 \nL 2450 531 \nL 3481 531 \nL 3481 0 \nL 794 0 \nL 794 531 \nz\n\" transform=\"scale(0.015625)\"/>\n       </defs>\n       <use xlink:href=\"#DejaVuSans-30\"/>\n       <use xlink:href=\"#DejaVuSans-2e\" x=\"63.623047\"/>\n       <use xlink:href=\"#DejaVuSans-31\" x=\"95.410156\"/>\n       <use xlink:href=\"#DejaVuSans-30\" x=\"159.033203\"/>\n       <use xlink:href=\"#DejaVuSans-30\" x=\"222.65625\"/>\n      </g>\n     </g>\n    </g>\n    <g id=\"text_9\">\n     <!-- Market Return From 2000 to 2021 -->\n     <g transform=\"translate(235.026562 342.322812)scale(0.1 -0.1)\">\n      <defs>\n       <path id=\"DejaVuSans-4d\" d=\"M 628 4666 \nL 1569 4666 \nL 2759 1491 \nL 3956 4666 \nL 4897 4666 \nL 4897 0 \nL 4281 0 \nL 4281 4097 \nL 3078 897 \nL 2444 897 \nL 1241 4097 \nL 1241 0 \nL 628 0 \nL 628 4666 \nz\n\" transform=\"scale(0.015625)\"/>\n       <path id=\"DejaVuSans-61\" d=\"M 2194 1759 \nQ 1497 1759 1228 1600 \nQ 959 1441 959 1056 \nQ 959 750 1161 570 \nQ 1363 391 1709 391 \nQ 2188 391 2477 730 \nQ 2766 1069 2766 1631 \nL 2766 1759 \nL 2194 1759 \nz\nM 3341 1997 \nL 3341 0 \nL 2766 0 \nL 2766 531 \nQ 2569 213 2275 61 \nQ 1981 -91 1556 -91 \nQ 1019 -91 701 211 \nQ 384 513 384 1019 \nQ 384 1609 779 1909 \nQ 1175 2209 1959 2209 \nL 2766 2209 \nL 2766 2266 \nQ 2766 2663 2505 2880 \nQ 2244 3097 1772 3097 \nQ 1472 3097 1187 3025 \nQ 903 2953 641 2809 \nL 641 3341 \nQ 956 3463 1253 3523 \nQ 1550 3584 1831 3584 \nQ 2591 3584 2966 3190 \nQ 3341 2797 3341 1997 \nz\n\" transform=\"scale(0.015625)\"/>\n       <path id=\"DejaVuSans-72\" d=\"M 2631 2963 \nQ 2534 3019 2420 3045 \nQ 2306 3072 2169 3072 \nQ 1681 3072 1420 2755 \nQ 1159 2438 1159 1844 \nL 1159 0 \nL 581 0 \nL 581 3500 \nL 1159 3500 \nL 1159 2956 \nQ 1341 3275 1631 3429 \nQ 1922 3584 2338 3584 \nQ 2397 3584 2469 3576 \nQ 2541 3569 2628 3553 \nL 2631 2963 \nz\n\" transform=\"scale(0.015625)\"/>\n       <path id=\"DejaVuSans-6b\" d=\"M 581 4863 \nL 1159 4863 \nL 1159 1991 \nL 2875 3500 \nL 3609 3500 \nL 1753 1863 \nL 3688 0 \nL 2938 0 \nL 1159 1709 \nL 1159 0 \nL 581 0 \nL 581 4863 \nz\n\" transform=\"scale(0.015625)\"/>\n       <path id=\"DejaVuSans-65\" d=\"M 3597 1894 \nL 3597 1613 \nL 953 1613 \nQ 991 1019 1311 708 \nQ 1631 397 2203 397 \nQ 2534 397 2845 478 \nQ 3156 559 3463 722 \nL 3463 178 \nQ 3153 47 2828 -22 \nQ 2503 -91 2169 -91 \nQ 1331 -91 842 396 \nQ 353 884 353 1716 \nQ 353 2575 817 3079 \nQ 1281 3584 2069 3584 \nQ 2775 3584 3186 3129 \nQ 3597 2675 3597 1894 \nz\nM 3022 2063 \nQ 3016 2534 2758 2815 \nQ 2500 3097 2075 3097 \nQ 1594 3097 1305 2825 \nQ 1016 2553 972 2059 \nL 3022 2063 \nz\n\" transform=\"scale(0.015625)\"/>\n       <path id=\"DejaVuSans-74\" d=\"M 1172 4494 \nL 1172 3500 \nL 2356 3500 \nL 2356 3053 \nL 1172 3053 \nL 1172 1153 \nQ 1172 725 1289 603 \nQ 1406 481 1766 481 \nL 2356 481 \nL 2356 0 \nL 1766 0 \nQ 1100 0 847 248 \nQ 594 497 594 1153 \nL 594 3053 \nL 172 3053 \nL 172 3500 \nL 594 3500 \nL 594 4494 \nL 1172 4494 \nz\n\" transform=\"scale(0.015625)\"/>\n       <path id=\"DejaVuSans-20\" transform=\"scale(0.015625)\"/>\n       <path id=\"DejaVuSans-52\" d=\"M 2841 2188 \nQ 3044 2119 3236 1894 \nQ 3428 1669 3622 1275 \nL 4263 0 \nL 3584 0 \nL 2988 1197 \nQ 2756 1666 2539 1819 \nQ 2322 1972 1947 1972 \nL 1259 1972 \nL 1259 0 \nL 628 0 \nL 628 4666 \nL 2053 4666 \nQ 2853 4666 3247 4331 \nQ 3641 3997 3641 3322 \nQ 3641 2881 3436 2590 \nQ 3231 2300 2841 2188 \nz\nM 1259 4147 \nL 1259 2491 \nL 2053 2491 \nQ 2509 2491 2742 2702 \nQ 2975 2913 2975 3322 \nQ 2975 3731 2742 3939 \nQ 2509 4147 2053 4147 \nL 1259 4147 \nz\n\" transform=\"scale(0.015625)\"/>\n       <path id=\"DejaVuSans-75\" d=\"M 544 1381 \nL 544 3500 \nL 1119 3500 \nL 1119 1403 \nQ 1119 906 1312 657 \nQ 1506 409 1894 409 \nQ 2359 409 2629 706 \nQ 2900 1003 2900 1516 \nL 2900 3500 \nL 3475 3500 \nL 3475 0 \nL 2900 0 \nL 2900 538 \nQ 2691 219 2414 64 \nQ 2138 -91 1772 -91 \nQ 1169 -91 856 284 \nQ 544 659 544 1381 \nz\nM 1991 3584 \nL 1991 3584 \nz\n\" transform=\"scale(0.015625)\"/>\n       <path id=\"DejaVuSans-6e\" d=\"M 3513 2113 \nL 3513 0 \nL 2938 0 \nL 2938 2094 \nQ 2938 2591 2744 2837 \nQ 2550 3084 2163 3084 \nQ 1697 3084 1428 2787 \nQ 1159 2491 1159 1978 \nL 1159 0 \nL 581 0 \nL 581 3500 \nL 1159 3500 \nL 1159 2956 \nQ 1366 3272 1645 3428 \nQ 1925 3584 2291 3584 \nQ 2894 3584 3203 3211 \nQ 3513 2838 3513 2113 \nz\n\" transform=\"scale(0.015625)\"/>\n       <path id=\"DejaVuSans-46\" d=\"M 628 4666 \nL 3309 4666 \nL 3309 4134 \nL 1259 4134 \nL 1259 2759 \nL 3109 2759 \nL 3109 2228 \nL 1259 2228 \nL 1259 0 \nL 628 0 \nL 628 4666 \nz\n\" transform=\"scale(0.015625)\"/>\n       <path id=\"DejaVuSans-6f\" d=\"M 1959 3097 \nQ 1497 3097 1228 2736 \nQ 959 2375 959 1747 \nQ 959 1119 1226 758 \nQ 1494 397 1959 397 \nQ 2419 397 2687 759 \nQ 2956 1122 2956 1747 \nQ 2956 2369 2687 2733 \nQ 2419 3097 1959 3097 \nz\nM 1959 3584 \nQ 2709 3584 3137 3096 \nQ 3566 2609 3566 1747 \nQ 3566 888 3137 398 \nQ 2709 -91 1959 -91 \nQ 1206 -91 779 398 \nQ 353 888 353 1747 \nQ 353 2609 779 3096 \nQ 1206 3584 1959 3584 \nz\n\" transform=\"scale(0.015625)\"/>\n       <path id=\"DejaVuSans-6d\" d=\"M 3328 2828 \nQ 3544 3216 3844 3400 \nQ 4144 3584 4550 3584 \nQ 5097 3584 5394 3201 \nQ 5691 2819 5691 2113 \nL 5691 0 \nL 5113 0 \nL 5113 2094 \nQ 5113 2597 4934 2840 \nQ 4756 3084 4391 3084 \nQ 3944 3084 3684 2787 \nQ 3425 2491 3425 1978 \nL 3425 0 \nL 2847 0 \nL 2847 2094 \nQ 2847 2600 2669 2842 \nQ 2491 3084 2119 3084 \nQ 1678 3084 1418 2786 \nQ 1159 2488 1159 1978 \nL 1159 0 \nL 581 0 \nL 581 3500 \nL 1159 3500 \nL 1159 2956 \nQ 1356 3278 1631 3431 \nQ 1906 3584 2284 3584 \nQ 2666 3584 2933 3390 \nQ 3200 3197 3328 2828 \nz\n\" transform=\"scale(0.015625)\"/>\n      </defs>\n      <use xlink:href=\"#DejaVuSans-4d\"/>\n      <use xlink:href=\"#DejaVuSans-61\" x=\"86.279297\"/>\n      <use xlink:href=\"#DejaVuSans-72\" x=\"147.558594\"/>\n      <use xlink:href=\"#DejaVuSans-6b\" x=\"188.671875\"/>\n      <use xlink:href=\"#DejaVuSans-65\" x=\"242.957031\"/>\n      <use xlink:href=\"#DejaVuSans-74\" x=\"304.480469\"/>\n      <use xlink:href=\"#DejaVuSans-20\" x=\"343.689453\"/>\n      <use xlink:href=\"#DejaVuSans-52\" x=\"375.476562\"/>\n      <use xlink:href=\"#DejaVuSans-65\" x=\"440.458984\"/>\n      <use xlink:href=\"#DejaVuSans-74\" x=\"501.982422\"/>\n      <use xlink:href=\"#DejaVuSans-75\" x=\"541.191406\"/>\n      <use xlink:href=\"#DejaVuSans-72\" x=\"604.570312\"/>\n      <use xlink:href=\"#DejaVuSans-6e\" x=\"643.933594\"/>\n      <use xlink:href=\"#DejaVuSans-20\" x=\"707.3125\"/>\n      <use xlink:href=\"#DejaVuSans-46\" x=\"739.099609\"/>\n      <use xlink:href=\"#DejaVuSans-72\" x=\"789.369141\"/>\n      <use xlink:href=\"#DejaVuSans-6f\" x=\"828.232422\"/>\n      <use xlink:href=\"#DejaVuSans-6d\" x=\"889.414062\"/>\n      <use xlink:href=\"#DejaVuSans-20\" x=\"986.826172\"/>\n      <use xlink:href=\"#DejaVuSans-32\" x=\"1018.613281\"/>\n      <use xlink:href=\"#DejaVuSans-30\" x=\"1082.236328\"/>\n      <use xlink:href=\"#DejaVuSans-30\" x=\"1145.859375\"/>\n      <use xlink:href=\"#DejaVuSans-30\" x=\"1209.482422\"/>\n      <use xlink:href=\"#DejaVuSans-20\" x=\"1273.105469\"/>\n      <use xlink:href=\"#DejaVuSans-74\" x=\"1304.892578\"/>\n      <use xlink:href=\"#DejaVuSans-6f\" x=\"1344.101562\"/>\n      <use xlink:href=\"#DejaVuSans-20\" x=\"1405.283203\"/>\n      <use xlink:href=\"#DejaVuSans-32\" x=\"1437.070312\"/>\n      <use xlink:href=\"#DejaVuSans-30\" x=\"1500.693359\"/>\n      <use xlink:href=\"#DejaVuSans-32\" x=\"1564.316406\"/>\n      <use xlink:href=\"#DejaVuSans-31\" x=\"1627.939453\"/>\n     </g>\n    </g>\n   </g>\n   <g id=\"matplotlib.axis_2\">\n    <g id=\"ytick_1\">\n     <g id=\"line2d_9\">\n      <defs>\n       <path id=\"m9bda353fb8\" d=\"M 0 0 \nL -3.5 0 \n\" style=\"stroke: #000000; stroke-width: 0.8\"/>\n      </defs>\n      <g>\n       <use xlink:href=\"#m9bda353fb8\" x=\"40.603125\" y=\"294.118125\" style=\"stroke: #000000; stroke-width: 0.8\"/>\n      </g>\n     </g>\n     <g id=\"text_10\">\n      <!-- 0 -->\n      <g transform=\"translate(27.240625 297.917344)scale(0.1 -0.1)\">\n       <use xlink:href=\"#DejaVuSans-30\"/>\n      </g>\n     </g>\n    </g>\n    <g id=\"ytick_2\">\n     <g id=\"line2d_10\">\n      <g>\n       <use xlink:href=\"#m9bda353fb8\" x=\"40.603125\" y=\"245.277155\" style=\"stroke: #000000; stroke-width: 0.8\"/>\n      </g>\n     </g>\n     <g id=\"text_11\">\n      <!-- 10 -->\n      <g transform=\"translate(20.878125 249.076373)scale(0.1 -0.1)\">\n       <use xlink:href=\"#DejaVuSans-31\"/>\n       <use xlink:href=\"#DejaVuSans-30\" x=\"63.623047\"/>\n      </g>\n     </g>\n    </g>\n    <g id=\"ytick_3\">\n     <g id=\"line2d_11\">\n      <g>\n       <use xlink:href=\"#m9bda353fb8\" x=\"40.603125\" y=\"196.436184\" style=\"stroke: #000000; stroke-width: 0.8\"/>\n      </g>\n     </g>\n     <g id=\"text_12\">\n      <!-- 20 -->\n      <g transform=\"translate(20.878125 200.235403)scale(0.1 -0.1)\">\n       <use xlink:href=\"#DejaVuSans-32\"/>\n       <use xlink:href=\"#DejaVuSans-30\" x=\"63.623047\"/>\n      </g>\n     </g>\n    </g>\n    <g id=\"ytick_4\">\n     <g id=\"line2d_12\">\n      <g>\n       <use xlink:href=\"#m9bda353fb8\" x=\"40.603125\" y=\"147.595214\" style=\"stroke: #000000; stroke-width: 0.8\"/>\n      </g>\n     </g>\n     <g id=\"text_13\">\n      <!-- 30 -->\n      <g transform=\"translate(20.878125 151.394433)scale(0.1 -0.1)\">\n       <defs>\n        <path id=\"DejaVuSans-33\" d=\"M 2597 2516 \nQ 3050 2419 3304 2112 \nQ 3559 1806 3559 1356 \nQ 3559 666 3084 287 \nQ 2609 -91 1734 -91 \nQ 1441 -91 1130 -33 \nQ 819 25 488 141 \nL 488 750 \nQ 750 597 1062 519 \nQ 1375 441 1716 441 \nQ 2309 441 2620 675 \nQ 2931 909 2931 1356 \nQ 2931 1769 2642 2001 \nQ 2353 2234 1838 2234 \nL 1294 2234 \nL 1294 2753 \nL 1863 2753 \nQ 2328 2753 2575 2939 \nQ 2822 3125 2822 3475 \nQ 2822 3834 2567 4026 \nQ 2313 4219 1838 4219 \nQ 1578 4219 1281 4162 \nQ 984 4106 628 3988 \nL 628 4550 \nQ 988 4650 1302 4700 \nQ 1616 4750 1894 4750 \nQ 2613 4750 3031 4423 \nQ 3450 4097 3450 3541 \nQ 3450 3153 3228 2886 \nQ 3006 2619 2597 2516 \nz\n\" transform=\"scale(0.015625)\"/>\n       </defs>\n       <use xlink:href=\"#DejaVuSans-33\"/>\n       <use xlink:href=\"#DejaVuSans-30\" x=\"63.623047\"/>\n      </g>\n     </g>\n    </g>\n    <g id=\"ytick_5\">\n     <g id=\"line2d_13\">\n      <g>\n       <use xlink:href=\"#m9bda353fb8\" x=\"40.603125\" y=\"98.754244\" style=\"stroke: #000000; stroke-width: 0.8\"/>\n      </g>\n     </g>\n     <g id=\"text_14\">\n      <!-- 40 -->\n      <g transform=\"translate(20.878125 102.553462)scale(0.1 -0.1)\">\n       <defs>\n        <path id=\"DejaVuSans-34\" d=\"M 2419 4116 \nL 825 1625 \nL 2419 1625 \nL 2419 4116 \nz\nM 2253 4666 \nL 3047 4666 \nL 3047 1625 \nL 3713 1625 \nL 3713 1100 \nL 3047 1100 \nL 3047 0 \nL 2419 0 \nL 2419 1100 \nL 313 1100 \nL 313 1709 \nL 2253 4666 \nz\n\" transform=\"scale(0.015625)\"/>\n       </defs>\n       <use xlink:href=\"#DejaVuSans-34\"/>\n       <use xlink:href=\"#DejaVuSans-30\" x=\"63.623047\"/>\n      </g>\n     </g>\n    </g>\n    <g id=\"ytick_6\">\n     <g id=\"line2d_14\">\n      <g>\n       <use xlink:href=\"#m9bda353fb8\" x=\"40.603125\" y=\"49.913273\" style=\"stroke: #000000; stroke-width: 0.8\"/>\n      </g>\n     </g>\n     <g id=\"text_15\">\n      <!-- 50 -->\n      <g transform=\"translate(20.878125 53.712492)scale(0.1 -0.1)\">\n       <use xlink:href=\"#DejaVuSans-35\"/>\n       <use xlink:href=\"#DejaVuSans-30\" x=\"63.623047\"/>\n      </g>\n     </g>\n    </g>\n    <g id=\"text_16\">\n     <!-- Probability -->\n     <g transform=\"translate(14.798437 184.647031)rotate(-90)scale(0.1 -0.1)\">\n      <defs>\n       <path id=\"DejaVuSans-50\" d=\"M 1259 4147 \nL 1259 2394 \nL 2053 2394 \nQ 2494 2394 2734 2622 \nQ 2975 2850 2975 3272 \nQ 2975 3691 2734 3919 \nQ 2494 4147 2053 4147 \nL 1259 4147 \nz\nM 628 4666 \nL 2053 4666 \nQ 2838 4666 3239 4311 \nQ 3641 3956 3641 3272 \nQ 3641 2581 3239 2228 \nQ 2838 1875 2053 1875 \nL 1259 1875 \nL 1259 0 \nL 628 0 \nL 628 4666 \nz\n\" transform=\"scale(0.015625)\"/>\n       <path id=\"DejaVuSans-62\" d=\"M 3116 1747 \nQ 3116 2381 2855 2742 \nQ 2594 3103 2138 3103 \nQ 1681 3103 1420 2742 \nQ 1159 2381 1159 1747 \nQ 1159 1113 1420 752 \nQ 1681 391 2138 391 \nQ 2594 391 2855 752 \nQ 3116 1113 3116 1747 \nz\nM 1159 2969 \nQ 1341 3281 1617 3432 \nQ 1894 3584 2278 3584 \nQ 2916 3584 3314 3078 \nQ 3713 2572 3713 1747 \nQ 3713 922 3314 415 \nQ 2916 -91 2278 -91 \nQ 1894 -91 1617 61 \nQ 1341 213 1159 525 \nL 1159 0 \nL 581 0 \nL 581 4863 \nL 1159 4863 \nL 1159 2969 \nz\n\" transform=\"scale(0.015625)\"/>\n       <path id=\"DejaVuSans-69\" d=\"M 603 3500 \nL 1178 3500 \nL 1178 0 \nL 603 0 \nL 603 3500 \nz\nM 603 4863 \nL 1178 4863 \nL 1178 4134 \nL 603 4134 \nL 603 4863 \nz\n\" transform=\"scale(0.015625)\"/>\n       <path id=\"DejaVuSans-6c\" d=\"M 603 4863 \nL 1178 4863 \nL 1178 0 \nL 603 0 \nL 603 4863 \nz\n\" transform=\"scale(0.015625)\"/>\n       <path id=\"DejaVuSans-79\" d=\"M 2059 -325 \nQ 1816 -950 1584 -1140 \nQ 1353 -1331 966 -1331 \nL 506 -1331 \nL 506 -850 \nL 844 -850 \nQ 1081 -850 1212 -737 \nQ 1344 -625 1503 -206 \nL 1606 56 \nL 191 3500 \nL 800 3500 \nL 1894 763 \nL 2988 3500 \nL 3597 3500 \nL 2059 -325 \nz\n\" transform=\"scale(0.015625)\"/>\n      </defs>\n      <use xlink:href=\"#DejaVuSans-50\"/>\n      <use xlink:href=\"#DejaVuSans-72\" x=\"58.552734\"/>\n      <use xlink:href=\"#DejaVuSans-6f\" x=\"97.416016\"/>\n      <use xlink:href=\"#DejaVuSans-62\" x=\"158.597656\"/>\n      <use xlink:href=\"#DejaVuSans-61\" x=\"222.074219\"/>\n      <use xlink:href=\"#DejaVuSans-62\" x=\"283.353516\"/>\n      <use xlink:href=\"#DejaVuSans-69\" x=\"346.830078\"/>\n      <use xlink:href=\"#DejaVuSans-6c\" x=\"374.613281\"/>\n      <use xlink:href=\"#DejaVuSans-69\" x=\"402.396484\"/>\n      <use xlink:href=\"#DejaVuSans-74\" x=\"430.179688\"/>\n      <use xlink:href=\"#DejaVuSans-79\" x=\"469.388672\"/>\n     </g>\n    </g>\n   </g>\n   <g id=\"line2d_15\">\n    <path d=\"M 65.966761 294.11812 \nL 150.071216 294.02174 \nL 163.63645 293.800574 \nL 171.775591 293.501549 \nL 179.914732 292.966593 \nL 185.340826 292.409068 \nL 190.766919 291.625061 \nL 196.193013 290.543695 \nL 201.619107 289.08107 \nL 204.332154 288.177285 \nL 207.045201 287.141537 \nL 209.758248 285.960525 \nL 212.471295 284.6207 \nL 215.184342 283.108476 \nL 217.897389 281.410476 \nL 220.610436 279.513815 \nL 223.323482 277.406411 \nL 226.036529 275.07733 \nL 228.749576 272.517153 \nL 231.462623 269.718362 \nL 234.17567 266.675727 \nL 236.888717 263.386706 \nL 239.601764 259.851818 \nL 242.314811 256.075006 \nL 245.027858 252.063957 \nL 247.740905 247.830372 \nL 253.166999 238.763672 \nL 258.593092 229.054911 \nL 277.584421 194.14445 \nL 280.297468 189.638366 \nL 283.010515 185.399791 \nL 285.723562 181.476855 \nL 288.436608 177.915375 \nL 291.149655 174.757964 \nL 293.862702 172.043188 \nL 296.575749 169.804783 \nL 299.288796 168.070956 \nL 302.001843 166.863794 \nL 304.71489 166.198798 \nL 307.427937 166.084546 \nL 310.140984 166.522517 \nL 312.854031 167.507053 \nL 315.567078 169.025483 \nL 318.280125 171.058392 \nL 320.993171 173.580039 \nL 323.706218 176.558894 \nL 326.419265 179.958297 \nL 329.132312 183.73721 \nL 331.845359 187.851032 \nL 334.558406 192.252482 \nL 339.9845 201.721107 \nL 348.123641 216.843982 \nL 356.262781 231.955759 \nL 361.688875 241.498991 \nL 367.114969 250.340082 \nL 369.828016 254.444777 \nL 372.541063 258.319572 \nL 375.25411 261.955149 \nL 377.967157 265.346056 \nL 380.680204 268.490398 \nL 383.393251 271.389498 \nL 386.106297 274.047521 \nL 388.819344 276.471088 \nL 391.532391 278.66888 \nL 394.245438 280.651249 \nL 396.958485 282.429846 \nL 399.671532 284.017263 \nL 402.384579 285.426712 \nL 405.097626 286.671723 \nL 407.810673 287.765888 \nL 410.52372 288.722634 \nL 415.949814 290.275642 \nL 421.375907 291.428514 \nL 426.802001 292.267734 \nL 432.228095 292.866904 \nL 440.367236 293.444574 \nL 448.506376 293.769367 \nL 459.358564 293.981625 \nL 478.349893 294.095739 \nL 543.463019 294.118116 \nL 570.593488 294.118125 \nL 570.593488 294.118125 \n\" clip-path=\"url(#pebcab09916)\" style=\"fill: none; stroke: #1f77b4; stroke-width: 1.5; stroke-linecap: square\"/>\n   </g>\n   <g id=\"patch_1003\">\n    <path d=\"M 40.603125 294.118125 \nL 40.603125 22.318125 \n\" style=\"fill: none; stroke: #000000; stroke-width: 0.8; stroke-linejoin: miter; stroke-linecap: square\"/>\n   </g>\n   <g id=\"patch_1004\">\n    <path d=\"M 598.603125 294.118125 \nL 598.603125 22.318125 \n\" style=\"fill: none; stroke: #000000; stroke-width: 0.8; stroke-linejoin: miter; stroke-linecap: square\"/>\n   </g>\n   <g id=\"patch_1005\">\n    <path d=\"M 40.603125 294.118125 \nL 598.603125 294.118125 \n\" style=\"fill: none; stroke: #000000; stroke-width: 0.8; stroke-linejoin: miter; stroke-linecap: square\"/>\n   </g>\n   <g id=\"patch_1006\">\n    <path d=\"M 40.603125 22.318125 \nL 598.603125 22.318125 \n\" style=\"fill: none; stroke: #000000; stroke-width: 0.8; stroke-linejoin: miter; stroke-linecap: square\"/>\n   </g>\n   <g id=\"text_17\">\n    <!-- Distribution -->\n    <g transform=\"translate(284.600625 16.318125)scale(0.12 -0.12)\">\n     <defs>\n      <path id=\"DejaVuSans-44\" d=\"M 1259 4147 \nL 1259 519 \nL 2022 519 \nQ 2988 519 3436 956 \nQ 3884 1394 3884 2338 \nQ 3884 3275 3436 3711 \nQ 2988 4147 2022 4147 \nL 1259 4147 \nz\nM 628 4666 \nL 1925 4666 \nQ 3281 4666 3915 4102 \nQ 4550 3538 4550 2338 \nQ 4550 1131 3912 565 \nQ 3275 0 1925 0 \nL 628 0 \nL 628 4666 \nz\n\" transform=\"scale(0.015625)\"/>\n      <path id=\"DejaVuSans-73\" d=\"M 2834 3397 \nL 2834 2853 \nQ 2591 2978 2328 3040 \nQ 2066 3103 1784 3103 \nQ 1356 3103 1142 2972 \nQ 928 2841 928 2578 \nQ 928 2378 1081 2264 \nQ 1234 2150 1697 2047 \nL 1894 2003 \nQ 2506 1872 2764 1633 \nQ 3022 1394 3022 966 \nQ 3022 478 2636 193 \nQ 2250 -91 1575 -91 \nQ 1294 -91 989 -36 \nQ 684 19 347 128 \nL 347 722 \nQ 666 556 975 473 \nQ 1284 391 1588 391 \nQ 1994 391 2212 530 \nQ 2431 669 2431 922 \nQ 2431 1156 2273 1281 \nQ 2116 1406 1581 1522 \nL 1381 1569 \nQ 847 1681 609 1914 \nQ 372 2147 372 2553 \nQ 372 3047 722 3315 \nQ 1072 3584 1716 3584 \nQ 2034 3584 2315 3537 \nQ 2597 3491 2834 3397 \nz\n\" transform=\"scale(0.015625)\"/>\n     </defs>\n     <use xlink:href=\"#DejaVuSans-44\"/>\n     <use xlink:href=\"#DejaVuSans-69\" x=\"77.001953\"/>\n     <use xlink:href=\"#DejaVuSans-73\" x=\"104.785156\"/>\n     <use xlink:href=\"#DejaVuSans-74\" x=\"156.884766\"/>\n     <use xlink:href=\"#DejaVuSans-72\" x=\"196.09375\"/>\n     <use xlink:href=\"#DejaVuSans-69\" x=\"237.207031\"/>\n     <use xlink:href=\"#DejaVuSans-62\" x=\"264.990234\"/>\n     <use xlink:href=\"#DejaVuSans-75\" x=\"328.466797\"/>\n     <use xlink:href=\"#DejaVuSans-74\" x=\"391.845703\"/>\n     <use xlink:href=\"#DejaVuSans-69\" x=\"431.054688\"/>\n     <use xlink:href=\"#DejaVuSans-6f\" x=\"458.837891\"/>\n     <use xlink:href=\"#DejaVuSans-6e\" x=\"520.019531\"/>\n    </g>\n   </g>\n  </g>\n </g>\n <defs>\n  <clipPath id=\"pebcab09916\">\n   <rect x=\"40.603125\" y=\"22.318125\" width=\"558\" height=\"271.8\"/>\n  </clipPath>\n </defs>\n</svg>\n",
      "text/plain": [
       "<Figure size 720x360 with 1 Axes>"
      ]
     },
     "metadata": {
      "needs_background": "light"
     },
     "output_type": "display_data"
    }
   ],
   "source": [
    "%%time\n",
    "retmean = daily_data['2000-01':'2021-12']['Raw_return'].mean()\n",
    "retstd = daily_data['2000-01':'2021-12']['Raw_return'].std()\n",
    "retmin = daily_data['2000-01':'2021-12']['Raw_return'].min()\n",
    "retmax = daily_data['2000-01':'2021-12']['Raw_return'].max()\n",
    "\n",
    "\n",
    "def normfun(x, mu, sigma):\n",
    "    pdf = np.exp(-((x - mu)**2) /\n",
    "                 (2 * sigma**2)) / (sigma * np.sqrt(2 * np.pi))\n",
    "    return pdf\n",
    "\n",
    "\n",
    "x = np.arange(retmin, retmax, 0.001) # 0.001 0.002 0.003 0.004.。。。 0.099 0.100  0.101\n",
    "y = normfun(x, retmean, retstd)\n",
    "fig = plt.figure(figsize=(10, 5))\n",
    "\n",
    "plt.plot(x, y)\n",
    "\n",
    "fig = plt.hist(daily_data['2000-01':'2021-12']['Raw_return'], # index daily market excess return\n",
    "               bins=1000,\n",
    "               histtype='bar',\n",
    "               color='r',\n",
    "               alpha=0.9)\n",
    "plt.xticks(rotation=90, fontsize=8) # x轴显示方法\n",
    "plt.title('Distribution')\n",
    "plt.xlabel('Market Return From 2000 to 2021')\n",
    "plt.ylabel('Probability')"
   ]
  }
 ],
 "metadata": {
  "kernelspec": {
   "display_name": "Python 3.9.12 ('base')",
   "language": "python",
   "name": "python3"
  },
  "language_info": {
   "codemirror_mode": {
    "name": "ipython",
    "version": 3
   },
   "file_extension": ".py",
   "mimetype": "text/x-python",
   "name": "python",
   "nbconvert_exporter": "python",
   "pygments_lexer": "ipython3",
   "version": "3.9.12"
  },
  "orig_nbformat": 4,
  "vscode": {
   "interpreter": {
    "hash": "88279d2366fe020547cde40dd65aa0e3aa662a6ec1f3ca12d88834876c85e1a6"
   }
  }
 },
 "nbformat": 4,
 "nbformat_minor": 2
}
